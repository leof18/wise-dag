{
 "cells": [
  {
   "cell_type": "markdown",
   "metadata": {},
   "source": [
    "# Data Preprocessing\n",
    "\n",
    "- Linking terms to SNOMED CT concepts"
   ]
  },
  {
   "cell_type": "markdown",
   "metadata": {},
   "source": [
    "### Import Data"
   ]
  },
  {
   "cell_type": "code",
   "execution_count": 29,
   "metadata": {},
   "outputs": [],
   "source": [
    "import json\n",
    "import pandas as pd\n",
    "from urllib.request import urlopen, Request\n",
    "from urllib.parse import quote"
   ]
  },
  {
   "cell_type": "code",
   "execution_count": 4,
   "metadata": {},
   "outputs": [
    {
     "data": {
      "text/html": [
       "<div>\n",
       "<style scoped>\n",
       "    .dataframe tbody tr th:only-of-type {\n",
       "        vertical-align: middle;\n",
       "    }\n",
       "\n",
       "    .dataframe tbody tr th {\n",
       "        vertical-align: top;\n",
       "    }\n",
       "\n",
       "    .dataframe thead th {\n",
       "        text-align: right;\n",
       "    }\n",
       "</style>\n",
       "<table border=\"1\" class=\"dataframe\">\n",
       "  <thead>\n",
       "    <tr style=\"text-align: right;\">\n",
       "      <th></th>\n",
       "      <th>Author</th>\n",
       "      <th>Exposure</th>\n",
       "      <th>Outcome</th>\n",
       "      <th>Direction</th>\n",
       "      <th>Strength</th>\n",
       "      <th>ID</th>\n",
       "      <th>Status</th>\n",
       "    </tr>\n",
       "  </thead>\n",
       "  <tbody>\n",
       "    <tr>\n",
       "      <th>0</th>\n",
       "      <td>NaN</td>\n",
       "      <td>Diabetes</td>\n",
       "      <td>Ischemic stroke</td>\n",
       "      <td>Increase</td>\n",
       "      <td>6.0</td>\n",
       "      <td>1</td>\n",
       "      <td>Final</td>\n",
       "    </tr>\n",
       "    <tr>\n",
       "      <th>1</th>\n",
       "      <td>NaN</td>\n",
       "      <td>age</td>\n",
       "      <td>Ischemic stroke</td>\n",
       "      <td>Increase</td>\n",
       "      <td>6.0</td>\n",
       "      <td>1</td>\n",
       "      <td>Final</td>\n",
       "    </tr>\n",
       "    <tr>\n",
       "      <th>2</th>\n",
       "      <td>NaN</td>\n",
       "      <td>age</td>\n",
       "      <td>Diabetes</td>\n",
       "      <td>Increase</td>\n",
       "      <td>5.0</td>\n",
       "      <td>1</td>\n",
       "      <td>Final</td>\n",
       "    </tr>\n",
       "    <tr>\n",
       "      <th>3</th>\n",
       "      <td>NaN</td>\n",
       "      <td>Sex (Male)</td>\n",
       "      <td>Ischemic stroke</td>\n",
       "      <td>Increase</td>\n",
       "      <td>6.0</td>\n",
       "      <td>1</td>\n",
       "      <td>Final</td>\n",
       "    </tr>\n",
       "    <tr>\n",
       "      <th>4</th>\n",
       "      <td>NaN</td>\n",
       "      <td>Hypertension</td>\n",
       "      <td>Ischemic stroke</td>\n",
       "      <td>Increase</td>\n",
       "      <td>6.0</td>\n",
       "      <td>1</td>\n",
       "      <td>Final</td>\n",
       "    </tr>\n",
       "  </tbody>\n",
       "</table>\n",
       "</div>"
      ],
      "text/plain": [
       "  Author      Exposure          Outcome Direction  Strength  ID Status\n",
       "0    NaN      Diabetes  Ischemic stroke  Increase       6.0   1  Final\n",
       "1    NaN           age  Ischemic stroke  Increase       6.0   1  Final\n",
       "2    NaN           age         Diabetes  Increase       5.0   1  Final\n",
       "3    NaN    Sex (Male)  Ischemic stroke  Increase       6.0   1  Final\n",
       "4    NaN  Hypertension  Ischemic stroke  Increase       6.0   1  Final"
      ]
     },
     "execution_count": 4,
     "metadata": {},
     "output_type": "execute_result"
    }
   ],
   "source": [
    "df = pd.read_csv('data/DAGs.csv')\n",
    "df.head()"
   ]
  },
  {
   "cell_type": "markdown",
   "metadata": {},
   "source": [
    "### Getting a List of Terms"
   ]
  },
  {
   "cell_type": "code",
   "execution_count": 28,
   "metadata": {},
   "outputs": [],
   "source": [
    "terms = pd.concat([df.Exposure, df.Outcome], ignore_index=True).unique()\n",
    "pd.DataFrame(terms, columns=['terms']).to_csv('terms.csv', index=False)"
   ]
  },
  {
   "cell_type": "markdown",
   "metadata": {},
   "source": [
    "### Querying SNOMED CT API from Snowstorm"
   ]
  },
  {
   "cell_type": "code",
   "execution_count": 44,
   "metadata": {},
   "outputs": [],
   "source": [
    "user_agent = 'example@example.com'\n",
    "baseUrl = 'https://browser.ihtsdotools.org/snowstorm/snomed-ct'\n",
    "edition = 'MAIN'\n",
    "version = '2019-07-31'\n",
    "\n",
    "# Helper function to handle API requests\n",
    "def urlopen_with_header(url):\n",
    "    req = Request(url)\n",
    "    req.add_header('User-Agent', user_agent)\n",
    "    return urlopen(req)\n",
    "\n",
    "# Function to retrieve SNOMED concept for a term\n",
    "def get_primary_snomed_concept(term):\n",
    "    url = f\"{baseUrl}/browser/{edition}/{version}/descriptions?term={quote(str(term))}&conceptActive=true&groupByConcept=false&searchMode=STANDARD&offset=0&limit=1\"\n",
    "    response = urlopen_with_header(url).read()\n",
    "    data = json.loads(response.decode('utf-8'))\n",
    "    if data['items']:\n",
    "        primary_concept = data['items'][0]\n",
    "        return {\n",
    "            \"Standardized_Term\": primary_concept['term'],\n",
    "            \"SNOMED_ID\": primary_concept['concept']['conceptId'],\n",
    "        }\n",
    "    else:\n",
    "        return None\n",
    "\n",
    "terms_df = pd.read_csv('terms.csv')\n",
    "terms_df['normalized_term'] = terms_df['terms'].str.lower().str.strip()\n",
    "unique_terms = terms_df['normalized_term'].unique()\n",
    "\n",
    "term_mappings = []\n",
    "\n",
    "for term in unique_terms:\n",
    "    snomed_concept = get_primary_snomed_concept(term)\n",
    "    if snomed_concept:\n",
    "        snomed_concept['Original_Terms'] = [term]\n",
    "        term_mappings.append(snomed_concept)\n",
    "\n",
    "standardized_df = pd.DataFrame(term_mappings)"
   ]
  }
 ],
 "metadata": {
  "kernelspec": {
   "display_name": "dsw",
   "language": "python",
   "name": "python3"
  },
  "language_info": {
   "codemirror_mode": {
    "name": "ipython",
    "version": 3
   },
   "file_extension": ".py",
   "mimetype": "text/x-python",
   "name": "python",
   "nbconvert_exporter": "python",
   "pygments_lexer": "ipython3",
   "version": "3.12.3"
  }
 },
 "nbformat": 4,
 "nbformat_minor": 2
}
