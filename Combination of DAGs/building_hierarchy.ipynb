{
 "cells": [
  {
   "cell_type": "markdown",
   "metadata": {},
   "source": [
    "### Exploring SNOMED Hierarchies"
   ]
  },
  {
   "cell_type": "code",
   "execution_count": 68,
   "metadata": {},
   "outputs": [],
   "source": [
    "import pandas as pd"
   ]
  },
  {
   "cell_type": "code",
   "execution_count": 69,
   "metadata": {},
   "outputs": [],
   "source": [
    "mapped_terms = pd.read_excel('terms_mapped_to_codes.xlsx', sheet_name='terms', dtype={'concept_code': str, 'concept_code_2':str})\n",
    "concept_df = pd.read_csv('ohdsi_athena_vocab/CONCEPT.csv', sep='\\t', dtype={'concept_code': str, 'concept_id': str}, low_memory=False)\n",
    "concept_relationship_df = pd.read_csv('ohdsi_athena_vocab/CONCEPT_RELATIONSHIP.csv', sep='\\t', dtype={'concept_code': str}, low_memory=False)\n",
    "concept_ancestor_df = pd.read_csv('ohdsi_athena_vocab/CONCEPT_ANCESTOR.csv', sep='\\t',dtype={'ancestor_concept_id': str, 'descendant_concept_id': str}, low_memory=False)"
   ]
  },
  {
   "cell_type": "code",
   "execution_count": 70,
   "metadata": {},
   "outputs": [],
   "source": [
    "mapped_terms_merge = mapped_terms.merge(concept_df, on='concept_code', how='left')"
   ]
  },
  {
   "cell_type": "code",
   "execution_count": 82,
   "metadata": {},
   "outputs": [],
   "source": [
    "my_terms = set(mapped_terms_merge['concept_id'])\n",
    "\n",
    "# Find those terms that are related (are ancestor and descendant)\n",
    "filtered_ancestors = concept_ancestor_df[\n",
    "    concept_ancestor_df['ancestor_concept_id'].isin(my_terms) & \n",
    "    concept_ancestor_df['descendant_concept_id'].isin(my_terms)\n",
    "]\n",
    "\n",
    "# Delete self references\n",
    "filtered_ancestors = filtered_ancestors[filtered_ancestors.max_levels_of_separation>0]\n",
    "\n",
    "descendants_terms = set(filtered_ancestors['descendant_concept_id'])\n",
    "root_terms = my_terms - descendants_terms"
   ]
  },
  {
   "cell_type": "code",
   "execution_count": 93,
   "metadata": {},
   "outputs": [
    {
     "data": {
      "text/plain": [
       "{'37018196': {'descendants': []},\n",
       " '4234649': {'descendants': []},\n",
       " '197672': {'descendants': []},\n",
       " '4148407': {'descendants': []},\n",
       " '4287112': {'descendants': []},\n",
       " '4206526': {'descendants': []},\n",
       " '4046360': {'descendants': []},\n",
       " '4150054': {'descendants': []},\n",
       " '31317': {'descendants': []},\n",
       " '4229715': {'descendants': []},\n",
       " '3655005': {'descendants': []},\n",
       " '317002': {'descendants': []},\n",
       " '4024166': {'descendants': []},\n",
       " '4276568': {'descendants': []},\n",
       " '43530623': {'descendants': []},\n",
       " '4245997': {'descendants': []},\n",
       " '432250': {'descendants': []},\n",
       " '4286359': {'descendants': []},\n",
       " '4009409': {'descendants': []},\n",
       " '37153627': {'descendants': []},\n",
       " '4024618': {'descendants': []},\n",
       " '4116678': {'descendants': []},\n",
       " '4098413': {'descendants': []},\n",
       " '4224118': {'descendants': []},\n",
       " '4148509': {'descendants': []},\n",
       " '436940': {'descendants': []},\n",
       " '4084390': {'descendants': []},\n",
       " '4103842': {'descendants': [{'term': '4306703', 'descendants': []}]},\n",
       " '4234469': {'descendants': []},\n",
       " '4165535': {'descendants': []},\n",
       " '4166231': {'descendants': []},\n",
       " '373503': {'descendants': []},\n",
       " '443392': {'descendants': []},\n",
       " '320128': {'descendants': []},\n",
       " '255848': {'descendants': []},\n",
       " '4043344': {'descendants': []},\n",
       " '4159131': {'descendants': []},\n",
       " '4251306': {'descendants': []},\n",
       " '4213628': {'descendants': []},\n",
       " '4077953': {'descendants': [{'term': '4201412', 'descendants': []},\n",
       "   {'term': '4327941', 'descendants': []}]},\n",
       " '4052648': {'descendants': [{'term': '4059038', 'descendants': []}]},\n",
       " '313459': {'descendants': [{'term': '442588', 'descendants': []}]},\n",
       " '4192115': {'descendants': []},\n",
       " '4206471': {'descendants': []},\n",
       " '4119715': {'descendants': []},\n",
       " '4002812': {'descendants': []},\n",
       " '4275337': {'descendants': []},\n",
       " '4024366': {'descendants': []},\n",
       " '4078644': {'descendants': []},\n",
       " '4194238': {'descendants': []},\n",
       " '46270002': {'descendants': []},\n",
       " '4329041': {'descendants': []},\n",
       " '4024018': {'descendants': [{'term': '4242843', 'descendants': []}]},\n",
       " '134765': {'descendants': []},\n",
       " '4083171': {'descendants': []},\n",
       " '4301936': {'descendants': []},\n",
       " '4162723': {'descendants': [{'term': '443432', 'descendants': []}]},\n",
       " '373995': {'descendants': []},\n",
       " '4231869': {'descendants': []},\n",
       " '4309238': {'descendants': []},\n",
       " '4249566': {'descendants': []},\n",
       " '4177989': {'descendants': []},\n",
       " '4322978': {'descendants': []},\n",
       " '440383': {'descendants': []},\n",
       " '4229881': {'descendants': []},\n",
       " '44800078': {'descendants': []},\n",
       " '4014041': {'descendants': []},\n",
       " '4013886': {'descendants': []},\n",
       " '321588': {'descendants': [{'term': '44784217', 'descendants': []},\n",
       "   {'term': '4024552',\n",
       "    'descendants': [{'term': '444031', 'descendants': []},\n",
       "     {'term': '442310', 'descendants': []}]}]},\n",
       " '442985': {'descendants': []},\n",
       " '4295287': {'descendants': []},\n",
       " '4135811': {'descendants': []},\n",
       " '4018186': {'descendants': []},\n",
       " '4299535': {'descendants': []},\n",
       " '45771363': {'descendants': []},\n",
       " '763224': {'descendants': []},\n",
       " '4159324': {'descendants': []},\n",
       " '37150978': {'descendants': []},\n",
       " '4181165': {'descendants': []},\n",
       " nan: {'descendants': []},\n",
       " '4301136': {'descendants': []},\n",
       " '4085979': {'descendants': []},\n",
       " '4079975': {'descendants': []},\n",
       " '40584020': {'descendants': []},\n",
       " '4186430': {'descendants': []},\n",
       " '4216404': {'descendants': []},\n",
       " '37396845': {'descendants': []},\n",
       " '4059015': {'descendants': []},\n",
       " '4196955': {'descendants': []},\n",
       " '4272035': {'descendants': []},\n",
       " '3654838': {'descendants': []},\n",
       " '4011536': {'descendants': []},\n",
       " '4033232': {'descendants': []},\n",
       " '44803656': {'descendants': []},\n",
       " '37018706': {'descendants': []},\n",
       " '4028206': {'descendants': []},\n",
       " '4330794': {'descendants': []},\n",
       " '4201926': {'descendants': []},\n",
       " '4011919': {'descendants': []},\n",
       " '440424': {'descendants': []},\n",
       " '4225865': {'descendants': []},\n",
       " '4267385': {'descendants': []},\n",
       " '4131044': {'descendants': []},\n",
       " '75053': {'descendants': []},\n",
       " '4285288': {'descendants': []},\n",
       " '4029338': {'descendants': []},\n",
       " '4164065': {'descendants': []},\n",
       " '4213477': {'descendants': []},\n",
       " '4196427': {'descendants': []},\n",
       " '378774': {'descendants': []},\n",
       " '4146455': {'descendants': []},\n",
       " '37311069': {'descendants': []},\n",
       " '4208414': {'descendants': []},\n",
       " '4166093': {'descendants': []},\n",
       " '4167605': {'descendants': []},\n",
       " '432585': {'descendants': []},\n",
       " '4215133': {'descendants': []},\n",
       " '4052946': {'descendants': []},\n",
       " '4186398': {'descendants': []},\n",
       " '4306655': {'descendants': []},\n",
       " '35622016': {'descendants': []},\n",
       " '4273629': {'descendants': []},\n",
       " '4077725': {'descendants': []},\n",
       " '4068351': {'descendants': []},\n",
       " '4275495': {'descendants': []},\n",
       " '4149241': {'descendants': []},\n",
       " '443784': {'descendants': [{'term': '4185607', 'descendants': []},\n",
       "   {'term': '4137275', 'descendants': []}]},\n",
       " '4310996': {'descendants': []},\n",
       " '201820': {'descendants': []},\n",
       " '377091': {'descendants': []},\n",
       " '4185284': {'descendants': []},\n",
       " '4124758': {'descendants': []},\n",
       " '42872749': {'descendants': []},\n",
       " '4167493': {'descendants': [{'term': '439393', 'descendants': []}]},\n",
       " '4090739': {'descendants': []},\n",
       " '4241216': {'descendants': []},\n",
       " '4022846': {'descendants': []},\n",
       " '4046731': {'descendants': []},\n",
       " '198124': {'descendants': []},\n",
       " '4302666': {'descendants': []},\n",
       " '4217691': {'descendants': []},\n",
       " '606770': {'descendants': []},\n",
       " '4201029': {'descendants': []},\n",
       " '4285282': {'descendants': []},\n",
       " '4232457': {'descendants': []},\n",
       " '4268546': {'descendants': []},\n",
       " '4231363': {'descendants': []},\n",
       " '4329728': {'descendants': []},\n",
       " '4178501': {'descendants': []},\n",
       " '440377': {'descendants': []},\n",
       " '432867': {'descendants': [{'term': '4029305', 'descendants': []}]},\n",
       " '4020636': {'descendants': []}}"
      ]
     },
     "execution_count": 93,
     "metadata": {},
     "output_type": "execute_result"
    }
   ],
   "source": [
    "# Dictionary to store hierarchy\n",
    "hierarchy = {}\n",
    "\n",
    "# Populate the hierarchy with root terms\n",
    "for root in root_terms:\n",
    "    hierarchy[root] = {'descendants': []}\n",
    "\n",
    "# Recursive function to build the hierarchy\n",
    "def build_hierarchy(term, level):\n",
    "    # Find direct descendants of the current term\n",
    "    direct_descendants = filtered_ancestors[\n",
    "        (filtered_ancestors['ancestor_concept_id'] == term) & \n",
    "        (filtered_ancestors['max_levels_of_separation'] == level)\n",
    "    ]['descendant_concept_id'].tolist()\n",
    "    \n",
    "    # For each descendant, recursively find and add its own descendants\n",
    "    descendants_list = []\n",
    "    for descendant in direct_descendants:\n",
    "        descendants_list.append({\n",
    "            'term': descendant,\n",
    "            'descendants': build_hierarchy(descendant, level + 1)  # Recursive call for next level\n",
    "        })\n",
    "    \n",
    "    return descendants_list\n",
    "\n",
    "# Build hierarchy starting from each root term\n",
    "for root in root_terms:\n",
    "    hierarchy[root]['descendants'] = build_hierarchy(root, 1)\n",
    "\n",
    "hierarchy"
   ]
  },
  {
   "cell_type": "code",
   "execution_count": 92,
   "metadata": {},
   "outputs": [
    {
     "name": "stdout",
     "output_type": "stream",
     "text": [
      "191 total terms and  152 root terms.\n"
     ]
    }
   ],
   "source": [
    "print(len(my_terms), 'total terms and ', len(hierarchy), 'root terms.')"
   ]
  },
  {
   "cell_type": "code",
   "execution_count": 102,
   "metadata": {},
   "outputs": [
    {
     "data": {
      "text/plain": [
       "{'term': '44784217', 'descendants': []}"
      ]
     },
     "execution_count": 102,
     "metadata": {},
     "output_type": "execute_result"
    }
   ],
   "source": [
    "hierarchy['321588']['descendants'][0]"
   ]
  },
  {
   "cell_type": "code",
   "execution_count": null,
   "metadata": {},
   "outputs": [],
   "source": []
  }
 ],
 "metadata": {
  "kernelspec": {
   "display_name": "wise-dag",
   "language": "python",
   "name": "python3"
  },
  "language_info": {
   "codemirror_mode": {
    "name": "ipython",
    "version": 3
   },
   "file_extension": ".py",
   "mimetype": "text/x-python",
   "name": "python",
   "nbconvert_exporter": "python",
   "pygments_lexer": "ipython3",
   "version": "3.13.0"
  }
 },
 "nbformat": 4,
 "nbformat_minor": 2
}
