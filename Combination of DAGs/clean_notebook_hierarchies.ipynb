{
 "cells": [
  {
   "cell_type": "code",
   "execution_count": 19,
   "metadata": {},
   "outputs": [
    {
     "name": "stdout",
     "output_type": "stream",
     "text": [
      "The autoreload extension is already loaded. To reload it, use:\n",
      "  %reload_ext autoreload\n"
     ]
    }
   ],
   "source": [
    "%load_ext autoreload\n",
    "%autoreload 2\n",
    "import pandas as pd\n",
    "import matplotlib.pyplot as plt"
   ]
  },
  {
   "cell_type": "markdown",
   "metadata": {},
   "source": [
    "# Building DAG Hierarchy\n",
    "\n",
    "**Goal: Group terms and find common name to create a hierarchy of DAG nodes from broad down to specific.**"
   ]
  },
  {
   "cell_type": "markdown",
   "metadata": {},
   "source": [
    "Import Data\n",
    "1. `dag_df` - Standardized DAG dataframe from workshop\n",
    "2. `concept_df` - Athena concept dataframe containing all the athena ids, concept codes, and concept names\n",
    "3. `concept_relationship_df` - Athena dataframe containing the relationships between all the concepts\n",
    "4. `concept_ancestor_df` - Athena dataframe containing information on the ancestors of terms (unfortunately seems incomplete)"
   ]
  },
  {
   "cell_type": "code",
   "execution_count": 20,
   "metadata": {},
   "outputs": [],
   "source": [
    "dag_df = pd.read_csv('../data/DAGs_standardized.csv', dtype={'Exposure': str, 'Outcome':str})\n",
    "concept_df = pd.read_csv('../Standardization/athena_vocabulary/CONCEPT.csv', sep='\\t', dtype={'concept_code': str, 'concept_id': str}, low_memory=False)\n",
    "concept_relationship_df = pd.read_csv('../Standardization/athena_vocabulary/CONCEPT_RELATIONSHIP.csv', sep='\\t', dtype={'concept_id_1':str, 'concept_id_2': str}, low_memory=False)\n",
    "concept_ancestor_df = pd.read_csv('../Standardization/athena_vocabulary/CONCEPT_ANCESTOR.csv', sep='\\t',dtype={'ancestor_concept_id': str, 'descendant_concept_id': str}, low_memory=False)"
   ]
  },
  {
   "cell_type": "markdown",
   "metadata": {},
   "source": [
    "Get set of terms"
   ]
  },
  {
   "cell_type": "code",
   "execution_count": 21,
   "metadata": {},
   "outputs": [],
   "source": [
    "from hierarchy_functions import get_unique_coded_terms\n",
    "\n",
    "my_terms = get_unique_coded_terms(dag_df)"
   ]
  },
  {
   "cell_type": "markdown",
   "metadata": {},
   "source": [
    "Dictionary to convert codes to names"
   ]
  },
  {
   "cell_type": "code",
   "execution_count": 22,
   "metadata": {},
   "outputs": [],
   "source": [
    "code_to_name = dict(zip(concept_df[\"concept_id\"], concept_df[\"concept_name\"]))\n",
    "name_to_code = dict(zip(concept_df[\"concept_name\"], concept_df[\"concept_id\"]))\n",
    "my_terms_written = [code_to_name[code] for code in my_terms]"
   ]
  },
  {
   "cell_type": "markdown",
   "metadata": {},
   "source": [
    "### **Approach 1:** Using the parent and child relationships part of the OHDSI CDM / SNOMED CT ontology"
   ]
  },
  {
   "cell_type": "markdown",
   "metadata": {},
   "source": [
    "First, let's explore what happens if we condense all child terms by associating them directly with their respective parent (root) terms within the terms that were part of the DAGs."
   ]
  },
  {
   "cell_type": "code",
   "execution_count": 23,
   "metadata": {},
   "outputs": [
    {
     "data": {
      "text/plain": [
       "{'root_term_count': '129 out of 182 terms are root nodes',\n",
       " 'average_children_per_root': 0.09,\n",
       " 'example_root_with_children': {'root': '4103842', 'children': ['4306703']}}"
      ]
     },
     "execution_count": 23,
     "metadata": {},
     "output_type": "execute_result"
    }
   ],
   "source": [
    "from hierarchy_functions import analyze_snomed_hierarchy\n",
    "\n",
    "analysis_result = analyze_snomed_hierarchy(concept_ancestor_df, my_terms)\n",
    "analysis_result"
   ]
  },
  {
   "cell_type": "code",
   "execution_count": 24,
   "metadata": {},
   "outputs": [
    {
     "name": "stdout",
     "output_type": "stream",
     "text": [
      "Root term: Arteriosclerosis\n",
      "Children: ['Atherosclerosis']\n"
     ]
    }
   ],
   "source": [
    "# Example\n",
    "print('Root term:', code_to_name[analysis_result['example_root_with_children']['root']])\n",
    "print('Children:', [code_to_name[i] for i in analysis_result['example_root_with_children']['children']])"
   ]
  },
  {
   "cell_type": "markdown",
   "metadata": {},
   "source": [
    "It seems that even after doing so there are still a lot of different unique terms and we have to further group these into more broad categories to not overwhelm researchers. For this we will consider calcualting the distances from all the nodes to each other through a common ancestor node. This is important as nodes can have different parent terms and might otherwise link horizontally in a zig zag pattern instead of through a common ancestor higher up in the hierarchy.\n",
    "\n",
    "There are a variety of relationship types available in the OHDSI Athena database. For now, we are using the \"Subsumes\" relationships that are the relationships that connect a parent term to a child term in the SNOMED CT hierarchy. However, more potentially useful relationship types are available like can be seen below."
   ]
  },
  {
   "cell_type": "code",
   "execution_count": 25,
   "metadata": {},
   "outputs": [],
   "source": [
    "useful_relationship_ids = [\n",
    "    \"Is a\",                     # Hierarchical relationship of SNOMED\n",
    "    \"Subsumes\",\n",
    "    \"Finding site of\",          # Links findings to anatomical sites\n",
    "    \"Interprets of\",            # Links specific measurements to conditions\n",
    "    \"Causative agent of\",       # Etiological link\n",
    "    \"Has due to\",               # Etiology relationships\n",
    "    \"Due to of\",\n",
    "    \"Asso finding of\",\n",
    "    \"Pathology of\",             # Links to pathological processes\n",
    "    \"Has dir morph\",            # Direct morphology\n",
    "    \"Has asso morph\",           # Associated morphology\n",
    "    \"Occurs before\",            # Temporal relationship\n",
    "    \"Follows\",                  # Temporal relationship\n",
    "    \"Has manifestation\",        # Links findings to manifestations\n",
    "    \"Has complication\"          # Links to complications\n",
    "]\n",
    "\n",
    "selected_relationship_ids = [\"Subsumes\"]"
   ]
  },
  {
   "cell_type": "markdown",
   "metadata": {},
   "source": [
    "Creating a graph structure of the terms based on SNOMED CT hierachy."
   ]
  },
  {
   "cell_type": "code",
   "execution_count": 26,
   "metadata": {},
   "outputs": [
    {
     "name": "stdout",
     "output_type": "stream",
     "text": [
      "Number of nodes in graph of relevant SNOMED CT terms: 743\n",
      "Number of edges in graph of relevant SNOMED CT terms: 1193\n",
      "All terms are present in the graph.\n"
     ]
    }
   ],
   "source": [
    "from hierarchy_functions import create_SNOMED_CT_graph_based_on_terms\n",
    "\n",
    "G = create_SNOMED_CT_graph_based_on_terms(my_terms, concept_df, concept_relationship_df, selected_relationship_ids)"
   ]
  },
  {
   "cell_type": "markdown",
   "metadata": {},
   "source": [
    "Computing the least common ancestor between any two nodes part of my_terms and then the distance between the two terms going through that LCA."
   ]
  },
  {
   "cell_type": "code",
   "execution_count": 27,
   "metadata": {},
   "outputs": [],
   "source": [
    "from hierarchy_functions import compute_lcas_and_distances\n",
    "\n",
    "lca_results = compute_lcas_and_distances(my_terms, G)"
   ]
  },
  {
   "cell_type": "markdown",
   "metadata": {},
   "source": [
    "What are the most common \"least common ancestors\" between terms?"
   ]
  },
  {
   "cell_type": "code",
   "execution_count": 28,
   "metadata": {},
   "outputs": [
    {
     "data": {
      "text/html": [
       "<div>\n",
       "<style scoped>\n",
       "    .dataframe tbody tr th:only-of-type {\n",
       "        vertical-align: middle;\n",
       "    }\n",
       "\n",
       "    .dataframe tbody tr th {\n",
       "        vertical-align: top;\n",
       "    }\n",
       "\n",
       "    .dataframe thead th {\n",
       "        text-align: right;\n",
       "    }\n",
       "</style>\n",
       "<table border=\"1\" class=\"dataframe\">\n",
       "  <thead>\n",
       "    <tr style=\"text-align: right;\">\n",
       "      <th></th>\n",
       "      <th>athena_code</th>\n",
       "      <th>count</th>\n",
       "      <th>concept_name</th>\n",
       "    </tr>\n",
       "  </thead>\n",
       "  <tbody>\n",
       "    <tr>\n",
       "      <th>0</th>\n",
       "      <td>4008453</td>\n",
       "      <td>8230</td>\n",
       "      <td>SNOMED CT Concept</td>\n",
       "    </tr>\n",
       "    <tr>\n",
       "      <th>1</th>\n",
       "      <td>441840</td>\n",
       "      <td>4445</td>\n",
       "      <td>Clinical finding</td>\n",
       "    </tr>\n",
       "    <tr>\n",
       "      <th>39</th>\n",
       "      <td>4274025</td>\n",
       "      <td>1156</td>\n",
       "      <td>Disease</td>\n",
       "    </tr>\n",
       "    <tr>\n",
       "      <th>21</th>\n",
       "      <td>4094294</td>\n",
       "      <td>455</td>\n",
       "      <td>Clinical history and observation findings</td>\n",
       "    </tr>\n",
       "    <tr>\n",
       "      <th>63</th>\n",
       "      <td>134057</td>\n",
       "      <td>334</td>\n",
       "      <td>Disorder of cardiovascular system</td>\n",
       "    </tr>\n",
       "    <tr>\n",
       "      <th>30</th>\n",
       "      <td>4322976</td>\n",
       "      <td>305</td>\n",
       "      <td>Procedure</td>\n",
       "    </tr>\n",
       "    <tr>\n",
       "      <th>38</th>\n",
       "      <td>4047779</td>\n",
       "      <td>214</td>\n",
       "      <td>Disorder by body site</td>\n",
       "    </tr>\n",
       "    <tr>\n",
       "      <th>59</th>\n",
       "      <td>4180628</td>\n",
       "      <td>148</td>\n",
       "      <td>Disorder of body system</td>\n",
       "    </tr>\n",
       "    <tr>\n",
       "      <th>33</th>\n",
       "      <td>4029205</td>\n",
       "      <td>130</td>\n",
       "      <td>Procedure by method</td>\n",
       "    </tr>\n",
       "    <tr>\n",
       "      <th>2</th>\n",
       "      <td>4041283</td>\n",
       "      <td>117</td>\n",
       "      <td>General finding of observation of patient</td>\n",
       "    </tr>\n",
       "  </tbody>\n",
       "</table>\n",
       "</div>"
      ],
      "text/plain": [
       "   athena_code  count                               concept_name\n",
       "0      4008453   8230                          SNOMED CT Concept\n",
       "1       441840   4445                           Clinical finding\n",
       "39     4274025   1156                                    Disease\n",
       "21     4094294    455  Clinical history and observation findings\n",
       "63      134057    334          Disorder of cardiovascular system\n",
       "30     4322976    305                                  Procedure\n",
       "38     4047779    214                      Disorder by body site\n",
       "59     4180628    148                    Disorder of body system\n",
       "33     4029205    130                        Procedure by method\n",
       "2      4041283    117  General finding of observation of patient"
      ]
     },
     "execution_count": 28,
     "metadata": {},
     "output_type": "execute_result"
    }
   ],
   "source": [
    "from collections import Counter\n",
    "\n",
    "lca_counts = Counter(lca_results[0].values())\n",
    "lca_counts_df = pd.DataFrame.from_dict(lca_counts, orient='index').reset_index()\n",
    "lca_counts_df.columns = ['athena_code', 'count']\n",
    "lca_counts_df = lca_counts_df.sort_values('count', ascending=False)\n",
    "lca_counts_df['concept_name'] = [code_to_name[i] for i in lca_counts_df['athena_code']]\n",
    "lca_counts_df.head(10)"
   ]
  },
  {
   "cell_type": "markdown",
   "metadata": {},
   "source": [
    "Creating a distance matrix for the terms."
   ]
  },
  {
   "cell_type": "code",
   "execution_count": 29,
   "metadata": {},
   "outputs": [
    {
     "data": {
      "image/png": "[encoded data removed]",
      "text/plain": [
       "<Figure size 640x480 with 1 Axes>"
      ]
     },
     "metadata": {},
     "output_type": "display_data"
    }
   ],
   "source": [
    "terms = sorted(my_terms)\n",
    "distance_matrix = pd.DataFrame(index=terms, columns=terms, data=float('inf'))\n",
    "\n",
    "for (term1, term2), distance in lca_results[1].items():\n",
    "    distance_matrix.at[term1, term2] = distance\n",
    "    distance_matrix.at[term2, term1] = distance\n",
    "for term in my_terms:\n",
    "    distance_matrix.at[term, term] = 0\n",
    "\n",
    "distance_matrix.to_csv('snomed_distance_matrix.csv')\n",
    "pd.Series(lca_results[1].values()).hist()\n",
    "plt.title('Distribution of distances between terms through least common ancestor')\n",
    "plt.xlabel('Distance (number of nodes)');"
   ]
  },
  {
   "cell_type": "code",
   "execution_count": 30,
   "metadata": {},
   "outputs": [
    {
     "data": {
      "application/vnd.plotly.v1+json": {
       "config": {
        "plotlyServerURL": "https://plot.ly"
       },
       "data": [
        {
         "marker": {
          "opacity": 0.8,
          "size": 5
         },
         "mode": "markers+text",
         "text": [
          "Cachexia",
          "Urinary incontinence",
          "Kidney disease",
          "Diabetes mellitus",
          "Pneumonia",
          "Dysphagia",
          "Atrial fibrillation",
          "Sleep apnea",
          "Heart failure",
          "Hypertensive disorder",
          "Low blood pressure",
          "Migraine",
          "Heart disease",
          "Insulin resistance",
          "Assessment using Modified Rankin Scale",
          "Platelet aggregation inhibitor therapy",
          "Functionally dependent",
          "Dissection of cerebral artery",
          "Prediabetes",
          "Gestational diabetes mellitus complicating pregnancy",
          "C-reactive protein above reference range",
          "Silent micro-hemorrhage of brain",
          "Epilepsy due to cerebrovascular accident",
          "Mediterranean diet",
          "Percutaneous transluminal procedure on blood vessel",
          "Lipoprotein (a) hyperlipoproteinemia",
          "Myocardial infarction due to demand ischemia",
          "COVID-19",
          "Risk of cardiovascular disease",
          "Transient cerebral ischemia",
          "Delirium",
          "Seizure",
          "Encephalitis",
          "Migraine with aura",
          "Troponin",
          "Cardiac troponin T",
          "Care regime",
          "Able to cope",
          "Healthy diet",
          "High fat diet",
          "Disorder of cardiac function",
          "High carbohydrate diet",
          "Hypercholesterolemia",
          "Aspiration",
          "Gets no exercise",
          "Exercises regularly",
          "Lacunar infarction",
          "Takotsubo cardiomyopathy",
          "Finding of oxygen saturation",
          "Insertion of carotid artery stent",
          "Thrombolysis of artery",
          "Disability",
          "Anticoagulant therapy",
          "Falls",
          "Social worker involved",
          "Blood-brain barrier",
          "Patent foramen ovale",
          "Decreased vascular flow",
          "Current drinker",
          "Congenital malformation",
          "Pain management",
          "Lesion size",
          "Antibiotic therapy",
          "Nutritional disorder",
          "Cerebral venous sinus thrombosis",
          "Arteriosclerosis",
          "Finding of lesion",
          "Cognitive skills training",
          "Cardiac syndrome X",
          "Activities of daily living assessment",
          "Disorder of glucose metabolism",
          "Deep venous thrombosis",
          "Vasculitis",
          "Admission to stroke unit",
          "Antihypertensive therapy",
          "FH: Cardiovascular disease",
          "Interleukin-6",
          "Cerebral atrophy",
          "Patient position finding",
          "Dyslipidemia",
          "Thiazolidinedione",
          "Continuous positive airway pressure ventilation treatment",
          "Glucagon-like peptide 1 receptor agonist",
          "Genetic predisposition",
          "Family history of stroke",
          "Increased body mass index",
          "Organ or tissue vascular perfusion decreased",
          "Angioplasty of carotid artery",
          "Complete obstruction",
          "Body temperature above reference range",
          "Inflammation of specific body structures or tissue",
          "Sequelae of neurological disorders",
          "Procedure involving urinary catheter",
          "Moderate drinker",
          "Passive smoker",
          "Removal of thrombus",
          "Embolism",
          "N-terminal pro-B-type natriuretic peptide",
          "Complicated atheromatous plaque",
          "Endarterectomy",
          "Secondary prevention",
          "Able to mobilize",
          "Lesion of brain",
          "Administration of prophylactic statin",
          "Speech therapy",
          "Primary prevention",
          "Glomerular filtration rate",
          "Racial group",
          "Stenosis",
          "Dysfunction of urinary bladder",
          "Injection of botulinum toxin",
          "Weight loss",
          "Thrombosis",
          "Leuko-araiosis",
          "Quality of life satisfaction",
          "Postprocedural recovery status",
          "Physical therapy procedure",
          "Uses oral contraception",
          "Immunosuppression",
          "Economic status",
          "Stress",
          "Thrombus of cardiac chamber",
          "Hypertension complicating pregnancy",
          "Education and/or schooling finding",
          "Chemotherapy",
          "Catecholamine level - finding",
          "Blood glucose level - finding",
          "Female sex hormones - serum level - finding",
          "Carotid endarterectomy",
          "DNA damage",
          "Assessment using National Institutes of Health stroke scale",
          "Hypercoagulability state",
          "Smoker",
          "Pregnancy",
          "Surgical procedure",
          "Blood glucose management",
          "Acute infective endocarditis",
          "Low sodium diet",
          "Death",
          "Atherosclerosis",
          "Impaired mobility",
          "Social isolation",
          "Ischemic stroke",
          "Infectious disease",
          "Age factor",
          "Psychotherapy",
          "Hyperlipidemia",
          "Pain",
          "Spasticity",
          "Myocardial infarction",
          "Heavy drinker",
          "Obesity",
          "Systemic inflammatory response syndrome",
          "Dyssomnia",
          "Metabolic syndrome X",
          "Bleeding",
          "Pre-eclampsia",
          "Paralysis",
          "Depressive disorder",
          "Pulmonary embolism",
          "Aphasia",
          "Endocarditis",
          "Acute heart failure",
          "Male",
          "Malignant neoplastic disease",
          "Impaired cognition",
          "Cerebral infarction",
          "Eclampsia",
          "Vascular disorder",
          "Chronic heart failure",
          "Cardiac arrhythmia",
          "Antidepressant therapy",
          "Physical fitness state",
          "Sodium glucose cotransporter subtype 2 inhibitor",
          "Decreased alcohol consumption",
          "Chronic kidney disease",
          "Dissection of artery",
          "Smoking cessation therapy",
          "Myocardial infarction due to atherothrombotic coronary artery disease",
          "Finding of renal function",
          "Fracture of bone",
          "Urinary tract infectious disease"
         ],
         "textposition": "top center",
         "type": "scatter3d",
         "x": [
          19.2928466796875,
          -25.244956970214844,
          -21.890220642089844,
          -44.04671096801758,
          -51.406211853027344,
          -57.508583068847656,
          -96.6590805053711,
          -34.37568664550781,
          -54.13622283935547,
          -68.9242172241211,
          -60.480499267578125,
          -10.532514572143555,
          295.8116760253906,
          -43.616764068603516,
          62.87261962890625,
          65.56480407714844,
          -35.22213363647461,
          -51.229434967041016,
          23.955041885375977,
          -28.671062469482422,
          27.99256706237793,
          -30.04018783569336,
          -17.145748138427734,
          68.58534240722656,
          51.86942672729492,
          22.43719482421875,
          -90.32565307617188,
          -19.084571838378906,
          10.87047290802002,
          -63.66898727416992,
          18.438186645507812,
          4.668359756469727,
          -15.75112247467041,
          -4.30291223526001,
          87.65434265136719,
          86.32307434082031,
          13.900096893310547,
          -22.69697380065918,
          47.584327697753906,
          52.59071350097656,
          -12.143024444580078,
          61.998348236083984,
          20.64784049987793,
          88.03826141357422,
          -1.4696217775344849,
          -16.233104705810547,
          -27.435245513916016,
          -85.98064422607422,
          40.714786529541016,
          45.59651565551758,
          60.662235260009766,
          -24.86270523071289,
          54.60395431518555,
          -9.148828506469727,
          -7.730960369110107,
          -22.104467391967773,
          -98.91806030273438,
          -41.993629455566406,
          19.76487922668457,
          -10.309797286987305,
          38.200477600097656,
          3.0563130378723145,
          67.90249633789062,
          -232.3297576904297,
          -41.10576629638672,
          22.250484466552734,
          1.6378024816513062,
          -2.5432167053222656,
          13.993943214416504,
          42.053585052490234,
          -28.255796432495117,
          -50.248252868652344,
          -37.44698715209961,
          31.423254013061523,
          59.5259895324707,
          -4.571619033813477,
          84.25410461425781,
          9.35712718963623,
          7.903353691101074,
          -1.9003742933273315,
          55.622711181640625,
          16.332866668701172,
          60.500030517578125,
          -45.24504470825195,
          6.456796169281006,
          -4.552044868469238,
          -53.32377243041992,
          39.29058837890625,
          30.304914474487305,
          -48.891845703125,
          -32.07557678222656,
          -5.51073694229126,
          33.42586898803711,
          34.07282257080078,
          3.6531758308410645,
          70.32659149169922,
          -37.87794494628906,
          75.27205657958984,
          14.894776344299316,
          69.24301147460938,
          28.156858444213867,
          -60.70230484008789,
          5.3351311683654785,
          49.370479583740234,
          24.240665435791016,
          38.33130645751953,
          22.80536460876465,
          -24.350828170776367,
          17.33372688293457,
          -23.122127532958984,
          76.08650970458984,
          -12.635635375976562,
          -61.573753356933594,
          -54.01848220825195,
          -3.11374568939209,
          -7.092267990112305,
          8.422444343566895,
          29.128379821777344,
          24.93810272216797,
          -27.70538902282715,
          -7.265768527984619,
          -80.5511245727539,
          -81.24679565429688,
          -8.056105613708496,
          77.81263732910156,
          43.92960739135742,
          36.971649169921875,
          48.4468994140625,
          55.397029876708984,
          -53.248043060302734,
          62.857887268066406,
          -53.248043060302734,
          12.216292381286621,
          -15.159951210021973,
          33.11505889892578,
          52.99665451049805,
          -53.70021057128906,
          58.75944900512695,
          23.60262107849121,
          32.61928939819336,
          -59.824493408203125,
          -1.5855135917663574,
          -20.050338745117188,
          -41.1617546081543,
          -2.861234664916992,
          16.52723503112793,
          9.177605628967285,
          8.483297348022461,
          16.134519577026367,
          -99.98561096191406,
          26.391935348510742,
          -16.357288360595703,
          -29.881675720214844,
          -29.902835845947266,
          -11.669137001037598,
          8.221240997314453,
          -76.586669921875,
          28.424184799194336,
          -64.34029388427734,
          -34.83650207519531,
          28.731651306152344,
          -71.05235290527344,
          -66.26441192626953,
          -8.26010513305664,
          12.61866283416748,
          -49.110294342041016,
          -10.131031036376953,
          1.0037689208984375,
          63.6983528137207,
          -73.36952209472656,
          -78.68412017822266,
          44.96512222290039,
          -10.766156196594238,
          67.69779968261719,
          36.44199752807617,
          -9.993298530578613,
          -34.90935516357422,
          11.1100435256958,
          -92.66472625732422,
          -31.941925048828125,
          -14.754633903503418,
          -35.95270919799805
         ],
         "y": [
          -23.606348037719727,
          43.45998001098633,
          -85.5582504272461,
          -72.7099838256836,
          -32.12480926513672,
          -25.247596740722656,
          9.29032039642334,
          -47.721038818359375,
          22.106969833374023,
          -9.029126167297363,
          3.1071231365203857,
          9.853796005249023,
          -270.255859375,
          -54.83179473876953,
          0.5846302509307861,
          74.6029052734375,
          11.501937866210938,
          14.641922950744629,
          2.5036823749542236,
          -75.70421600341797,
          -73.53357696533203,
          5.213791847229004,
          -40.51606750488281,
          37.076473236083984,
          0.21740618348121643,
          -62.00736999511719,
          18.634017944335938,
          28.603240966796875,
          -5.675083160400391,
          15.877490997314453,
          -22.39893913269043,
          -19.00646209716797,
          -14.94347095489502,
          -9.259572982788086,
          5.952934741973877,
          -5.827296733856201,
          25.206823348999023,
          23.318130493164062,
          -6.5635666847229,
          -17.961286544799805,
          160.24444580078125,
          -2.149899482727051,
          -85.06422424316406,
          13.275503158569336,
          -41.46714782714844,
          -50.071807861328125,
          -50.561988830566406,
          -7.833788871765137,
          -57.60359573364258,
          -16.88142204284668,
          8.6687650680542,
          -9.974081993103027,
          55.0804557800293,
          10.832893371582031,
          58.0001335144043,
          -18.246522903442383,
          -18.804283142089844,
          49.37855529785156,
          -49.87221145629883,
          -57.412841796875,
          32.75507354736328,
          -22.98287010192871,
          61.79880142211914,
          6.214831352233887,
          -11.830930709838867,
          76.26273345947266,
          -1.6979032754898071,
          47.73741912841797,
          31.79788589477539,
          11.626728057861328,
          -72.23616027832031,
          -28.774600982666016,
          -6.490375995635986,
          17.66375732421875,
          60.374881744384766,
          2.8071908950805664,
          19.86192512512207,
          -21.412506103515625,
          29.557788848876953,
          -79.51862335205078,
          36.80059051513672,
          35.13923645019531,
          25.743824005126953,
          -36.7455940246582,
          -3.0394065380096436,
          33.81122970581055,
          55.50400161743164,
          3.334834098815918,
          47.69745635986328,
          53.642181396484375,
          -24.226970672607422,
          -31.92729377746582,
          21.55133628845215,
          -53.6849365234375,
          -64.45262908935547,
          13.177223205566406,
          11.45755672454834,
          30.158945083618164,
          67.62015533447266,
          -11.450901985168457,
          63.546875,
          16.206809997558594,
          -2.3551599979400635,
          74.04752349853516,
          39.41778564453125,
          50.388275146484375,
          -28.858882904052734,
          25.152862548828125,
          52.11143112182617,
          61.68996047973633,
          37.259334564208984,
          64.71812438964844,
          -17.942020416259766,
          -20.495853424072266,
          0.9456737637519836,
          -2.020080327987671,
          30.93520736694336,
          18.467100143432617,
          42.471256256103516,
          9.894888877868652,
          34.68411636352539,
          -16.129526138305664,
          -20.786073684692383,
          43.08561706542969,
          55.707763671875,
          -54.68388748168945,
          -71.88219451904297,
          -73.95309448242188,
          -10.27439022064209,
          -26.88680076599121,
          17.87841796875,
          -26.88680076599121,
          -58.96120071411133,
          12.10027027130127,
          12.169711112976074,
          27.471981048583984,
          -7.512144565582275,
          -19.045421600341797,
          -10.073100090026855,
          72.08712768554688,
          32.3833122253418,
          13.801249504089355,
          -30.984228134155273,
          -63.14902114868164,
          -16.002870559692383,
          51.51762390136719,
          -76.17414093017578,
          15.13353443145752,
          -3.793806552886963,
          0.3699150085449219,
          -67.12966918945312,
          -42.2055549621582,
          -19.54551887512207,
          -42.83572769165039,
          -61.56224060058594,
          15.182014465332031,
          -41.238037109375,
          -21.078601837158203,
          -55.737430572509766,
          21.693626403808594,
          7.435481548309326,
          -20.61767578125,
          9.747682571411133,
          -24.573883056640625,
          -49.47600173950195,
          26.12017250061035,
          -43.444236755371094,
          -35.745140075683594,
          41.89567184448242,
          28.27056884765625,
          3.4000906944274902,
          71.71495819091797,
          -8.799514770507812,
          42.07993698120117,
          -49.72386169433594,
          -82.9011459350586,
          28.46550750732422,
          59.753273010253906,
          8.941810607910156,
          29.929065704345703,
          -22.222827911376953,
          -73.54963684082031
         ],
         "z": [
          9.713706970214844,
          -11.31531810760498,
          26.096229553222656,
          -33.41968536376953,
          -18.255224227905273,
          -88.00160217285156,
          -4.239775657653809,
          -11.498774528503418,
          -6.761654853820801,
          -52.37139892578125,
          -33.77935791015625,
          -57.621273040771484,
          -8.190093040466309,
          -39.23802185058594,
          67.08427429199219,
          43.53150939941406,
          11.794149398803711,
          -71.9451904296875,
          -13.55785083770752,
          -18.04683494567871,
          -55.83075714111328,
          -71.89339447021484,
          -44.43931579589844,
          51.7667350769043,
          40.255340576171875,
          -35.80413055419922,
          -31.13359260559082,
          -95.87069702148438,
          73.30776977539062,
          -53.13457107543945,
          -49.00687789916992,
          -27.885366439819336,
          -39.17728042602539,
          -56.687259674072266,
          -16.654325485229492,
          -7.056907653808594,
          51.998104095458984,
          30.15709114074707,
          -32.259822845458984,
          -50.53144836425781,
          -354.1646728515625,
          -47.26025390625,
          -33.9304313659668,
          47.85536193847656,
          42.500118255615234,
          51.025997161865234,
          -74.47801208496094,
          16.013986587524414,
          -43.778385162353516,
          30.717500686645508,
          22.98845672607422,
          22.888452529907227,
          40.24737548828125,
          -21.81473731994629,
          -51.45469284057617,
          75.97171783447266,
          -11.739618301391602,
          16.685894012451172,
          29.45378875732422,
          -1.2444186210632324,
          51.11285400390625,
          86.02325439453125,
          25.91936492919922,
          -23.20448875427246,
          -63.32560348510742,
          -6.762548923492432,
          -7.542895317077637,
          52.61708068847656,
          -76.12672424316406,
          61.352577209472656,
          -42.58567428588867,
          -54.74309539794922,
          -36.45093536376953,
          82.06700134277344,
          59.83810043334961,
          42.4033203125,
          -2.8111443519592285,
          -71.70310974121094,
          -25.30527687072754,
          -26.779747009277344,
          -24.912620544433594,
          35.42793655395508,
          -11.636353492736816,
          34.15647888183594,
          34.6785888671875,
          -4.527559280395508,
          5.176548480987549,
          22.599849700927734,
          -7.662197113037109,
          -32.83210754394531,
          -27.293611526489258,
          -4.994058609008789,
          23.748762130737305,
          40.3018798828125,
          41.817378997802734,
          43.86953353881836,
          -49.50928497314453,
          -30.59438133239746,
          -19.927743911743164,
          29.52252769470215,
          28.412752151489258,
          45.108612060546875,
          -39.651371002197266,
          26.829776763916016,
          63.296382904052734,
          22.81674575805664,
          79.178955078125,
          65.23514556884766,
          -0.08082251250743866,
          -16.286603927612305,
          32.0161247253418,
          13.887481689453125,
          -35.757965087890625,
          26.030942916870117,
          96.60723876953125,
          79.24301147460938,
          71.27433776855469,
          -28.879383087158203,
          -45.86072540283203,
          58.13884353637695,
          20.629501342773438,
          -29.48528480529785,
          -63.93098068237305,
          -42.84421920776367,
          46.268699645996094,
          -24.350996017456055,
          -16.601421356201172,
          -30.984304428100586,
          14.497014045715332,
          50.00031280517578,
          69.87285614013672,
          50.00031280517578,
          57.5994873046875,
          -3.1114888191223145,
          43.60663604736328,
          39.171566009521484,
          -5.685032844543457,
          -27.243513107299805,
          51.38351821899414,
          -19.60181427001953,
          47.297542572021484,
          12.526894569396973,
          -62.31756591796875,
          -0.7155609130859375,
          65.17359161376953,
          50.13995361328125,
          -44.36274719238281,
          -70.51876068115234,
          7.462218284606934,
          -33.7827262878418,
          28.796173095703125,
          -18.576045989990234,
          -8.943002700805664,
          5.42248010635376,
          -30.4621524810791,
          -7.688002586364746,
          -43.78412628173828,
          -14.979558944702148,
          3.7219443321228027,
          -31.19709587097168,
          -54.497745513916016,
          -6.856337070465088,
          4.472607612609863,
          20.041921615600586,
          -10.671588897705078,
          20.707965850830078,
          -76.07771301269531,
          -34.451690673828125,
          131.66494750976562,
          -7.931971549987793,
          -14.821181297302246,
          49.14600372314453,
          9.802897453308105,
          -12.998872756958008,
          17.22372055053711,
          12.336712837219238,
          -62.075599670410156,
          69.10249328613281,
          -49.832740783691406,
          5.82097864151001,
          -92.67986297607422,
          15.823389053344727
         ]
        }
       ],
       "layout": {
        "margin": {
         "b": 0,
         "l": 0,
         "r": 0,
         "t": 40
        },
        "scene": {
         "xaxis": {
          "title": {
           "text": "t-SNE Dimension 1"
          }
         },
         "yaxis": {
          "title": {
           "text": "t-SNE Dimension 2"
          }
         },
         "zaxis": {
          "title": {
           "text": "t-SNE Dimension 3"
          }
         }
        },
        "template": {
         "data": {
          "bar": [
           {
            "error_x": {
             "color": "#2a3f5f"
            },
            "error_y": {
             "color": "#2a3f5f"
            },
            "marker": {
             "line": {
              "color": "#E5ECF6",
              "width": 0.5
             },
             "pattern": {
              "fillmode": "overlay",
              "size": 10,
              "solidity": 0.2
             }
            },
            "type": "bar"
           }
          ],
          "barpolar": [
           {
            "marker": {
             "line": {
              "color": "#E5ECF6",
              "width": 0.5
             },
             "pattern": {
              "fillmode": "overlay",
              "size": 10,
              "solidity": 0.2
             }
            },
            "type": "barpolar"
           }
          ],
          "carpet": [
           {
            "aaxis": {
             "endlinecolor": "#2a3f5f",
             "gridcolor": "white",
             "linecolor": "white",
             "minorgridcolor": "white",
             "startlinecolor": "#2a3f5f"
            },
            "baxis": {
             "endlinecolor": "#2a3f5f",
             "gridcolor": "white",
             "linecolor": "white",
             "minorgridcolor": "white",
             "startlinecolor": "#2a3f5f"
            },
            "type": "carpet"
           }
          ],
          "choropleth": [
           {
            "colorbar": {
             "outlinewidth": 0,
             "ticks": ""
            },
            "type": "choropleth"
           }
          ],
          "contour": [
           {
            "colorbar": {
             "outlinewidth": 0,
             "ticks": ""
            },
            "colorscale": [
             [
              0,
              "#0d0887"
             ],
             [
              0.1111111111111111,
              "#46039f"
             ],
             [
              0.2222222222222222,
              "#7201a8"
             ],
             [
              0.3333333333333333,
              "#9c179e"
             ],
             [
              0.4444444444444444,
              "#bd3786"
             ],
             [
              0.5555555555555556,
              "#d8576b"
             ],
             [
              0.6666666666666666,
              "#ed7953"
             ],
             [
              0.7777777777777778,
              "#fb9f3a"
             ],
             [
              0.8888888888888888,
              "#fdca26"
             ],
             [
              1,
              "#f0f921"
             ]
            ],
            "type": "contour"
           }
          ],
          "contourcarpet": [
           {
            "colorbar": {
             "outlinewidth": 0,
             "ticks": ""
            },
            "type": "contourcarpet"
           }
          ],
          "heatmap": [
           {
            "colorbar": {
             "outlinewidth": 0,
             "ticks": ""
            },
            "colorscale": [
             [
              0,
              "#0d0887"
             ],
             [
              0.1111111111111111,
              "#46039f"
             ],
             [
              0.2222222222222222,
              "#7201a8"
             ],
             [
              0.3333333333333333,
              "#9c179e"
             ],
             [
              0.4444444444444444,
              "#bd3786"
             ],
             [
              0.5555555555555556,
              "#d8576b"
             ],
             [
              0.6666666666666666,
              "#ed7953"
             ],
             [
              0.7777777777777778,
              "#fb9f3a"
             ],
             [
              0.8888888888888888,
              "#fdca26"
             ],
             [
              1,
              "#f0f921"
             ]
            ],
            "type": "heatmap"
           }
          ],
          "heatmapgl": [
           {
            "colorbar": {
             "outlinewidth": 0,
             "ticks": ""
            },
            "colorscale": [
             [
              0,
              "#0d0887"
             ],
             [
              0.1111111111111111,
              "#46039f"
             ],
             [
              0.2222222222222222,
              "#7201a8"
             ],
             [
              0.3333333333333333,
              "#9c179e"
             ],
             [
              0.4444444444444444,
              "#bd3786"
             ],
             [
              0.5555555555555556,
              "#d8576b"
             ],
             [
              0.6666666666666666,
              "#ed7953"
             ],
             [
              0.7777777777777778,
              "#fb9f3a"
             ],
             [
              0.8888888888888888,
              "#fdca26"
             ],
             [
              1,
              "#f0f921"
             ]
            ],
            "type": "heatmapgl"
           }
          ],
          "histogram": [
           {
            "marker": {
             "pattern": {
              "fillmode": "overlay",
              "size": 10,
              "solidity": 0.2
             }
            },
            "type": "histogram"
           }
          ],
          "histogram2d": [
           {
            "colorbar": {
             "outlinewidth": 0,
             "ticks": ""
            },
            "colorscale": [
             [
              0,
              "#0d0887"
             ],
             [
              0.1111111111111111,
              "#46039f"
             ],
             [
              0.2222222222222222,
              "#7201a8"
             ],
             [
              0.3333333333333333,
              "#9c179e"
             ],
             [
              0.4444444444444444,
              "#bd3786"
             ],
             [
              0.5555555555555556,
              "#d8576b"
             ],
             [
              0.6666666666666666,
              "#ed7953"
             ],
             [
              0.7777777777777778,
              "#fb9f3a"
             ],
             [
              0.8888888888888888,
              "#fdca26"
             ],
             [
              1,
              "#f0f921"
             ]
            ],
            "type": "histogram2d"
           }
          ],
          "histogram2dcontour": [
           {
            "colorbar": {
             "outlinewidth": 0,
             "ticks": ""
            },
            "colorscale": [
             [
              0,
              "#0d0887"
             ],
             [
              0.1111111111111111,
              "#46039f"
             ],
             [
              0.2222222222222222,
              "#7201a8"
             ],
             [
              0.3333333333333333,
              "#9c179e"
             ],
             [
              0.4444444444444444,
              "#bd3786"
             ],
             [
              0.5555555555555556,
              "#d8576b"
             ],
             [
              0.6666666666666666,
              "#ed7953"
             ],
             [
              0.7777777777777778,
              "#fb9f3a"
             ],
             [
              0.8888888888888888,
              "#fdca26"
             ],
             [
              1,
              "#f0f921"
             ]
            ],
            "type": "histogram2dcontour"
           }
          ],
          "mesh3d": [
           {
            "colorbar": {
             "outlinewidth": 0,
             "ticks": ""
            },
            "type": "mesh3d"
           }
          ],
          "parcoords": [
           {
            "line": {
             "colorbar": {
              "outlinewidth": 0,
              "ticks": ""
             }
            },
            "type": "parcoords"
           }
          ],
          "pie": [
           {
            "automargin": true,
            "type": "pie"
           }
          ],
          "scatter": [
           {
            "fillpattern": {
             "fillmode": "overlay",
             "size": 10,
             "solidity": 0.2
            },
            "type": "scatter"
           }
          ],
          "scatter3d": [
           {
            "line": {
             "colorbar": {
              "outlinewidth": 0,
              "ticks": ""
             }
            },
            "marker": {
             "colorbar": {
              "outlinewidth": 0,
              "ticks": ""
             }
            },
            "type": "scatter3d"
           }
          ],
          "scattercarpet": [
           {
            "marker": {
             "colorbar": {
              "outlinewidth": 0,
              "ticks": ""
             }
            },
            "type": "scattercarpet"
           }
          ],
          "scattergeo": [
           {
            "marker": {
             "colorbar": {
              "outlinewidth": 0,
              "ticks": ""
             }
            },
            "type": "scattergeo"
           }
          ],
          "scattergl": [
           {
            "marker": {
             "colorbar": {
              "outlinewidth": 0,
              "ticks": ""
             }
            },
            "type": "scattergl"
           }
          ],
          "scattermapbox": [
           {
            "marker": {
             "colorbar": {
              "outlinewidth": 0,
              "ticks": ""
             }
            },
            "type": "scattermapbox"
           }
          ],
          "scatterpolar": [
           {
            "marker": {
             "colorbar": {
              "outlinewidth": 0,
              "ticks": ""
             }
            },
            "type": "scatterpolar"
           }
          ],
          "scatterpolargl": [
           {
            "marker": {
             "colorbar": {
              "outlinewidth": 0,
              "ticks": ""
             }
            },
            "type": "scatterpolargl"
           }
          ],
          "scatterternary": [
           {
            "marker": {
             "colorbar": {
              "outlinewidth": 0,
              "ticks": ""
             }
            },
            "type": "scatterternary"
           }
          ],
          "surface": [
           {
            "colorbar": {
             "outlinewidth": 0,
             "ticks": ""
            },
            "colorscale": [
             [
              0,
              "#0d0887"
             ],
             [
              0.1111111111111111,
              "#46039f"
             ],
             [
              0.2222222222222222,
              "#7201a8"
             ],
             [
              0.3333333333333333,
              "#9c179e"
             ],
             [
              0.4444444444444444,
              "#bd3786"
             ],
             [
              0.5555555555555556,
              "#d8576b"
             ],
             [
              0.6666666666666666,
              "#ed7953"
             ],
             [
              0.7777777777777778,
              "#fb9f3a"
             ],
             [
              0.8888888888888888,
              "#fdca26"
             ],
             [
              1,
              "#f0f921"
             ]
            ],
            "type": "surface"
           }
          ],
          "table": [
           {
            "cells": {
             "fill": {
              "color": "#EBF0F8"
             },
             "line": {
              "color": "white"
             }
            },
            "header": {
             "fill": {
              "color": "#C8D4E3"
             },
             "line": {
              "color": "white"
             }
            },
            "type": "table"
           }
          ]
         },
         "layout": {
          "annotationdefaults": {
           "arrowcolor": "#2a3f5f",
           "arrowhead": 0,
           "arrowwidth": 1
          },
          "autotypenumbers": "strict",
          "coloraxis": {
           "colorbar": {
            "outlinewidth": 0,
            "ticks": ""
           }
          },
          "colorscale": {
           "diverging": [
            [
             0,
             "#8e0152"
            ],
            [
             0.1,
             "#c51b7d"
            ],
            [
             0.2,
             "#de77ae"
            ],
            [
             0.3,
             "#f1b6da"
            ],
            [
             0.4,
             "#fde0ef"
            ],
            [
             0.5,
             "#f7f7f7"
            ],
            [
             0.6,
             "#e6f5d0"
            ],
            [
             0.7,
             "#b8e186"
            ],
            [
             0.8,
             "#7fbc41"
            ],
            [
             0.9,
             "#4d9221"
            ],
            [
             1,
             "#276419"
            ]
           ],
           "sequential": [
            [
             0,
             "#0d0887"
            ],
            [
             0.1111111111111111,
             "#46039f"
            ],
            [
             0.2222222222222222,
             "#7201a8"
            ],
            [
             0.3333333333333333,
             "#9c179e"
            ],
            [
             0.4444444444444444,
             "#bd3786"
            ],
            [
             0.5555555555555556,
             "#d8576b"
            ],
            [
             0.6666666666666666,
             "#ed7953"
            ],
            [
             0.7777777777777778,
             "#fb9f3a"
            ],
            [
             0.8888888888888888,
             "#fdca26"
            ],
            [
             1,
             "#f0f921"
            ]
           ],
           "sequentialminus": [
            [
             0,
             "#0d0887"
            ],
            [
             0.1111111111111111,
             "#46039f"
            ],
            [
             0.2222222222222222,
             "#7201a8"
            ],
            [
             0.3333333333333333,
             "#9c179e"
            ],
            [
             0.4444444444444444,
             "#bd3786"
            ],
            [
             0.5555555555555556,
             "#d8576b"
            ],
            [
             0.6666666666666666,
             "#ed7953"
            ],
            [
             0.7777777777777778,
             "#fb9f3a"
            ],
            [
             0.8888888888888888,
             "#fdca26"
            ],
            [
             1,
             "#f0f921"
            ]
           ]
          },
          "colorway": [
           "#636efa",
           "#EF553B",
           "#00cc96",
           "#ab63fa",
           "#FFA15A",
           "#19d3f3",
           "#FF6692",
           "#B6E880",
           "#FF97FF",
           "#FECB52"
          ],
          "font": {
           "color": "#2a3f5f"
          },
          "geo": {
           "bgcolor": "white",
           "lakecolor": "white",
           "landcolor": "#E5ECF6",
           "showlakes": true,
           "showland": true,
           "subunitcolor": "white"
          },
          "hoverlabel": {
           "align": "left"
          },
          "hovermode": "closest",
          "mapbox": {
           "style": "light"
          },
          "paper_bgcolor": "white",
          "plot_bgcolor": "#E5ECF6",
          "polar": {
           "angularaxis": {
            "gridcolor": "white",
            "linecolor": "white",
            "ticks": ""
           },
           "bgcolor": "#E5ECF6",
           "radialaxis": {
            "gridcolor": "white",
            "linecolor": "white",
            "ticks": ""
           }
          },
          "scene": {
           "xaxis": {
            "backgroundcolor": "#E5ECF6",
            "gridcolor": "white",
            "gridwidth": 2,
            "linecolor": "white",
            "showbackground": true,
            "ticks": "",
            "zerolinecolor": "white"
           },
           "yaxis": {
            "backgroundcolor": "#E5ECF6",
            "gridcolor": "white",
            "gridwidth": 2,
            "linecolor": "white",
            "showbackground": true,
            "ticks": "",
            "zerolinecolor": "white"
           },
           "zaxis": {
            "backgroundcolor": "#E5ECF6",
            "gridcolor": "white",
            "gridwidth": 2,
            "linecolor": "white",
            "showbackground": true,
            "ticks": "",
            "zerolinecolor": "white"
           }
          },
          "shapedefaults": {
           "line": {
            "color": "#2a3f5f"
           }
          },
          "ternary": {
           "aaxis": {
            "gridcolor": "white",
            "linecolor": "white",
            "ticks": ""
           },
           "baxis": {
            "gridcolor": "white",
            "linecolor": "white",
            "ticks": ""
           },
           "bgcolor": "#E5ECF6",
           "caxis": {
            "gridcolor": "white",
            "linecolor": "white",
            "ticks": ""
           }
          },
          "title": {
           "x": 0.05
          },
          "xaxis": {
           "automargin": true,
           "gridcolor": "white",
           "linecolor": "white",
           "ticks": "",
           "title": {
            "standoff": 15
           },
           "zerolinecolor": "white",
           "zerolinewidth": 2
          },
          "yaxis": {
           "automargin": true,
           "gridcolor": "white",
           "linecolor": "white",
           "ticks": "",
           "title": {
            "standoff": 15
           },
           "zerolinecolor": "white",
           "zerolinewidth": 2
          }
         }
        },
        "title": {
         "text": "3D Distance Matrix Visualization"
        }
       }
      }
     },
     "metadata": {},
     "output_type": "display_data"
    }
   ],
   "source": [
    "from hierarchy_functions import graph_distance_matrix_in_3d\n",
    "\n",
    "graph_distance_matrix_in_3d(distance_matrix, [code_to_name[i] for i in terms])"
   ]
  },
  {
   "cell_type": "markdown",
   "metadata": {},
   "source": [
    "### **Approach 2:** Using word embeddings"
   ]
  },
  {
   "cell_type": "markdown",
   "metadata": {},
   "source": [
    "1. **SapBERT** - https://huggingface.co/cambridgeltl/SapBERT-from-PubMedBERT-fulltext\n",
    "2. **SNOMED CT BioBERT** - https://huggingface.co/KimTang/SNOMEDCT_BioBERT"
   ]
  },
  {
   "cell_type": "code",
   "execution_count": 31,
   "metadata": {},
   "outputs": [],
   "source": [
    "snomed_biobert = \"KimTang/SNOMEDCT_BioBERT\"\n",
    "sapbert = \"cambridgeltl/SapBERT-from-PubMedBERT-fulltext\""
   ]
  },
  {
   "cell_type": "code",
   "execution_count": 32,
   "metadata": {},
   "outputs": [
    {
     "name": "stderr",
     "output_type": "stream",
     "text": [
      "Asking to truncate to max_length but no maximum length is provided and the model has no predefined maximum length. Default to no truncation.\n",
      "Asking to truncate to max_length but no maximum length is provided and the model has no predefined maximum length. Default to no truncation.\n"
     ]
    }
   ],
   "source": [
    "from hierarchy_functions import get_embeddings\n",
    "\n",
    "embeddings, embedding_names, embedding_matrix = get_embeddings(my_terms_written, sapbert)\n",
    "embeddings_2, embedding_names_2, embedding_matrix_2 = get_embeddings(my_terms_written, snomed_biobert)"
   ]
  },
  {
   "cell_type": "code",
   "execution_count": 33,
   "metadata": {},
   "outputs": [
    {
     "data": {
      "application/vnd.plotly.v1+json": {
       "config": {
        "plotlyServerURL": "https://plot.ly"
       },
       "data": [
        {
         "marker": {
          "opacity": 0.8,
          "size": 5
         },
         "mode": "markers+text",
         "text": [
          "Body temperature above reference range",
          "Arteriosclerosis",
          "Cachexia",
          "Bleeding",
          "Urinary incontinence",
          "Family history of stroke",
          "Increased body mass index",
          "Atherosclerosis",
          "Quality of life satisfaction",
          "Gets no exercise",
          "High fat diet",
          "Platelet aggregation inhibitor therapy",
          "Leuko-araiosis",
          "Inflammation of specific body structures or tissue",
          "Seizure",
          "Angioplasty of carotid artery",
          "Spasticity",
          "Troponin",
          "Kidney disease",
          "Heart disease",
          "Smoking cessation therapy",
          "Myocardial infarction due to demand ischemia",
          "Disorder of cardiac function",
          "Able to cope",
          "Primary prevention",
          "Patent foramen ovale",
          "Lipoprotein (a) hyperlipoproteinemia",
          "Pulmonary embolism",
          "COVID-19",
          "Ischemic stroke",
          "Urinary tract infectious disease",
          "Gestational diabetes mellitus complicating pregnancy",
          "Patient position finding",
          "Nutritional disorder",
          "Organ or tissue vascular perfusion decreased",
          "Glomerular filtration rate",
          "Dysphagia",
          "FH: Cardiovascular disease",
          "Congenital malformation",
          "Age factor",
          "Cardiac troponin T",
          "Glucagon-like peptide 1 receptor agonist",
          "Dissection of cerebral artery",
          "Passive smoker",
          "Finding of renal function",
          "Cognitive skills training",
          "N-terminal pro-B-type natriuretic peptide",
          "Finding of lesion",
          "Antibiotic therapy",
          "Social isolation",
          "Silent micro-hemorrhage of brain",
          "Lacunar infarction",
          "Cerebral venous sinus thrombosis",
          "Embolism",
          "Cerebral infarction",
          "Dyslipidemia",
          "C-reactive protein above reference range",
          "Catecholamine level - finding",
          "Vascular disorder",
          "Decreased alcohol consumption",
          "Postprocedural recovery status",
          "Dyssomnia",
          "Dysfunction of urinary bladder",
          "Cardiac syndrome X",
          "Percutaneous transluminal procedure on blood vessel",
          "Takotsubo cardiomyopathy",
          "Physical therapy procedure",
          "Social worker involved",
          "Able to mobilize",
          "Hypercholesterolemia",
          "Malignant neoplastic disease",
          "Transient cerebral ischemia",
          "Interleukin-6",
          "Immunosuppression",
          "Male",
          "Activities of daily living assessment",
          "Physical fitness state",
          "Atrial fibrillation",
          "Sleep apnea",
          "Impaired mobility",
          "Hypertension complicating pregnancy",
          "Vasculitis",
          "Mediterranean diet",
          "Hypercoagulability state",
          "Economic status",
          "Hypertensive disorder",
          "Stress",
          "Obesity",
          "Acute heart failure",
          "Risk of cardiovascular disease",
          "Cardiac arrhythmia",
          "Systemic inflammatory response syndrome",
          "Pneumonia",
          "Migraine",
          "Carotid endarterectomy",
          "Finding of oxygen saturation",
          "Insertion of carotid artery stent",
          "Epilepsy due to cerebrovascular accident",
          "DNA damage",
          "Deep venous thrombosis",
          "Thrombosis",
          "Aphasia",
          "Depressive disorder",
          "Heavy drinker",
          "Sequelae of neurological disorders",
          "Diabetes mellitus",
          "Procedure involving urinary catheter",
          "Genetic predisposition",
          "Pre-eclampsia",
          "Education and/or schooling finding",
          "Heart failure",
          "Thrombolysis of artery",
          "Smoker",
          "Uses oral contraception",
          "Continuous positive airway pressure ventilation treatment",
          "Assessment using Modified Rankin Scale",
          "Current drinker",
          "Female sex hormones - serum level - finding",
          "Paralysis",
          "Encephalitis",
          "Blood-brain barrier",
          "Prediabetes",
          "Admission to stroke unit",
          "Antidepressant therapy",
          "Lesion size",
          "Dissection of artery",
          "Disorder of glucose metabolism",
          "Psychotherapy",
          "Pregnancy",
          "Eclampsia",
          "Blood glucose level - finding",
          "Fracture of bone",
          "Pain",
          "Injection of botulinum toxin",
          "Migraine with aura",
          "Weight loss",
          "Surgical procedure",
          "Impaired cognition",
          "Chronic kidney disease",
          "Hyperlipidemia",
          "Antihypertensive therapy",
          "Falls",
          "Pain management",
          "Low blood pressure",
          "Myocardial infarction due to atherothrombotic coronary artery disease",
          "Removal of thrombus",
          "Complete obstruction",
          "Racial group",
          "Chronic heart failure",
          "Exercises regularly",
          "Sodium glucose cotransporter subtype 2 inhibitor",
          "Cerebral atrophy",
          "Speech therapy",
          "Lesion of brain",
          "Chemotherapy",
          "Blood glucose management",
          "Administration of prophylactic statin",
          "Stenosis",
          "Moderate drinker",
          "Insulin resistance",
          "Functionally dependent",
          "Anticoagulant therapy",
          "Assessment using National Institutes of Health stroke scale",
          "Acute infective endocarditis",
          "Low sodium diet",
          "Metabolic syndrome X",
          "Secondary prevention",
          "Care regime",
          "Thrombus of cardiac chamber",
          "Endocarditis",
          "Endarterectomy",
          "Decreased vascular flow",
          "Thiazolidinedione",
          "Disability",
          "High carbohydrate diet",
          "Aspiration",
          "Complicated atheromatous plaque",
          "Myocardial infarction",
          "Death",
          "Healthy diet",
          "Infectious disease",
          "Delirium"
         ],
         "textposition": "top center",
         "type": "scatter3d",
         "x": [
          59.85908508300781,
          -22.118831634521484,
          44.764957427978516,
          -21.804712295532227,
          -82.59205627441406,
          17.99941635131836,
          19.59820556640625,
          -22.508943557739258,
          51.87830352783203,
          44.98434066772461,
          36.15465545654297,
          -52.254207611083984,
          25.37997055053711,
          -49.72597122192383,
          -3.275104522705078,
          33.77231979370117,
          2.458061456680298,
          -4.304103851318359,
          80.03494262695312,
          43.06816864013672,
          -31.559608459472656,
          13.175311088562012,
          56.037933349609375,
          53.40610122680664,
          -17.106908798217773,
          25.875398635864258,
          20.860702514648438,
          -20.319379806518555,
          0.4095287621021271,
          17.117368698120117,
          -73.68950653076172,
          -1.1319748163223267,
          24.614625930786133,
          -5.059144020080566,
          -60.49955368041992,
          76.41527557373047,
          39.648353576660156,
          6.561444282531738,
          41.810611724853516,
          -36.96757888793945,
          1.58098304271698,
          -29.360389709472656,
          -53.31089782714844,
          -27.36446762084961,
          86.69621276855469,
          -37.79467010498047,
          -12.128580093383789,
          25.244503021240234,
          -60.14739227294922,
          0.5702826380729675,
          19.580381393432617,
          13.39151668548584,
          2.950957775115967,
          -19.825700759887695,
          29.463748931884766,
          2.766982316970825,
          9.41417407989502,
          -45.77499771118164,
          -58.687801361083984,
          55.00679016113281,
          28.451061248779297,
          29.768314361572266,
          -82.40155792236328,
          11.843527793884277,
          -68.06185150146484,
          9.455123901367188,
          -28.959325790405273,
          10.308769226074219,
          31.909767150878906,
          17.099334716796875,
          20.531494140625,
          5.498188495635986,
          17.52756118774414,
          -8.829073905944824,
          -26.634572982788086,
          13.012642860412598,
          34.20110321044922,
          43.178749084472656,
          -5.207263946533203,
          36.72629928588867,
          10.75162124633789,
          -48.54064178466797,
          18.643211364746094,
          -37.81051254272461,
          -20.793703079223633,
          25.198070526123047,
          -7.329314708709717,
          64.73213195800781,
          36.01979446411133,
          -7.827700138092041,
          47.9422721862793,
          5.241117000579834,
          -80.6055679321289,
          -15.57560920715332,
          -44.089962005615234,
          -5.466752052307129,
          24.48142433166504,
          31.36458969116211,
          8.349400520324707,
          -1.968850016593933,
          -30.250696182250977,
          31.890113830566406,
          -11.671213150024414,
          47.42454528808594,
          68.25233459472656,
          -7.856037616729736,
          -71.39579010009766,
          -26.738677978515625,
          2.4292802810668945,
          -33.80025863647461,
          39.4135627746582,
          -59.842525482177734,
          -21.1875,
          -31.303604125976562,
          -45.35283279418945,
          -68.48683166503906,
          44.9080924987793,
          -52.571067810058594,
          15.196203231811523,
          64.70069885253906,
          75.6852035522461,
          -29.968263626098633,
          -75.23741149902344,
          -24.632184982299805,
          13.560718536376953,
          -45.21342849731445,
          -19.753726959228516,
          -31.681453704833984,
          -13.500493049621582,
          12.817790031433105,
          -43.588470458984375,
          -10.429865837097168,
          -32.22751998901367,
          6.503655433654785,
          -11.904963493347168,
          57.29660415649414,
          -24.161569595336914,
          46.06825637817383,
          69.5915298461914,
          11.299145698547363,
          -33.43564987182617,
          0.7580232620239258,
          -33.410770416259766,
          36.344383239746094,
          3.732714891433716,
          -54.45500183105469,
          -6.166879177093506,
          -26.540721893310547,
          49.39984893798828,
          37.85333251953125,
          -28.557859420776367,
          41.87627410888672,
          -33.249603271484375,
          51.17455291748047,
          35.78682327270508,
          -40.1961555480957,
          -53.326171875,
          -14.674873352050781,
          59.90158462524414,
          -2.3123481273651123,
          20.233078002929688,
          -43.82315444946289,
          -73.44725036621094,
          0.4910510182380676,
          41.0574836730957,
          1.7687665224075317,
          77.22069549560547,
          -40.474769592285156,
          -25.097335815429688,
          -4.6785383224487305,
          -39.56395721435547,
          -55.58980178833008,
          -18.070154190063477,
          27.465137481689453,
          26.83831214904785,
          33.85126876831055,
          -8.03256607055664,
          21.256336212158203,
          9.291830062866211,
          28.751710891723633,
          -61.14146041870117,
          26.40467643737793
         ],
         "y": [
          56.082847595214844,
          -8.064104080200195,
          13.88884449005127,
          28.749412536621094,
          6.241818428039551,
          -12.226849555969238,
          -38.95991897583008,
          -18.338790893554688,
          32.746089935302734,
          -0.7620305418968201,
          -70.17566680908203,
          -10.948671340942383,
          11.620584487915039,
          30.357969284057617,
          22.77550506591797,
          -33.22151184082031,
          50.42335510253906,
          -7.1728339195251465,
          -34.815155029296875,
          -18.810823440551758,
          -11.762850761413574,
          -24.075454711914062,
          -27.27066421508789,
          -10.176688194274902,
          -32.65919494628906,
          -9.417198181152344,
          -54.378475189208984,
          35.26400375366211,
          -19.168842315673828,
          -0.5190455913543701,
          21.776308059692383,
          -69.24242401123047,
          48.909244537353516,
          -91.42739868164062,
          51.062503814697266,
          -9.15939712524414,
          58.765716552734375,
          -19.97539710998535,
          64.07176971435547,
          -38.57029342651367,
          -0.9655975699424744,
          -58.762939453125,
          -22.501001358032227,
          -33.85056686401367,
          -20.645597457885742,
          66.88834381103516,
          -16.046512603759766,
          61.22176742553711,
          45.29079055786133,
          6.070188999176025,
          24.395977020263672,
          4.663358688354492,
          89.06217193603516,
          24.311418533325195,
          4.942718982696533,
          -47.94308853149414,
          -41.061763763427734,
          -64.17119598388672,
          19.457454681396484,
          -14.974306106567383,
          36.77782440185547,
          45.832489013671875,
          5.023529529571533,
          -27.473724365234375,
          4.747946262359619,
          -15.404967308044434,
          48.146156311035156,
          8.449419975280762,
          17.451343536376953,
          -42.95094299316406,
          45.339534759521484,
          11.764735221862793,
          -10.39806842803955,
          1.4058552980422974,
          -51.134952545166016,
          16.452119827270508,
          23.632579803466797,
          -10.149337768554688,
          36.07175064086914,
          30.871809005737305,
          -68.87140655517578,
          21.94156837463379,
          -74.30554962158203,
          1.3189401626586914,
          65.78640747070312,
          -69.16920471191406,
          55.14664840698242,
          34.88212203979492,
          -31.48270606994629,
          -18.841333389282227,
          -7.587246417999268,
          -19.09980583190918,
          32.57530975341797,
          10.392040252685547,
          -30.24005699157715,
          41.15091323852539,
          -29.06800651550293,
          8.248014450073242,
          55.708251953125,
          88.60110473632812,
          17.88819694519043,
          41.23846435546875,
          17.4901065826416,
          -35.655487060546875,
          42.71327209472656,
          -61.90666580200195,
          21.331077575683594,
          -26.22150230407715,
          -50.94976043701172,
          69.77544403076172,
          -35.023433685302734,
          -4.158641815185547,
          -25.111818313598633,
          -14.450787544250488,
          3.2989656925201416,
          -43.97286605834961,
          -29.067272186279297,
          -51.140960693359375,
          37.5550422668457,
          27.469215393066406,
          9.36563777923584,
          61.936767578125,
          -28.90352439880371,
          14.506705284118652,
          63.27281188964844,
          -11.01028823852539,
          -76.52033233642578,
          35.65566635131836,
          -62.48347091674805,
          -50.033321380615234,
          -64.76740264892578,
          49.188167572021484,
          20.096038818359375,
          68.218505859375,
          -1.9658441543579102,
          12.312468528747559,
          65.21965789794922,
          38.2510986328125,
          -36.45673370361328,
          -57.470943450927734,
          -14.715254783630371,
          39.14047622680664,
          16.156389236450195,
          -58.87335205078125,
          -12.666996002197266,
          -5.368728160858154,
          28.43121910095215,
          -63.25000762939453,
          -43.00231170654297,
          3.546603202819824,
          -45.26561737060547,
          23.65159797668457,
          46.5318489074707,
          39.01707458496094,
          41.52693557739258,
          -62.756744384765625,
          -20.286739349365234,
          38.22230529785156,
          -34.56956481933594,
          -47.90388488769531,
          35.71889877319336,
          1.617708683013916,
          -36.9477424621582,
          19.8239803314209,
          -64.60105895996094,
          -40.86247253417969,
          -1.4688045978546143,
          30.78358268737793,
          12.446842193603516,
          11.223814964294434,
          -16.642271041870117,
          44.06945037841797,
          -41.04623031616211,
          44.145477294921875,
          -59.883155822753906,
          75.54768371582031,
          -28.674907684326172,
          -14.319732666015625,
          35.075199127197266,
          -83.6129379272461,
          28.805715560913086,
          25.808853149414062
         ],
         "z": [
          33.24082946777344,
          -34.35893249511719,
          7.4668426513671875,
          -24.69525146484375,
          30.373674392700195,
          -68.15514373779297,
          29.233976364135742,
          -43.141597747802734,
          55.94169616699219,
          36.241336822509766,
          7.7530412673950195,
          27.921642303466797,
          -14.806388854980469,
          -3.758467674255371,
          -17.64031219482422,
          71.37384796142578,
          23.66615104675293,
          22.94068717956543,
          -18.08831787109375,
          -40.67118835449219,
          51.249786376953125,
          -25.807647705078125,
          -35.8576774597168,
          57.74394226074219,
          -16.134204864501953,
          3.7180726528167725,
          -66.05366516113281,
          -57.96617126464844,
          65.89594268798828,
          -47.740455627441406,
          20.15650177001953,
          -5.923552513122559,
          57.873661041259766,
          15.413495063781738,
          -25.82855224609375,
          -7.702775478363037,
          -1.8438215255737305,
          -73.76583862304688,
          -33.15855407714844,
          -51.26435470581055,
          12.955032348632812,
          34.9517707824707,
          -26.727426528930664,
          58.168426513671875,
          -6.31843376159668,
          17.85869789123535,
          10.388663291931152,
          -33.71005630493164,
          23.80036735534668,
          63.970455169677734,
          -38.15028762817383,
          -29.317399978637695,
          -10.787781715393066,
          -49.507408142089844,
          -41.048301696777344,
          -59.920406341552734,
          52.298336029052734,
          -26.647441864013672,
          -36.780147552490234,
          20.196868896484375,
          70.74874877929688,
          7.096704959869385,
          44.09284210205078,
          1.922997236251831,
          -22.974136352539062,
          -7.776381969451904,
          46.11037826538086,
          77.83512878417969,
          33.48408889770508,
          -50.59675216674805,
          -61.683624267578125,
          -43.95112609863281,
          31.739778518676758,
          52.15235900878906,
          -41.66182327270508,
          40.638587951660156,
          55.46768569946289,
          -8.634163856506348,
          54.948272705078125,
          26.22089195251465,
          -21.005390167236328,
          -22.896934509277344,
          24.583017349243164,
          -49.25531768798828,
          -6.57004976272583,
          -29.327322006225586,
          7.186180591583252,
          27.534832000732422,
          -13.015645980834961,
          -65.34918975830078,
          -23.907726287841797,
          46.61936950683594,
          6.910775661468506,
          -10.157783508300781,
          -4.372249126434326,
          71.58097076416016,
          82.57870483398438,
          -62.28587341308594,
          -4.809422969818115,
          3.0258383750915527,
          -37.43320846557617,
          -10.587142944335938,
          32.05964279174805,
          15.212571144104004,
          -10.033008575439453,
          13.220803260803223,
          42.95145034790039,
          -69.83399200439453,
          -23.66507339477539,
          0.7318502068519592,
          -27.305509567260742,
          -9.375676155090332,
          49.92784881591797,
          73.25017547607422,
          61.21178436279297,
          26.372020721435547,
          28.4848575592041,
          -40.188533782958984,
          17.3945255279541,
          -17.7760066986084,
          -15.955684661865234,
          -44.105316162109375,
          -6.907351970672607,
          37.94985580444336,
          -40.71010971069336,
          -25.860105514526367,
          13.224428176879883,
          36.23992919921875,
          -24.550275802612305,
          -15.412371635437012,
          -2.9804399013519287,
          -28.975448608398438,
          1.4200669527053833,
          33.899391174316406,
          -12.976338386535645,
          16.361143112182617,
          47.134788513183594,
          7.875003337860107,
          -9.201560020446777,
          -51.10546875,
          24.723865509033203,
          -25.938697814941406,
          14.943243026733398,
          47.14973449707031,
          -40.60634994506836,
          6.229652404785156,
          10.964637756347656,
          -51.385807037353516,
          -19.35502815246582,
          49.23716735839844,
          27.982561111450195,
          -13.102791786193848,
          25.113447189331055,
          -29.41550636291504,
          -54.08899688720703,
          10.26215648651123,
          43.86593246459961,
          1.1405465602874756,
          25.74326515197754,
          28.655996322631836,
          40.97175979614258,
          32.39688491821289,
          14.933560371398926,
          -77.32936096191406,
          31.188405990600586,
          10.92032241821289,
          32.98511505126953,
          55.727291107177734,
          -67.36398315429688,
          -67.99169921875,
          -7.7415361404418945,
          -36.07264709472656,
          9.1362886428833,
          27.888154983520508,
          11.49510669708252,
          0.41485506296157837,
          -44.05867004394531,
          -37.829776763916016,
          -3.92518949508667,
          19.40370750427246,
          9.462242126464844,
          5.280906677246094
         ]
        }
       ],
       "layout": {
        "margin": {
         "b": 0,
         "l": 0,
         "r": 0,
         "t": 40
        },
        "scene": {
         "xaxis": {
          "title": {
           "text": "t-SNE Dimension 1"
          }
         },
         "yaxis": {
          "title": {
           "text": "t-SNE Dimension 2"
          }
         },
         "zaxis": {
          "title": {
           "text": "t-SNE Dimension 3"
          }
         }
        },
        "template": {
         "data": {
          "bar": [
           {
            "error_x": {
             "color": "#2a3f5f"
            },
            "error_y": {
             "color": "#2a3f5f"
            },
            "marker": {
             "line": {
              "color": "#E5ECF6",
              "width": 0.5
             },
             "pattern": {
              "fillmode": "overlay",
              "size": 10,
              "solidity": 0.2
             }
            },
            "type": "bar"
           }
          ],
          "barpolar": [
           {
            "marker": {
             "line": {
              "color": "#E5ECF6",
              "width": 0.5
             },
             "pattern": {
              "fillmode": "overlay",
              "size": 10,
              "solidity": 0.2
             }
            },
            "type": "barpolar"
           }
          ],
          "carpet": [
           {
            "aaxis": {
             "endlinecolor": "#2a3f5f",
             "gridcolor": "white",
             "linecolor": "white",
             "minorgridcolor": "white",
             "startlinecolor": "#2a3f5f"
            },
            "baxis": {
             "endlinecolor": "#2a3f5f",
             "gridcolor": "white",
             "linecolor": "white",
             "minorgridcolor": "white",
             "startlinecolor": "#2a3f5f"
            },
            "type": "carpet"
           }
          ],
          "choropleth": [
           {
            "colorbar": {
             "outlinewidth": 0,
             "ticks": ""
            },
            "type": "choropleth"
           }
          ],
          "contour": [
           {
            "colorbar": {
             "outlinewidth": 0,
             "ticks": ""
            },
            "colorscale": [
             [
              0,
              "#0d0887"
             ],
             [
              0.1111111111111111,
              "#46039f"
             ],
             [
              0.2222222222222222,
              "#7201a8"
             ],
             [
              0.3333333333333333,
              "#9c179e"
             ],
             [
              0.4444444444444444,
              "#bd3786"
             ],
             [
              0.5555555555555556,
              "#d8576b"
             ],
             [
              0.6666666666666666,
              "#ed7953"
             ],
             [
              0.7777777777777778,
              "#fb9f3a"
             ],
             [
              0.8888888888888888,
              "#fdca26"
             ],
             [
              1,
              "#f0f921"
             ]
            ],
            "type": "contour"
           }
          ],
          "contourcarpet": [
           {
            "colorbar": {
             "outlinewidth": 0,
             "ticks": ""
            },
            "type": "contourcarpet"
           }
          ],
          "heatmap": [
           {
            "colorbar": {
             "outlinewidth": 0,
             "ticks": ""
            },
            "colorscale": [
             [
              0,
              "#0d0887"
             ],
             [
              0.1111111111111111,
              "#46039f"
             ],
             [
              0.2222222222222222,
              "#7201a8"
             ],
             [
              0.3333333333333333,
              "#9c179e"
             ],
             [
              0.4444444444444444,
              "#bd3786"
             ],
             [
              0.5555555555555556,
              "#d8576b"
             ],
             [
              0.6666666666666666,
              "#ed7953"
             ],
             [
              0.7777777777777778,
              "#fb9f3a"
             ],
             [
              0.8888888888888888,
              "#fdca26"
             ],
             [
              1,
              "#f0f921"
             ]
            ],
            "type": "heatmap"
           }
          ],
          "heatmapgl": [
           {
            "colorbar": {
             "outlinewidth": 0,
             "ticks": ""
            },
            "colorscale": [
             [
              0,
              "#0d0887"
             ],
             [
              0.1111111111111111,
              "#46039f"
             ],
             [
              0.2222222222222222,
              "#7201a8"
             ],
             [
              0.3333333333333333,
              "#9c179e"
             ],
             [
              0.4444444444444444,
              "#bd3786"
             ],
             [
              0.5555555555555556,
              "#d8576b"
             ],
             [
              0.6666666666666666,
              "#ed7953"
             ],
             [
              0.7777777777777778,
              "#fb9f3a"
             ],
             [
              0.8888888888888888,
              "#fdca26"
             ],
             [
              1,
              "#f0f921"
             ]
            ],
            "type": "heatmapgl"
           }
          ],
          "histogram": [
           {
            "marker": {
             "pattern": {
              "fillmode": "overlay",
              "size": 10,
              "solidity": 0.2
             }
            },
            "type": "histogram"
           }
          ],
          "histogram2d": [
           {
            "colorbar": {
             "outlinewidth": 0,
             "ticks": ""
            },
            "colorscale": [
             [
              0,
              "#0d0887"
             ],
             [
              0.1111111111111111,
              "#46039f"
             ],
             [
              0.2222222222222222,
              "#7201a8"
             ],
             [
              0.3333333333333333,
              "#9c179e"
             ],
             [
              0.4444444444444444,
              "#bd3786"
             ],
             [
              0.5555555555555556,
              "#d8576b"
             ],
             [
              0.6666666666666666,
              "#ed7953"
             ],
             [
              0.7777777777777778,
              "#fb9f3a"
             ],
             [
              0.8888888888888888,
              "#fdca26"
             ],
             [
              1,
              "#f0f921"
             ]
            ],
            "type": "histogram2d"
           }
          ],
          "histogram2dcontour": [
           {
            "colorbar": {
             "outlinewidth": 0,
             "ticks": ""
            },
            "colorscale": [
             [
              0,
              "#0d0887"
             ],
             [
              0.1111111111111111,
              "#46039f"
             ],
             [
              0.2222222222222222,
              "#7201a8"
             ],
             [
              0.3333333333333333,
              "#9c179e"
             ],
             [
              0.4444444444444444,
              "#bd3786"
             ],
             [
              0.5555555555555556,
              "#d8576b"
             ],
             [
              0.6666666666666666,
              "#ed7953"
             ],
             [
              0.7777777777777778,
              "#fb9f3a"
             ],
             [
              0.8888888888888888,
              "#fdca26"
             ],
             [
              1,
              "#f0f921"
             ]
            ],
            "type": "histogram2dcontour"
           }
          ],
          "mesh3d": [
           {
            "colorbar": {
             "outlinewidth": 0,
             "ticks": ""
            },
            "type": "mesh3d"
           }
          ],
          "parcoords": [
           {
            "line": {
             "colorbar": {
              "outlinewidth": 0,
              "ticks": ""
             }
            },
            "type": "parcoords"
           }
          ],
          "pie": [
           {
            "automargin": true,
            "type": "pie"
           }
          ],
          "scatter": [
           {
            "fillpattern": {
             "fillmode": "overlay",
             "size": 10,
             "solidity": 0.2
            },
            "type": "scatter"
           }
          ],
          "scatter3d": [
           {
            "line": {
             "colorbar": {
              "outlinewidth": 0,
              "ticks": ""
             }
            },
            "marker": {
             "colorbar": {
              "outlinewidth": 0,
              "ticks": ""
             }
            },
            "type": "scatter3d"
           }
          ],
          "scattercarpet": [
           {
            "marker": {
             "colorbar": {
              "outlinewidth": 0,
              "ticks": ""
             }
            },
            "type": "scattercarpet"
           }
          ],
          "scattergeo": [
           {
            "marker": {
             "colorbar": {
              "outlinewidth": 0,
              "ticks": ""
             }
            },
            "type": "scattergeo"
           }
          ],
          "scattergl": [
           {
            "marker": {
             "colorbar": {
              "outlinewidth": 0,
              "ticks": ""
             }
            },
            "type": "scattergl"
           }
          ],
          "scattermapbox": [
           {
            "marker": {
             "colorbar": {
              "outlinewidth": 0,
              "ticks": ""
             }
            },
            "type": "scattermapbox"
           }
          ],
          "scatterpolar": [
           {
            "marker": {
             "colorbar": {
              "outlinewidth": 0,
              "ticks": ""
             }
            },
            "type": "scatterpolar"
           }
          ],
          "scatterpolargl": [
           {
            "marker": {
             "colorbar": {
              "outlinewidth": 0,
              "ticks": ""
             }
            },
            "type": "scatterpolargl"
           }
          ],
          "scatterternary": [
           {
            "marker": {
             "colorbar": {
              "outlinewidth": 0,
              "ticks": ""
             }
            },
            "type": "scatterternary"
           }
          ],
          "surface": [
           {
            "colorbar": {
             "outlinewidth": 0,
             "ticks": ""
            },
            "colorscale": [
             [
              0,
              "#0d0887"
             ],
             [
              0.1111111111111111,
              "#46039f"
             ],
             [
              0.2222222222222222,
              "#7201a8"
             ],
             [
              0.3333333333333333,
              "#9c179e"
             ],
             [
              0.4444444444444444,
              "#bd3786"
             ],
             [
              0.5555555555555556,
              "#d8576b"
             ],
             [
              0.6666666666666666,
              "#ed7953"
             ],
             [
              0.7777777777777778,
              "#fb9f3a"
             ],
             [
              0.8888888888888888,
              "#fdca26"
             ],
             [
              1,
              "#f0f921"
             ]
            ],
            "type": "surface"
           }
          ],
          "table": [
           {
            "cells": {
             "fill": {
              "color": "#EBF0F8"
             },
             "line": {
              "color": "white"
             }
            },
            "header": {
             "fill": {
              "color": "#C8D4E3"
             },
             "line": {
              "color": "white"
             }
            },
            "type": "table"
           }
          ]
         },
         "layout": {
          "annotationdefaults": {
           "arrowcolor": "#2a3f5f",
           "arrowhead": 0,
           "arrowwidth": 1
          },
          "autotypenumbers": "strict",
          "coloraxis": {
           "colorbar": {
            "outlinewidth": 0,
            "ticks": ""
           }
          },
          "colorscale": {
           "diverging": [
            [
             0,
             "#8e0152"
            ],
            [
             0.1,
             "#c51b7d"
            ],
            [
             0.2,
             "#de77ae"
            ],
            [
             0.3,
             "#f1b6da"
            ],
            [
             0.4,
             "#fde0ef"
            ],
            [
             0.5,
             "#f7f7f7"
            ],
            [
             0.6,
             "#e6f5d0"
            ],
            [
             0.7,
             "#b8e186"
            ],
            [
             0.8,
             "#7fbc41"
            ],
            [
             0.9,
             "#4d9221"
            ],
            [
             1,
             "#276419"
            ]
           ],
           "sequential": [
            [
             0,
             "#0d0887"
            ],
            [
             0.1111111111111111,
             "#46039f"
            ],
            [
             0.2222222222222222,
             "#7201a8"
            ],
            [
             0.3333333333333333,
             "#9c179e"
            ],
            [
             0.4444444444444444,
             "#bd3786"
            ],
            [
             0.5555555555555556,
             "#d8576b"
            ],
            [
             0.6666666666666666,
             "#ed7953"
            ],
            [
             0.7777777777777778,
             "#fb9f3a"
            ],
            [
             0.8888888888888888,
             "#fdca26"
            ],
            [
             1,
             "#f0f921"
            ]
           ],
           "sequentialminus": [
            [
             0,
             "#0d0887"
            ],
            [
             0.1111111111111111,
             "#46039f"
            ],
            [
             0.2222222222222222,
             "#7201a8"
            ],
            [
             0.3333333333333333,
             "#9c179e"
            ],
            [
             0.4444444444444444,
             "#bd3786"
            ],
            [
             0.5555555555555556,
             "#d8576b"
            ],
            [
             0.6666666666666666,
             "#ed7953"
            ],
            [
             0.7777777777777778,
             "#fb9f3a"
            ],
            [
             0.8888888888888888,
             "#fdca26"
            ],
            [
             1,
             "#f0f921"
            ]
           ]
          },
          "colorway": [
           "#636efa",
           "#EF553B",
           "#00cc96",
           "#ab63fa",
           "#FFA15A",
           "#19d3f3",
           "#FF6692",
           "#B6E880",
           "#FF97FF",
           "#FECB52"
          ],
          "font": {
           "color": "#2a3f5f"
          },
          "geo": {
           "bgcolor": "white",
           "lakecolor": "white",
           "landcolor": "#E5ECF6",
           "showlakes": true,
           "showland": true,
           "subunitcolor": "white"
          },
          "hoverlabel": {
           "align": "left"
          },
          "hovermode": "closest",
          "mapbox": {
           "style": "light"
          },
          "paper_bgcolor": "white",
          "plot_bgcolor": "#E5ECF6",
          "polar": {
           "angularaxis": {
            "gridcolor": "white",
            "linecolor": "white",
            "ticks": ""
           },
           "bgcolor": "#E5ECF6",
           "radialaxis": {
            "gridcolor": "white",
            "linecolor": "white",
            "ticks": ""
           }
          },
          "scene": {
           "xaxis": {
            "backgroundcolor": "#E5ECF6",
            "gridcolor": "white",
            "gridwidth": 2,
            "linecolor": "white",
            "showbackground": true,
            "ticks": "",
            "zerolinecolor": "white"
           },
           "yaxis": {
            "backgroundcolor": "#E5ECF6",
            "gridcolor": "white",
            "gridwidth": 2,
            "linecolor": "white",
            "showbackground": true,
            "ticks": "",
            "zerolinecolor": "white"
           },
           "zaxis": {
            "backgroundcolor": "#E5ECF6",
            "gridcolor": "white",
            "gridwidth": 2,
            "linecolor": "white",
            "showbackground": true,
            "ticks": "",
            "zerolinecolor": "white"
           }
          },
          "shapedefaults": {
           "line": {
            "color": "#2a3f5f"
           }
          },
          "ternary": {
           "aaxis": {
            "gridcolor": "white",
            "linecolor": "white",
            "ticks": ""
           },
           "baxis": {
            "gridcolor": "white",
            "linecolor": "white",
            "ticks": ""
           },
           "bgcolor": "#E5ECF6",
           "caxis": {
            "gridcolor": "white",
            "linecolor": "white",
            "ticks": ""
           }
          },
          "title": {
           "x": 0.05
          },
          "xaxis": {
           "automargin": true,
           "gridcolor": "white",
           "linecolor": "white",
           "ticks": "",
           "title": {
            "standoff": 15
           },
           "zerolinecolor": "white",
           "zerolinewidth": 2
          },
          "yaxis": {
           "automargin": true,
           "gridcolor": "white",
           "linecolor": "white",
           "ticks": "",
           "title": {
            "standoff": 15
           },
           "zerolinecolor": "white",
           "zerolinewidth": 2
          }
         }
        },
        "title": {
         "text": "SapBERT Embeddings in 3D"
        }
       }
      }
     },
     "metadata": {},
     "output_type": "display_data"
    }
   ],
   "source": [
    "from hierarchy_functions import graph_reduced_in_3d\n",
    "\n",
    "graph_reduced_in_3d(embedding_matrix, embedding_names, title='SapBERT Embeddings in 3D')"
   ]
  },
  {
   "cell_type": "code",
   "execution_count": 34,
   "metadata": {},
   "outputs": [
    {
     "data": {
      "application/vnd.plotly.v1+json": {
       "config": {
        "plotlyServerURL": "https://plot.ly"
       },
       "data": [
        {
         "marker": {
          "opacity": 0.8,
          "size": 5
         },
         "mode": "markers+text",
         "text": [
          "Body temperature above reference range",
          "Arteriosclerosis",
          "Cachexia",
          "Bleeding",
          "Urinary incontinence",
          "Family history of stroke",
          "Increased body mass index",
          "Atherosclerosis",
          "Quality of life satisfaction",
          "Gets no exercise",
          "High fat diet",
          "Platelet aggregation inhibitor therapy",
          "Leuko-araiosis",
          "Inflammation of specific body structures or tissue",
          "Seizure",
          "Angioplasty of carotid artery",
          "Spasticity",
          "Troponin",
          "Kidney disease",
          "Heart disease",
          "Smoking cessation therapy",
          "Myocardial infarction due to demand ischemia",
          "Disorder of cardiac function",
          "Able to cope",
          "Primary prevention",
          "Patent foramen ovale",
          "Lipoprotein (a) hyperlipoproteinemia",
          "Pulmonary embolism",
          "COVID-19",
          "Ischemic stroke",
          "Urinary tract infectious disease",
          "Gestational diabetes mellitus complicating pregnancy",
          "Patient position finding",
          "Nutritional disorder",
          "Organ or tissue vascular perfusion decreased",
          "Glomerular filtration rate",
          "Dysphagia",
          "FH: Cardiovascular disease",
          "Congenital malformation",
          "Age factor",
          "Cardiac troponin T",
          "Glucagon-like peptide 1 receptor agonist",
          "Dissection of cerebral artery",
          "Passive smoker",
          "Finding of renal function",
          "Cognitive skills training",
          "N-terminal pro-B-type natriuretic peptide",
          "Finding of lesion",
          "Antibiotic therapy",
          "Social isolation",
          "Silent micro-hemorrhage of brain",
          "Lacunar infarction",
          "Cerebral venous sinus thrombosis",
          "Embolism",
          "Cerebral infarction",
          "Dyslipidemia",
          "C-reactive protein above reference range",
          "Catecholamine level - finding",
          "Vascular disorder",
          "Decreased alcohol consumption",
          "Postprocedural recovery status",
          "Dyssomnia",
          "Dysfunction of urinary bladder",
          "Cardiac syndrome X",
          "Percutaneous transluminal procedure on blood vessel",
          "Takotsubo cardiomyopathy",
          "Physical therapy procedure",
          "Social worker involved",
          "Able to mobilize",
          "Hypercholesterolemia",
          "Malignant neoplastic disease",
          "Transient cerebral ischemia",
          "Interleukin-6",
          "Immunosuppression",
          "Male",
          "Activities of daily living assessment",
          "Physical fitness state",
          "Atrial fibrillation",
          "Sleep apnea",
          "Impaired mobility",
          "Hypertension complicating pregnancy",
          "Vasculitis",
          "Mediterranean diet",
          "Hypercoagulability state",
          "Economic status",
          "Hypertensive disorder",
          "Stress",
          "Obesity",
          "Acute heart failure",
          "Risk of cardiovascular disease",
          "Cardiac arrhythmia",
          "Systemic inflammatory response syndrome",
          "Pneumonia",
          "Migraine",
          "Carotid endarterectomy",
          "Finding of oxygen saturation",
          "Insertion of carotid artery stent",
          "Epilepsy due to cerebrovascular accident",
          "DNA damage",
          "Deep venous thrombosis",
          "Thrombosis",
          "Aphasia",
          "Depressive disorder",
          "Heavy drinker",
          "Sequelae of neurological disorders",
          "Diabetes mellitus",
          "Procedure involving urinary catheter",
          "Genetic predisposition",
          "Pre-eclampsia",
          "Education and/or schooling finding",
          "Heart failure",
          "Thrombolysis of artery",
          "Smoker",
          "Uses oral contraception",
          "Continuous positive airway pressure ventilation treatment",
          "Assessment using Modified Rankin Scale",
          "Current drinker",
          "Female sex hormones - serum level - finding",
          "Paralysis",
          "Encephalitis",
          "Blood-brain barrier",
          "Prediabetes",
          "Admission to stroke unit",
          "Antidepressant therapy",
          "Lesion size",
          "Dissection of artery",
          "Disorder of glucose metabolism",
          "Psychotherapy",
          "Pregnancy",
          "Eclampsia",
          "Blood glucose level - finding",
          "Fracture of bone",
          "Pain",
          "Injection of botulinum toxin",
          "Migraine with aura",
          "Weight loss",
          "Surgical procedure",
          "Impaired cognition",
          "Chronic kidney disease",
          "Hyperlipidemia",
          "Antihypertensive therapy",
          "Falls",
          "Pain management",
          "Low blood pressure",
          "Myocardial infarction due to atherothrombotic coronary artery disease",
          "Removal of thrombus",
          "Complete obstruction",
          "Racial group",
          "Chronic heart failure",
          "Exercises regularly",
          "Sodium glucose cotransporter subtype 2 inhibitor",
          "Cerebral atrophy",
          "Speech therapy",
          "Lesion of brain",
          "Chemotherapy",
          "Blood glucose management",
          "Administration of prophylactic statin",
          "Stenosis",
          "Moderate drinker",
          "Insulin resistance",
          "Functionally dependent",
          "Anticoagulant therapy",
          "Assessment using National Institutes of Health stroke scale",
          "Acute infective endocarditis",
          "Low sodium diet",
          "Metabolic syndrome X",
          "Secondary prevention",
          "Care regime",
          "Thrombus of cardiac chamber",
          "Endocarditis",
          "Endarterectomy",
          "Decreased vascular flow",
          "Thiazolidinedione",
          "Disability",
          "High carbohydrate diet",
          "Aspiration",
          "Complicated atheromatous plaque",
          "Myocardial infarction",
          "Death",
          "Healthy diet",
          "Infectious disease",
          "Delirium"
         ],
         "textposition": "top center",
         "type": "scatter3d",
         "x": [
          22.6683406829834,
          15.038148880004883,
          -46.76283264160156,
          -70.750732421875,
          1.4175934791564941,
          -10.310046195983887,
          20.284770965576172,
          11.413183212280273,
          13.002389907836914,
          4.0426201820373535,
          -22.591949462890625,
          34.76152801513672,
          39.29483413696289,
          61.73037338256836,
          -45.534820556640625,
          51.94757843017578,
          -5.059378623962402,
          -22.722320556640625,
          -50.37776184082031,
          -55.99427795410156,
          31.347332000732422,
          77.34353637695312,
          9.568028450012207,
          11.353890419006348,
          -66.08434295654297,
          7.460328578948975,
          86.07046508789062,
          -9.626364707946777,
          -15.567139625549316,
          -3.9667346477508545,
          10.700575828552246,
          72.083251953125,
          7.959949970245361,
          9.380216598510742,
          54.76655197143555,
          17.823278427124023,
          4.132877826690674,
          26.81648063659668,
          9.491135597229004,
          -53.81113052368164,
          -6.892131328582764,
          74.44708251953125,
          13.050004959106445,
          8.582327842712402,
          5.417115688323975,
          4.227382183074951,
          75.32990264892578,
          0.555817723274231,
          -3.3425049781799316,
          -35.41304397583008,
          59.28058624267578,
          4.937476634979248,
          46.19016647338867,
          -33.15315628051758,
          -2.9692978858947754,
          7.306229591369629,
          38.860286712646484,
          47.491310119628906,
          -54.193389892578125,
          -14.809555053710938,
          25.883237838745117,
          5.912420749664307,
          36.80695343017578,
          -9.669318199157715,
          59.31719207763672,
          39.35468292236328,
          9.663460731506348,
          23.47748374938965,
          3.1784865856170654,
          -0.3937911093235016,
          17.519027709960938,
          2.5947511196136475,
          -1.299160361289978,
          -9.854300498962402,
          -58.89311981201172,
          30.396989822387695,
          9.304758071899414,
          -5.890921592712402,
          6.548259258270264,
          -67.42449188232422,
          51.579437255859375,
          4.942728042602539,
          10.59505558013916,
          11.399089813232422,
          -44.794883728027344,
          9.123427391052246,
          -55.77572250366211,
          -40.08881759643555,
          -25.71361541748047,
          14.292428970336914,
          -1.669273018836975,
          3.630077600479126,
          -57.45631408691406,
          -23.847259521484375,
          31.40304183959961,
          11.358105659484863,
          47.156166076660156,
          58.73225021362305,
          2.615877151489258,
          14.188507080078125,
          -19.77889633178711,
          -15.895257949829102,
          -11.623647689819336,
          -71.1314926147461,
          23.262380599975586,
          11.516437530517578,
          47.45704650878906,
          -20.087886810302734,
          -10.667404174804688,
          45.292686462402344,
          -53.39920425415039,
          27.149517059326172,
          -45.15300750732422,
          31.10629653930664,
          32.331199645996094,
          25.95574951171875,
          7.0087103843688965,
          57.776668548583984,
          -55.525535583496094,
          -0.7100784778594971,
          -20.279123306274414,
          -8.96940803527832,
          -2.5921804904937744,
          19.98796844482422,
          -5.373013019561768,
          1.18788480758667,
          0.6833071112632751,
          4.139936447143555,
          -43.88861083984375,
          -2.3830912113189697,
          15.077143669128418,
          -6.959939002990723,
          -65.11891174316406,
          36.071868896484375,
          -9.844980239868164,
          -31.987838745117188,
          -61.603458404541016,
          -5.236242294311523,
          -21.806386947631836,
          16.93661117553711,
          1.345964789390564,
          -69.55786895751953,
          -47.301692962646484,
          -22.23702621459961,
          81.16593933105469,
          -0.9278769493103027,
          -16.52565574645996,
          -36.932708740234375,
          -25.13494873046875,
          -64.0928955078125,
          66.43292999267578,
          -6.676665306091309,
          -50.880828857421875,
          -5.929279327392578,
          -8.050528526306152,
          -8.051817893981934,
          48.74040603637695,
          -24.73781967163086,
          2.001255989074707,
          -63.44236755371094,
          -9.229368209838867,
          29.213146209716797,
          56.56560134887695,
          35.62546920776367,
          -29.622501373291016,
          -8.958553314208984,
          -72.82887268066406,
          -38.93201446533203,
          18.85575294494629,
          -15.54883098602295,
          20.82615852355957,
          -14.066734313964844,
          -10.890690803527832,
          -49.48740005493164,
          35.03806686401367,
          -39.02271270751953,
          18.5291748046875,
          25.055688858032227,
          -56.40462875366211,
          -52.28615188598633,
          -67.31009674072266,
          -19.605581283569336
         ],
         "y": [
          -34.26613235473633,
          -27.02604866027832,
          13.055157661437988,
          -27.826326370239258,
          27.593286514282227,
          -43.892574310302734,
          -49.05464553833008,
          -22.717966079711914,
          -58.01819610595703,
          -7.35910701751709,
          15.466200828552246,
          8.845520973205566,
          23.725257873535156,
          14.011506080627441,
          -29.06100845336914,
          19.200485229492188,
          40.8773307800293,
          -36.382781982421875,
          4.1987080574035645,
          16.560016632080078,
          -21.30044937133789,
          34.09419631958008,
          -63.09736251831055,
          30.84161376953125,
          27.807592391967773,
          15.7230806350708,
          25.408802032470703,
          -50.53095626831055,
          -63.796417236328125,
          -61.03864288330078,
          10.276936531066895,
          31.650712966918945,
          10.613121032714844,
          20.82548713684082,
          8.339896202087402,
          41.389930725097656,
          -33.3930549621582,
          0.8746775388717651,
          14.614432334899902,
          -0.8685760498046875,
          2.4671549797058105,
          13.698134422302246,
          -7.17836332321167,
          6.214992046356201,
          -34.994930267333984,
          34.46616744995117,
          18.479907989501953,
          -72.27070617675781,
          47.3582649230957,
          18.133773803710938,
          29.423828125,
          5.008439540863037,
          28.58970832824707,
          42.32526397705078,
          -55.35826873779297,
          -32.35586929321289,
          17.811431884765625,
          26.876644134521484,
          -10.429082870483398,
          -1.5320895910263062,
          9.687030792236328,
          -18.688919067382812,
          38.298728942871094,
          27.99383544921875,
          19.7442626953125,
          33.45258712768555,
          38.4821662902832,
          32.6240234375,
          -65.14136505126953,
          36.143898010253906,
          25.823585510253906,
          -5.313863277435303,
          -10.378913879394531,
          18.76207733154297,
          -37.60734176635742,
          -19.681171417236328,
          28.516407012939453,
          -8.1293306350708,
          -47.44451141357422,
          -0.35724973678588867,
          45.770267486572266,
          -12.80673599243164,
          -0.9953311085700989,
          32.72772979736328,
          12.80341911315918,
          -46.13303756713867,
          -32.509056091308594,
          17.051557540893555,
          30.928735733032227,
          -36.13364028930664,
          5.77678108215332,
          -49.530208587646484,
          -24.178430557250977,
          44.96083068847656,
          14.249035835266113,
          -27.463823318481445,
          10.14836311340332,
          32.97610092163086,
          21.9931697845459,
          25.000503540039062,
          -54.56591796875,
          50.92745590209961,
          40.33894729614258,
          10.980356216430664,
          12.8807373046875,
          -58.86500930786133,
          38.368831634521484,
          -33.454673767089844,
          0.2608873248100281,
          0.9410135746002197,
          26.945253372192383,
          21.849363327026367,
          30.60433578491211,
          -38.40193557739258,
          32.661460876464844,
          -10.96951961517334,
          11.696724891662598,
          25.899642944335938,
          -1.2381198406219482,
          -26.10718536376953,
          -56.159542083740234,
          -28.189823150634766,
          -52.90163040161133,
          -19.23388671875,
          16.23823356628418,
          -28.615306854248047,
          -71.67494201660156,
          51.05799102783203,
          -24.291357040405273,
          -37.4277458190918,
          -22.59343719482422,
          13.656160354614258,
          -39.59996795654297,
          3.0198283195495605,
          -25.334239959716797,
          5.008814334869385,
          1.639653205871582,
          26.643173217773438,
          17.646625518798828,
          -39.82696533203125,
          20.14325714111328,
          -25.286611557006836,
          7.779208183288574,
          14.50282096862793,
          20.15308952331543,
          -44.64474105834961,
          -65.46173095703125,
          -1.2601191997528076,
          29.8113956451416,
          13.025107383728027,
          5.5182952880859375,
          -44.19830322265625,
          -10.095772743225098,
          -62.67881774902344,
          57.797691345214844,
          12.719903945922852,
          12.75124454498291,
          47.79331970214844,
          0.43666771054267883,
          14.025505065917969,
          9.11941909790039,
          -28.082504272460938,
          -0.8870344161987305,
          22.271276473999023,
          5.420003414154053,
          31.501693725585938,
          12.909028053283691,
          -10.07077693939209,
          -1.7466436624526978,
          -48.24319839477539,
          -13.990303993225098,
          -1.1251468658447266,
          19.032075881958008,
          -39.72307205200195,
          38.56964111328125,
          -2.086293935775757,
          16.51110076904297,
          31.94618797302246,
          -16.41427993774414,
          23.058658599853516,
          -12.912641525268555,
          33.61915588378906
         ],
         "z": [
          -39.25151062011719,
          3.139181613922119,
          11.466719627380371,
          8.532007217407227,
          -19.0474910736084,
          4.6960835456848145,
          15.337528228759766,
          14.821528434753418,
          -0.09970322996377945,
          50.79686737060547,
          56.93124008178711,
          -28.455747604370117,
          -22.723480224609375,
          -35.762786865234375,
          6.106554985046387,
          16.34814453125,
          11.414134979248047,
          39.440704345703125,
          -2.1918411254882812,
          -7.513603210449219,
          -23.053373336791992,
          -8.99894905090332,
          15.629796028137207,
          16.788976669311523,
          -12.394543647766113,
          -57.7464714050293,
          -0.8306792378425598,
          48.537437438964844,
          -5.349294662475586,
          37.091365814208984,
          -32.886348724365234,
          6.085693836212158,
          58.57146453857422,
          33.26435470581055,
          -25.803462982177734,
          -27.34333610534668,
          38.45222091674805,
          -45.56229782104492,
          -13.504461288452148,
          -31.934423446655273,
          -58.21511459350586,
          1.721877098083496,
          -43.51087188720703,
          41.32441711425781,
          -37.757144927978516,
          32.6519889831543,
          17.149757385253906,
          2.177588939666748,
          44.23499298095703,
          -19.2564697265625,
          -7.194953441619873,
          -44.553462982177734,
          1.0284433364868164,
          20.51573944091797,
          23.791532516479492,
          -9.471902847290039,
          -43.69877243041992,
          -34.2119255065918,
          -1.4594603776931763,
          54.92997741699219,
          -61.40262222290039,
          -10.05008602142334,
          -6.745857238769531,
          41.17503356933594,
          3.281358480453491,
          12.853290557861328,
          47.98020935058594,
          40.79103469848633,
          -14.126583099365234,
          -33.960906982421875,
          -8.164939880371094,
          -33.51427459716797,
          -50.47307205200195,
          -30.660934448242188,
          3.96911358833313,
          -47.54340744018555,
          59.575035095214844,
          -21.385753631591797,
          44.54719543457031,
          0.7243995070457458,
          0.42574137449264526,
          2.9009437561035156,
          -59.395835876464844,
          -43.93787384033203,
          -32.5529899597168,
          28.029653549194336,
          29.87929344177246,
          -2.332564115524292,
          44.94420623779297,
          -25.87427520751953,
          -24.703641891479492,
          10.239200592041016,
          14.170624732971191,
          4.337773323059082,
          6.307907581329346,
          -47.189613342285156,
          6.9325103759765625,
          12.925044059753418,
          46.81226348876953,
          -27.160730361938477,
          37.6550407409668,
          16.992069244384766,
          27.726938247680664,
          36.161460876464844,
          -17.539899826049805,
          34.66849899291992,
          -15.584246635437012,
          19.06305503845215,
          -41.225826263427734,
          -50.24738693237305,
          3.8701632022857666,
          -30.423460006713867,
          -10.298108100891113,
          -24.04037857055664,
          -44.71379089355469,
          -61.76530838012695,
          20.455528259277344,
          -22.823657989501953,
          13.672128677368164,
          3.756005048751831,
          7.2480902671813965,
          31.735008239746094,
          -3.7385189533233643,
          -14.089282989501953,
          65.59245300292969,
          -24.535154342651367,
          19.853836059570312,
          30.013004302978516,
          21.767454147338867,
          20.601106643676758,
          -33.611549377441406,
          33.59335708618164,
          18.74260139465332,
          -6.332343578338623,
          -10.890450477600098,
          -7.798061370849609,
          -14.927181243896484,
          23.777587890625,
          25.5957088470459,
          -7.045953273773193,
          -38.952884674072266,
          24.438440322875977,
          -16.58881950378418,
          41.3729133605957,
          -14.845654487609863,
          -20.55693817138672,
          25.681493759155273,
          -24.299175262451172,
          31.69161033630371,
          -26.38454246520996,
          11.614739418029785,
          33.84903335571289,
          -18.314977645874023,
          9.290431022644043,
          34.282135009765625,
          49.075172424316406,
          -10.65234661102295,
          32.88267135620117,
          29.06378173828125,
          7.124723434448242,
          15.488149642944336,
          -8.06484317779541,
          -8.5510892868042,
          -8.659866333007812,
          49.76132583618164,
          53.89434051513672,
          -8.950450897216797,
          -7.961071491241455,
          -32.687583923339844,
          23.007476806640625,
          1.513535976409912,
          39.50536346435547,
          -52.031036376953125,
          17.315526962280273,
          -32.10859298706055,
          7.436461925506592,
          -46.18793869018555,
          -18.9217529296875,
          27.85545539855957,
          -22.53115463256836,
          -12.128750801086426,
          14.242939949035645
         ]
        }
       ],
       "layout": {
        "margin": {
         "b": 0,
         "l": 0,
         "r": 0,
         "t": 40
        },
        "scene": {
         "xaxis": {
          "title": {
           "text": "t-SNE Dimension 1"
          }
         },
         "yaxis": {
          "title": {
           "text": "t-SNE Dimension 2"
          }
         },
         "zaxis": {
          "title": {
           "text": "t-SNE Dimension 3"
          }
         }
        },
        "template": {
         "data": {
          "bar": [
           {
            "error_x": {
             "color": "#2a3f5f"
            },
            "error_y": {
             "color": "#2a3f5f"
            },
            "marker": {
             "line": {
              "color": "#E5ECF6",
              "width": 0.5
             },
             "pattern": {
              "fillmode": "overlay",
              "size": 10,
              "solidity": 0.2
             }
            },
            "type": "bar"
           }
          ],
          "barpolar": [
           {
            "marker": {
             "line": {
              "color": "#E5ECF6",
              "width": 0.5
             },
             "pattern": {
              "fillmode": "overlay",
              "size": 10,
              "solidity": 0.2
             }
            },
            "type": "barpolar"
           }
          ],
          "carpet": [
           {
            "aaxis": {
             "endlinecolor": "#2a3f5f",
             "gridcolor": "white",
             "linecolor": "white",
             "minorgridcolor": "white",
             "startlinecolor": "#2a3f5f"
            },
            "baxis": {
             "endlinecolor": "#2a3f5f",
             "gridcolor": "white",
             "linecolor": "white",
             "minorgridcolor": "white",
             "startlinecolor": "#2a3f5f"
            },
            "type": "carpet"
           }
          ],
          "choropleth": [
           {
            "colorbar": {
             "outlinewidth": 0,
             "ticks": ""
            },
            "type": "choropleth"
           }
          ],
          "contour": [
           {
            "colorbar": {
             "outlinewidth": 0,
             "ticks": ""
            },
            "colorscale": [
             [
              0,
              "#0d0887"
             ],
             [
              0.1111111111111111,
              "#46039f"
             ],
             [
              0.2222222222222222,
              "#7201a8"
             ],
             [
              0.3333333333333333,
              "#9c179e"
             ],
             [
              0.4444444444444444,
              "#bd3786"
             ],
             [
              0.5555555555555556,
              "#d8576b"
             ],
             [
              0.6666666666666666,
              "#ed7953"
             ],
             [
              0.7777777777777778,
              "#fb9f3a"
             ],
             [
              0.8888888888888888,
              "#fdca26"
             ],
             [
              1,
              "#f0f921"
             ]
            ],
            "type": "contour"
           }
          ],
          "contourcarpet": [
           {
            "colorbar": {
             "outlinewidth": 0,
             "ticks": ""
            },
            "type": "contourcarpet"
           }
          ],
          "heatmap": [
           {
            "colorbar": {
             "outlinewidth": 0,
             "ticks": ""
            },
            "colorscale": [
             [
              0,
              "#0d0887"
             ],
             [
              0.1111111111111111,
              "#46039f"
             ],
             [
              0.2222222222222222,
              "#7201a8"
             ],
             [
              0.3333333333333333,
              "#9c179e"
             ],
             [
              0.4444444444444444,
              "#bd3786"
             ],
             [
              0.5555555555555556,
              "#d8576b"
             ],
             [
              0.6666666666666666,
              "#ed7953"
             ],
             [
              0.7777777777777778,
              "#fb9f3a"
             ],
             [
              0.8888888888888888,
              "#fdca26"
             ],
             [
              1,
              "#f0f921"
             ]
            ],
            "type": "heatmap"
           }
          ],
          "heatmapgl": [
           {
            "colorbar": {
             "outlinewidth": 0,
             "ticks": ""
            },
            "colorscale": [
             [
              0,
              "#0d0887"
             ],
             [
              0.1111111111111111,
              "#46039f"
             ],
             [
              0.2222222222222222,
              "#7201a8"
             ],
             [
              0.3333333333333333,
              "#9c179e"
             ],
             [
              0.4444444444444444,
              "#bd3786"
             ],
             [
              0.5555555555555556,
              "#d8576b"
             ],
             [
              0.6666666666666666,
              "#ed7953"
             ],
             [
              0.7777777777777778,
              "#fb9f3a"
             ],
             [
              0.8888888888888888,
              "#fdca26"
             ],
             [
              1,
              "#f0f921"
             ]
            ],
            "type": "heatmapgl"
           }
          ],
          "histogram": [
           {
            "marker": {
             "pattern": {
              "fillmode": "overlay",
              "size": 10,
              "solidity": 0.2
             }
            },
            "type": "histogram"
           }
          ],
          "histogram2d": [
           {
            "colorbar": {
             "outlinewidth": 0,
             "ticks": ""
            },
            "colorscale": [
             [
              0,
              "#0d0887"
             ],
             [
              0.1111111111111111,
              "#46039f"
             ],
             [
              0.2222222222222222,
              "#7201a8"
             ],
             [
              0.3333333333333333,
              "#9c179e"
             ],
             [
              0.4444444444444444,
              "#bd3786"
             ],
             [
              0.5555555555555556,
              "#d8576b"
             ],
             [
              0.6666666666666666,
              "#ed7953"
             ],
             [
              0.7777777777777778,
              "#fb9f3a"
             ],
             [
              0.8888888888888888,
              "#fdca26"
             ],
             [
              1,
              "#f0f921"
             ]
            ],
            "type": "histogram2d"
           }
          ],
          "histogram2dcontour": [
           {
            "colorbar": {
             "outlinewidth": 0,
             "ticks": ""
            },
            "colorscale": [
             [
              0,
              "#0d0887"
             ],
             [
              0.1111111111111111,
              "#46039f"
             ],
             [
              0.2222222222222222,
              "#7201a8"
             ],
             [
              0.3333333333333333,
              "#9c179e"
             ],
             [
              0.4444444444444444,
              "#bd3786"
             ],
             [
              0.5555555555555556,
              "#d8576b"
             ],
             [
              0.6666666666666666,
              "#ed7953"
             ],
             [
              0.7777777777777778,
              "#fb9f3a"
             ],
             [
              0.8888888888888888,
              "#fdca26"
             ],
             [
              1,
              "#f0f921"
             ]
            ],
            "type": "histogram2dcontour"
           }
          ],
          "mesh3d": [
           {
            "colorbar": {
             "outlinewidth": 0,
             "ticks": ""
            },
            "type": "mesh3d"
           }
          ],
          "parcoords": [
           {
            "line": {
             "colorbar": {
              "outlinewidth": 0,
              "ticks": ""
             }
            },
            "type": "parcoords"
           }
          ],
          "pie": [
           {
            "automargin": true,
            "type": "pie"
           }
          ],
          "scatter": [
           {
            "fillpattern": {
             "fillmode": "overlay",
             "size": 10,
             "solidity": 0.2
            },
            "type": "scatter"
           }
          ],
          "scatter3d": [
           {
            "line": {
             "colorbar": {
              "outlinewidth": 0,
              "ticks": ""
             }
            },
            "marker": {
             "colorbar": {
              "outlinewidth": 0,
              "ticks": ""
             }
            },
            "type": "scatter3d"
           }
          ],
          "scattercarpet": [
           {
            "marker": {
             "colorbar": {
              "outlinewidth": 0,
              "ticks": ""
             }
            },
            "type": "scattercarpet"
           }
          ],
          "scattergeo": [
           {
            "marker": {
             "colorbar": {
              "outlinewidth": 0,
              "ticks": ""
             }
            },
            "type": "scattergeo"
           }
          ],
          "scattergl": [
           {
            "marker": {
             "colorbar": {
              "outlinewidth": 0,
              "ticks": ""
             }
            },
            "type": "scattergl"
           }
          ],
          "scattermapbox": [
           {
            "marker": {
             "colorbar": {
              "outlinewidth": 0,
              "ticks": ""
             }
            },
            "type": "scattermapbox"
           }
          ],
          "scatterpolar": [
           {
            "marker": {
             "colorbar": {
              "outlinewidth": 0,
              "ticks": ""
             }
            },
            "type": "scatterpolar"
           }
          ],
          "scatterpolargl": [
           {
            "marker": {
             "colorbar": {
              "outlinewidth": 0,
              "ticks": ""
             }
            },
            "type": "scatterpolargl"
           }
          ],
          "scatterternary": [
           {
            "marker": {
             "colorbar": {
              "outlinewidth": 0,
              "ticks": ""
             }
            },
            "type": "scatterternary"
           }
          ],
          "surface": [
           {
            "colorbar": {
             "outlinewidth": 0,
             "ticks": ""
            },
            "colorscale": [
             [
              0,
              "#0d0887"
             ],
             [
              0.1111111111111111,
              "#46039f"
             ],
             [
              0.2222222222222222,
              "#7201a8"
             ],
             [
              0.3333333333333333,
              "#9c179e"
             ],
             [
              0.4444444444444444,
              "#bd3786"
             ],
             [
              0.5555555555555556,
              "#d8576b"
             ],
             [
              0.6666666666666666,
              "#ed7953"
             ],
             [
              0.7777777777777778,
              "#fb9f3a"
             ],
             [
              0.8888888888888888,
              "#fdca26"
             ],
             [
              1,
              "#f0f921"
             ]
            ],
            "type": "surface"
           }
          ],
          "table": [
           {
            "cells": {
             "fill": {
              "color": "#EBF0F8"
             },
             "line": {
              "color": "white"
             }
            },
            "header": {
             "fill": {
              "color": "#C8D4E3"
             },
             "line": {
              "color": "white"
             }
            },
            "type": "table"
           }
          ]
         },
         "layout": {
          "annotationdefaults": {
           "arrowcolor": "#2a3f5f",
           "arrowhead": 0,
           "arrowwidth": 1
          },
          "autotypenumbers": "strict",
          "coloraxis": {
           "colorbar": {
            "outlinewidth": 0,
            "ticks": ""
           }
          },
          "colorscale": {
           "diverging": [
            [
             0,
             "#8e0152"
            ],
            [
             0.1,
             "#c51b7d"
            ],
            [
             0.2,
             "#de77ae"
            ],
            [
             0.3,
             "#f1b6da"
            ],
            [
             0.4,
             "#fde0ef"
            ],
            [
             0.5,
             "#f7f7f7"
            ],
            [
             0.6,
             "#e6f5d0"
            ],
            [
             0.7,
             "#b8e186"
            ],
            [
             0.8,
             "#7fbc41"
            ],
            [
             0.9,
             "#4d9221"
            ],
            [
             1,
             "#276419"
            ]
           ],
           "sequential": [
            [
             0,
             "#0d0887"
            ],
            [
             0.1111111111111111,
             "#46039f"
            ],
            [
             0.2222222222222222,
             "#7201a8"
            ],
            [
             0.3333333333333333,
             "#9c179e"
            ],
            [
             0.4444444444444444,
             "#bd3786"
            ],
            [
             0.5555555555555556,
             "#d8576b"
            ],
            [
             0.6666666666666666,
             "#ed7953"
            ],
            [
             0.7777777777777778,
             "#fb9f3a"
            ],
            [
             0.8888888888888888,
             "#fdca26"
            ],
            [
             1,
             "#f0f921"
            ]
           ],
           "sequentialminus": [
            [
             0,
             "#0d0887"
            ],
            [
             0.1111111111111111,
             "#46039f"
            ],
            [
             0.2222222222222222,
             "#7201a8"
            ],
            [
             0.3333333333333333,
             "#9c179e"
            ],
            [
             0.4444444444444444,
             "#bd3786"
            ],
            [
             0.5555555555555556,
             "#d8576b"
            ],
            [
             0.6666666666666666,
             "#ed7953"
            ],
            [
             0.7777777777777778,
             "#fb9f3a"
            ],
            [
             0.8888888888888888,
             "#fdca26"
            ],
            [
             1,
             "#f0f921"
            ]
           ]
          },
          "colorway": [
           "#636efa",
           "#EF553B",
           "#00cc96",
           "#ab63fa",
           "#FFA15A",
           "#19d3f3",
           "#FF6692",
           "#B6E880",
           "#FF97FF",
           "#FECB52"
          ],
          "font": {
           "color": "#2a3f5f"
          },
          "geo": {
           "bgcolor": "white",
           "lakecolor": "white",
           "landcolor": "#E5ECF6",
           "showlakes": true,
           "showland": true,
           "subunitcolor": "white"
          },
          "hoverlabel": {
           "align": "left"
          },
          "hovermode": "closest",
          "mapbox": {
           "style": "light"
          },
          "paper_bgcolor": "white",
          "plot_bgcolor": "#E5ECF6",
          "polar": {
           "angularaxis": {
            "gridcolor": "white",
            "linecolor": "white",
            "ticks": ""
           },
           "bgcolor": "#E5ECF6",
           "radialaxis": {
            "gridcolor": "white",
            "linecolor": "white",
            "ticks": ""
           }
          },
          "scene": {
           "xaxis": {
            "backgroundcolor": "#E5ECF6",
            "gridcolor": "white",
            "gridwidth": 2,
            "linecolor": "white",
            "showbackground": true,
            "ticks": "",
            "zerolinecolor": "white"
           },
           "yaxis": {
            "backgroundcolor": "#E5ECF6",
            "gridcolor": "white",
            "gridwidth": 2,
            "linecolor": "white",
            "showbackground": true,
            "ticks": "",
            "zerolinecolor": "white"
           },
           "zaxis": {
            "backgroundcolor": "#E5ECF6",
            "gridcolor": "white",
            "gridwidth": 2,
            "linecolor": "white",
            "showbackground": true,
            "ticks": "",
            "zerolinecolor": "white"
           }
          },
          "shapedefaults": {
           "line": {
            "color": "#2a3f5f"
           }
          },
          "ternary": {
           "aaxis": {
            "gridcolor": "white",
            "linecolor": "white",
            "ticks": ""
           },
           "baxis": {
            "gridcolor": "white",
            "linecolor": "white",
            "ticks": ""
           },
           "bgcolor": "#E5ECF6",
           "caxis": {
            "gridcolor": "white",
            "linecolor": "white",
            "ticks": ""
           }
          },
          "title": {
           "x": 0.05
          },
          "xaxis": {
           "automargin": true,
           "gridcolor": "white",
           "linecolor": "white",
           "ticks": "",
           "title": {
            "standoff": 15
           },
           "zerolinecolor": "white",
           "zerolinewidth": 2
          },
          "yaxis": {
           "automargin": true,
           "gridcolor": "white",
           "linecolor": "white",
           "ticks": "",
           "title": {
            "standoff": 15
           },
           "zerolinecolor": "white",
           "zerolinewidth": 2
          }
         }
        },
        "title": {
         "text": "SNOMEDCT_BioBERT Embeddings in 3D"
        }
       }
      }
     },
     "metadata": {},
     "output_type": "display_data"
    }
   ],
   "source": [
    "graph_reduced_in_3d(embedding_matrix_2, embedding_names_2, title='SNOMEDCT_BioBERT Embeddings in 3D')"
   ]
  },
  {
   "cell_type": "markdown",
   "metadata": {},
   "source": [
    "### **Approach 3:**"
   ]
  },
  {
   "cell_type": "markdown",
   "metadata": {},
   "source": [
    "Use SNOMED CT Hierarchy, then use embeddings to map terms that dont link to main tree to closest term within that tree."
   ]
  },
  {
   "cell_type": "markdown",
   "metadata": {},
   "source": [
    "1. Select SNOMED CT subset that carries more semantic meaning (e.g. clinical finding)\n",
    "2. Cluster concepts within this subset\n",
    "    a) Group descendants with their ancestors\n",
    "    b) Cluster root ancestors\n",
    "3. Get embeddings for all SNOMED CT terms in clinical finding tree\n",
    "4. Compute similarity of remaining terms with these, pick closest and add to cluster"
   ]
  },
  {
   "cell_type": "code",
   "execution_count": 55,
   "metadata": {},
   "outputs": [],
   "source": [
    "import networkx as nx\n",
    "from hierarchy_functions import find_lca_and_distance, compute_lcas_and_distances\n",
    "from collections import defaultdict"
   ]
  },
  {
   "cell_type": "code",
   "execution_count": 56,
   "metadata": {},
   "outputs": [],
   "source": [
    "my_terms_filtered = set(concept_df[concept_df.concept_id.isin(my_terms)&concept_df.concept_class_id.isin(['Clinical Finding','Disorder'])].concept_id)"
   ]
  },
  {
   "cell_type": "code",
   "execution_count": 57,
   "metadata": {},
   "outputs": [
    {
     "name": "stdout",
     "output_type": "stream",
     "text": [
      "Number of nodes in graph of relevant SNOMED CT terms: 493\n",
      "Number of edges in graph of relevant SNOMED CT terms: 826\n",
      "All terms are present in the graph.\n"
     ]
    }
   ],
   "source": [
    "G_clinical = create_SNOMED_CT_graph_based_on_terms(my_terms_filtered, concept_df, concept_relationship_df, selected_relationship_ids)"
   ]
  },
  {
   "cell_type": "code",
   "execution_count": 58,
   "metadata": {},
   "outputs": [],
   "source": [
    "def build_hierarchy(my_terms_filtered, G_clinical, compute_lcas_and_distances, find_lca_and_distance):\n",
    "    \"\"\"\n",
    "    Build a hierarchy from terms using a graph, precomputing LCAs and distances.\n",
    "\n",
    "    Parameters:\n",
    "    - my_terms_filtered (set): A set of terms to process.\n",
    "    - G_clinical (networkx.Graph): The graph representing the relationships.\n",
    "    - compute_lcas_and_distances (function): A function that computes LCAs and distances for initial terms.\n",
    "    - find_lca_and_distance (function): A function to compute the LCA and distance for a pair of terms.\n",
    "\n",
    "    Returns:\n",
    "    - hierarchy (defaultdict): The hierarchy built from the terms.\n",
    "    \"\"\"\n",
    "    # Precompute LCAs and distances\n",
    "    lca_distances = compute_lcas_and_distances(my_terms_filtered, G_clinical)\n",
    "\n",
    "    remaining_terms = my_terms_filtered.copy()\n",
    "    hierarchy = defaultdict(list)\n",
    "    processed_pairs = set()  # Track processed pairs to avoid infinite loops\n",
    "\n",
    "    def has_descendants(term, remaining_terms, graph):\n",
    "        \"\"\"Check if a term has descendants in the remaining terms.\"\"\"\n",
    "        descendants = nx.descendants(graph, term)\n",
    "        return bool(descendants & set(remaining_terms))\n",
    "\n",
    "    while len(remaining_terms) > 1:\n",
    "        shortest_distance = float(\"inf\")\n",
    "        best_pair = None\n",
    "        best_lca = None\n",
    "\n",
    "        # Find the best pair of terms based on distance\n",
    "        for node1 in remaining_terms:\n",
    "            for node2 in remaining_terms:\n",
    "                if node1 == node2:\n",
    "                    continue\n",
    "                key = frozenset({node1, node2})\n",
    "                if key in processed_pairs:\n",
    "                    continue\n",
    "                if key not in lca_distances[1]:\n",
    "                    lca, distance = find_lca_and_distance(G_clinical, node1, node2)\n",
    "                    lca_distances[0][key] = lca\n",
    "                    lca_distances[1][key] = distance\n",
    "                dist = lca_distances[1][key]\n",
    "\n",
    "                # Update the best pair if this distance is shorter\n",
    "                if dist < shortest_distance:\n",
    "                    shortest_distance = dist\n",
    "                    best_pair = (node1, node2)\n",
    "                    best_lca = lca_distances[0][key]\n",
    "\n",
    "        if best_pair is None:\n",
    "            break\n",
    "        \n",
    "        hierarchy[best_lca].append(best_pair)\n",
    "        processed_pairs.add(frozenset(best_pair))\n",
    "\n",
    "        # Replace grouped nodes with their LCA if they no longer have descendants\n",
    "        for node in best_pair:\n",
    "            if not has_descendants(node, remaining_terms, G_clinical):\n",
    "                remaining_terms.remove(node)\n",
    "        remaining_terms.add(best_lca)\n",
    "\n",
    "    return hierarchy"
   ]
  },
  {
   "cell_type": "code",
   "execution_count": 59,
   "metadata": {},
   "outputs": [],
   "source": [
    "hierarchy = build_hierarchy(my_terms_filtered, G_clinical, compute_lcas_and_distances, find_lca_and_distance)"
   ]
  },
  {
   "cell_type": "code",
   "execution_count": 60,
   "metadata": {},
   "outputs": [],
   "source": [
    "def hierarchy_to_graph(hierarchy, original_terms):\n",
    "    \"\"\"\n",
    "    Convert a hierarchy dictionary to a directed graph, removing duplicates and self-references.\n",
    "    Adds a 'type' attribute to distinguish between original and LCA nodes.\n",
    "    \"\"\"\n",
    "    graph = nx.DiGraph()\n",
    "\n",
    "    # Iterate over the hierarchy\n",
    "    for lca, pairs in hierarchy.items():\n",
    "        # Add the LCA node and mark it as an 'lca'\n",
    "        if lca not in graph:\n",
    "            graph.add_node(lca, type=\"lca\")\n",
    "\n",
    "        for pair in pairs:\n",
    "            for node in pair:\n",
    "                # Add the original terms or nodes if not already added\n",
    "                if node not in graph:\n",
    "                    node_type = \"original\" if node in original_terms else \"lca\"\n",
    "                    graph.add_node(node, type=node_type)\n",
    "\n",
    "                # Add edges, avoiding self-references\n",
    "                if lca != node:\n",
    "                    if not graph.has_edge(lca, node):\n",
    "                        graph.add_edge(lca, node)\n",
    "\n",
    "    return graph"
   ]
  },
  {
   "cell_type": "code",
   "execution_count": 61,
   "metadata": {},
   "outputs": [],
   "source": [
    "graph = hierarchy_to_graph(hierarchy, my_terms_filtered)"
   ]
  },
  {
   "cell_type": "code",
   "execution_count": 62,
   "metadata": {},
   "outputs": [],
   "source": [
    "def prune_redundant_edges(graph):\n",
    "    \"\"\"Remove redundant edges that create shortcuts in the hierarchy.\"\"\"\n",
    "    edges_to_remove = set()\n",
    "\n",
    "    for node in graph.nodes:\n",
    "        descendants = nx.descendants(graph, node)\n",
    "        for descendant in descendants:\n",
    "            for intermediate in graph.successors(node):\n",
    "                if intermediate in descendants and graph.has_edge(intermediate, descendant):\n",
    "                    edges_to_remove.add((node, descendant))\n",
    "\n",
    "    graph.remove_edges_from(edges_to_remove)\n",
    "    return graph\n",
    "\n",
    "pruned_graph = prune_redundant_edges(graph)"
   ]
  },
  {
   "cell_type": "code",
   "execution_count": 69,
   "metadata": {},
   "outputs": [],
   "source": [
    "def replace_nodes_with_names(graph, mapping):\n",
    "    \"\"\"Replace node codes with names based on a mapping dictionary while preserving attributes.\"\"\"\n",
    "\n",
    "    new_graph = nx.DiGraph()\n",
    "\n",
    "    # Add nodes with attributes, replacing codes with names\n",
    "    for node, attrs in graph.nodes(data=True):\n",
    "        new_node = mapping.get(node, node)  # Replace code with name if mapping exists\n",
    "        new_graph.add_node(new_node, **attrs)  # Preserve attributes\n",
    "\n",
    "    # Add edges, replacing codes with names\n",
    "    for u, v, attrs in graph.edges(data=True):\n",
    "        new_u = mapping.get(u, u)\n",
    "        new_v = mapping.get(v, v)\n",
    "        new_graph.add_edge(new_u, new_v, **attrs)  # Preserve edge attributes\n",
    "\n",
    "    return new_graph\n",
    "\n",
    "graph_with_names = replace_nodes_with_names(pruned_graph, code_to_name)"
   ]
  },
  {
   "cell_type": "markdown",
   "metadata": {},
   "source": [
    "### For other terms, first also try this alogrithm"
   ]
  },
  {
   "cell_type": "code",
   "execution_count": 72,
   "metadata": {},
   "outputs": [],
   "source": [
    "missing_terms = set(concept_df[concept_df.concept_id.isin(my_terms)&~concept_df.concept_class_id.isin(['Clinical Finding','Disorder'])].concept_id)"
   ]
  },
  {
   "cell_type": "code",
   "execution_count": 73,
   "metadata": {},
   "outputs": [
    {
     "data": {
      "text/plain": [
       "concept_class_id\n",
       "Procedure            34\n",
       "Substance             7\n",
       "Observable Entity     7\n",
       "Morph Abnormality     5\n",
       "Context-dependent     2\n",
       "Social Context        2\n",
       "Event                 1\n",
       "Name: count, dtype: int64"
      ]
     },
     "execution_count": 73,
     "metadata": {},
     "output_type": "execute_result"
    }
   ],
   "source": [
    "concept_df[concept_df.concept_id.isin(my_terms)&~concept_df.concept_class_id.isin(['Clinical Finding','Disorder'])].concept_class_id.value_counts()"
   ]
  },
  {
   "cell_type": "code",
   "execution_count": 74,
   "metadata": {},
   "outputs": [],
   "source": [
    "remaining_concept_classes = list(concept_df[concept_df.concept_id.isin(my_terms)&~concept_df.concept_class_id.isin(['Clinical Finding','Disorder'])].concept_class_id.unique())"
   ]
  },
  {
   "cell_type": "code",
   "execution_count": 75,
   "metadata": {},
   "outputs": [
    {
     "name": "stdout",
     "output_type": "stream",
     "text": [
      "144\n",
      "Number of nodes in graph of relevant SNOMED CT terms: 59\n",
      "Number of edges in graph of relevant SNOMED CT terms: 85\n",
      "All terms are present in the graph.\n",
      "155\n",
      "Number of nodes in graph of relevant SNOMED CT terms: 131\n",
      "Number of edges in graph of relevant SNOMED CT terms: 212\n",
      "All terms are present in the graph.\n",
      "201\n",
      "Number of nodes in graph of relevant SNOMED CT terms: 27\n",
      "Number of edges in graph of relevant SNOMED CT terms: 28\n",
      "All terms are present in the graph.\n",
      "209\n",
      "Number of nodes in graph of relevant SNOMED CT terms: 12\n",
      "Number of edges in graph of relevant SNOMED CT terms: 14\n",
      "All terms are present in the graph.\n",
      "211\n",
      "Number of nodes in graph of relevant SNOMED CT terms: 19\n",
      "Number of edges in graph of relevant SNOMED CT terms: 21\n",
      "All terms are present in the graph.\n",
      "219\n",
      "Number of nodes in graph of relevant SNOMED CT terms: 6\n",
      "Number of edges in graph of relevant SNOMED CT terms: 5\n",
      "All terms are present in the graph.\n",
      "222\n",
      "Number of nodes in graph of relevant SNOMED CT terms: 3\n",
      "Number of edges in graph of relevant SNOMED CT terms: 2\n",
      "All terms are present in the graph.\n",
      "222\n"
     ]
    }
   ],
   "source": [
    "full_graph = graph_with_names.copy()\n",
    "print(full_graph.number_of_nodes())\n",
    "\n",
    "for concept_class in remaining_concept_classes:\n",
    "    filtered_terms = set(concept_df[concept_df.concept_id.isin(my_terms)&(concept_df.concept_class_id==concept_class)].concept_id)\n",
    "    G_x = create_SNOMED_CT_graph_based_on_terms(filtered_terms, concept_df, concept_relationship_df, selected_relationship_ids)\n",
    "    \n",
    "    hierarchy_x = build_hierarchy(filtered_terms, G_x, compute_lcas_and_distances, find_lca_and_distance)\n",
    "    graph_x = hierarchy_to_graph(hierarchy_x, filtered_terms)\n",
    "    pruned_graph_x = prune_redundant_edges(graph_x)\n",
    "    graph_with_names_x = replace_nodes_with_names(pruned_graph_x, code_to_name)\n",
    "\n",
    "    full_graph = nx.compose(full_graph, graph_with_names_x)\n",
    "    print(full_graph.number_of_nodes())\n"
   ]
  },
  {
   "cell_type": "code",
   "execution_count": 77,
   "metadata": {},
   "outputs": [],
   "source": [
    "nx.write_gexf(full_graph, 'snomed_alternative_grouping.gexf')"
   ]
  }
 ],
 "metadata": {
  "kernelspec": {
   "display_name": "wise-dag-ml",
   "language": "python",
   "name": "python3"
  },
  "language_info": {
   "codemirror_mode": {
    "name": "ipython",
    "version": 3
   },
   "file_extension": ".py",
   "mimetype": "text/x-python",
   "name": "python",
   "nbconvert_exporter": "python",
   "pygments_lexer": "ipython3",
   "version": "3.10.15"
  }
 },
 "nbformat": 4,
 "nbformat_minor": 2
}
