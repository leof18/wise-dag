{
 "cells": [
  {
   "cell_type": "code",
   "execution_count": 1,
   "metadata": {},
   "outputs": [],
   "source": [
    "%load_ext autoreload\n",
    "%autoreload 2\n",
    "import pandas as pd\n",
    "import matplotlib.pyplot as plt"
   ]
  },
  {
   "cell_type": "markdown",
   "metadata": {},
   "source": [
    "# Building DAG Hierarchy\n",
    "\n",
    "**Goal: Group terms and find common name to create a hierarchy of DAG nodes from broad down to specific.**"
   ]
  },
  {
   "cell_type": "markdown",
   "metadata": {},
   "source": [
    "Import Data\n",
    "1. `dag_df` - Standardized DAG dataframe from workshop\n",
    "2. `concept_df` - Athena concept dataframe containing all the athena ids, concept codes, and concept names\n",
    "3. `concept_relationship_df` - Athena dataframe containing the relationships between all the concepts\n",
    "4. `concept_ancestor_df` - Athena dataframe containing information on the ancestors of terms (unfortunately seems incomplete)"
   ]
  },
  {
   "cell_type": "code",
   "execution_count": 2,
   "metadata": {},
   "outputs": [],
   "source": [
    "dag_df = pd.read_csv('../data/DAGs_standardized.csv', dtype={'Exposure': str, 'Outcome':str})\n",
    "concept_df = pd.read_csv('../Standardization/athena_vocabulary/CONCEPT.csv', sep='\\t', dtype={'concept_code': str, 'concept_id': str}, low_memory=False)\n",
    "concept_relationship_df = pd.read_csv('../Standardization/athena_vocabulary/CONCEPT_RELATIONSHIP.csv', sep='\\t', dtype={'concept_id_1':str, 'concept_id_2': str}, low_memory=False)\n",
    "concept_ancestor_df = pd.read_csv('../Standardization/athena_vocabulary/CONCEPT_ANCESTOR.csv', sep='\\t',dtype={'ancestor_concept_id': str, 'descendant_concept_id': str}, low_memory=False)"
   ]
  },
  {
   "cell_type": "markdown",
   "metadata": {},
   "source": [
    "Get set of terms"
   ]
  },
  {
   "cell_type": "code",
   "execution_count": 3,
   "metadata": {},
   "outputs": [
    {
     "name": "stderr",
     "output_type": "stream",
     "text": [
      "c:\\Users\\Leo\\miniconda3\\envs\\wise-dag-ml\\lib\\site-packages\\tqdm\\auto.py:21: TqdmWarning: IProgress not found. Please update jupyter and ipywidgets. See https://ipywidgets.readthedocs.io/en/stable/user_install.html\n",
      "  from .autonotebook import tqdm as notebook_tqdm\n"
     ]
    }
   ],
   "source": [
    "from hierarchy_functions import get_unique_coded_terms\n",
    "\n",
    "my_terms = get_unique_coded_terms(dag_df)"
   ]
  },
  {
   "cell_type": "markdown",
   "metadata": {},
   "source": [
    "Dictionary to convert codes to names"
   ]
  },
  {
   "cell_type": "code",
   "execution_count": 4,
   "metadata": {},
   "outputs": [],
   "source": [
    "code_to_name = dict(zip(concept_df[\"concept_id\"], concept_df[\"concept_name\"]))\n",
    "name_to_code = dict(zip(concept_df[\"concept_name\"], concept_df[\"concept_id\"]))\n",
    "my_terms_written = [code_to_name[code] for code in my_terms]"
   ]
  },
  {
   "cell_type": "markdown",
   "metadata": {},
   "source": [
    "### **Approach 1:** Using the parent and child relationships part of the OHDSI CDM / SNOMED CT ontology"
   ]
  },
  {
   "cell_type": "markdown",
   "metadata": {},
   "source": [
    "First, let's explore what happens if we condense all child terms by associating them directly with their respective parent (root) terms within the terms that were part of the DAGs."
   ]
  },
  {
   "cell_type": "code",
   "execution_count": 5,
   "metadata": {},
   "outputs": [
    {
     "data": {
      "text/plain": [
       "{'root_term_count': '129 out of 182 terms are root nodes',\n",
       " 'average_children_per_root': 0.09,\n",
       " 'example_root_with_children': {'root': '4103842', 'children': ['4306703']}}"
      ]
     },
     "execution_count": 5,
     "metadata": {},
     "output_type": "execute_result"
    }
   ],
   "source": [
    "from hierarchy_functions import analyze_snomed_hierarchy\n",
    "\n",
    "analysis_result = analyze_snomed_hierarchy(concept_ancestor_df, my_terms)\n",
    "analysis_result"
   ]
  },
  {
   "cell_type": "code",
   "execution_count": 6,
   "metadata": {},
   "outputs": [
    {
     "name": "stdout",
     "output_type": "stream",
     "text": [
      "Root term: Arteriosclerosis\n",
      "Children: ['Atherosclerosis']\n"
     ]
    }
   ],
   "source": [
    "# Example\n",
    "print('Root term:', code_to_name[analysis_result['example_root_with_children']['root']])\n",
    "print('Children:', [code_to_name[i] for i in analysis_result['example_root_with_children']['children']])"
   ]
  },
  {
   "cell_type": "markdown",
   "metadata": {},
   "source": [
    "It seems that even after doing so there are still a lot of different unique terms and we have to further group these into more broad categories to not overwhelm researchers. For this we will consider calcualting the distances from all the nodes to each other through a common ancestor node. This is important as nodes can have different parent terms and might otherwise link horizontally in a zig zag pattern instead of through a common ancestor higher up in the hierarchy.\n",
    "\n",
    "There are a variety of relationship types available in the OHDSI Athena database. For now, we are using the \"Subsumes\" relationships that are the relationships that connect a parent term to a child term in the SNOMED CT hierarchy. However, more potentially useful relationship types are available like can be seen below."
   ]
  },
  {
   "cell_type": "code",
   "execution_count": 7,
   "metadata": {},
   "outputs": [],
   "source": [
    "useful_relationship_ids = [\n",
    "    \"Is a\",                     # Hierarchical relationship of SNOMED\n",
    "    \"Subsumes\",\n",
    "    \"Finding site of\",          # Links findings to anatomical sites\n",
    "    \"Interprets of\",            # Links specific measurements to conditions\n",
    "    \"Causative agent of\",       # Etiological link\n",
    "    \"Has due to\",               # Etiology relationships\n",
    "    \"Due to of\",\n",
    "    \"Asso finding of\",\n",
    "    \"Pathology of\",             # Links to pathological processes\n",
    "    \"Has dir morph\",            # Direct morphology\n",
    "    \"Has asso morph\",           # Associated morphology\n",
    "    \"Occurs before\",            # Temporal relationship\n",
    "    \"Follows\",                  # Temporal relationship\n",
    "    \"Has manifestation\",        # Links findings to manifestations\n",
    "    \"Has complication\"          # Links to complications\n",
    "]\n",
    "\n",
    "selected_relationship_ids = [\"Subsumes\"]"
   ]
  },
  {
   "cell_type": "markdown",
   "metadata": {},
   "source": [
    "Creating a graph structure of the terms based on SNOMED CT hierachy."
   ]
  },
  {
   "cell_type": "code",
   "execution_count": 8,
   "metadata": {},
   "outputs": [
    {
     "name": "stdout",
     "output_type": "stream",
     "text": [
      "Number of nodes in graph of relevant SNOMED CT terms: 743\n",
      "Number of edges in graph of relevant SNOMED CT terms: 1193\n",
      "All terms are present in the graph.\n"
     ]
    }
   ],
   "source": [
    "from hierarchy_functions import create_SNOMED_CT_graph_based_on_terms\n",
    "\n",
    "G = create_SNOMED_CT_graph_based_on_terms(my_terms, concept_df, concept_relationship_df, selected_relationship_ids)"
   ]
  },
  {
   "cell_type": "markdown",
   "metadata": {},
   "source": [
    "Computing the least common ancestor between any two nodes part of my_terms and then the distance between the two terms going through that LCA."
   ]
  },
  {
   "cell_type": "code",
   "execution_count": 9,
   "metadata": {},
   "outputs": [],
   "source": [
    "from hierarchy_functions import compute_lcas_and_distances\n",
    "\n",
    "lca_results = compute_lcas_and_distances(my_terms, G)"
   ]
  },
  {
   "cell_type": "markdown",
   "metadata": {},
   "source": [
    "What are the most common \"least common ancestors\" between terms?"
   ]
  },
  {
   "cell_type": "code",
   "execution_count": 10,
   "metadata": {},
   "outputs": [
    {
     "data": {
      "text/html": [
       "<div>\n",
       "<style scoped>\n",
       "    .dataframe tbody tr th:only-of-type {\n",
       "        vertical-align: middle;\n",
       "    }\n",
       "\n",
       "    .dataframe tbody tr th {\n",
       "        vertical-align: top;\n",
       "    }\n",
       "\n",
       "    .dataframe thead th {\n",
       "        text-align: right;\n",
       "    }\n",
       "</style>\n",
       "<table border=\"1\" class=\"dataframe\">\n",
       "  <thead>\n",
       "    <tr style=\"text-align: right;\">\n",
       "      <th></th>\n",
       "      <th>athena_code</th>\n",
       "      <th>count</th>\n",
       "      <th>concept_name</th>\n",
       "    </tr>\n",
       "  </thead>\n",
       "  <tbody>\n",
       "    <tr>\n",
       "      <th>0</th>\n",
       "      <td>4008453</td>\n",
       "      <td>8230</td>\n",
       "      <td>SNOMED CT Concept</td>\n",
       "    </tr>\n",
       "    <tr>\n",
       "      <th>11</th>\n",
       "      <td>441840</td>\n",
       "      <td>4722</td>\n",
       "      <td>Clinical finding</td>\n",
       "    </tr>\n",
       "    <tr>\n",
       "      <th>12</th>\n",
       "      <td>4274025</td>\n",
       "      <td>1322</td>\n",
       "      <td>Disease</td>\n",
       "    </tr>\n",
       "    <tr>\n",
       "      <th>6</th>\n",
       "      <td>4322976</td>\n",
       "      <td>307</td>\n",
       "      <td>Procedure</td>\n",
       "    </tr>\n",
       "    <tr>\n",
       "      <th>20</th>\n",
       "      <td>134057</td>\n",
       "      <td>303</td>\n",
       "      <td>Disorder of cardiovascular system</td>\n",
       "    </tr>\n",
       "    <tr>\n",
       "      <th>14</th>\n",
       "      <td>4094294</td>\n",
       "      <td>185</td>\n",
       "      <td>Clinical history and observation findings</td>\n",
       "    </tr>\n",
       "    <tr>\n",
       "      <th>30</th>\n",
       "      <td>4180628</td>\n",
       "      <td>167</td>\n",
       "      <td>Disorder of body system</td>\n",
       "    </tr>\n",
       "    <tr>\n",
       "      <th>7</th>\n",
       "      <td>4029205</td>\n",
       "      <td>130</td>\n",
       "      <td>Procedure by method</td>\n",
       "    </tr>\n",
       "    <tr>\n",
       "      <th>109</th>\n",
       "      <td>4041284</td>\n",
       "      <td>97</td>\n",
       "      <td>Functional finding</td>\n",
       "    </tr>\n",
       "    <tr>\n",
       "      <th>45</th>\n",
       "      <td>321588</td>\n",
       "      <td>81</td>\n",
       "      <td>Heart disease</td>\n",
       "    </tr>\n",
       "  </tbody>\n",
       "</table>\n",
       "</div>"
      ],
      "text/plain": [
       "    athena_code  count                               concept_name\n",
       "0       4008453   8230                          SNOMED CT Concept\n",
       "11       441840   4722                           Clinical finding\n",
       "12      4274025   1322                                    Disease\n",
       "6       4322976    307                                  Procedure\n",
       "20       134057    303          Disorder of cardiovascular system\n",
       "14      4094294    185  Clinical history and observation findings\n",
       "30      4180628    167                    Disorder of body system\n",
       "7       4029205    130                        Procedure by method\n",
       "109     4041284     97                         Functional finding\n",
       "45       321588     81                              Heart disease"
      ]
     },
     "execution_count": 10,
     "metadata": {},
     "output_type": "execute_result"
    }
   ],
   "source": [
    "from collections import Counter\n",
    "\n",
    "lca_counts = Counter(lca_results[0].values())\n",
    "lca_counts_df = pd.DataFrame.from_dict(lca_counts, orient='index').reset_index()\n",
    "lca_counts_df.columns = ['athena_code', 'count']\n",
    "lca_counts_df = lca_counts_df.sort_values('count', ascending=False)\n",
    "lca_counts_df['concept_name'] = [code_to_name[i] for i in lca_counts_df['athena_code']]\n",
    "lca_counts_df.head(10)"
   ]
  },
  {
   "cell_type": "markdown",
   "metadata": {},
   "source": [
    "Creating a distance matrix for the terms."
   ]
  },
  {
   "cell_type": "code",
   "execution_count": 11,
   "metadata": {},
   "outputs": [
    {
     "data": {
      "image/png": "[encoded data removed]",
      "text/plain": [
       "<Figure size 640x480 with 1 Axes>"
      ]
     },
     "metadata": {},
     "output_type": "display_data"
    }
   ],
   "source": [
    "terms = sorted(my_terms)\n",
    "distance_matrix = pd.DataFrame(index=terms, columns=terms, data=float('inf'))\n",
    "\n",
    "for (term1, term2), distance in lca_results[1].items():\n",
    "    distance_matrix.at[term1, term2] = distance\n",
    "    distance_matrix.at[term2, term1] = distance\n",
    "for term in my_terms:\n",
    "    distance_matrix.at[term, term] = 0\n",
    "\n",
    "distance_matrix.to_csv('snomed_distance_matrix.csv')\n",
    "pd.Series(lca_results[1].values()).hist()\n",
    "plt.title('Distribution of distances between terms through least common ancestor')\n",
    "plt.xlabel('Distance (number of nodes)');"
   ]
  },
  {
   "cell_type": "code",
   "execution_count": 12,
   "metadata": {},
   "outputs": [
    {
     "data": {
      "application/vnd.plotly.v1+json": {
       "config": {
        "plotlyServerURL": "https://plot.ly"
       },
       "data": [
        {
         "marker": {
          "opacity": 0.8,
          "size": 5
         },
         "mode": "markers+text",
         "text": [
          "Cachexia",
          "Urinary incontinence",
          "Kidney disease",
          "Diabetes mellitus",
          "Pneumonia",
          "Dysphagia",
          "Atrial fibrillation",
          "Sleep apnea",
          "Heart failure",
          "Hypertensive disorder",
          "Low blood pressure",
          "Migraine",
          "Heart disease",
          "Insulin resistance",
          "Assessment using Modified Rankin Scale",
          "Platelet aggregation inhibitor therapy",
          "Functionally dependent",
          "Dissection of cerebral artery",
          "Prediabetes",
          "Gestational diabetes mellitus complicating pregnancy",
          "C-reactive protein above reference range",
          "Silent micro-hemorrhage of brain",
          "Epilepsy due to cerebrovascular accident",
          "Mediterranean diet",
          "Percutaneous transluminal procedure on blood vessel",
          "Lipoprotein (a) hyperlipoproteinemia",
          "Myocardial infarction due to demand ischemia",
          "COVID-19",
          "Risk of cardiovascular disease",
          "Transient cerebral ischemia",
          "Delirium",
          "Seizure",
          "Encephalitis",
          "Migraine with aura",
          "Troponin",
          "Cardiac troponin T",
          "Care regime",
          "Able to cope",
          "Healthy diet",
          "High fat diet",
          "Disorder of cardiac function",
          "High carbohydrate diet",
          "Hypercholesterolemia",
          "Aspiration",
          "Gets no exercise",
          "Exercises regularly",
          "Lacunar infarction",
          "Takotsubo cardiomyopathy",
          "Finding of oxygen saturation",
          "Insertion of carotid artery stent",
          "Thrombolysis of artery",
          "Disability",
          "Anticoagulant therapy",
          "Falls",
          "Social worker involved",
          "Blood-brain barrier",
          "Patent foramen ovale",
          "Decreased vascular flow",
          "Current drinker",
          "Congenital malformation",
          "Pain management",
          "Lesion size",
          "Antibiotic therapy",
          "Nutritional disorder",
          "Cerebral venous sinus thrombosis",
          "Arteriosclerosis",
          "Finding of lesion",
          "Cognitive skills training",
          "Cardiac syndrome X",
          "Activities of daily living assessment",
          "Disorder of glucose metabolism",
          "Deep venous thrombosis",
          "Vasculitis",
          "Admission to stroke unit",
          "Antihypertensive therapy",
          "FH: Cardiovascular disease",
          "Interleukin-6",
          "Cerebral atrophy",
          "Patient position finding",
          "Dyslipidemia",
          "Thiazolidinedione",
          "Continuous positive airway pressure ventilation treatment",
          "Glucagon-like peptide 1 receptor agonist",
          "Genetic predisposition",
          "Family history of stroke",
          "Increased body mass index",
          "Organ or tissue vascular perfusion decreased",
          "Angioplasty of carotid artery",
          "Complete obstruction",
          "Body temperature above reference range",
          "Inflammation of specific body structures or tissue",
          "Sequelae of neurological disorders",
          "Procedure involving urinary catheter",
          "Moderate drinker",
          "Passive smoker",
          "Removal of thrombus",
          "Embolism",
          "N-terminal pro-B-type natriuretic peptide",
          "Complicated atheromatous plaque",
          "Endarterectomy",
          "Secondary prevention",
          "Able to mobilize",
          "Lesion of brain",
          "Administration of prophylactic statin",
          "Speech therapy",
          "Primary prevention",
          "Glomerular filtration rate",
          "Racial group",
          "Stenosis",
          "Dysfunction of urinary bladder",
          "Injection of botulinum toxin",
          "Weight loss",
          "Thrombosis",
          "Leuko-araiosis",
          "Quality of life satisfaction",
          "Postprocedural recovery status",
          "Physical therapy procedure",
          "Uses oral contraception",
          "Immunosuppression",
          "Economic status",
          "Stress",
          "Thrombus of cardiac chamber",
          "Hypertension complicating pregnancy",
          "Education and/or schooling finding",
          "Chemotherapy",
          "Catecholamine level - finding",
          "Blood glucose level - finding",
          "Female sex hormones - serum level - finding",
          "Carotid endarterectomy",
          "DNA damage",
          "Assessment using National Institutes of Health stroke scale",
          "Hypercoagulability state",
          "Smoker",
          "Pregnancy",
          "Surgical procedure",
          "Blood glucose management",
          "Acute infective endocarditis",
          "Low sodium diet",
          "Death",
          "Atherosclerosis",
          "Impaired mobility",
          "Social isolation",
          "Ischemic stroke",
          "Infectious disease",
          "Age factor",
          "Psychotherapy",
          "Hyperlipidemia",
          "Pain",
          "Spasticity",
          "Myocardial infarction",
          "Heavy drinker",
          "Obesity",
          "Systemic inflammatory response syndrome",
          "Dyssomnia",
          "Metabolic syndrome X",
          "Bleeding",
          "Pre-eclampsia",
          "Paralysis",
          "Depressive disorder",
          "Pulmonary embolism",
          "Aphasia",
          "Endocarditis",
          "Acute heart failure",
          "Male",
          "Malignant neoplastic disease",
          "Impaired cognition",
          "Cerebral infarction",
          "Eclampsia",
          "Vascular disorder",
          "Chronic heart failure",
          "Cardiac arrhythmia",
          "Antidepressant therapy",
          "Physical fitness state",
          "Sodium glucose cotransporter subtype 2 inhibitor",
          "Decreased alcohol consumption",
          "Chronic kidney disease",
          "Dissection of artery",
          "Smoking cessation therapy",
          "Myocardial infarction due to atherothrombotic coronary artery disease",
          "Finding of renal function",
          "Fracture of bone",
          "Urinary tract infectious disease"
         ],
         "textposition": "top center",
         "type": "scatter3d",
         "x": [
          19.2928466796875,
          -25.244956970214844,
          -21.890220642089844,
          -44.04671096801758,
          -51.406211853027344,
          -57.508583068847656,
          -96.6590805053711,
          -34.37568664550781,
          -54.13622283935547,
          -68.9242172241211,
          -60.480499267578125,
          -10.532514572143555,
          295.8116760253906,
          -43.616764068603516,
          62.87261962890625,
          65.56480407714844,
          -35.22213363647461,
          -51.229434967041016,
          23.955041885375977,
          -28.671062469482422,
          27.99256706237793,
          -30.04018783569336,
          -17.145748138427734,
          68.58534240722656,
          51.86942672729492,
          22.43719482421875,
          -90.32565307617188,
          -19.084571838378906,
          10.87047290802002,
          -63.66898727416992,
          18.438186645507812,
          4.668359756469727,
          -15.75112247467041,
          -4.30291223526001,
          87.65434265136719,
          86.32307434082031,
          13.900096893310547,
          -22.69697380065918,
          47.584327697753906,
          52.59071350097656,
          -12.143024444580078,
          61.998348236083984,
          20.64784049987793,
          88.03826141357422,
          -1.4696217775344849,
          -16.233104705810547,
          -27.435245513916016,
          -85.98064422607422,
          40.714786529541016,
          45.59651565551758,
          60.662235260009766,
          -24.86270523071289,
          54.60395431518555,
          -9.148828506469727,
          -7.730960369110107,
          -22.104467391967773,
          -98.91806030273438,
          -41.993629455566406,
          19.76487922668457,
          -10.309797286987305,
          38.200477600097656,
          3.0563130378723145,
          67.90249633789062,
          -232.3297576904297,
          -41.10576629638672,
          22.250484466552734,
          1.6378024816513062,
          -2.5432167053222656,
          13.993943214416504,
          42.053585052490234,
          -28.255796432495117,
          -50.248252868652344,
          -37.44698715209961,
          31.423254013061523,
          59.5259895324707,
          -4.571619033813477,
          84.25410461425781,
          9.35712718963623,
          7.903353691101074,
          -1.9003742933273315,
          55.622711181640625,
          16.332866668701172,
          60.500030517578125,
          -45.24504470825195,
          6.456796169281006,
          -4.552044868469238,
          -53.32377243041992,
          39.29058837890625,
          30.304914474487305,
          -48.891845703125,
          -32.07557678222656,
          -5.51073694229126,
          33.42586898803711,
          34.07282257080078,
          3.6531758308410645,
          70.32659149169922,
          -37.87794494628906,
          75.27205657958984,
          14.894776344299316,
          69.24301147460938,
          28.156858444213867,
          -60.70230484008789,
          5.3351311683654785,
          49.370479583740234,
          24.240665435791016,
          38.33130645751953,
          22.80536460876465,
          -24.350828170776367,
          17.33372688293457,
          -23.122127532958984,
          76.08650970458984,
          -12.635635375976562,
          -61.573753356933594,
          -54.01848220825195,
          -3.11374568939209,
          -7.092267990112305,
          8.422444343566895,
          29.128379821777344,
          24.93810272216797,
          -27.70538902282715,
          -7.265768527984619,
          -80.5511245727539,
          -81.24679565429688,
          -8.056105613708496,
          77.81263732910156,
          43.92960739135742,
          36.971649169921875,
          48.4468994140625,
          55.397029876708984,
          -53.248043060302734,
          62.857887268066406,
          -53.248043060302734,
          12.216292381286621,
          -15.159951210021973,
          33.11505889892578,
          52.99665451049805,
          -53.70021057128906,
          58.75944900512695,
          23.60262107849121,
          32.61928939819336,
          -59.824493408203125,
          -1.5855135917663574,
          -20.050338745117188,
          -41.1617546081543,
          -2.861234664916992,
          16.52723503112793,
          9.177605628967285,
          8.483297348022461,
          16.134519577026367,
          -99.98561096191406,
          26.391935348510742,
          -16.357288360595703,
          -29.881675720214844,
          -29.902835845947266,
          -11.669137001037598,
          8.221240997314453,
          -76.586669921875,
          28.424184799194336,
          -64.34029388427734,
          -34.83650207519531,
          28.731651306152344,
          -71.05235290527344,
          -66.26441192626953,
          -8.26010513305664,
          12.61866283416748,
          -49.110294342041016,
          -10.131031036376953,
          1.0037689208984375,
          63.6983528137207,
          -73.36952209472656,
          -78.68412017822266,
          44.96512222290039,
          -10.766156196594238,
          67.69779968261719,
          36.44199752807617,
          -9.993298530578613,
          -34.90935516357422,
          11.1100435256958,
          -92.66472625732422,
          -31.941925048828125,
          -14.754633903503418,
          -35.95270919799805
         ],
         "y": [
          -23.606348037719727,
          43.45998001098633,
          -85.5582504272461,
          -72.7099838256836,
          -32.12480926513672,
          -25.247596740722656,
          9.29032039642334,
          -47.721038818359375,
          22.106969833374023,
          -9.029126167297363,
          3.1071231365203857,
          9.853796005249023,
          -270.255859375,
          -54.83179473876953,
          0.5846302509307861,
          74.6029052734375,
          11.501937866210938,
          14.641922950744629,
          2.5036823749542236,
          -75.70421600341797,
          -73.53357696533203,
          5.213791847229004,
          -40.51606750488281,
          37.076473236083984,
          0.21740618348121643,
          -62.00736999511719,
          18.634017944335938,
          28.603240966796875,
          -5.675083160400391,
          15.877490997314453,
          -22.39893913269043,
          -19.00646209716797,
          -14.94347095489502,
          -9.259572982788086,
          5.952934741973877,
          -5.827296733856201,
          25.206823348999023,
          23.318130493164062,
          -6.5635666847229,
          -17.961286544799805,
          160.24444580078125,
          -2.149899482727051,
          -85.06422424316406,
          13.275503158569336,
          -41.46714782714844,
          -50.071807861328125,
          -50.561988830566406,
          -7.833788871765137,
          -57.60359573364258,
          -16.88142204284668,
          8.6687650680542,
          -9.974081993103027,
          55.0804557800293,
          10.832893371582031,
          58.0001335144043,
          -18.246522903442383,
          -18.804283142089844,
          49.37855529785156,
          -49.87221145629883,
          -57.412841796875,
          32.75507354736328,
          -22.98287010192871,
          61.79880142211914,
          6.214831352233887,
          -11.830930709838867,
          76.26273345947266,
          -1.6979032754898071,
          47.73741912841797,
          31.79788589477539,
          11.626728057861328,
          -72.23616027832031,
          -28.774600982666016,
          -6.490375995635986,
          17.66375732421875,
          60.374881744384766,
          2.8071908950805664,
          19.86192512512207,
          -21.412506103515625,
          29.557788848876953,
          -79.51862335205078,
          36.80059051513672,
          35.13923645019531,
          25.743824005126953,
          -36.7455940246582,
          -3.0394065380096436,
          33.81122970581055,
          55.50400161743164,
          3.334834098815918,
          47.69745635986328,
          53.642181396484375,
          -24.226970672607422,
          -31.92729377746582,
          21.55133628845215,
          -53.6849365234375,
          -64.45262908935547,
          13.177223205566406,
          11.45755672454834,
          30.158945083618164,
          67.62015533447266,
          -11.450901985168457,
          63.546875,
          16.206809997558594,
          -2.3551599979400635,
          74.04752349853516,
          39.41778564453125,
          50.388275146484375,
          -28.858882904052734,
          25.152862548828125,
          52.11143112182617,
          61.68996047973633,
          37.259334564208984,
          64.71812438964844,
          -17.942020416259766,
          -20.495853424072266,
          0.9456737637519836,
          -2.020080327987671,
          30.93520736694336,
          18.467100143432617,
          42.471256256103516,
          9.894888877868652,
          34.68411636352539,
          -16.129526138305664,
          -20.786073684692383,
          43.08561706542969,
          55.707763671875,
          -54.68388748168945,
          -71.88219451904297,
          -73.95309448242188,
          -10.27439022064209,
          -26.88680076599121,
          17.87841796875,
          -26.88680076599121,
          -58.96120071411133,
          12.10027027130127,
          12.169711112976074,
          27.471981048583984,
          -7.512144565582275,
          -19.045421600341797,
          -10.073100090026855,
          72.08712768554688,
          32.3833122253418,
          13.801249504089355,
          -30.984228134155273,
          -63.14902114868164,
          -16.002870559692383,
          51.51762390136719,
          -76.17414093017578,
          15.13353443145752,
          -3.793806552886963,
          0.3699150085449219,
          -67.12966918945312,
          -42.2055549621582,
          -19.54551887512207,
          -42.83572769165039,
          -61.56224060058594,
          15.182014465332031,
          -41.238037109375,
          -21.078601837158203,
          -55.737430572509766,
          21.693626403808594,
          7.435481548309326,
          -20.61767578125,
          9.747682571411133,
          -24.573883056640625,
          -49.47600173950195,
          26.12017250061035,
          -43.444236755371094,
          -35.745140075683594,
          41.89567184448242,
          28.27056884765625,
          3.4000906944274902,
          71.71495819091797,
          -8.799514770507812,
          42.07993698120117,
          -49.72386169433594,
          -82.9011459350586,
          28.46550750732422,
          59.753273010253906,
          8.941810607910156,
          29.929065704345703,
          -22.222827911376953,
          -73.54963684082031
         ],
         "z": [
          9.713706970214844,
          -11.31531810760498,
          26.096229553222656,
          -33.41968536376953,
          -18.255224227905273,
          -88.00160217285156,
          -4.239775657653809,
          -11.498774528503418,
          -6.761654853820801,
          -52.37139892578125,
          -33.77935791015625,
          -57.621273040771484,
          -8.190093040466309,
          -39.23802185058594,
          67.08427429199219,
          43.53150939941406,
          11.794149398803711,
          -71.9451904296875,
          -13.55785083770752,
          -18.04683494567871,
          -55.83075714111328,
          -71.89339447021484,
          -44.43931579589844,
          51.7667350769043,
          40.255340576171875,
          -35.80413055419922,
          -31.13359260559082,
          -95.87069702148438,
          73.30776977539062,
          -53.13457107543945,
          -49.00687789916992,
          -27.885366439819336,
          -39.17728042602539,
          -56.687259674072266,
          -16.654325485229492,
          -7.056907653808594,
          51.998104095458984,
          30.15709114074707,
          -32.259822845458984,
          -50.53144836425781,
          -354.1646728515625,
          -47.26025390625,
          -33.9304313659668,
          47.85536193847656,
          42.500118255615234,
          51.025997161865234,
          -74.47801208496094,
          16.013986587524414,
          -43.778385162353516,
          30.717500686645508,
          22.98845672607422,
          22.888452529907227,
          40.24737548828125,
          -21.81473731994629,
          -51.45469284057617,
          75.97171783447266,
          -11.739618301391602,
          16.685894012451172,
          29.45378875732422,
          -1.2444186210632324,
          51.11285400390625,
          86.02325439453125,
          25.91936492919922,
          -23.20448875427246,
          -63.32560348510742,
          -6.762548923492432,
          -7.542895317077637,
          52.61708068847656,
          -76.12672424316406,
          61.352577209472656,
          -42.58567428588867,
          -54.74309539794922,
          -36.45093536376953,
          82.06700134277344,
          59.83810043334961,
          42.4033203125,
          -2.8111443519592285,
          -71.70310974121094,
          -25.30527687072754,
          -26.779747009277344,
          -24.912620544433594,
          35.42793655395508,
          -11.636353492736816,
          34.15647888183594,
          34.6785888671875,
          -4.527559280395508,
          5.176548480987549,
          22.599849700927734,
          -7.662197113037109,
          -32.83210754394531,
          -27.293611526489258,
          -4.994058609008789,
          23.748762130737305,
          40.3018798828125,
          41.817378997802734,
          43.86953353881836,
          -49.50928497314453,
          -30.59438133239746,
          -19.927743911743164,
          29.52252769470215,
          28.412752151489258,
          45.108612060546875,
          -39.651371002197266,
          26.829776763916016,
          63.296382904052734,
          22.81674575805664,
          79.178955078125,
          65.23514556884766,
          -0.08082251250743866,
          -16.286603927612305,
          32.0161247253418,
          13.887481689453125,
          -35.757965087890625,
          26.030942916870117,
          96.60723876953125,
          79.24301147460938,
          71.27433776855469,
          -28.879383087158203,
          -45.86072540283203,
          58.13884353637695,
          20.629501342773438,
          -29.48528480529785,
          -63.93098068237305,
          -42.84421920776367,
          46.268699645996094,
          -24.350996017456055,
          -16.601421356201172,
          -30.984304428100586,
          14.497014045715332,
          50.00031280517578,
          69.87285614013672,
          50.00031280517578,
          57.5994873046875,
          -3.1114888191223145,
          43.60663604736328,
          39.171566009521484,
          -5.685032844543457,
          -27.243513107299805,
          51.38351821899414,
          -19.60181427001953,
          47.297542572021484,
          12.526894569396973,
          -62.31756591796875,
          -0.7155609130859375,
          65.17359161376953,
          50.13995361328125,
          -44.36274719238281,
          -70.51876068115234,
          7.462218284606934,
          -33.7827262878418,
          28.796173095703125,
          -18.576045989990234,
          -8.943002700805664,
          5.42248010635376,
          -30.4621524810791,
          -7.688002586364746,
          -43.78412628173828,
          -14.979558944702148,
          3.7219443321228027,
          -31.19709587097168,
          -54.497745513916016,
          -6.856337070465088,
          4.472607612609863,
          20.041921615600586,
          -10.671588897705078,
          20.707965850830078,
          -76.07771301269531,
          -34.451690673828125,
          131.66494750976562,
          -7.931971549987793,
          -14.821181297302246,
          49.14600372314453,
          9.802897453308105,
          -12.998872756958008,
          17.22372055053711,
          12.336712837219238,
          -62.075599670410156,
          69.10249328613281,
          -49.832740783691406,
          5.82097864151001,
          -92.67986297607422,
          15.823389053344727
         ]
        }
       ],
       "layout": {
        "margin": {
         "b": 0,
         "l": 0,
         "r": 0,
         "t": 40
        },
        "scene": {
         "xaxis": {
          "title": {
           "text": "t-SNE Dimension 1"
          }
         },
         "yaxis": {
          "title": {
           "text": "t-SNE Dimension 2"
          }
         },
         "zaxis": {
          "title": {
           "text": "t-SNE Dimension 3"
          }
         }
        },
        "template": {
         "data": {
          "bar": [
           {
            "error_x": {
             "color": "#2a3f5f"
            },
            "error_y": {
             "color": "#2a3f5f"
            },
            "marker": {
             "line": {
              "color": "#E5ECF6",
              "width": 0.5
             },
             "pattern": {
              "fillmode": "overlay",
              "size": 10,
              "solidity": 0.2
             }
            },
            "type": "bar"
           }
          ],
          "barpolar": [
           {
            "marker": {
             "line": {
              "color": "#E5ECF6",
              "width": 0.5
             },
             "pattern": {
              "fillmode": "overlay",
              "size": 10,
              "solidity": 0.2
             }
            },
            "type": "barpolar"
           }
          ],
          "carpet": [
           {
            "aaxis": {
             "endlinecolor": "#2a3f5f",
             "gridcolor": "white",
             "linecolor": "white",
             "minorgridcolor": "white",
             "startlinecolor": "#2a3f5f"
            },
            "baxis": {
             "endlinecolor": "#2a3f5f",
             "gridcolor": "white",
             "linecolor": "white",
             "minorgridcolor": "white",
             "startlinecolor": "#2a3f5f"
            },
            "type": "carpet"
           }
          ],
          "choropleth": [
           {
            "colorbar": {
             "outlinewidth": 0,
             "ticks": ""
            },
            "type": "choropleth"
           }
          ],
          "contour": [
           {
            "colorbar": {
             "outlinewidth": 0,
             "ticks": ""
            },
            "colorscale": [
             [
              0,
              "#0d0887"
             ],
             [
              0.1111111111111111,
              "#46039f"
             ],
             [
              0.2222222222222222,
              "#7201a8"
             ],
             [
              0.3333333333333333,
              "#9c179e"
             ],
             [
              0.4444444444444444,
              "#bd3786"
             ],
             [
              0.5555555555555556,
              "#d8576b"
             ],
             [
              0.6666666666666666,
              "#ed7953"
             ],
             [
              0.7777777777777778,
              "#fb9f3a"
             ],
             [
              0.8888888888888888,
              "#fdca26"
             ],
             [
              1,
              "#f0f921"
             ]
            ],
            "type": "contour"
           }
          ],
          "contourcarpet": [
           {
            "colorbar": {
             "outlinewidth": 0,
             "ticks": ""
            },
            "type": "contourcarpet"
           }
          ],
          "heatmap": [
           {
            "colorbar": {
             "outlinewidth": 0,
             "ticks": ""
            },
            "colorscale": [
             [
              0,
              "#0d0887"
             ],
             [
              0.1111111111111111,
              "#46039f"
             ],
             [
              0.2222222222222222,
              "#7201a8"
             ],
             [
              0.3333333333333333,
              "#9c179e"
             ],
             [
              0.4444444444444444,
              "#bd3786"
             ],
             [
              0.5555555555555556,
              "#d8576b"
             ],
             [
              0.6666666666666666,
              "#ed7953"
             ],
             [
              0.7777777777777778,
              "#fb9f3a"
             ],
             [
              0.8888888888888888,
              "#fdca26"
             ],
             [
              1,
              "#f0f921"
             ]
            ],
            "type": "heatmap"
           }
          ],
          "heatmapgl": [
           {
            "colorbar": {
             "outlinewidth": 0,
             "ticks": ""
            },
            "colorscale": [
             [
              0,
              "#0d0887"
             ],
             [
              0.1111111111111111,
              "#46039f"
             ],
             [
              0.2222222222222222,
              "#7201a8"
             ],
             [
              0.3333333333333333,
              "#9c179e"
             ],
             [
              0.4444444444444444,
              "#bd3786"
             ],
             [
              0.5555555555555556,
              "#d8576b"
             ],
             [
              0.6666666666666666,
              "#ed7953"
             ],
             [
              0.7777777777777778,
              "#fb9f3a"
             ],
             [
              0.8888888888888888,
              "#fdca26"
             ],
             [
              1,
              "#f0f921"
             ]
            ],
            "type": "heatmapgl"
           }
          ],
          "histogram": [
           {
            "marker": {
             "pattern": {
              "fillmode": "overlay",
              "size": 10,
              "solidity": 0.2
             }
            },
            "type": "histogram"
           }
          ],
          "histogram2d": [
           {
            "colorbar": {
             "outlinewidth": 0,
             "ticks": ""
            },
            "colorscale": [
             [
              0,
              "#0d0887"
             ],
             [
              0.1111111111111111,
              "#46039f"
             ],
             [
              0.2222222222222222,
              "#7201a8"
             ],
             [
              0.3333333333333333,
              "#9c179e"
             ],
             [
              0.4444444444444444,
              "#bd3786"
             ],
             [
              0.5555555555555556,
              "#d8576b"
             ],
             [
              0.6666666666666666,
              "#ed7953"
             ],
             [
              0.7777777777777778,
              "#fb9f3a"
             ],
             [
              0.8888888888888888,
              "#fdca26"
             ],
             [
              1,
              "#f0f921"
             ]
            ],
            "type": "histogram2d"
           }
          ],
          "histogram2dcontour": [
           {
            "colorbar": {
             "outlinewidth": 0,
             "ticks": ""
            },
            "colorscale": [
             [
              0,
              "#0d0887"
             ],
             [
              0.1111111111111111,
              "#46039f"
             ],
             [
              0.2222222222222222,
              "#7201a8"
             ],
             [
              0.3333333333333333,
              "#9c179e"
             ],
             [
              0.4444444444444444,
              "#bd3786"
             ],
             [
              0.5555555555555556,
              "#d8576b"
             ],
             [
              0.6666666666666666,
              "#ed7953"
             ],
             [
              0.7777777777777778,
              "#fb9f3a"
             ],
             [
              0.8888888888888888,
              "#fdca26"
             ],
             [
              1,
              "#f0f921"
             ]
            ],
            "type": "histogram2dcontour"
           }
          ],
          "mesh3d": [
           {
            "colorbar": {
             "outlinewidth": 0,
             "ticks": ""
            },
            "type": "mesh3d"
           }
          ],
          "parcoords": [
           {
            "line": {
             "colorbar": {
              "outlinewidth": 0,
              "ticks": ""
             }
            },
            "type": "parcoords"
           }
          ],
          "pie": [
           {
            "automargin": true,
            "type": "pie"
           }
          ],
          "scatter": [
           {
            "fillpattern": {
             "fillmode": "overlay",
             "size": 10,
             "solidity": 0.2
            },
            "type": "scatter"
           }
          ],
          "scatter3d": [
           {
            "line": {
             "colorbar": {
              "outlinewidth": 0,
              "ticks": ""
             }
            },
            "marker": {
             "colorbar": {
              "outlinewidth": 0,
              "ticks": ""
             }
            },
            "type": "scatter3d"
           }
          ],
          "scattercarpet": [
           {
            "marker": {
             "colorbar": {
              "outlinewidth": 0,
              "ticks": ""
             }
            },
            "type": "scattercarpet"
           }
          ],
          "scattergeo": [
           {
            "marker": {
             "colorbar": {
              "outlinewidth": 0,
              "ticks": ""
             }
            },
            "type": "scattergeo"
           }
          ],
          "scattergl": [
           {
            "marker": {
             "colorbar": {
              "outlinewidth": 0,
              "ticks": ""
             }
            },
            "type": "scattergl"
           }
          ],
          "scattermapbox": [
           {
            "marker": {
             "colorbar": {
              "outlinewidth": 0,
              "ticks": ""
             }
            },
            "type": "scattermapbox"
           }
          ],
          "scatterpolar": [
           {
            "marker": {
             "colorbar": {
              "outlinewidth": 0,
              "ticks": ""
             }
            },
            "type": "scatterpolar"
           }
          ],
          "scatterpolargl": [
           {
            "marker": {
             "colorbar": {
              "outlinewidth": 0,
              "ticks": ""
             }
            },
            "type": "scatterpolargl"
           }
          ],
          "scatterternary": [
           {
            "marker": {
             "colorbar": {
              "outlinewidth": 0,
              "ticks": ""
             }
            },
            "type": "scatterternary"
           }
          ],
          "surface": [
           {
            "colorbar": {
             "outlinewidth": 0,
             "ticks": ""
            },
            "colorscale": [
             [
              0,
              "#0d0887"
             ],
             [
              0.1111111111111111,
              "#46039f"
             ],
             [
              0.2222222222222222,
              "#7201a8"
             ],
             [
              0.3333333333333333,
              "#9c179e"
             ],
             [
              0.4444444444444444,
              "#bd3786"
             ],
             [
              0.5555555555555556,
              "#d8576b"
             ],
             [
              0.6666666666666666,
              "#ed7953"
             ],
             [
              0.7777777777777778,
              "#fb9f3a"
             ],
             [
              0.8888888888888888,
              "#fdca26"
             ],
             [
              1,
              "#f0f921"
             ]
            ],
            "type": "surface"
           }
          ],
          "table": [
           {
            "cells": {
             "fill": {
              "color": "#EBF0F8"
             },
             "line": {
              "color": "white"
             }
            },
            "header": {
             "fill": {
              "color": "#C8D4E3"
             },
             "line": {
              "color": "white"
             }
            },
            "type": "table"
           }
          ]
         },
         "layout": {
          "annotationdefaults": {
           "arrowcolor": "#2a3f5f",
           "arrowhead": 0,
           "arrowwidth": 1
          },
          "autotypenumbers": "strict",
          "coloraxis": {
           "colorbar": {
            "outlinewidth": 0,
            "ticks": ""
           }
          },
          "colorscale": {
           "diverging": [
            [
             0,
             "#8e0152"
            ],
            [
             0.1,
             "#c51b7d"
            ],
            [
             0.2,
             "#de77ae"
            ],
            [
             0.3,
             "#f1b6da"
            ],
            [
             0.4,
             "#fde0ef"
            ],
            [
             0.5,
             "#f7f7f7"
            ],
            [
             0.6,
             "#e6f5d0"
            ],
            [
             0.7,
             "#b8e186"
            ],
            [
             0.8,
             "#7fbc41"
            ],
            [
             0.9,
             "#4d9221"
            ],
            [
             1,
             "#276419"
            ]
           ],
           "sequential": [
            [
             0,
             "#0d0887"
            ],
            [
             0.1111111111111111,
             "#46039f"
            ],
            [
             0.2222222222222222,
             "#7201a8"
            ],
            [
             0.3333333333333333,
             "#9c179e"
            ],
            [
             0.4444444444444444,
             "#bd3786"
            ],
            [
             0.5555555555555556,
             "#d8576b"
            ],
            [
             0.6666666666666666,
             "#ed7953"
            ],
            [
             0.7777777777777778,
             "#fb9f3a"
            ],
            [
             0.8888888888888888,
             "#fdca26"
            ],
            [
             1,
             "#f0f921"
            ]
           ],
           "sequentialminus": [
            [
             0,
             "#0d0887"
            ],
            [
             0.1111111111111111,
             "#46039f"
            ],
            [
             0.2222222222222222,
             "#7201a8"
            ],
            [
             0.3333333333333333,
             "#9c179e"
            ],
            [
             0.4444444444444444,
             "#bd3786"
            ],
            [
             0.5555555555555556,
             "#d8576b"
            ],
            [
             0.6666666666666666,
             "#ed7953"
            ],
            [
             0.7777777777777778,
             "#fb9f3a"
            ],
            [
             0.8888888888888888,
             "#fdca26"
            ],
            [
             1,
             "#f0f921"
            ]
           ]
          },
          "colorway": [
           "#636efa",
           "#EF553B",
           "#00cc96",
           "#ab63fa",
           "#FFA15A",
           "#19d3f3",
           "#FF6692",
           "#B6E880",
           "#FF97FF",
           "#FECB52"
          ],
          "font": {
           "color": "#2a3f5f"
          },
          "geo": {
           "bgcolor": "white",
           "lakecolor": "white",
           "landcolor": "#E5ECF6",
           "showlakes": true,
           "showland": true,
           "subunitcolor": "white"
          },
          "hoverlabel": {
           "align": "left"
          },
          "hovermode": "closest",
          "mapbox": {
           "style": "light"
          },
          "paper_bgcolor": "white",
          "plot_bgcolor": "#E5ECF6",
          "polar": {
           "angularaxis": {
            "gridcolor": "white",
            "linecolor": "white",
            "ticks": ""
           },
           "bgcolor": "#E5ECF6",
           "radialaxis": {
            "gridcolor": "white",
            "linecolor": "white",
            "ticks": ""
           }
          },
          "scene": {
           "xaxis": {
            "backgroundcolor": "#E5ECF6",
            "gridcolor": "white",
            "gridwidth": 2,
            "linecolor": "white",
            "showbackground": true,
            "ticks": "",
            "zerolinecolor": "white"
           },
           "yaxis": {
            "backgroundcolor": "#E5ECF6",
            "gridcolor": "white",
            "gridwidth": 2,
            "linecolor": "white",
            "showbackground": true,
            "ticks": "",
            "zerolinecolor": "white"
           },
           "zaxis": {
            "backgroundcolor": "#E5ECF6",
            "gridcolor": "white",
            "gridwidth": 2,
            "linecolor": "white",
            "showbackground": true,
            "ticks": "",
            "zerolinecolor": "white"
           }
          },
          "shapedefaults": {
           "line": {
            "color": "#2a3f5f"
           }
          },
          "ternary": {
           "aaxis": {
            "gridcolor": "white",
            "linecolor": "white",
            "ticks": ""
           },
           "baxis": {
            "gridcolor": "white",
            "linecolor": "white",
            "ticks": ""
           },
           "bgcolor": "#E5ECF6",
           "caxis": {
            "gridcolor": "white",
            "linecolor": "white",
            "ticks": ""
           }
          },
          "title": {
           "x": 0.05
          },
          "xaxis": {
           "automargin": true,
           "gridcolor": "white",
           "linecolor": "white",
           "ticks": "",
           "title": {
            "standoff": 15
           },
           "zerolinecolor": "white",
           "zerolinewidth": 2
          },
          "yaxis": {
           "automargin": true,
           "gridcolor": "white",
           "linecolor": "white",
           "ticks": "",
           "title": {
            "standoff": 15
           },
           "zerolinecolor": "white",
           "zerolinewidth": 2
          }
         }
        },
        "title": {
         "text": "3D Distance Matrix Visualization"
        }
       }
      }
     },
     "metadata": {},
     "output_type": "display_data"
    }
   ],
   "source": [
    "from hierarchy_functions import graph_distance_matrix_in_3d\n",
    "\n",
    "graph_distance_matrix_in_3d(distance_matrix, [code_to_name[i] for i in terms])"
   ]
  },
  {
   "cell_type": "markdown",
   "metadata": {},
   "source": [
    "### **Approach 2:** Using word embeddings"
   ]
  },
  {
   "cell_type": "markdown",
   "metadata": {},
   "source": [
    "1. **SapBERT** - https://huggingface.co/cambridgeltl/SapBERT-from-PubMedBERT-fulltext\n",
    "2. **SNOMED CT BioBERT** - https://huggingface.co/KimTang/SNOMEDCT_BioBERT"
   ]
  },
  {
   "cell_type": "code",
   "execution_count": 13,
   "metadata": {},
   "outputs": [],
   "source": [
    "snomed_biobert = \"KimTang/SNOMEDCT_BioBERT\"\n",
    "sapbert = \"cambridgeltl/SapBERT-from-PubMedBERT-fulltext\""
   ]
  },
  {
   "cell_type": "code",
   "execution_count": 14,
   "metadata": {},
   "outputs": [
    {
     "name": "stderr",
     "output_type": "stream",
     "text": [
      "Asking to truncate to max_length but no maximum length is provided and the model has no predefined maximum length. Default to no truncation.\n",
      "Asking to truncate to max_length but no maximum length is provided and the model has no predefined maximum length. Default to no truncation.\n"
     ]
    }
   ],
   "source": [
    "from hierarchy_functions import get_embeddings\n",
    "\n",
    "embeddings, embedding_names, embedding_matrix = get_embeddings(my_terms_written, sapbert)\n",
    "embeddings_2, embedding_names_2, embedding_matrix_2 = get_embeddings(my_terms_written, snomed_biobert)"
   ]
  },
  {
   "cell_type": "code",
   "execution_count": 15,
   "metadata": {},
   "outputs": [
    {
     "data": {
      "application/vnd.plotly.v1+json": {
       "config": {
        "plotlyServerURL": "https://plot.ly"
       },
       "data": [
        {
         "marker": {
          "opacity": 0.8,
          "size": 5
         },
         "mode": "markers+text",
         "text": [
          "Economic status",
          "Risk of cardiovascular disease",
          "Interleukin-6",
          "Removal of thrombus",
          "Depressive disorder",
          "Smoker",
          "Pulmonary embolism",
          "Encephalitis",
          "Low sodium diet",
          "Myocardial infarction due to demand ischemia",
          "Surgical procedure",
          "Arteriosclerosis",
          "Fracture of bone",
          "Antidepressant therapy",
          "Complicated atheromatous plaque",
          "Immunosuppression",
          "Myocardial infarction due to atherothrombotic coronary artery disease",
          "Myocardial infarction",
          "Activities of daily living assessment",
          "Increased body mass index",
          "Hypertension complicating pregnancy",
          "Mediterranean diet",
          "Lipoprotein (a) hyperlipoproteinemia",
          "Inflammation of specific body structures or tissue",
          "Heavy drinker",
          "Chemotherapy",
          "High carbohydrate diet",
          "Disability",
          "Hypertensive disorder",
          "Cachexia",
          "Primary prevention",
          "Physical fitness state",
          "Finding of oxygen saturation",
          "Lacunar infarction",
          "Spasticity",
          "Kidney disease",
          "Hypercoagulability state",
          "Carotid endarterectomy",
          "Stress",
          "Social worker involved",
          "Sequelae of neurological disorders",
          "Age factor",
          "Delirium",
          "Bleeding",
          "Male",
          "Cardiac syndrome X",
          "Cerebral atrophy",
          "Pre-eclampsia",
          "Current drinker",
          "DNA damage",
          "Infectious disease",
          "Embolism",
          "Atrial fibrillation",
          "Malignant neoplastic disease",
          "Dysfunction of urinary bladder",
          "Glucagon-like peptide 1 receptor agonist",
          "Assessment using National Institutes of Health stroke scale",
          "Low blood pressure",
          "Cerebral venous sinus thrombosis",
          "Falls",
          "Urinary incontinence",
          "Takotsubo cardiomyopathy",
          "Acute infective endocarditis",
          "Deep venous thrombosis",
          "Endocarditis",
          "Hypercholesterolemia",
          "Genetic predisposition",
          "Nutritional disorder",
          "Vasculitis",
          "Heart disease",
          "Injection of botulinum toxin",
          "Migraine with aura",
          "Ischemic stroke",
          "Insulin resistance",
          "Pain management",
          "Aspiration",
          "Acute heart failure",
          "Antibiotic therapy",
          "Percutaneous transluminal procedure on blood vessel",
          "Postprocedural recovery status",
          "Exercises regularly",
          "Gestational diabetes mellitus complicating pregnancy",
          "Catecholamine level - finding",
          "Education and/or schooling finding",
          "Urinary tract infectious disease",
          "Seizure",
          "FH: Cardiovascular disease",
          "Finding of lesion",
          "Smoking cessation therapy",
          "Troponin",
          "Lesion of brain",
          "Secondary prevention",
          "Paralysis",
          "Metabolic syndrome X",
          "Body temperature above reference range",
          "Dyslipidemia",
          "Moderate drinker",
          "Heart failure",
          "Stenosis",
          "Blood-brain barrier",
          "Pneumonia",
          "Prediabetes",
          "Speech therapy",
          "Insertion of carotid artery stent",
          "Pregnancy",
          "Thrombosis",
          "Dyssomnia",
          "Dissection of artery",
          "Procedure involving urinary catheter",
          "C-reactive protein above reference range",
          "Blood glucose management",
          "Atherosclerosis",
          "Impaired mobility",
          "Functionally dependent",
          "Impaired cognition",
          "Eclampsia",
          "Decreased alcohol consumption",
          "Blood glucose level - finding",
          "Disorder of cardiac function",
          "Cognitive skills training",
          "Anticoagulant therapy",
          "Silent micro-hemorrhage of brain",
          "Gets no exercise",
          "Dissection of cerebral artery",
          "Dysphagia",
          "Passive smoker",
          "Uses oral contraception",
          "Cerebral infarction",
          "High fat diet",
          "Vascular disorder",
          "Weight loss",
          "Psychotherapy",
          "Thiazolidinedione",
          "Organ or tissue vascular perfusion decreased",
          "Continuous positive airway pressure ventilation treatment",
          "Chronic kidney disease",
          "N-terminal pro-B-type natriuretic peptide",
          "Thrombolysis of artery",
          "Cardiac arrhythmia",
          "Death",
          "Healthy diet",
          "Quality of life satisfaction",
          "Pain",
          "Lesion size",
          "Decreased vascular flow",
          "Disorder of glucose metabolism",
          "Care regime",
          "Transient cerebral ischemia",
          "Epilepsy due to cerebrovascular accident",
          "Congenital malformation",
          "Admission to stroke unit",
          "Complete obstruction",
          "Physical therapy procedure",
          "Diabetes mellitus",
          "Endarterectomy",
          "Migraine",
          "Glomerular filtration rate",
          "Finding of renal function",
          "Systemic inflammatory response syndrome",
          "Family history of stroke",
          "Thrombus of cardiac chamber",
          "Female sex hormones - serum level - finding",
          "Cardiac troponin T",
          "Chronic heart failure",
          "Assessment using Modified Rankin Scale",
          "Patent foramen ovale",
          "Sodium glucose cotransporter subtype 2 inhibitor",
          "Angioplasty of carotid artery",
          "Antihypertensive therapy",
          "Administration of prophylactic statin",
          "Hyperlipidemia",
          "Social isolation",
          "Aphasia",
          "Able to mobilize",
          "Able to cope",
          "Patient position finding",
          "Obesity",
          "Racial group",
          "Leuko-araiosis",
          "COVID-19",
          "Platelet aggregation inhibitor therapy",
          "Sleep apnea"
         ],
         "textposition": "top center",
         "type": "scatter3d",
         "x": [
          7.923950672149658,
          8.233473777770996,
          -16.28042984008789,
          -38.14992141723633,
          8.171280860900879,
          -35.153873443603516,
          -71.37451171875,
          -17.73704719543457,
          19.694721221923828,
          29.268827438354492,
          36.383941650390625,
          -28.802085876464844,
          -59.89545440673828,
          11.107036590576172,
          6.031141757965088,
          -13.739026069641113,
          9.026148796081543,
          14.609749794006348,
          29.001041412353516,
          16.177772521972656,
          -31.76299285888672,
          41.515926361083984,
          -22.156030654907227,
          -9.043898582458496,
          32.98533630371094,
          34.187076568603516,
          45.39601135253906,
          9.37509822845459,
          -17.914560317993164,
          2.698338508605957,
          38.090641021728516,
          11.796711921691895,
          -45.78479766845703,
          -6.821256637573242,
          -14.189337730407715,
          -5.239388465881348,
          -62.634986877441406,
          -20.790782928466797,
          -13.61903190612793,
          -41.209381103515625,
          -2.460425615310669,
          -2.435795783996582,
          -12.386611938476562,
          -42.100318908691406,
          -19.94332504272461,
          20.367298126220703,
          -0.4365699589252472,
          -45.373451232910156,
          32.52806091308594,
          -15.564637184143066,
          3.3756937980651855,
          -60.050785064697266,
          -10.853938102722168,
          51.76524353027344,
          -4.605086803436279,
          49.90774154663086,
          9.11816120147705,
          3.3172237873077393,
          -58.13225555419922,
          -45.24338912963867,
          -2.713972330093384,
          24.472013473510742,
          -33.13591003417969,
          -63.951412200927734,
          -34.6895637512207,
          -12.94287109375,
          11.275647163391113,
          35.45358657836914,
          -25.439044952392578,
          54.277923583984375,
          28.804763793945312,
          -47.39682388305664,
          183.31793212890625,
          28.325088500976562,
          -58.5028076171875,
          -33.13256072998047,
          53.12217330932617,
          24.983245849609375,
          -15.439111709594727,
          20.4765682220459,
          8.502826690673828,
          12.960700035095215,
          68.36283874511719,
          18.045080184936523,
          0.3853304088115692,
          -33.31404495239258,
          -5.516768932342529,
          53.61723327636719,
          -18.957075119018555,
          47.46212387084961,
          39.307373046875,
          26.8028564453125,
          -5.823022365570068,
          18.955602645874023,
          6.9214091300964355,
          -5.781992435455322,
          43.06174850463867,
          54.06196594238281,
          -32.02998352050781,
          -48.69371032714844,
          17.62899398803711,
          20.050325393676758,
          18.109838485717773,
          -14.84485912322998,
          -47.01567459106445,
          -57.641536712646484,
          -0.07330144196748734,
          -10.816630363464355,
          -19.476003646850586,
          -9.116861343383789,
          58.184757232666016,
          -39.52862548828125,
          17.438556671142578,
          23.952425003051758,
          11.841690063476562,
          -35.52076721191406,
          26.835468292236328,
          66.62686157226562,
          65.5119857788086,
          24.247695922851562,
          1.7048958539962769,
          -26.79461097717285,
          7.882521629333496,
          -4.499918460845947,
          -15.286067962646484,
          -33.61491775512695,
          -24.43170928955078,
          -1.338836431503296,
          32.52510070800781,
          -25.491748809814453,
          9.277153015136719,
          18.439254760742188,
          29.943601608276367,
          -67.24420928955078,
          -10.985217094421387,
          -6.395610332489014,
          54.45130920410156,
          -23.156116485595703,
          68.1257095336914,
          -24.14558982849121,
          43.14948654174805,
          8.29973316192627,
          -47.77460479736328,
          58.141334533691406,
          -70.11998748779297,
          42.272216796875,
          34.19438171386719,
          -12.559623718261719,
          -21.873655319213867,
          62.3614501953125,
          -12.465928077697754,
          -46.01891326904297,
          20.374324798583984,
          28.479963302612305,
          -26.491846084594727,
          -44.57975387573242,
          -33.395015716552734,
          -23.577646255493164,
          -24.365076065063477,
          -14.454794883728027,
          -54.85184097290039,
          84.09893035888672,
          46.534847259521484,
          66.35331726074219,
          19.04328727722168,
          3.136498212814331,
          48.527862548828125,
          -6.960572719573975,
          -5.0410966873168945,
          11.047052383422852,
          -6.944249629974365,
          -26.470619201660156,
          -16.45494842529297,
          30.562679290771484,
          42.44314956665039,
          34.23469924926758,
          13.901199340820312,
          -24.64280128479004,
          -16.064775466918945,
          -35.053009033203125,
          3.9307262897491455,
          -53.62982177734375
         ],
         "y": [
          -31.56726837158203,
          33.69331359863281,
          -49.15559005737305,
          -78.91097259521484,
          2.183763027191162,
          28.16008758544922,
          -0.6650639176368713,
          2.163193702697754,
          44.693084716796875,
          2.3312551975250244,
          -57.79591751098633,
          -50.72677230834961,
          -15.396658897399902,
          2.8996195793151855,
          5.9712677001953125,
          6.266869068145752,
          5.512819290161133,
          -6.6449456214904785,
          -45.0516242980957,
          62.219966888427734,
          46.19428634643555,
          56.671409606933594,
          66.4170913696289,
          -21.660120010375977,
          23.796579360961914,
          -26.802995681762695,
          57.017303466796875,
          -22.411001205444336,
          43.9935417175293,
          19.19923210144043,
          15.859939575195312,
          -44.072696685791016,
          -56.52311706542969,
          -9.941549301147461,
          -26.124052047729492,
          -39.675209045410156,
          17.12464141845703,
          -80.76428985595703,
          -40.58158493041992,
          20.070144653320312,
          -5.012253284454346,
          55.589698791503906,
          0.24579095840454102,
          3.97172474861145,
          52.84979248046875,
          22.862764358520508,
          19.017423629760742,
          38.97319030761719,
          13.19612979888916,
          -30.025697708129883,
          -19.650625228881836,
          3.009204864501953,
          28.980083465576172,
          -27.72728157043457,
          -11.01883602142334,
          59.2420654296875,
          -45.88153076171875,
          48.317237854003906,
          35.968502044677734,
          -16.436914443969727,
          -1.071986198425293,
          16.93834686279297,
          21.46153450012207,
          27.93104362487793,
          16.1435489654541,
          54.941524505615234,
          51.74835205078125,
          81.08682250976562,
          -28.733566284179688,
          -2.5366084575653076,
          -77.53716278076172,
          -19.9116153717041,
          44.03687286376953,
          49.50035858154297,
          -27.21598243713379,
          0.2472103387117386,
          1.247583031654358,
          -16.598682403564453,
          -63.73681640625,
          -62.55733871459961,
          -37.17435836791992,
          82.0959243774414,
          25.16733169555664,
          -20.269590377807617,
          -16.21154022216797,
          -10.338980674743652,
          32.21806335449219,
          -33.878936767578125,
          24.93691062927246,
          15.843149185180664,
          -25.097126007080078,
          17.213871002197266,
          -17.17765998840332,
          39.06045913696289,
          68.38408660888672,
          55.78056335449219,
          24.72323989868164,
          -4.292470455169678,
          -43.95346450805664,
          -33.095184326171875,
          -18.61236000061035,
          57.63253402709961,
          -54.828697204589844,
          -78.62052917480469,
          55.10934066772461,
          11.737866401672363,
          -2.3421483039855957,
          -66.81697845458984,
          -12.164276123046875,
          75.23432922363281,
          54.06508255004883,
          -44.39527893066406,
          -13.446371078491211,
          -31.899776458740234,
          1.4005858898162842,
          35.42427444458008,
          23.359739303588867,
          44.10728073120117,
          -10.879720687866211,
          -5.7630767822265625,
          17.545791625976562,
          -8.771020889282227,
          -22.914670944213867,
          -78.74427795410156,
          1.8421974182128906,
          40.19551467895508,
          28.53835105895996,
          -16.84282684326172,
          53.710899353027344,
          -45.42921829223633,
          32.09349822998047,
          -42.54349899291992,
          43.685516357421875,
          4.3877458572387695,
          46.86820602416992,
          -50.78968811035156,
          21.646968841552734,
          -75.23772430419922,
          -4.0027337074279785,
          -16.756444931030273,
          43.50249099731445,
          -47.76799011230469,
          -20.527957916259766,
          -41.69342041015625,
          1.3077119588851929,
          70.5137710571289,
          -34.58649826049805,
          0.11236272752285004,
          -17.07621955871582,
          -24.128414154052734,
          -37.0394401550293,
          -40.692874908447266,
          -50.94231414794922,
          68.05095672607422,
          -75.42314910888672,
          -18.777076721191406,
          -41.28352737426758,
          -41.88130569458008,
          -12.214064598083496,
          21.040536880493164,
          13.956079483032227,
          26.007328033447266,
          5.225449085235596,
          3.561335563659668,
          -51.18623352050781,
          17.558568954467773,
          44.98926544189453,
          -84.48684692382812,
          35.34398651123047,
          26.436599731445312,
          67.3896484375,
          12.616010665893555,
          14.866042137145996,
          -21.322134017944336,
          -30.195560455322266,
          -53.298439025878906,
          49.542503356933594,
          65.456298828125,
          32.432838439941406,
          -2.2844090461730957,
          31.40367317199707,
          -49.150779724121094
         ],
         "z": [
          30.536657333374023,
          68.97074127197266,
          32.2179069519043,
          -16.630334854125977,
          -24.025146484375,
          -56.387027740478516,
          34.70823669433594,
          30.190738677978516,
          -36.37211227416992,
          64.58763885498047,
          -24.609878540039062,
          -10.733268737792969,
          5.285315036773682,
          -37.521270751953125,
          90.90129089355469,
          -38.55194091796875,
          71.02083587646484,
          60.87397003173828,
          29.25202178955078,
          -2.097097396850586,
          -14.643363952636719,
          -40.629981994628906,
          12.910009384155273,
          -39.97956848144531,
          0.5959762334823608,
          -38.588111877441406,
          -18.78282356262207,
          9.481033325195312,
          -23.23984146118164,
          -8.322504997253418,
          -55.59099578857422,
          2.9611165523529053,
          39.86199188232422,
          74.3738784790039,
          21.623920440673828,
          -72.39937591552734,
          -2.8966588973999023,
          14.721266746520996,
          10.904862403869629,
          -31.231124877929688,
          31.386064529418945,
          45.81864929199219,
          9.786694526672363,
          12.566906929016113,
          40.81541442871094,
          33.92756652832031,
          12.085836410522461,
          -4.6314311027526855,
          -8.977497100830078,
          -7.2627339363098145,
          -51.48984909057617,
          28.8112735748291,
          40.515281677246094,
          -41.33660888671875,
          -89.71060180664062,
          33.60197448730469,
          56.09895324707031,
          -34.007686614990234,
          32.58470916748047,
          7.97606897354126,
          -81.10895538330078,
          47.536678314208984,
          51.31828689575195,
          22.633922576904297,
          39.26653289794922,
          0.054921165108680725,
          62.03420639038086,
          -6.636003494262695,
          -34.27423095703125,
          8.87984848022461,
          31.84078025817871,
          47.516212463378906,
          -157.3285369873047,
          12.497199058532715,
          -25.94940757751465,
          -12.234213829040527,
          -26.145029067993164,
          -44.44751739501953,
          -33.12473678588867,
          6.65916109085083,
          -15.190357208251953,
          25.137964248657227,
          19.821653366088867,
          32.393123626708984,
          -67.87554931640625,
          22.86843490600586,
          77.05207824707031,
          36.16291046142578,
          -58.291229248046875,
          33.307064056396484,
          49.88703918457031,
          -61.66318893432617,
          8.099257469177246,
          23.920053482055664,
          -16.871360778808594,
          15.145402908325195,
          -11.138328552246094,
          -12.626270294189453,
          8.748482704162598,
          -56.2539176940918,
          -66.23615264892578,
          25.26565170288086,
          -46.70296096801758,
          34.526397705078125,
          5.724255561828613,
          14.987292289733887,
          -2.0405943393707275,
          -6.060772895812988,
          -77.4378433227539,
          -21.203250885009766,
          8.086814880371094,
          -14.367905616760254,
          -0.9379960298538208,
          12.141270637512207,
          11.387834548950195,
          2.8278520107269287,
          -22.781557083129883,
          6.0243330001831055,
          1.2225582599639893,
          24.424732208251953,
          -49.3075065612793,
          70.85765838623047,
          -18.398765563964844,
          -4.320849895477295,
          -11.763277053833008,
          -51.536678314208984,
          -77.35105895996094,
          57.33865737915039,
          -22.546218872070312,
          -35.01305389404297,
          -10.833110809326172,
          -38.31770324707031,
          40.18419647216797,
          -38.06278610229492,
          -61.84995651245117,
          -65.22249603271484,
          48.24135208129883,
          -22.084457397460938,
          22.20902442932129,
          2.325415849685669,
          -35.75759506225586,
          22.423357009887695,
          -20.625356674194336,
          26.43853187561035,
          -25.96347427368164,
          8.927303314208984,
          -23.477005004882812,
          60.04984664916992,
          48.19770431518555,
          45.88911819458008,
          63.145179748535156,
          14.114727973937988,
          -25.321596145629883,
          21.193029403686523,
          2.7683603763580322,
          35.01613998413086,
          -65.08828735351562,
          -76.2759017944336,
          -38.5745964050293,
          75.85037231445312,
          46.91039276123047,
          9.2050142288208,
          40.223228454589844,
          -14.693970680236816,
          48.027915954589844,
          46.192100524902344,
          30.69215965270996,
          23.774568557739258,
          -38.043846130371094,
          -69.96182250976562,
          5.7217698097229,
          -32.98487854003906,
          0.12952820956707,
          -2.886751890182495,
          1.8461618423461914,
          2.7882730960845947,
          -4.940483570098877,
          47.185791015625,
          15.500784873962402,
          -51.82185363769531,
          -55.20541000366211,
          27.015602111816406
         ]
        }
       ],
       "layout": {
        "margin": {
         "b": 0,
         "l": 0,
         "r": 0,
         "t": 40
        },
        "scene": {
         "xaxis": {
          "title": {
           "text": "t-SNE Dimension 1"
          }
         },
         "yaxis": {
          "title": {
           "text": "t-SNE Dimension 2"
          }
         },
         "zaxis": {
          "title": {
           "text": "t-SNE Dimension 3"
          }
         }
        },
        "template": {
         "data": {
          "bar": [
           {
            "error_x": {
             "color": "#2a3f5f"
            },
            "error_y": {
             "color": "#2a3f5f"
            },
            "marker": {
             "line": {
              "color": "#E5ECF6",
              "width": 0.5
             },
             "pattern": {
              "fillmode": "overlay",
              "size": 10,
              "solidity": 0.2
             }
            },
            "type": "bar"
           }
          ],
          "barpolar": [
           {
            "marker": {
             "line": {
              "color": "#E5ECF6",
              "width": 0.5
             },
             "pattern": {
              "fillmode": "overlay",
              "size": 10,
              "solidity": 0.2
             }
            },
            "type": "barpolar"
           }
          ],
          "carpet": [
           {
            "aaxis": {
             "endlinecolor": "#2a3f5f",
             "gridcolor": "white",
             "linecolor": "white",
             "minorgridcolor": "white",
             "startlinecolor": "#2a3f5f"
            },
            "baxis": {
             "endlinecolor": "#2a3f5f",
             "gridcolor": "white",
             "linecolor": "white",
             "minorgridcolor": "white",
             "startlinecolor": "#2a3f5f"
            },
            "type": "carpet"
           }
          ],
          "choropleth": [
           {
            "colorbar": {
             "outlinewidth": 0,
             "ticks": ""
            },
            "type": "choropleth"
           }
          ],
          "contour": [
           {
            "colorbar": {
             "outlinewidth": 0,
             "ticks": ""
            },
            "colorscale": [
             [
              0,
              "#0d0887"
             ],
             [
              0.1111111111111111,
              "#46039f"
             ],
             [
              0.2222222222222222,
              "#7201a8"
             ],
             [
              0.3333333333333333,
              "#9c179e"
             ],
             [
              0.4444444444444444,
              "#bd3786"
             ],
             [
              0.5555555555555556,
              "#d8576b"
             ],
             [
              0.6666666666666666,
              "#ed7953"
             ],
             [
              0.7777777777777778,
              "#fb9f3a"
             ],
             [
              0.8888888888888888,
              "#fdca26"
             ],
             [
              1,
              "#f0f921"
             ]
            ],
            "type": "contour"
           }
          ],
          "contourcarpet": [
           {
            "colorbar": {
             "outlinewidth": 0,
             "ticks": ""
            },
            "type": "contourcarpet"
           }
          ],
          "heatmap": [
           {
            "colorbar": {
             "outlinewidth": 0,
             "ticks": ""
            },
            "colorscale": [
             [
              0,
              "#0d0887"
             ],
             [
              0.1111111111111111,
              "#46039f"
             ],
             [
              0.2222222222222222,
              "#7201a8"
             ],
             [
              0.3333333333333333,
              "#9c179e"
             ],
             [
              0.4444444444444444,
              "#bd3786"
             ],
             [
              0.5555555555555556,
              "#d8576b"
             ],
             [
              0.6666666666666666,
              "#ed7953"
             ],
             [
              0.7777777777777778,
              "#fb9f3a"
             ],
             [
              0.8888888888888888,
              "#fdca26"
             ],
             [
              1,
              "#f0f921"
             ]
            ],
            "type": "heatmap"
           }
          ],
          "heatmapgl": [
           {
            "colorbar": {
             "outlinewidth": 0,
             "ticks": ""
            },
            "colorscale": [
             [
              0,
              "#0d0887"
             ],
             [
              0.1111111111111111,
              "#46039f"
             ],
             [
              0.2222222222222222,
              "#7201a8"
             ],
             [
              0.3333333333333333,
              "#9c179e"
             ],
             [
              0.4444444444444444,
              "#bd3786"
             ],
             [
              0.5555555555555556,
              "#d8576b"
             ],
             [
              0.6666666666666666,
              "#ed7953"
             ],
             [
              0.7777777777777778,
              "#fb9f3a"
             ],
             [
              0.8888888888888888,
              "#fdca26"
             ],
             [
              1,
              "#f0f921"
             ]
            ],
            "type": "heatmapgl"
           }
          ],
          "histogram": [
           {
            "marker": {
             "pattern": {
              "fillmode": "overlay",
              "size": 10,
              "solidity": 0.2
             }
            },
            "type": "histogram"
           }
          ],
          "histogram2d": [
           {
            "colorbar": {
             "outlinewidth": 0,
             "ticks": ""
            },
            "colorscale": [
             [
              0,
              "#0d0887"
             ],
             [
              0.1111111111111111,
              "#46039f"
             ],
             [
              0.2222222222222222,
              "#7201a8"
             ],
             [
              0.3333333333333333,
              "#9c179e"
             ],
             [
              0.4444444444444444,
              "#bd3786"
             ],
             [
              0.5555555555555556,
              "#d8576b"
             ],
             [
              0.6666666666666666,
              "#ed7953"
             ],
             [
              0.7777777777777778,
              "#fb9f3a"
             ],
             [
              0.8888888888888888,
              "#fdca26"
             ],
             [
              1,
              "#f0f921"
             ]
            ],
            "type": "histogram2d"
           }
          ],
          "histogram2dcontour": [
           {
            "colorbar": {
             "outlinewidth": 0,
             "ticks": ""
            },
            "colorscale": [
             [
              0,
              "#0d0887"
             ],
             [
              0.1111111111111111,
              "#46039f"
             ],
             [
              0.2222222222222222,
              "#7201a8"
             ],
             [
              0.3333333333333333,
              "#9c179e"
             ],
             [
              0.4444444444444444,
              "#bd3786"
             ],
             [
              0.5555555555555556,
              "#d8576b"
             ],
             [
              0.6666666666666666,
              "#ed7953"
             ],
             [
              0.7777777777777778,
              "#fb9f3a"
             ],
             [
              0.8888888888888888,
              "#fdca26"
             ],
             [
              1,
              "#f0f921"
             ]
            ],
            "type": "histogram2dcontour"
           }
          ],
          "mesh3d": [
           {
            "colorbar": {
             "outlinewidth": 0,
             "ticks": ""
            },
            "type": "mesh3d"
           }
          ],
          "parcoords": [
           {
            "line": {
             "colorbar": {
              "outlinewidth": 0,
              "ticks": ""
             }
            },
            "type": "parcoords"
           }
          ],
          "pie": [
           {
            "automargin": true,
            "type": "pie"
           }
          ],
          "scatter": [
           {
            "fillpattern": {
             "fillmode": "overlay",
             "size": 10,
             "solidity": 0.2
            },
            "type": "scatter"
           }
          ],
          "scatter3d": [
           {
            "line": {
             "colorbar": {
              "outlinewidth": 0,
              "ticks": ""
             }
            },
            "marker": {
             "colorbar": {
              "outlinewidth": 0,
              "ticks": ""
             }
            },
            "type": "scatter3d"
           }
          ],
          "scattercarpet": [
           {
            "marker": {
             "colorbar": {
              "outlinewidth": 0,
              "ticks": ""
             }
            },
            "type": "scattercarpet"
           }
          ],
          "scattergeo": [
           {
            "marker": {
             "colorbar": {
              "outlinewidth": 0,
              "ticks": ""
             }
            },
            "type": "scattergeo"
           }
          ],
          "scattergl": [
           {
            "marker": {
             "colorbar": {
              "outlinewidth": 0,
              "ticks": ""
             }
            },
            "type": "scattergl"
           }
          ],
          "scattermapbox": [
           {
            "marker": {
             "colorbar": {
              "outlinewidth": 0,
              "ticks": ""
             }
            },
            "type": "scattermapbox"
           }
          ],
          "scatterpolar": [
           {
            "marker": {
             "colorbar": {
              "outlinewidth": 0,
              "ticks": ""
             }
            },
            "type": "scatterpolar"
           }
          ],
          "scatterpolargl": [
           {
            "marker": {
             "colorbar": {
              "outlinewidth": 0,
              "ticks": ""
             }
            },
            "type": "scatterpolargl"
           }
          ],
          "scatterternary": [
           {
            "marker": {
             "colorbar": {
              "outlinewidth": 0,
              "ticks": ""
             }
            },
            "type": "scatterternary"
           }
          ],
          "surface": [
           {
            "colorbar": {
             "outlinewidth": 0,
             "ticks": ""
            },
            "colorscale": [
             [
              0,
              "#0d0887"
             ],
             [
              0.1111111111111111,
              "#46039f"
             ],
             [
              0.2222222222222222,
              "#7201a8"
             ],
             [
              0.3333333333333333,
              "#9c179e"
             ],
             [
              0.4444444444444444,
              "#bd3786"
             ],
             [
              0.5555555555555556,
              "#d8576b"
             ],
             [
              0.6666666666666666,
              "#ed7953"
             ],
             [
              0.7777777777777778,
              "#fb9f3a"
             ],
             [
              0.8888888888888888,
              "#fdca26"
             ],
             [
              1,
              "#f0f921"
             ]
            ],
            "type": "surface"
           }
          ],
          "table": [
           {
            "cells": {
             "fill": {
              "color": "#EBF0F8"
             },
             "line": {
              "color": "white"
             }
            },
            "header": {
             "fill": {
              "color": "#C8D4E3"
             },
             "line": {
              "color": "white"
             }
            },
            "type": "table"
           }
          ]
         },
         "layout": {
          "annotationdefaults": {
           "arrowcolor": "#2a3f5f",
           "arrowhead": 0,
           "arrowwidth": 1
          },
          "autotypenumbers": "strict",
          "coloraxis": {
           "colorbar": {
            "outlinewidth": 0,
            "ticks": ""
           }
          },
          "colorscale": {
           "diverging": [
            [
             0,
             "#8e0152"
            ],
            [
             0.1,
             "#c51b7d"
            ],
            [
             0.2,
             "#de77ae"
            ],
            [
             0.3,
             "#f1b6da"
            ],
            [
             0.4,
             "#fde0ef"
            ],
            [
             0.5,
             "#f7f7f7"
            ],
            [
             0.6,
             "#e6f5d0"
            ],
            [
             0.7,
             "#b8e186"
            ],
            [
             0.8,
             "#7fbc41"
            ],
            [
             0.9,
             "#4d9221"
            ],
            [
             1,
             "#276419"
            ]
           ],
           "sequential": [
            [
             0,
             "#0d0887"
            ],
            [
             0.1111111111111111,
             "#46039f"
            ],
            [
             0.2222222222222222,
             "#7201a8"
            ],
            [
             0.3333333333333333,
             "#9c179e"
            ],
            [
             0.4444444444444444,
             "#bd3786"
            ],
            [
             0.5555555555555556,
             "#d8576b"
            ],
            [
             0.6666666666666666,
             "#ed7953"
            ],
            [
             0.7777777777777778,
             "#fb9f3a"
            ],
            [
             0.8888888888888888,
             "#fdca26"
            ],
            [
             1,
             "#f0f921"
            ]
           ],
           "sequentialminus": [
            [
             0,
             "#0d0887"
            ],
            [
             0.1111111111111111,
             "#46039f"
            ],
            [
             0.2222222222222222,
             "#7201a8"
            ],
            [
             0.3333333333333333,
             "#9c179e"
            ],
            [
             0.4444444444444444,
             "#bd3786"
            ],
            [
             0.5555555555555556,
             "#d8576b"
            ],
            [
             0.6666666666666666,
             "#ed7953"
            ],
            [
             0.7777777777777778,
             "#fb9f3a"
            ],
            [
             0.8888888888888888,
             "#fdca26"
            ],
            [
             1,
             "#f0f921"
            ]
           ]
          },
          "colorway": [
           "#636efa",
           "#EF553B",
           "#00cc96",
           "#ab63fa",
           "#FFA15A",
           "#19d3f3",
           "#FF6692",
           "#B6E880",
           "#FF97FF",
           "#FECB52"
          ],
          "font": {
           "color": "#2a3f5f"
          },
          "geo": {
           "bgcolor": "white",
           "lakecolor": "white",
           "landcolor": "#E5ECF6",
           "showlakes": true,
           "showland": true,
           "subunitcolor": "white"
          },
          "hoverlabel": {
           "align": "left"
          },
          "hovermode": "closest",
          "mapbox": {
           "style": "light"
          },
          "paper_bgcolor": "white",
          "plot_bgcolor": "#E5ECF6",
          "polar": {
           "angularaxis": {
            "gridcolor": "white",
            "linecolor": "white",
            "ticks": ""
           },
           "bgcolor": "#E5ECF6",
           "radialaxis": {
            "gridcolor": "white",
            "linecolor": "white",
            "ticks": ""
           }
          },
          "scene": {
           "xaxis": {
            "backgroundcolor": "#E5ECF6",
            "gridcolor": "white",
            "gridwidth": 2,
            "linecolor": "white",
            "showbackground": true,
            "ticks": "",
            "zerolinecolor": "white"
           },
           "yaxis": {
            "backgroundcolor": "#E5ECF6",
            "gridcolor": "white",
            "gridwidth": 2,
            "linecolor": "white",
            "showbackground": true,
            "ticks": "",
            "zerolinecolor": "white"
           },
           "zaxis": {
            "backgroundcolor": "#E5ECF6",
            "gridcolor": "white",
            "gridwidth": 2,
            "linecolor": "white",
            "showbackground": true,
            "ticks": "",
            "zerolinecolor": "white"
           }
          },
          "shapedefaults": {
           "line": {
            "color": "#2a3f5f"
           }
          },
          "ternary": {
           "aaxis": {
            "gridcolor": "white",
            "linecolor": "white",
            "ticks": ""
           },
           "baxis": {
            "gridcolor": "white",
            "linecolor": "white",
            "ticks": ""
           },
           "bgcolor": "#E5ECF6",
           "caxis": {
            "gridcolor": "white",
            "linecolor": "white",
            "ticks": ""
           }
          },
          "title": {
           "x": 0.05
          },
          "xaxis": {
           "automargin": true,
           "gridcolor": "white",
           "linecolor": "white",
           "ticks": "",
           "title": {
            "standoff": 15
           },
           "zerolinecolor": "white",
           "zerolinewidth": 2
          },
          "yaxis": {
           "automargin": true,
           "gridcolor": "white",
           "linecolor": "white",
           "ticks": "",
           "title": {
            "standoff": 15
           },
           "zerolinecolor": "white",
           "zerolinewidth": 2
          }
         }
        },
        "title": {
         "text": "SapBERT Embeddings in 3D"
        }
       }
      }
     },
     "metadata": {},
     "output_type": "display_data"
    }
   ],
   "source": [
    "from hierarchy_functions import graph_reduced_in_3d\n",
    "\n",
    "graph_reduced_in_3d(embedding_matrix, embedding_names, title='SapBERT Embeddings in 3D')"
   ]
  },
  {
   "cell_type": "code",
   "execution_count": 16,
   "metadata": {},
   "outputs": [
    {
     "data": {
      "application/vnd.plotly.v1+json": {
       "config": {
        "plotlyServerURL": "https://plot.ly"
       },
       "data": [
        {
         "marker": {
          "opacity": 0.8,
          "size": 5
         },
         "mode": "markers+text",
         "text": [
          "Economic status",
          "Risk of cardiovascular disease",
          "Interleukin-6",
          "Removal of thrombus",
          "Depressive disorder",
          "Smoker",
          "Pulmonary embolism",
          "Encephalitis",
          "Low sodium diet",
          "Myocardial infarction due to demand ischemia",
          "Surgical procedure",
          "Arteriosclerosis",
          "Fracture of bone",
          "Antidepressant therapy",
          "Complicated atheromatous plaque",
          "Immunosuppression",
          "Myocardial infarction due to atherothrombotic coronary artery disease",
          "Myocardial infarction",
          "Activities of daily living assessment",
          "Increased body mass index",
          "Hypertension complicating pregnancy",
          "Mediterranean diet",
          "Lipoprotein (a) hyperlipoproteinemia",
          "Inflammation of specific body structures or tissue",
          "Heavy drinker",
          "Chemotherapy",
          "High carbohydrate diet",
          "Disability",
          "Hypertensive disorder",
          "Cachexia",
          "Primary prevention",
          "Physical fitness state",
          "Finding of oxygen saturation",
          "Lacunar infarction",
          "Spasticity",
          "Kidney disease",
          "Hypercoagulability state",
          "Carotid endarterectomy",
          "Stress",
          "Social worker involved",
          "Sequelae of neurological disorders",
          "Age factor",
          "Delirium",
          "Bleeding",
          "Male",
          "Cardiac syndrome X",
          "Cerebral atrophy",
          "Pre-eclampsia",
          "Current drinker",
          "DNA damage",
          "Infectious disease",
          "Embolism",
          "Atrial fibrillation",
          "Malignant neoplastic disease",
          "Dysfunction of urinary bladder",
          "Glucagon-like peptide 1 receptor agonist",
          "Assessment using National Institutes of Health stroke scale",
          "Low blood pressure",
          "Cerebral venous sinus thrombosis",
          "Falls",
          "Urinary incontinence",
          "Takotsubo cardiomyopathy",
          "Acute infective endocarditis",
          "Deep venous thrombosis",
          "Endocarditis",
          "Hypercholesterolemia",
          "Genetic predisposition",
          "Nutritional disorder",
          "Vasculitis",
          "Heart disease",
          "Injection of botulinum toxin",
          "Migraine with aura",
          "Ischemic stroke",
          "Insulin resistance",
          "Pain management",
          "Aspiration",
          "Acute heart failure",
          "Antibiotic therapy",
          "Percutaneous transluminal procedure on blood vessel",
          "Postprocedural recovery status",
          "Exercises regularly",
          "Gestational diabetes mellitus complicating pregnancy",
          "Catecholamine level - finding",
          "Education and/or schooling finding",
          "Urinary tract infectious disease",
          "Seizure",
          "FH: Cardiovascular disease",
          "Finding of lesion",
          "Smoking cessation therapy",
          "Troponin",
          "Lesion of brain",
          "Secondary prevention",
          "Paralysis",
          "Metabolic syndrome X",
          "Body temperature above reference range",
          "Dyslipidemia",
          "Moderate drinker",
          "Heart failure",
          "Stenosis",
          "Blood-brain barrier",
          "Pneumonia",
          "Prediabetes",
          "Speech therapy",
          "Insertion of carotid artery stent",
          "Pregnancy",
          "Thrombosis",
          "Dyssomnia",
          "Dissection of artery",
          "Procedure involving urinary catheter",
          "C-reactive protein above reference range",
          "Blood glucose management",
          "Atherosclerosis",
          "Impaired mobility",
          "Functionally dependent",
          "Impaired cognition",
          "Eclampsia",
          "Decreased alcohol consumption",
          "Blood glucose level - finding",
          "Disorder of cardiac function",
          "Cognitive skills training",
          "Anticoagulant therapy",
          "Silent micro-hemorrhage of brain",
          "Gets no exercise",
          "Dissection of cerebral artery",
          "Dysphagia",
          "Passive smoker",
          "Uses oral contraception",
          "Cerebral infarction",
          "High fat diet",
          "Vascular disorder",
          "Weight loss",
          "Psychotherapy",
          "Thiazolidinedione",
          "Organ or tissue vascular perfusion decreased",
          "Continuous positive airway pressure ventilation treatment",
          "Chronic kidney disease",
          "N-terminal pro-B-type natriuretic peptide",
          "Thrombolysis of artery",
          "Cardiac arrhythmia",
          "Death",
          "Healthy diet",
          "Quality of life satisfaction",
          "Pain",
          "Lesion size",
          "Decreased vascular flow",
          "Disorder of glucose metabolism",
          "Care regime",
          "Transient cerebral ischemia",
          "Epilepsy due to cerebrovascular accident",
          "Congenital malformation",
          "Admission to stroke unit",
          "Complete obstruction",
          "Physical therapy procedure",
          "Diabetes mellitus",
          "Endarterectomy",
          "Migraine",
          "Glomerular filtration rate",
          "Finding of renal function",
          "Systemic inflammatory response syndrome",
          "Family history of stroke",
          "Thrombus of cardiac chamber",
          "Female sex hormones - serum level - finding",
          "Cardiac troponin T",
          "Chronic heart failure",
          "Assessment using Modified Rankin Scale",
          "Patent foramen ovale",
          "Sodium glucose cotransporter subtype 2 inhibitor",
          "Angioplasty of carotid artery",
          "Antihypertensive therapy",
          "Administration of prophylactic statin",
          "Hyperlipidemia",
          "Social isolation",
          "Aphasia",
          "Able to mobilize",
          "Able to cope",
          "Patient position finding",
          "Obesity",
          "Racial group",
          "Leuko-araiosis",
          "COVID-19",
          "Platelet aggregation inhibitor therapy",
          "Sleep apnea"
         ],
         "textposition": "top center",
         "type": "scatter3d",
         "x": [
          -10.787924766540527,
          3.97861647605896,
          6.0013532638549805,
          2.640166759490967,
          -6.031942844390869,
          -10.335175514221191,
          -0.687609851360321,
          3.1566312313079834,
          -5.018044948577881,
          12.110973358154297,
          -11.782925605773926,
          3.2974202632904053,
          -5.103987216949463,
          4.130691051483154,
          7.1517558097839355,
          7.0380859375,
          12.329827308654785,
          8.649203300476074,
          5.140819072723389,
          1.1019991636276245,
          10.308238983154297,
          6.063139915466309,
          12.167703628540039,
          9.131795883178711,
          -4.485193729400635,
          -5.76705265045166,
          8.457178115844727,
          -13.237682342529297,
          0.0959407165646553,
          -10.97169303894043,
          -10.648731231689453,
          -4.160531997680664,
          4.34531831741333,
          6.565709114074707,
          -6.098327159881592,
          -10.975512504577637,
          7.769540786743164,
          9.700642585754395,
          -13.117599487304688,
          -3.881340265274048,
          8.375584602355957,
          -11.121103286743164,
          -6.586400032043457,
          -13.268383026123047,
          -13.404770851135254,
          -5.183797836303711,
          0.17166303098201752,
          5.88605260848999,
          -4.412143707275391,
          -4.7357025146484375,
          -11.77004623413086,
          -6.8279242515563965,
          5.734349250793457,
          8.476044654846191,
          9.878863334655762,
          11.76164722442627,
          9.611227035522461,
          -5.191254138946533,
          10.459941864013672,
          -13.281218528747559,
          8.084429740905762,
          10.660897254943848,
          9.461573600769043,
          8.172272682189941,
          0.07998597621917725,
          7.72181510925293,
          0.1464897096157074,
          -5.303747653961182,
          3.524181842803955,
          -10.718782424926758,
          9.321684837341309,
          3.7301783561706543,
          -0.16550081968307495,
          -10.703929901123047,
          -11.162188529968262,
          -11.351978302001953,
          -5.800714015960693,
          -5.251649379730225,
          10.878952026367188,
          6.489258766174316,
          -10.921037673950195,
          11.66153335571289,
          8.683859825134277,
          6.855010509490967,
          6.930887222290039,
          -13.034399032592773,
          6.293768405914307,
          0.40845751762390137,
          4.620247840881348,
          0.08519525825977325,
          0.45640793442726135,
          -11.010167121887207,
          -11.377604484558105,
          -5.118210792541504,
          4.263882637023926,
          3.4086530208587646,
          -4.367033958435059,
          -10.475980758666992,
          -6.378156661987305,
          0.8678902983665466,
          -13.069568634033203,
          0.3809421956539154,
          -11.71001148223877,
          10.542398452758789,
          -12.854254722595215,
          -0.6929433345794678,
          3.584581136703491,
          3.66121768951416,
          9.968572616577148,
          7.778356075286865,
          -4.671689033508301,
          3.06187105178833,
          -11.430459022521973,
          -5.094350337982178,
          -5.3913373947143555,
          0.6161763072013855,
          -4.31015157699585,
          4.317023754119873,
          0.2814621329307556,
          -4.841376304626465,
          4.161839008331299,
          10.62617015838623,
          -4.229722023010254,
          6.068480968475342,
          0.3708597719669342,
          -4.121249675750732,
          4.201117515563965,
          0.08816039562225342,
          -4.954224586486816,
          -11.616802215576172,
          -11.321903228759766,
          -5.552944660186768,
          6.9540228843688965,
          9.234912872314453,
          8.240994453430176,
          -5.771012306213379,
          11.928837776184082,
          8.302308082580566,
          6.397654056549072,
          -12.868607521057129,
          -10.608654975891113,
          1.3487588167190552,
          -13.28566837310791,
          -3.928126096725464,
          -4.340683460235596,
          0.244933620095253,
          -11.785005569458008,
          6.25593900680542,
          11.281086921691895,
          8.331680297851562,
          1.1844120025634766,
          -0.6335251927375793,
          -4.363301753997803,
          -0.08761245012283325,
          3.53212833404541,
          -6.9729413986206055,
          8.443214416503906,
          4.123063087463379,
          0.8297808170318604,
          1.0282349586486816,
          6.324375629425049,
          9.687636375427246,
          6.0916876792907715,
          -5.968453407287598,
          5.680769920349121,
          6.563606262207031,
          11.545101165771484,
          10.87985610961914,
          7.059414386749268,
          9.601751327514648,
          3.271183729171753,
          -11.10405158996582,
          -6.414015769958496,
          1.052886962890625,
          -4.524104118347168,
          -3.787106990814209,
          -10.71491813659668,
          -11.183974266052246,
          8.509281158447266,
          0.8288016319274902,
          8.272068977355957,
          -0.014909936115145683
         ],
         "y": [
          -2.9474263191223145,
          0.741126537322998,
          0.16141125559806824,
          0.6441705822944641,
          -0.5883827805519104,
          -2.2582545280456543,
          0.5491521954536438,
          1.109086036682129,
          1.215926170349121,
          0.9348276853561401,
          -2.2418665885925293,
          1.2582550048828125,
          0.7520562410354614,
          1.4236596822738647,
          -0.06624134629964828,
          1.2117222547531128,
          1.1181399822235107,
          0.5944859385490417,
          1.396116018295288,
          -0.09731408953666687,
          1.1539692878723145,
          -0.36105477809906006,
          0.9058904051780701,
          0.9019990563392639,
          0.23142924904823303,
          -1.3687771558761597,
          1.2719295024871826,
          -0.3670344650745392,
          0.21163471043109894,
          -1.3973859548568726,
          -2.5491199493408203,
          -0.31744641065597534,
          0.7015411853790283,
          0.3406484127044678,
          -0.6455977559089661,
          -1.7766779661178589,
          0.9139937162399292,
          -0.6678805351257324,
          -0.5792015790939331,
          -1.0432612895965576,
          0.005322132259607315,
          -3.101135730743408,
          -0.4921469986438751,
          -0.3560507297515869,
          -0.53445965051651,
          0.14403073489665985,
          0.9367911219596863,
          -0.1830626279115677,
          -0.06240646913647652,
          0.16468124091625214,
          -1.5794285535812378,
          -0.6811996102333069,
          0.7033323049545288,
          0.12192989885807037,
          0.672478973865509,
          0.2046387493610382,
          -0.3594036102294922,
          1.0264718532562256,
          0.3579443097114563,
          -0.5839369893074036,
          0.48950809240341187,
          0.13100452721118927,
          0.2580459713935852,
          0.6657466888427734,
          0.8906781077384949,
          1.039995789527893,
          1.7271294593811035,
          -0.15253688395023346,
          1.211525797843933,
          -1.8442550897598267,
          -0.8907391428947449,
          0.2939918041229248,
          0.480890154838562,
          -1.6629207134246826,
          -2.286203145980835,
          -1.5029091835021973,
          0.48081284761428833,
          -1.1561859846115112,
          0.2905738949775696,
          1.528087854385376,
          -2.4014804363250732,
          0.5409126281738281,
          0.7322776913642883,
          0.4336552321910858,
          0.5325958728790283,
          -0.23503275215625763,
          0.6071242690086365,
          0.516666829586029,
          1.4006547927856445,
          1.665719747543335,
          0.4021182358264923,
          -2.1876583099365234,
          -1.0387572050094604,
          0.0625990629196167,
          0.8879849314689636,
          0.8276854157447815,
          0.2124178409576416,
          -1.6547249555587769,
          -0.5129802227020264,
          -0.17359401285648346,
          -0.18469494581222534,
          0.9798902869224548,
          -2.4188473224639893,
          -0.2873115539550781,
          -0.3356184959411621,
          0.7780925631523132,
          0.9875870943069458,
          0.6698184609413147,
          0.6951817870140076,
          0.8130602836608887,
          0.4437657594680786,
          1.2737771272659302,
          -1.7747406959533691,
          0.34598681330680847,
          -0.29617443680763245,
          0.8537730574607849,
          1.3421282768249512,
          0.7145624160766602,
          0.3378107249736786,
          -0.5667487382888794,
          1.3826080560684204,
          0.5337940454483032,
          1.0076946020126343,
          0.465334415435791,
          0.6586357951164246,
          0.12404050678014755,
          1.6698684692382812,
          0.4809073209762573,
          1.148032546043396,
          -1.6488045454025269,
          -2.289748430252075,
          -1.3287979364395142,
          -0.5843390822410583,
          0.8905799388885498,
          1.3630075454711914,
          0.47920364141464233,
          -0.003693385748192668,
          0.42101535201072693,
          0.7314498424530029,
          -0.522076427936554,
          -2.5339863300323486,
          0.5179277658462524,
          -0.3735983967781067,
          0.3169511556625366,
          1.164811134338379,
          0.25541576743125916,
          -2.175896167755127,
          0.4415663480758667,
          0.26814186573028564,
          0.04227310046553612,
          0.5884460210800171,
          0.6391393542289734,
          -0.7725728154182434,
          0.07196874171495438,
          1.5822370052337646,
          -0.4310069978237152,
          1.1472020149230957,
          0.6326698660850525,
          0.2937789559364319,
          0.7820399403572083,
          0.5902792811393738,
          0.8860666751861572,
          -0.24324020743370056,
          0.3726779520511627,
          1.1301906108856201,
          -0.25169482827186584,
          -0.02727404609322548,
          -0.048468414694070816,
          1.175513744354248,
          -0.11574483662843704,
          0.6998291015625,
          -2.7391042709350586,
          -0.580228865146637,
          0.5367209911346436,
          -1.083375334739685,
          0.35753333568573,
          -1.9272420406341553,
          -2.809394359588623,
          0.19098393619060516,
          -0.3034350872039795,
          0.7415487170219421,
          0.19464141130447388
         ],
         "z": [
          3.2327377796173096,
          -1.9345399141311646,
          -3.393319845199585,
          -1.4696229696273804,
          4.072165489196777,
          3.3150343894958496,
          1.1201456785202026,
          -0.1553293913602829,
          3.9992945194244385,
          -4.671568870544434,
          3.081005573272705,
          -0.23383459448814392,
          3.241010904312134,
          -0.8722905516624451,
          -2.735832929611206,
          -2.1089565753936768,
          -4.670530319213867,
          -3.1940605640411377,
          -3.3953592777252197,
          0.549190878868103,
          -3.8598804473876953,
          -3.002880334854126,
          -4.722124099731445,
          -5.426290035247803,
          4.383362770080566,
          3.4389095306396484,
          -4.0106306076049805,
          4.448207855224609,
          0.9266837239265442,
          3.0789284706115723,
          3.9677202701568604,
          2.9678590297698975,
          -2.4805214405059814,
          -2.8760671615600586,
          4.633799076080322,
          3.3594322204589844,
          -2.149867057800293,
          -3.6328625679016113,
          4.847113132476807,
          3.7206873893737793,
          -3.2787563800811768,
          3.401172161102295,
          4.289708137512207,
          4.77095365524292,
          4.574077129364014,
          3.0499229431152344,
          0.728810727596283,
          -2.4688477516174316,
          4.622271537780762,
          3.242591142654419,
          3.030848741531372,
          3.6126935482025146,
          -1.632169485092163,
          -2.8930883407592773,
          -3.902414560317993,
          -5.067417621612549,
          -5.362355709075928,
          3.9473483562469482,
          -3.9384307861328125,
          4.7239580154418945,
          -2.2014617919921875,
          -3.5812156200408936,
          -3.8812434673309326,
          -3.0023157596588135,
          0.6447355151176453,
          -1.9733660221099854,
          0.5308542847633362,
          3.871926784515381,
          -0.2576218247413635,
          2.964054822921753,
          -4.205477714538574,
          -0.33926647901535034,
          0.8087215423583984,
          3.687716245651245,
          2.848324775695801,
          3.834897994995117,
          3.7788047790527344,
          3.4569931030273438,
          -4.558711051940918,
          -3.3891172409057617,
          2.484738826751709,
          -4.619042873382568,
          -4.482962131500244,
          -4.783218860626221,
          -2.8224520683288574,
          4.549493789672852,
          -3.6436188220977783,
          -0.9022650718688965,
          -1.2423828840255737,
          1.5074703693389893,
          -0.5495709776878357,
          4.144814968109131,
          3.578677177429199,
          2.948408842086792,
          -2.438873767852783,
          -0.769280731678009,
          4.4513654708862305,
          3.0229721069335938,
          3.6664679050445557,
          -0.3305862545967102,
          4.655735015869141,
          1.4416970014572144,
          3.3498191833496094,
          -4.411825180053711,
          4.795990943908691,
          1.0312038660049438,
          -0.5300453901290894,
          -1.62724769115448,
          -4.1448540687561035,
          -4.4172844886779785,
          3.5656588077545166,
          -0.009873507544398308,
          2.8322603702545166,
          5.198573589324951,
          4.154974937438965,
          0.9596666097640991,
          4.05753231048584,
          -2.4123828411102295,
          -0.21786418557167053,
          3.9440102577209473,
          -0.8869152069091797,
          -4.6004133224487305,
          2.557888984680176,
          -2.763301134109497,
          1.49653959274292,
          4.188755989074707,
          -1.8337761163711548,
          0.44031840562820435,
          4.021498680114746,
          3.539677143096924,
          3.8749194145202637,
          3.474710702896118,
          -3.570082187652588,
          -5.286311626434326,
          -4.094354629516602,
          3.9899518489837646,
          -5.203701972961426,
          -3.6067516803741455,
          -2.110642910003662,
          4.831657886505127,
          3.0273962020874023,
          -0.32930660247802734,
          4.504056453704834,
          3.5648019313812256,
          4.047062873840332,
          -0.2842274606227875,
          3.6894984245300293,
          -2.3033204078674316,
          -4.349795818328857,
          -2.616079807281494,
          -0.3663646876811981,
          0.3500586152076721,
          3.32492733001709,
          1.136897325515747,
          -0.3769814372062683,
          4.410679340362549,
          -3.0626933574676514,
          -2.2635467052459717,
          -0.10071340203285217,
          -0.21778342127799988,
          -2.937136650085449,
          -4.8269524574279785,
          -3.4074676036834717,
          3.8727593421936035,
          -4.1624321937561035,
          -2.242837905883789,
          -5.221320629119873,
          -4.433935165405273,
          -2.5338711738586426,
          -4.741873741149902,
          -0.7952176332473755,
          2.8526906967163086,
          4.422601222991943,
          -1.3679040670394897,
          4.727962493896484,
          3.3278074264526367,
          3.506814479827881,
          3.5590765476226807,
          -4.129053592681885,
          -0.6745868921279907,
          -3.695430040359497,
          1.3473398685455322
         ]
        }
       ],
       "layout": {
        "margin": {
         "b": 0,
         "l": 0,
         "r": 0,
         "t": 40
        },
        "scene": {
         "xaxis": {
          "title": {
           "text": "t-SNE Dimension 1"
          }
         },
         "yaxis": {
          "title": {
           "text": "t-SNE Dimension 2"
          }
         },
         "zaxis": {
          "title": {
           "text": "t-SNE Dimension 3"
          }
         }
        },
        "template": {
         "data": {
          "bar": [
           {
            "error_x": {
             "color": "#2a3f5f"
            },
            "error_y": {
             "color": "#2a3f5f"
            },
            "marker": {
             "line": {
              "color": "#E5ECF6",
              "width": 0.5
             },
             "pattern": {
              "fillmode": "overlay",
              "size": 10,
              "solidity": 0.2
             }
            },
            "type": "bar"
           }
          ],
          "barpolar": [
           {
            "marker": {
             "line": {
              "color": "#E5ECF6",
              "width": 0.5
             },
             "pattern": {
              "fillmode": "overlay",
              "size": 10,
              "solidity": 0.2
             }
            },
            "type": "barpolar"
           }
          ],
          "carpet": [
           {
            "aaxis": {
             "endlinecolor": "#2a3f5f",
             "gridcolor": "white",
             "linecolor": "white",
             "minorgridcolor": "white",
             "startlinecolor": "#2a3f5f"
            },
            "baxis": {
             "endlinecolor": "#2a3f5f",
             "gridcolor": "white",
             "linecolor": "white",
             "minorgridcolor": "white",
             "startlinecolor": "#2a3f5f"
            },
            "type": "carpet"
           }
          ],
          "choropleth": [
           {
            "colorbar": {
             "outlinewidth": 0,
             "ticks": ""
            },
            "type": "choropleth"
           }
          ],
          "contour": [
           {
            "colorbar": {
             "outlinewidth": 0,
             "ticks": ""
            },
            "colorscale": [
             [
              0,
              "#0d0887"
             ],
             [
              0.1111111111111111,
              "#46039f"
             ],
             [
              0.2222222222222222,
              "#7201a8"
             ],
             [
              0.3333333333333333,
              "#9c179e"
             ],
             [
              0.4444444444444444,
              "#bd3786"
             ],
             [
              0.5555555555555556,
              "#d8576b"
             ],
             [
              0.6666666666666666,
              "#ed7953"
             ],
             [
              0.7777777777777778,
              "#fb9f3a"
             ],
             [
              0.8888888888888888,
              "#fdca26"
             ],
             [
              1,
              "#f0f921"
             ]
            ],
            "type": "contour"
           }
          ],
          "contourcarpet": [
           {
            "colorbar": {
             "outlinewidth": 0,
             "ticks": ""
            },
            "type": "contourcarpet"
           }
          ],
          "heatmap": [
           {
            "colorbar": {
             "outlinewidth": 0,
             "ticks": ""
            },
            "colorscale": [
             [
              0,
              "#0d0887"
             ],
             [
              0.1111111111111111,
              "#46039f"
             ],
             [
              0.2222222222222222,
              "#7201a8"
             ],
             [
              0.3333333333333333,
              "#9c179e"
             ],
             [
              0.4444444444444444,
              "#bd3786"
             ],
             [
              0.5555555555555556,
              "#d8576b"
             ],
             [
              0.6666666666666666,
              "#ed7953"
             ],
             [
              0.7777777777777778,
              "#fb9f3a"
             ],
             [
              0.8888888888888888,
              "#fdca26"
             ],
             [
              1,
              "#f0f921"
             ]
            ],
            "type": "heatmap"
           }
          ],
          "heatmapgl": [
           {
            "colorbar": {
             "outlinewidth": 0,
             "ticks": ""
            },
            "colorscale": [
             [
              0,
              "#0d0887"
             ],
             [
              0.1111111111111111,
              "#46039f"
             ],
             [
              0.2222222222222222,
              "#7201a8"
             ],
             [
              0.3333333333333333,
              "#9c179e"
             ],
             [
              0.4444444444444444,
              "#bd3786"
             ],
             [
              0.5555555555555556,
              "#d8576b"
             ],
             [
              0.6666666666666666,
              "#ed7953"
             ],
             [
              0.7777777777777778,
              "#fb9f3a"
             ],
             [
              0.8888888888888888,
              "#fdca26"
             ],
             [
              1,
              "#f0f921"
             ]
            ],
            "type": "heatmapgl"
           }
          ],
          "histogram": [
           {
            "marker": {
             "pattern": {
              "fillmode": "overlay",
              "size": 10,
              "solidity": 0.2
             }
            },
            "type": "histogram"
           }
          ],
          "histogram2d": [
           {
            "colorbar": {
             "outlinewidth": 0,
             "ticks": ""
            },
            "colorscale": [
             [
              0,
              "#0d0887"
             ],
             [
              0.1111111111111111,
              "#46039f"
             ],
             [
              0.2222222222222222,
              "#7201a8"
             ],
             [
              0.3333333333333333,
              "#9c179e"
             ],
             [
              0.4444444444444444,
              "#bd3786"
             ],
             [
              0.5555555555555556,
              "#d8576b"
             ],
             [
              0.6666666666666666,
              "#ed7953"
             ],
             [
              0.7777777777777778,
              "#fb9f3a"
             ],
             [
              0.8888888888888888,
              "#fdca26"
             ],
             [
              1,
              "#f0f921"
             ]
            ],
            "type": "histogram2d"
           }
          ],
          "histogram2dcontour": [
           {
            "colorbar": {
             "outlinewidth": 0,
             "ticks": ""
            },
            "colorscale": [
             [
              0,
              "#0d0887"
             ],
             [
              0.1111111111111111,
              "#46039f"
             ],
             [
              0.2222222222222222,
              "#7201a8"
             ],
             [
              0.3333333333333333,
              "#9c179e"
             ],
             [
              0.4444444444444444,
              "#bd3786"
             ],
             [
              0.5555555555555556,
              "#d8576b"
             ],
             [
              0.6666666666666666,
              "#ed7953"
             ],
             [
              0.7777777777777778,
              "#fb9f3a"
             ],
             [
              0.8888888888888888,
              "#fdca26"
             ],
             [
              1,
              "#f0f921"
             ]
            ],
            "type": "histogram2dcontour"
           }
          ],
          "mesh3d": [
           {
            "colorbar": {
             "outlinewidth": 0,
             "ticks": ""
            },
            "type": "mesh3d"
           }
          ],
          "parcoords": [
           {
            "line": {
             "colorbar": {
              "outlinewidth": 0,
              "ticks": ""
             }
            },
            "type": "parcoords"
           }
          ],
          "pie": [
           {
            "automargin": true,
            "type": "pie"
           }
          ],
          "scatter": [
           {
            "fillpattern": {
             "fillmode": "overlay",
             "size": 10,
             "solidity": 0.2
            },
            "type": "scatter"
           }
          ],
          "scatter3d": [
           {
            "line": {
             "colorbar": {
              "outlinewidth": 0,
              "ticks": ""
             }
            },
            "marker": {
             "colorbar": {
              "outlinewidth": 0,
              "ticks": ""
             }
            },
            "type": "scatter3d"
           }
          ],
          "scattercarpet": [
           {
            "marker": {
             "colorbar": {
              "outlinewidth": 0,
              "ticks": ""
             }
            },
            "type": "scattercarpet"
           }
          ],
          "scattergeo": [
           {
            "marker": {
             "colorbar": {
              "outlinewidth": 0,
              "ticks": ""
             }
            },
            "type": "scattergeo"
           }
          ],
          "scattergl": [
           {
            "marker": {
             "colorbar": {
              "outlinewidth": 0,
              "ticks": ""
             }
            },
            "type": "scattergl"
           }
          ],
          "scattermapbox": [
           {
            "marker": {
             "colorbar": {
              "outlinewidth": 0,
              "ticks": ""
             }
            },
            "type": "scattermapbox"
           }
          ],
          "scatterpolar": [
           {
            "marker": {
             "colorbar": {
              "outlinewidth": 0,
              "ticks": ""
             }
            },
            "type": "scatterpolar"
           }
          ],
          "scatterpolargl": [
           {
            "marker": {
             "colorbar": {
              "outlinewidth": 0,
              "ticks": ""
             }
            },
            "type": "scatterpolargl"
           }
          ],
          "scatterternary": [
           {
            "marker": {
             "colorbar": {
              "outlinewidth": 0,
              "ticks": ""
             }
            },
            "type": "scatterternary"
           }
          ],
          "surface": [
           {
            "colorbar": {
             "outlinewidth": 0,
             "ticks": ""
            },
            "colorscale": [
             [
              0,
              "#0d0887"
             ],
             [
              0.1111111111111111,
              "#46039f"
             ],
             [
              0.2222222222222222,
              "#7201a8"
             ],
             [
              0.3333333333333333,
              "#9c179e"
             ],
             [
              0.4444444444444444,
              "#bd3786"
             ],
             [
              0.5555555555555556,
              "#d8576b"
             ],
             [
              0.6666666666666666,
              "#ed7953"
             ],
             [
              0.7777777777777778,
              "#fb9f3a"
             ],
             [
              0.8888888888888888,
              "#fdca26"
             ],
             [
              1,
              "#f0f921"
             ]
            ],
            "type": "surface"
           }
          ],
          "table": [
           {
            "cells": {
             "fill": {
              "color": "#EBF0F8"
             },
             "line": {
              "color": "white"
             }
            },
            "header": {
             "fill": {
              "color": "#C8D4E3"
             },
             "line": {
              "color": "white"
             }
            },
            "type": "table"
           }
          ]
         },
         "layout": {
          "annotationdefaults": {
           "arrowcolor": "#2a3f5f",
           "arrowhead": 0,
           "arrowwidth": 1
          },
          "autotypenumbers": "strict",
          "coloraxis": {
           "colorbar": {
            "outlinewidth": 0,
            "ticks": ""
           }
          },
          "colorscale": {
           "diverging": [
            [
             0,
             "#8e0152"
            ],
            [
             0.1,
             "#c51b7d"
            ],
            [
             0.2,
             "#de77ae"
            ],
            [
             0.3,
             "#f1b6da"
            ],
            [
             0.4,
             "#fde0ef"
            ],
            [
             0.5,
             "#f7f7f7"
            ],
            [
             0.6,
             "#e6f5d0"
            ],
            [
             0.7,
             "#b8e186"
            ],
            [
             0.8,
             "#7fbc41"
            ],
            [
             0.9,
             "#4d9221"
            ],
            [
             1,
             "#276419"
            ]
           ],
           "sequential": [
            [
             0,
             "#0d0887"
            ],
            [
             0.1111111111111111,
             "#46039f"
            ],
            [
             0.2222222222222222,
             "#7201a8"
            ],
            [
             0.3333333333333333,
             "#9c179e"
            ],
            [
             0.4444444444444444,
             "#bd3786"
            ],
            [
             0.5555555555555556,
             "#d8576b"
            ],
            [
             0.6666666666666666,
             "#ed7953"
            ],
            [
             0.7777777777777778,
             "#fb9f3a"
            ],
            [
             0.8888888888888888,
             "#fdca26"
            ],
            [
             1,
             "#f0f921"
            ]
           ],
           "sequentialminus": [
            [
             0,
             "#0d0887"
            ],
            [
             0.1111111111111111,
             "#46039f"
            ],
            [
             0.2222222222222222,
             "#7201a8"
            ],
            [
             0.3333333333333333,
             "#9c179e"
            ],
            [
             0.4444444444444444,
             "#bd3786"
            ],
            [
             0.5555555555555556,
             "#d8576b"
            ],
            [
             0.6666666666666666,
             "#ed7953"
            ],
            [
             0.7777777777777778,
             "#fb9f3a"
            ],
            [
             0.8888888888888888,
             "#fdca26"
            ],
            [
             1,
             "#f0f921"
            ]
           ]
          },
          "colorway": [
           "#636efa",
           "#EF553B",
           "#00cc96",
           "#ab63fa",
           "#FFA15A",
           "#19d3f3",
           "#FF6692",
           "#B6E880",
           "#FF97FF",
           "#FECB52"
          ],
          "font": {
           "color": "#2a3f5f"
          },
          "geo": {
           "bgcolor": "white",
           "lakecolor": "white",
           "landcolor": "#E5ECF6",
           "showlakes": true,
           "showland": true,
           "subunitcolor": "white"
          },
          "hoverlabel": {
           "align": "left"
          },
          "hovermode": "closest",
          "mapbox": {
           "style": "light"
          },
          "paper_bgcolor": "white",
          "plot_bgcolor": "#E5ECF6",
          "polar": {
           "angularaxis": {
            "gridcolor": "white",
            "linecolor": "white",
            "ticks": ""
           },
           "bgcolor": "#E5ECF6",
           "radialaxis": {
            "gridcolor": "white",
            "linecolor": "white",
            "ticks": ""
           }
          },
          "scene": {
           "xaxis": {
            "backgroundcolor": "#E5ECF6",
            "gridcolor": "white",
            "gridwidth": 2,
            "linecolor": "white",
            "showbackground": true,
            "ticks": "",
            "zerolinecolor": "white"
           },
           "yaxis": {
            "backgroundcolor": "#E5ECF6",
            "gridcolor": "white",
            "gridwidth": 2,
            "linecolor": "white",
            "showbackground": true,
            "ticks": "",
            "zerolinecolor": "white"
           },
           "zaxis": {
            "backgroundcolor": "#E5ECF6",
            "gridcolor": "white",
            "gridwidth": 2,
            "linecolor": "white",
            "showbackground": true,
            "ticks": "",
            "zerolinecolor": "white"
           }
          },
          "shapedefaults": {
           "line": {
            "color": "#2a3f5f"
           }
          },
          "ternary": {
           "aaxis": {
            "gridcolor": "white",
            "linecolor": "white",
            "ticks": ""
           },
           "baxis": {
            "gridcolor": "white",
            "linecolor": "white",
            "ticks": ""
           },
           "bgcolor": "#E5ECF6",
           "caxis": {
            "gridcolor": "white",
            "linecolor": "white",
            "ticks": ""
           }
          },
          "title": {
           "x": 0.05
          },
          "xaxis": {
           "automargin": true,
           "gridcolor": "white",
           "linecolor": "white",
           "ticks": "",
           "title": {
            "standoff": 15
           },
           "zerolinecolor": "white",
           "zerolinewidth": 2
          },
          "yaxis": {
           "automargin": true,
           "gridcolor": "white",
           "linecolor": "white",
           "ticks": "",
           "title": {
            "standoff": 15
           },
           "zerolinecolor": "white",
           "zerolinewidth": 2
          }
         }
        },
        "title": {
         "text": "SNOMEDCT_BioBERT Embeddings in 3D"
        }
       }
      }
     },
     "metadata": {},
     "output_type": "display_data"
    }
   ],
   "source": [
    "graph_reduced_in_3d(embedding_matrix_2, embedding_names_2, title='SNOMEDCT_BioBERT Embeddings in 3D')"
   ]
  },
  {
   "cell_type": "markdown",
   "metadata": {},
   "source": [
    "### **Approach 3:**"
   ]
  },
  {
   "cell_type": "markdown",
   "metadata": {},
   "source": [
    "Use SNOMED CT Hierarchy, then use embeddings to map terms that dont link to main tree to closest term within that tree."
   ]
  },
  {
   "cell_type": "markdown",
   "metadata": {},
   "source": [
    "1. Select SNOMED CT subset that carries more semantic meaning (e.g. clinical finding)\n",
    "2. Cluster concepts within this subset\n",
    "    a) Group descendants with their ancestors\n",
    "    b) Cluster root ancestors\n",
    "3. Get embeddings for all SNOMED CT terms in clinical finding tree\n",
    "4. Compute similarity of remaining terms with these, pick closest and add to cluster"
   ]
  },
  {
   "cell_type": "code",
   "execution_count": 17,
   "metadata": {},
   "outputs": [],
   "source": [
    "import networkx as nx\n",
    "from hierarchy_functions import find_lca_and_distance, compute_lcas_and_distances\n",
    "from collections import defaultdict"
   ]
  },
  {
   "cell_type": "code",
   "execution_count": 18,
   "metadata": {},
   "outputs": [],
   "source": [
    "my_terms_filtered = set(concept_df[concept_df.concept_id.isin(my_terms)&concept_df.concept_class_id.isin(['Clinical Finding','Disorder'])].concept_id)"
   ]
  },
  {
   "cell_type": "code",
   "execution_count": 19,
   "metadata": {},
   "outputs": [
    {
     "name": "stdout",
     "output_type": "stream",
     "text": [
      "Number of nodes in graph of relevant SNOMED CT terms: 493\n",
      "Number of edges in graph of relevant SNOMED CT terms: 826\n",
      "All terms are present in the graph.\n"
     ]
    }
   ],
   "source": [
    "G_clinical = create_SNOMED_CT_graph_based_on_terms(my_terms_filtered, concept_df, concept_relationship_df, selected_relationship_ids)"
   ]
  },
  {
   "cell_type": "code",
   "execution_count": 20,
   "metadata": {},
   "outputs": [],
   "source": [
    "def build_hierarchy(my_terms_filtered, G_clinical, compute_lcas_and_distances, find_lca_and_distance):\n",
    "    \"\"\"\n",
    "    Build a hierarchy from terms using a graph, precomputing LCAs and distances.\n",
    "\n",
    "    Parameters:\n",
    "    - my_terms_filtered (set): A set of terms to process.\n",
    "    - G_clinical (networkx.Graph): The graph representing the relationships.\n",
    "    - compute_lcas_and_distances (function): A function that computes LCAs and distances for initial terms.\n",
    "    - find_lca_and_distance (function): A function to compute the LCA and distance for a pair of terms.\n",
    "\n",
    "    Returns:\n",
    "    - hierarchy (defaultdict): The hierarchy built from the terms.\n",
    "    \"\"\"\n",
    "    # Precompute LCAs and distances\n",
    "    lca_distances = compute_lcas_and_distances(my_terms_filtered, G_clinical)\n",
    "\n",
    "    remaining_terms = my_terms_filtered.copy()\n",
    "    hierarchy = defaultdict(list)\n",
    "    processed_pairs = set()  # Track processed pairs to avoid infinite loops\n",
    "\n",
    "    def has_descendants(term, remaining_terms, graph):\n",
    "        \"\"\"Check if a term has descendants in the remaining terms.\"\"\"\n",
    "        descendants = nx.descendants(graph, term)\n",
    "        return bool(descendants & set(remaining_terms))\n",
    "    \n",
    "    # Special case: If there is only one node, add it to the hierarchy and return\n",
    "    if len(remaining_terms) == 1:\n",
    "        single_node = next(iter(remaining_terms))  # Get the single node\n",
    "        hierarchy[single_node] = []  # No children\n",
    "        return hierarchy\n",
    "\n",
    "    while len(remaining_terms) > 1:\n",
    "        shortest_distance = float(\"inf\")\n",
    "        best_pair = None\n",
    "        best_lca = None\n",
    "\n",
    "        # Find the best pair of terms based on distance\n",
    "        for node1 in remaining_terms:\n",
    "            for node2 in remaining_terms:\n",
    "                if node1 == node2:\n",
    "                    continue\n",
    "                key = frozenset({node1, node2})\n",
    "                if key in processed_pairs:\n",
    "                    continue\n",
    "                if key not in lca_distances[1]:\n",
    "                    lca, distance = find_lca_and_distance(G_clinical, node1, node2)\n",
    "                    lca_distances[0][key] = lca\n",
    "                    lca_distances[1][key] = distance\n",
    "                dist = lca_distances[1][key]\n",
    "\n",
    "                # Update the best pair if this distance is shorter\n",
    "                if dist < shortest_distance:\n",
    "                    shortest_distance = dist\n",
    "                    best_pair = (node1, node2)\n",
    "                    best_lca = lca_distances[0][key]\n",
    "\n",
    "        if best_pair is None:\n",
    "            break\n",
    "        \n",
    "        hierarchy[best_lca].append(best_pair)\n",
    "        processed_pairs.add(frozenset(best_pair))\n",
    "\n",
    "        # Replace grouped nodes with their LCA if they no longer have descendants\n",
    "        for node in best_pair:\n",
    "            if not has_descendants(node, remaining_terms, G_clinical):\n",
    "                remaining_terms.remove(node)\n",
    "        remaining_terms.add(best_lca)\n",
    "\n",
    "    return hierarchy"
   ]
  },
  {
   "cell_type": "code",
   "execution_count": 21,
   "metadata": {},
   "outputs": [],
   "source": [
    "hierarchy = build_hierarchy(my_terms_filtered, G_clinical, compute_lcas_and_distances, find_lca_and_distance)"
   ]
  },
  {
   "cell_type": "code",
   "execution_count": 22,
   "metadata": {},
   "outputs": [],
   "source": [
    "def hierarchy_to_graph(hierarchy, original_terms):\n",
    "    \"\"\"\n",
    "    Convert a hierarchy dictionary to a directed graph, removing duplicates and self-references.\n",
    "    Adds a 'type' attribute to distinguish between original and LCA nodes.\n",
    "    \"\"\"\n",
    "    graph = nx.DiGraph()\n",
    "\n",
    "    # Iterate over the hierarchy\n",
    "    for lca, pairs in hierarchy.items():\n",
    "        # Add the LCA node and mark it as an 'lca'\n",
    "        if lca not in graph:\n",
    "            node_type = \"original\" if lca in original_terms else \"lca\"\n",
    "            graph.add_node(lca, type=node_type)\n",
    "\n",
    "        for pair in pairs:\n",
    "            for node in pair:\n",
    "                # Add the original terms or nodes if not already added\n",
    "                if node not in graph:\n",
    "                    node_type = \"original\" if node in original_terms else \"lca\"\n",
    "                    graph.add_node(node, type=node_type)\n",
    "\n",
    "                # Add edges, avoiding self-references\n",
    "                if lca != node:\n",
    "                    if not graph.has_edge(lca, node):\n",
    "                        graph.add_edge(lca, node)\n",
    "\n",
    "    return graph"
   ]
  },
  {
   "cell_type": "code",
   "execution_count": 23,
   "metadata": {},
   "outputs": [],
   "source": [
    "graph = hierarchy_to_graph(hierarchy, my_terms_filtered)"
   ]
  },
  {
   "cell_type": "code",
   "execution_count": 24,
   "metadata": {},
   "outputs": [],
   "source": [
    "def prune_redundant_edges(graph):\n",
    "    \"\"\"Remove redundant edges that create shortcuts in the hierarchy.\"\"\"\n",
    "    edges_to_remove = set()\n",
    "\n",
    "    for node in graph.nodes:\n",
    "        descendants = nx.descendants(graph, node)\n",
    "        for descendant in descendants:\n",
    "            for intermediate in graph.successors(node):\n",
    "                if intermediate in descendants and graph.has_edge(intermediate, descendant):\n",
    "                    edges_to_remove.add((node, descendant))\n",
    "\n",
    "    graph.remove_edges_from(edges_to_remove)\n",
    "    return graph\n",
    "\n",
    "pruned_graph = prune_redundant_edges(graph)"
   ]
  },
  {
   "cell_type": "code",
   "execution_count": 25,
   "metadata": {},
   "outputs": [],
   "source": [
    "def replace_nodes_with_names(graph, mapping):\n",
    "    \"\"\"Replace node codes with names based on a mapping dictionary while preserving attributes.\"\"\"\n",
    "\n",
    "    new_graph = nx.DiGraph()\n",
    "\n",
    "    # Add nodes with attributes, replacing codes with names\n",
    "    for node, attrs in graph.nodes(data=True):\n",
    "        new_node = mapping.get(node, node)  # Replace code with name if mapping exists\n",
    "        new_graph.add_node(new_node, **attrs)  # Preserve attributes\n",
    "\n",
    "    # Add edges, replacing codes with names\n",
    "    for u, v, attrs in graph.edges(data=True):\n",
    "        new_u = mapping.get(u, u)\n",
    "        new_v = mapping.get(v, v)\n",
    "        new_graph.add_edge(new_u, new_v, **attrs)  # Preserve edge attributes\n",
    "\n",
    "    return new_graph\n",
    "\n",
    "graph_with_names = replace_nodes_with_names(pruned_graph, code_to_name)"
   ]
  },
  {
   "cell_type": "markdown",
   "metadata": {},
   "source": [
    "### For other terms, first also try this alogrithm"
   ]
  },
  {
   "cell_type": "code",
   "execution_count": 26,
   "metadata": {},
   "outputs": [],
   "source": [
    "missing_terms = set(concept_df[concept_df.concept_id.isin(my_terms)&~concept_df.concept_class_id.isin(['Clinical Finding','Disorder'])].concept_id)"
   ]
  },
  {
   "cell_type": "code",
   "execution_count": 27,
   "metadata": {},
   "outputs": [
    {
     "data": {
      "text/plain": [
       "concept_class_id\n",
       "Procedure            34\n",
       "Substance             7\n",
       "Observable Entity     7\n",
       "Morph Abnormality     5\n",
       "Context-dependent     2\n",
       "Social Context        2\n",
       "Event                 1\n",
       "Name: count, dtype: int64"
      ]
     },
     "execution_count": 27,
     "metadata": {},
     "output_type": "execute_result"
    }
   ],
   "source": [
    "concept_df[concept_df.concept_id.isin(my_terms)&~concept_df.concept_class_id.isin(['Clinical Finding','Disorder'])].concept_class_id.value_counts()"
   ]
  },
  {
   "cell_type": "code",
   "execution_count": 28,
   "metadata": {},
   "outputs": [],
   "source": [
    "remaining_concept_classes = list(concept_df[concept_df.concept_id.isin(my_terms)&~concept_df.concept_class_id.isin(['Clinical Finding','Disorder'])].concept_class_id.unique())"
   ]
  },
  {
   "cell_type": "code",
   "execution_count": 29,
   "metadata": {},
   "outputs": [
    {
     "name": "stdout",
     "output_type": "stream",
     "text": [
      "146\n",
      "Number of nodes in graph of relevant SNOMED CT terms: 59\n",
      "Number of edges in graph of relevant SNOMED CT terms: 85\n",
      "All terms are present in the graph.\n",
      "156\n",
      "Number of nodes in graph of relevant SNOMED CT terms: 131\n",
      "Number of edges in graph of relevant SNOMED CT terms: 212\n",
      "All terms are present in the graph.\n",
      "200\n",
      "Number of nodes in graph of relevant SNOMED CT terms: 27\n",
      "Number of edges in graph of relevant SNOMED CT terms: 28\n",
      "All terms are present in the graph.\n",
      "208\n",
      "Number of nodes in graph of relevant SNOMED CT terms: 12\n",
      "Number of edges in graph of relevant SNOMED CT terms: 14\n",
      "All terms are present in the graph.\n",
      "210\n",
      "Number of nodes in graph of relevant SNOMED CT terms: 19\n",
      "Number of edges in graph of relevant SNOMED CT terms: 21\n",
      "All terms are present in the graph.\n",
      "218\n",
      "Number of nodes in graph of relevant SNOMED CT terms: 6\n",
      "Number of edges in graph of relevant SNOMED CT terms: 5\n",
      "All terms are present in the graph.\n",
      "221\n",
      "Number of nodes in graph of relevant SNOMED CT terms: 3\n",
      "Number of edges in graph of relevant SNOMED CT terms: 2\n",
      "All terms are present in the graph.\n",
      "222\n"
     ]
    }
   ],
   "source": [
    "full_graph = graph_with_names.copy()\n",
    "print(full_graph.number_of_nodes())\n",
    "\n",
    "for concept_class in remaining_concept_classes:\n",
    "    \n",
    "    filtered_terms = set(concept_df[concept_df.concept_id.isin(my_terms)&(concept_df.concept_class_id==concept_class)].concept_id)\n",
    "    G_x = create_SNOMED_CT_graph_based_on_terms(filtered_terms, concept_df, concept_relationship_df, selected_relationship_ids)\n",
    "    \n",
    "    hierarchy_x = build_hierarchy(filtered_terms, G_x, compute_lcas_and_distances, find_lca_and_distance)\n",
    "    graph_x = hierarchy_to_graph(hierarchy_x, filtered_terms)\n",
    "    pruned_graph_x = prune_redundant_edges(graph_x)\n",
    "    graph_with_names_x = replace_nodes_with_names(pruned_graph_x, code_to_name)\n",
    "\n",
    "    full_graph = nx.compose(full_graph, graph_with_names_x)\n",
    "    print(full_graph.number_of_nodes())\n"
   ]
  },
  {
   "cell_type": "code",
   "execution_count": 30,
   "metadata": {},
   "outputs": [],
   "source": [
    "nx.write_gexf(full_graph, 'snomed_alternative_grouping.gexf')"
   ]
  }
 ],
 "metadata": {
  "kernelspec": {
   "display_name": "wise-dag-ml",
   "language": "python",
   "name": "python3"
  },
  "language_info": {
   "codemirror_mode": {
    "name": "ipython",
    "version": 3
   },
   "file_extension": ".py",
   "mimetype": "text/x-python",
   "name": "python",
   "nbconvert_exporter": "python",
   "pygments_lexer": "ipython3",
   "version": "3.10.15"
  }
 },
 "nbformat": 4,
 "nbformat_minor": 2
}
