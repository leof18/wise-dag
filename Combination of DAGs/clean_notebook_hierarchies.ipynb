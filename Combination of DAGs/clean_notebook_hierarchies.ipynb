{
 "cells": [
  {
   "cell_type": "code",
   "execution_count": 2,
   "metadata": {},
   "outputs": [],
   "source": [
    "%load_ext autoreload\n",
    "%autoreload 2\n",
    "import pandas as pd\n",
    "import matplotlib.pyplot as plt"
   ]
  },
  {
   "cell_type": "markdown",
   "metadata": {},
   "source": [
    "# Building DAG Hierarchy\n",
    "\n",
    "**Goal: Group terms and find common name to create a hierarchy of DAG nodes from broad down to specific.**"
   ]
  },
  {
   "cell_type": "markdown",
   "metadata": {},
   "source": [
    "Import Data\n",
    "1. `dag_df` - Standardized DAG dataframe from workshop\n",
    "2. `concept_df` - Athena concept dataframe containing all the athena ids, concept codes, and concept names\n",
    "3. `concept_relationship_df` - Athena dataframe containing the relationships between all the concepts\n",
    "4. `concept_ancestor_df` - Athena dataframe containing information on the ancestors of terms (unfortunately seems incomplete)"
   ]
  },
  {
   "cell_type": "code",
   "execution_count": 3,
   "metadata": {},
   "outputs": [],
   "source": [
    "dag_df = pd.read_csv('../data/DAGs_standardized.csv', dtype={'Exposure': str, 'Outcome':str})\n",
    "concept_df = pd.read_csv('../Standardization/athena_vocabulary/CONCEPT.csv', sep='\\t', dtype={'concept_code': str, 'concept_id': str}, low_memory=False)\n",
    "concept_relationship_df = pd.read_csv('../Standardization/athena_vocabulary/CONCEPT_RELATIONSHIP.csv', sep='\\t', dtype={'concept_id_1':str, 'concept_id_2': str}, low_memory=False)\n",
    "concept_ancestor_df = pd.read_csv('../Standardization/athena_vocabulary/CONCEPT_ANCESTOR.csv', sep='\\t',dtype={'ancestor_concept_id': str, 'descendant_concept_id': str}, low_memory=False)"
   ]
  },
  {
   "cell_type": "markdown",
   "metadata": {},
   "source": [
    "Get set of terms"
   ]
  },
  {
   "cell_type": "code",
   "execution_count": 4,
   "metadata": {},
   "outputs": [
    {
     "name": "stderr",
     "output_type": "stream",
     "text": [
      "c:\\Users\\Leo\\miniconda3\\envs\\wise-dag-ml\\lib\\site-packages\\tqdm\\auto.py:21: TqdmWarning: IProgress not found. Please update jupyter and ipywidgets. See https://ipywidgets.readthedocs.io/en/stable/user_install.html\n",
      "  from .autonotebook import tqdm as notebook_tqdm\n"
     ]
    }
   ],
   "source": [
    "from hierarchy_functions import get_unique_coded_terms\n",
    "\n",
    "my_terms = get_unique_coded_terms(dag_df)"
   ]
  },
  {
   "cell_type": "markdown",
   "metadata": {},
   "source": [
    "Dictionary to convert codes to names"
   ]
  },
  {
   "cell_type": "code",
   "execution_count": 5,
   "metadata": {},
   "outputs": [],
   "source": [
    "code_to_name = dict(zip(concept_df[\"concept_id\"], concept_df[\"concept_name\"]))\n",
    "name_to_code = dict(zip(concept_df[\"concept_name\"], concept_df[\"concept_id\"]))\n",
    "my_terms_written = [code_to_name[code] for code in my_terms]"
   ]
  },
  {
   "cell_type": "markdown",
   "metadata": {},
   "source": [
    "### **Approach 1:** Using the parent and child relationships part of the OHDSI CDM / SNOMED CT ontology"
   ]
  },
  {
   "cell_type": "markdown",
   "metadata": {},
   "source": [
    "First, let's explore what happens if we condense all child terms by associating them directly with their respective parent (root) terms within the terms that were part of the DAGs."
   ]
  },
  {
   "cell_type": "code",
   "execution_count": 6,
   "metadata": {},
   "outputs": [
    {
     "data": {
      "text/plain": [
       "{'root_term_count': '129 out of 182 terms are root nodes',\n",
       " 'average_children_per_root': 0.1,\n",
       " 'example_root_with_children': {'root': '4194238', 'children': ['4283095']}}"
      ]
     },
     "execution_count": 6,
     "metadata": {},
     "output_type": "execute_result"
    }
   ],
   "source": [
    "from hierarchy_functions import analyze_snomed_hierarchy\n",
    "\n",
    "analysis_result = analyze_snomed_hierarchy(concept_ancestor_df, my_terms)\n",
    "analysis_result"
   ]
  },
  {
   "cell_type": "code",
   "execution_count": 7,
   "metadata": {},
   "outputs": [
    {
     "name": "stdout",
     "output_type": "stream",
     "text": [
      "Root term: Endarterectomy\n",
      "Children: ['Carotid endarterectomy']\n"
     ]
    }
   ],
   "source": [
    "# Example\n",
    "print('Root term:', code_to_name[analysis_result['example_root_with_children']['root']])\n",
    "print('Children:', [code_to_name[i] for i in analysis_result['example_root_with_children']['children']])"
   ]
  },
  {
   "cell_type": "markdown",
   "metadata": {},
   "source": [
    "It seems that even after doing so there are still a lot of different unique terms and we have to further group these into more broad categories to not overwhelm researchers. For this we will consider calcualting the distances from all the nodes to each other through a common ancestor node. This is important as nodes can have different parent terms and might otherwise link horizontally in a zig zag pattern instead of through a common ancestor higher up in the hierarchy.\n",
    "\n",
    "There are a variety of relationship types available in the OHDSI Athena database. For now, we are using the \"Subsumes\" relationships that are the relationships that connect a parent term to a child term in the SNOMED CT hierarchy. However, more potentially useful relationship types are available like can be seen below."
   ]
  },
  {
   "cell_type": "code",
   "execution_count": 8,
   "metadata": {},
   "outputs": [],
   "source": [
    "useful_relationship_ids = [\n",
    "    \"Is a\",                     # Hierarchical relationship of SNOMED\n",
    "    \"Subsumes\",\n",
    "    \"Finding site of\",          # Links findings to anatomical sites\n",
    "    \"Interprets of\",            # Links specific measurements to conditions\n",
    "    \"Causative agent of\",       # Etiological link\n",
    "    \"Has due to\",               # Etiology relationships\n",
    "    \"Due to of\",\n",
    "    \"Asso finding of\",\n",
    "    \"Pathology of\",             # Links to pathological processes\n",
    "    \"Has dir morph\",            # Direct morphology\n",
    "    \"Has asso morph\",           # Associated morphology\n",
    "    \"Occurs before\",            # Temporal relationship\n",
    "    \"Follows\",                  # Temporal relationship\n",
    "    \"Has manifestation\",        # Links findings to manifestations\n",
    "    \"Has complication\"          # Links to complications\n",
    "]\n",
    "\n",
    "selected_relationship_ids = [\"Subsumes\"]"
   ]
  },
  {
   "cell_type": "markdown",
   "metadata": {},
   "source": [
    "Creating a graph structure of the terms based on SNOMED CT hierachy."
   ]
  },
  {
   "cell_type": "code",
   "execution_count": 9,
   "metadata": {},
   "outputs": [
    {
     "name": "stdout",
     "output_type": "stream",
     "text": [
      "Number of nodes in graph of relevant SNOMED CT terms: 768\n",
      "Number of edges in graph of relevant SNOMED CT terms: 1177\n",
      "All terms are present in the graph.\n"
     ]
    }
   ],
   "source": [
    "from hierarchy_functions import create_SNOMED_CT_graph_based_on_terms\n",
    "\n",
    "G = create_SNOMED_CT_graph_based_on_terms(my_terms, concept_df, concept_relationship_df, selected_relationship_ids)"
   ]
  },
  {
   "cell_type": "markdown",
   "metadata": {},
   "source": [
    "Computing the least common ancestor between any two nodes part of my_terms and then the distance between the two terms going through that LCA."
   ]
  },
  {
   "cell_type": "code",
   "execution_count": 10,
   "metadata": {},
   "outputs": [],
   "source": [
    "from hierarchy_functions import compute_lcas_and_distances\n",
    "\n",
    "lca_results = compute_lcas_and_distances(my_terms, G)"
   ]
  },
  {
   "cell_type": "markdown",
   "metadata": {},
   "source": [
    "What are the most common \"least common ancestors\" between terms?"
   ]
  },
  {
   "cell_type": "code",
   "execution_count": 11,
   "metadata": {},
   "outputs": [
    {
     "data": {
      "text/html": [
       "<div>\n",
       "<style scoped>\n",
       "    .dataframe tbody tr th:only-of-type {\n",
       "        vertical-align: middle;\n",
       "    }\n",
       "\n",
       "    .dataframe tbody tr th {\n",
       "        vertical-align: top;\n",
       "    }\n",
       "\n",
       "    .dataframe thead th {\n",
       "        text-align: right;\n",
       "    }\n",
       "</style>\n",
       "<table border=\"1\" class=\"dataframe\">\n",
       "  <thead>\n",
       "    <tr style=\"text-align: right;\">\n",
       "      <th></th>\n",
       "      <th>athena_code</th>\n",
       "      <th>count</th>\n",
       "      <th>concept_name</th>\n",
       "    </tr>\n",
       "  </thead>\n",
       "  <tbody>\n",
       "    <tr>\n",
       "      <th>2</th>\n",
       "      <td>4008453</td>\n",
       "      <td>10707</td>\n",
       "      <td>SNOMED CT Concept</td>\n",
       "    </tr>\n",
       "    <tr>\n",
       "      <th>0</th>\n",
       "      <td>441840</td>\n",
       "      <td>2992</td>\n",
       "      <td>Clinical finding</td>\n",
       "    </tr>\n",
       "    <tr>\n",
       "      <th>1</th>\n",
       "      <td>4274025</td>\n",
       "      <td>697</td>\n",
       "      <td>Disease</td>\n",
       "    </tr>\n",
       "    <tr>\n",
       "      <th>36</th>\n",
       "      <td>134057</td>\n",
       "      <td>343</td>\n",
       "      <td>Disorder of cardiovascular system</td>\n",
       "    </tr>\n",
       "    <tr>\n",
       "      <th>18</th>\n",
       "      <td>4322976</td>\n",
       "      <td>298</td>\n",
       "      <td>Procedure</td>\n",
       "    </tr>\n",
       "    <tr>\n",
       "      <th>3</th>\n",
       "      <td>4180628</td>\n",
       "      <td>238</td>\n",
       "      <td>Disorder of body system</td>\n",
       "    </tr>\n",
       "    <tr>\n",
       "      <th>17</th>\n",
       "      <td>4029205</td>\n",
       "      <td>163</td>\n",
       "      <td>Procedure by method</td>\n",
       "    </tr>\n",
       "    <tr>\n",
       "      <th>27</th>\n",
       "      <td>4181663</td>\n",
       "      <td>114</td>\n",
       "      <td>Observable entity</td>\n",
       "    </tr>\n",
       "    <tr>\n",
       "      <th>5</th>\n",
       "      <td>4047779</td>\n",
       "      <td>94</td>\n",
       "      <td>Disorder by body site</td>\n",
       "    </tr>\n",
       "    <tr>\n",
       "      <th>49</th>\n",
       "      <td>321588</td>\n",
       "      <td>85</td>\n",
       "      <td>Heart disease</td>\n",
       "    </tr>\n",
       "  </tbody>\n",
       "</table>\n",
       "</div>"
      ],
      "text/plain": [
       "   athena_code  count                       concept_name\n",
       "2      4008453  10707                  SNOMED CT Concept\n",
       "0       441840   2992                   Clinical finding\n",
       "1      4274025    697                            Disease\n",
       "36      134057    343  Disorder of cardiovascular system\n",
       "18     4322976    298                          Procedure\n",
       "3      4180628    238            Disorder of body system\n",
       "17     4029205    163                Procedure by method\n",
       "27     4181663    114                  Observable entity\n",
       "5      4047779     94              Disorder by body site\n",
       "49      321588     85                      Heart disease"
      ]
     },
     "execution_count": 11,
     "metadata": {},
     "output_type": "execute_result"
    }
   ],
   "source": [
    "from collections import Counter\n",
    "\n",
    "lca_counts = Counter(lca_results[0].values())\n",
    "lca_counts_df = pd.DataFrame.from_dict(lca_counts, orient='index').reset_index()\n",
    "lca_counts_df.columns = ['athena_code', 'count']\n",
    "lca_counts_df = lca_counts_df.sort_values('count', ascending=False)\n",
    "lca_counts_df['concept_name'] = [code_to_name[i] for i in lca_counts_df['athena_code']]\n",
    "lca_counts_df.head(10)"
   ]
  },
  {
   "cell_type": "markdown",
   "metadata": {},
   "source": [
    "Creating a distance matrix for the terms."
   ]
  },
  {
   "cell_type": "code",
   "execution_count": 12,
   "metadata": {},
   "outputs": [
    {
     "data": {
      "image/png": "[encoded data removed]",
      "text/plain": [
       "<Figure size 640x480 with 1 Axes>"
      ]
     },
     "metadata": {},
     "output_type": "display_data"
    }
   ],
   "source": [
    "terms = sorted(my_terms)\n",
    "distance_matrix = pd.DataFrame(index=terms, columns=terms, data=float('inf'))\n",
    "\n",
    "for (term1, term2), distance in lca_results[1].items():\n",
    "    distance_matrix.at[term1, term2] = distance\n",
    "    distance_matrix.at[term2, term1] = distance\n",
    "for term in my_terms:\n",
    "    distance_matrix.at[term, term] = 0\n",
    "\n",
    "distance_matrix.to_csv('snomed_distance_matrix.csv')\n",
    "pd.Series(lca_results[1].values()).hist()\n",
    "plt.title('Distribution of distances between terms through least common ancestor')\n",
    "plt.xlabel('Distance (number of nodes)');"
   ]
  },
  {
   "cell_type": "code",
   "execution_count": 13,
   "metadata": {},
   "outputs": [
    {
     "data": {
      "application/vnd.plotly.v1+json": {
       "config": {
        "plotlyServerURL": "https://plot.ly"
       },
       "data": [
        {
         "marker": {
          "opacity": 0.8,
          "size": 5
         },
         "mode": "markers+text",
         "text": [
          "Cachexia",
          "Urinary incontinence",
          "Kidney disease",
          "Diabetes mellitus",
          "Pneumonia",
          "Dysphagia",
          "Atrial fibrillation",
          "Sleep apnea",
          "Heart failure",
          "Hypertensive disorder",
          "Low blood pressure",
          "Migraine",
          "Heart disease",
          "Insulin resistance",
          "Stenosis of cerebral artery",
          "Platelet aggregation inhibitor therapy",
          "Glucagon-like peptide 1 receptor agonist",
          "Functionally dependent",
          "Dissection of cerebral artery",
          "Prediabetes",
          "Silent micro-hemorrhage of brain",
          "Epilepsy due to cerebrovascular accident",
          "Mediterranean diet",
          "Percutaneous transluminal procedure on blood vessel",
          "Malignant neoplasm",
          "Myocardial infarction due to demand ischemia",
          "COVID-19",
          "Risk of cardiovascular disease",
          "Transient cerebral ischemia",
          "Delirium",
          "Seizure",
          "Encephalitis",
          "Migraine with aura",
          "Lipoprotein (a) measurement",
          "Second hand cigarette smoke",
          "Tobacco smoke",
          "Race",
          "Oxygen saturation measurement",
          "Troponin measurement",
          "Healthy diet",
          "Social worker",
          "High fat diet",
          "Disorder of cardiac function",
          "Care provision regime",
          "Hypercholesterolemia",
          "Aspiration",
          "Functional finding",
          "Clostridium botulinum toxin",
          "Lacunar infarction",
          "Dissection procedure",
          "Takotsubo cardiomyopathy",
          "Atherosclerosis of artery",
          "Alcohol intake above recommended sensible limits",
          "Disability",
          "Alcohol consumption unknown",
          "Anticoagulant therapy",
          "Falls",
          "Lesion",
          "Blood-brain barrier",
          "Patent foramen ovale",
          "Decreased vascular flow",
          "Therapy",
          "Congenital malformation",
          "Pain management",
          "Lesion size",
          "Antibiotic therapy",
          "Nutritional disorder",
          "Cerebral venous sinus thrombosis",
          "Arteriosclerosis",
          "Cognitive skills training",
          "Exercise",
          "Inflammation",
          "Cardiac syndrome X",
          "Hypoperfusion",
          "Deep venous thrombosis",
          "Vasculitis",
          "Admission to stroke unit",
          "Antihypertensive therapy",
          "Interleukin-6",
          "Cerebral atrophy",
          "Patient position finding",
          "Dyslipidemia",
          "Thiazolidinedione",
          "Continuous positive airway pressure ventilation treatment",
          "Genetic predisposition",
          "Barthel index",
          "Family history of stroke",
          "Stroke index",
          "Mobility",
          "Hemorrhage",
          "Sequelae of neurological disorders",
          "Procedure involving urinary catheter",
          "Removal of thrombus",
          "Embolism",
          "N terminal pro-brain natriuretic peptide level",
          "Complicated atheromatous plaque",
          "Endarterectomy",
          "Secondary prevention",
          "Thrombolysis",
          "Lesion of brain",
          "Administration of prophylactic statin",
          "Speech therapy",
          "Primary prevention",
          "Infarct",
          "C-reactive protein measurement",
          "Glomerular filtration rate",
          "Neurosurgery",
          "Stenosis",
          "Fracture",
          "Gliosis",
          "Dysfunction of urinary bladder",
          "Coping behavior",
          "Weight loss",
          "Thrombosis",
          "Leuko-araiosis",
          "Diagnosis",
          "Quality of life satisfaction",
          "Postprocedural recovery status",
          "Physical therapy procedure",
          "Uses oral contraception",
          "Immunosuppression",
          "Body mass index",
          "Mortality rate",
          "Stress",
          "Sodium glucose cotransporter subtype 2 inhibitor",
          "Thrombus of cardiac chamber",
          "Education and/or schooling finding",
          "Chemotherapy",
          "Catecholamine level - finding",
          "Blood glucose level - finding",
          "Female sex hormones - serum level - finding",
          "Surgical occlusion of blood vessel",
          "Carotid endarterectomy",
          "DNA damage",
          "Sympathetic nervous system structure",
          "Structure of perivascular space",
          "National Institutes of Health stroke scale",
          "Hypercoagulability state",
          "Pregnancy",
          "Blood glucose management",
          "Acute infective endocarditis",
          "Body temperature",
          "Low sodium diet",
          "Death",
          "Atherosclerosis",
          "Social isolation",
          "Ischemic stroke",
          "Infectious disease",
          "Age factor",
          "Blood coagulation disorder",
          "Blood pressure",
          "Psychotherapy",
          "Hyperlipidemia",
          "Pain",
          "Spasticity",
          "Myocardial infarction",
          "Obesity",
          "Metabolic syndrome X",
          "Pre-eclampsia",
          "Paralysis",
          "Depressive disorder",
          "Pulmonary embolism",
          "Aphasia",
          "Endocarditis",
          "Acute heart failure",
          "Male",
          "Impaired cognition",
          "Vascular disorder",
          "Chronic heart failure",
          "Cardiac arrhythmia",
          "Antidepressant therapy",
          "FAST - Fast Alcohol Screening Test",
          "Physical fitness state",
          "Socioeconomic status",
          "Smoking cessation",
          "High sensitivity cardiac troponin T measurement",
          "Decreased alcohol consumption",
          "Chronic kidney disease",
          "Dissection of artery",
          "Myocardial infarction due to atherothrombotic coronary artery disease",
          "Finding of renal function",
          "Urinary tract infectious disease"
         ],
         "textposition": "top center",
         "type": "scatter3d",
         "x": [
          22.3165283203125,
          14.228095054626465,
          1.7469182014465332,
          -60.033935546875,
          -56.4906005859375,
          -47.87626647949219,
          14.503189086914062,
          -36.794864654541016,
          40.095855712890625,
          -1.8707209825515747,
          -3.87790584564209,
          -16.18826675415039,
          -2.1197948455810547,
          -63.74911880493164,
          -42.77537536621094,
          54.84197235107422,
          -32.22071838378906,
          -37.580379486083984,
          -5.845546722412109,
          -15.994970321655273,
          -22.068693161010742,
          -34.89105224609375,
          33.068077087402344,
          43.61750411987305,
          -32.29853820800781,
          -5.869010925292969,
          -80.7279281616211,
          49.75504684448242,
          2.8319530487060547,
          -49.49626541137695,
          -17.9169864654541,
          -39.34375762939453,
          -18.15912437438965,
          23.860750198364258,
          12.76939868927002,
          13.271966934204102,
          82.82362365722656,
          -1.4379749298095703,
          7.51540470123291,
          -53.33369827270508,
          47.87404251098633,
          -65.21563720703125,
          17.814620971679688,
          -1.011527419090271,
          -84.1981430053711,
          17.704835891723633,
          142.65936279296875,
          27.989120483398438,
          -29.53843116760254,
          29.615116119384766,
          -31.441303253173828,
          -29.113096237182617,
          -48.231300354003906,
          6.298611164093018,
          -44.69721221923828,
          48.33076095581055,
          -0.4161575734615326,
          -32.9765625,
          83.59375762939453,
          -2.5912623405456543,
          16.37094497680664,
          21.280351638793945,
          -2.883012294769287,
          8.380711555480957,
          74.26300811767578,
          64.15355682373047,
          84.40467834472656,
          -50.735843658447266,
          -57.191131591796875,
          16.1491641998291,
          56.849853515625,
          -41.96004104614258,
          27.56753921508789,
          -35.04207229614258,
          -44.939693450927734,
          -38.16853332519531,
          30.73950958251953,
          52.53031921386719,
          52.14227294921875,
          -18.9609375,
          -15.201574325561523,
          -78.53487396240234,
          40.166297912597656,
          18.503232955932617,
          -65.7197036743164,
          24.98141098022461,
          52.06232452392578,
          77.85234832763672,
          88.8169937133789,
          -44.17927932739258,
          -23.735145568847656,
          24.478002548217773,
          30.006832122802734,
          -22.840791702270508,
          16.38612937927246,
          -42.47030258178711,
          50.00434112548828,
          47.156517028808594,
          66.50650024414062,
          -27.71695327758789,
          65.19670104980469,
          4.173732757568359,
          43.21355056762695,
          -21.523427963256836,
          7.181173324584961,
          93.71804809570312,
          -15.48131275177002,
          -23.453502655029297,
          -32.06306457519531,
          -46.0569953918457,
          20.2109375,
          89.72950744628906,
          51.782989501953125,
          -23.092693328857422,
          -80.48677825927734,
          49.230716705322266,
          76.1517562866211,
          58.49776840209961,
          -7.288718223571777,
          -15.61485767364502,
          -15.61485767364502,
          67.55890655517578,
          -84.22474670410156,
          25.034210205078125,
          -30.387195587158203,
          -14.254902839660645,
          -87.27050018310547,
          54.72572708129883,
          -76.18868255615234,
          -92.96463012695312,
          -78.39752960205078,
          42.86801528930664,
          61.74517059326172,
          -82.14866638183594,
          57.1231689453125,
          46.96268081665039,
          9.997337341308594,
          -59.48064422607422,
          -2.235692024230957,
          12.048778533935547,
          19.142980575561523,
          69.46441650390625,
          -43.10086441040039,
          40.215003967285156,
          -47.885704040527344,
          15.49123764038086,
          -33.742530822753906,
          9.511384010314941,
          69.37891387939453,
          -13.325136184692383,
          58.57130813598633,
          9.827463150024414,
          -76.48294067382812,
          12.47500991821289,
          8.278406143188477,
          -13.638104438781738,
          -6.132203578948975,
          -58.81521987915039,
          16.081735610961914,
          21.933748245239258,
          -45.41487121582031,
          -40.401329040527344,
          39.290340423583984,
          -23.790796279907227,
          22.700897216796875,
          19.457731246948242,
          -5.519106388092041,
          -20.705490112304688,
          29.0269832611084,
          13.263395309448242,
          69.8328628540039,
          11.16916561126709,
          6.703715801239014,
          -15.515671730041504,
          -15.515488624572754,
          -8.518163681030273,
          -60.636722564697266,
          -5.4233527183532715,
          -29.088088989257812,
          5.844300270080566,
          -0.6486746072769165,
          -13.903569221496582
         ],
         "y": [
          -25.24302101135254,
          -2.9590260982513428,
          -2.8463714122772217,
          -26.751182556152344,
          -57.52107238769531,
          -6.514030456542969,
          -87.56766510009766,
          -5.607397079467773,
          -76.92208099365234,
          -65.25958251953125,
          -63.52397155761719,
          -53.37348175048828,
          -78.24850463867188,
          -13.199667930603027,
          -51.61981201171875,
          80.45482635498047,
          24.89893341064453,
          44.71201705932617,
          -38.525508880615234,
          1.4991151094436646,
          -37.55427551269531,
          -25.1126651763916,
          64.83818054199219,
          34.77260971069336,
          64.02883911132812,
          -101.29996490478516,
          -50.65785598754883,
          3.135679006576538,
          -46.508934020996094,
          -49.371822357177734,
          -32.097599029541016,
          -49.79252624511719,
          -55.48520278930664,
          76.89401245117188,
          5.763139724731445,
          -0.37762343883514404,
          -5.905397891998291,
          69.71543884277344,
          69.41789245605469,
          21.107955932617188,
          -48.66746520996094,
          32.5882453918457,
          92.14913940429688,
          73.93507385253906,
          -33.261871337890625,
          40.38691711425781,
          -59.29774475097656,
          -20.010709762573242,
          -83.11363983154297,
          43.48236083984375,
          -104.01307678222656,
          -55.559844970703125,
          8.932454109191895,
          -36.54291915893555,
          8.059749603271484,
          62.6551628112793,
          15.708797454833984,
          55.66699981689453,
          -23.92606544494629,
          -107.40400695800781,
          28.025590896606445,
          66.13740539550781,
          -19.26630973815918,
          43.406070709228516,
          16.74604606628418,
          50.219520568847656,
          -36.5283203125,
          -72.89065551757812,
          61.66610336303711,
          80.13983917236328,
          -4.154962539672852,
          40.314571380615234,
          -73.63179779052734,
          38.96809768676758,
          -76.30215454101562,
          -54.48231506347656,
          24.915990829467773,
          80.14556884765625,
          -10.136075019836426,
          -59.441001892089844,
          -7.224076747894287,
          -28.65910530090332,
          -3.981278419494629,
          83.22139739990234,
          10.758740425109863,
          6.4552903175354,
          -35.86158752441406,
          -33.85397720336914,
          2.5050430297851562,
          43.283973693847656,
          -9.833125114440918,
          44.193485260009766,
          54.16037368774414,
          -43.712093353271484,
          58.197513580322266,
          66.78944396972656,
          49.96546936035156,
          45.52972412109375,
          -30.757938385009766,
          -42.49386978149414,
          61.8458251953125,
          59.31855392456055,
          60.34385681152344,
          42.90519714355469,
          87.0055923461914,
          6.555013179779053,
          22.068439483642578,
          45.478492736816406,
          34.8676872253418,
          46.786476135253906,
          -15.3265962600708,
          20.960721969604492,
          -19.611692428588867,
          -70.54849243164062,
          7.9212646484375,
          -10.973060607910156,
          22.150590896606445,
          11.404623985290527,
          77.61620330810547,
          -22.775501251220703,
          -22.775501251220703,
          4.811508655548096,
          11.179235458374023,
          -10.07094955444336,
          13.668224334716797,
          -87.58834838867188,
          41.29177474975586,
          59.57339096069336,
          -7.949506759643555,
          -16.979618072509766,
          -25.840394973754883,
          29.799535751342773,
          38.39177322387695,
          18.215091705322266,
          23.340362548828125,
          26.480134963989258,
          13.086514472961426,
          -4.380908012390137,
          8.199037551879883,
          54.21047592163086,
          -55.42510986328125,
          -4.5666093826293945,
          25.142074584960938,
          -15.250287055969238,
          76.31292724609375,
          0.6636433601379395,
          -75.7503890991211,
          165.70361328125,
          -5.431950569152832,
          -5.339911460876465,
          -17.49756622314453,
          60.45391082763672,
          -19.151700973510742,
          -64.44576263427734,
          -11.827681541442871,
          -95.67442321777344,
          -25.82749366760254,
          -21.154708862304688,
          -56.185001373291016,
          20.1358642578125,
          -17.71645736694336,
          -29.927976608276367,
          -35.524173736572266,
          -81.08282470703125,
          -65.62155151367188,
          -35.080322265625,
          38.41580581665039,
          -56.45793914794922,
          -79.95758819580078,
          -90.41886901855469,
          70.52891540527344,
          8.638265609741211,
          -21.812692642211914,
          33.764007568359375,
          42.90433120727539,
          80.09496307373047,
          14.6338472366333,
          8.561362266540527,
          -33.388702392578125,
          -90.69915008544922,
          15.69627571105957,
          -16.072330474853516
         ],
         "z": [
          -3.4112374782562256,
          -56.18706512451172,
          -82.62937927246094,
          -54.5970344543457,
          -0.41907936334609985,
          -72.11480712890625,
          -49.43363571166992,
          -38.10047149658203,
          -30.7468318939209,
          -11.089299201965332,
          -42.54194641113281,
          -1.1158757209777832,
          -25.18733024597168,
          -43.71271514892578,
          -39.50398254394531,
          -10.834393501281738,
          53.944332122802734,
          -173.2510986328125,
          -52.5627326965332,
          7.155267238616943,
          -18.750808715820312,
          1.684324026107788,
          14.89551067352295,
          31.615068435668945,
          -32.131568908691406,
          -14.339733123779297,
          -40.14406204223633,
          8.540163040161133,
          -29.54936408996582,
          33.564048767089844,
          14.09233570098877,
          11.69601058959961,
          17.7161922454834,
          57.3671989440918,
          71.84162139892578,
          85.44427490234375,
          -24.66635513305664,
          66.13996887207031,
          48.95207214355469,
          -38.9139289855957,
          12.263978958129883,
          -49.52861785888672,
          25.121868133544922,
          7.219625473022461,
          10.375658988952637,
          39.07256317138672,
          2.8012630939483643,
          58.69759750366211,
          30.27060890197754,
          17.214452743530273,
          -25.750919342041016,
          -65.09443664550781,
          -13.780845642089844,
          40.48843765258789,
          4.021547317504883,
          -2.5057246685028076,
          -2.1787989139556885,
          -11.158824920654297,
          -0.3675249218940735,
          -44.23503494262695,
          -65.05269622802734,
          -11.280518531799316,
          -28.857189178466797,
          4.817225456237793,
          12.673999786376953,
          1.3166054487228394,
          -26.261341094970703,
          -25.85367202758789,
          -2.895744800567627,
          -25.6589412689209,
          -28.665491104125977,
          43.51418685913086,
          28.969341278076172,
          68.60075378417969,
          -47.86408615112305,
          -13.681440353393555,
          0.30993467569351196,
          10.393054008483887,
          72.91104888916016,
          42.79182052612305,
          30.840660095214844,
          -14.000632286071777,
          57.627586364746094,
          -0.9554288387298584,
          39.68668746948242,
          30.270009994506836,
          42.8087272644043,
          19.665447235107422,
          9.045194625854492,
          3.736131429672241,
          -16.137062072753906,
          -9.279806137084961,
          35.348548889160156,
          -39.573875427246094,
          67.99816131591797,
          8.257547378540039,
          48.89656066894531,
          -22.341794967651367,
          -7.271888256072998,
          29.977312088012695,
          -18.56304168701172,
          -6.059174537658691,
          -30.158124923706055,
          -23.896501541137695,
          62.028297424316406,
          32.03243637084961,
          65.4721908569336,
          4.249394416809082,
          -9.962737083435059,
          -21.424915313720703,
          -69.73760223388672,
          -6.411970615386963,
          -60.37299346923828,
          -40.449668884277344,
          53.67387771606445,
          -7.236678600311279,
          -18.02987289428711,
          -9.579915046691895,
          -10.03520679473877,
          59.23259735107422,
          59.23259735107422,
          33.27543640136719,
          -21.777549743652344,
          -31.685924530029297,
          43.0738639831543,
          -40.463226318359375,
          -1.1803797483444214,
          19.04401206970215,
          29.38605499267578,
          30.196741104125977,
          36.23563766479492,
          51.56431198120117,
          41.686309814453125,
          30.852561950683594,
          -62.0139274597168,
          -50.612937927246094,
          24.28383445739746,
          51.61510467529297,
          -19.930097579956055,
          21.00846290588379,
          -14.336163520812988,
          17.035236358642578,
          -52.35188674926758,
          34.423561096191406,
          -8.219078063964844,
          -14.838397979736328,
          10.858880996704102,
          -10.716401100158691,
          -5.227427959442139,
          -45.324302673339844,
          12.158233642578125,
          -26.04304313659668,
          4.1171183586120605,
          23.196075439453125,
          4.545538425445557,
          3.908553123474121,
          -8.605406761169434,
          -14.962401390075684,
          -63.33443069458008,
          -32.666114807128906,
          24.562557220458984,
          -30.344093322753906,
          -31.85112953186035,
          -14.96349811553955,
          -33.06260681152344,
          22.49894142150879,
          -54.729087829589844,
          -24.495933532714844,
          -12.949957847595215,
          -28.48147201538086,
          2.788520336151123,
          41.28407287597656,
          27.541879653930664,
          34.921016693115234,
          47.456146240234375,
          46.1346549987793,
          -1.8502943515777588,
          -69.13642120361328,
          -55.59040451049805,
          -0.2475896030664444,
          -47.59550476074219,
          -78.45095825195312
         ]
        }
       ],
       "layout": {
        "margin": {
         "b": 0,
         "l": 0,
         "r": 0,
         "t": 40
        },
        "scene": {
         "xaxis": {
          "title": {
           "text": "t-SNE Dimension 1"
          }
         },
         "yaxis": {
          "title": {
           "text": "t-SNE Dimension 2"
          }
         },
         "zaxis": {
          "title": {
           "text": "t-SNE Dimension 3"
          }
         }
        },
        "template": {
         "data": {
          "bar": [
           {
            "error_x": {
             "color": "#2a3f5f"
            },
            "error_y": {
             "color": "#2a3f5f"
            },
            "marker": {
             "line": {
              "color": "#E5ECF6",
              "width": 0.5
             },
             "pattern": {
              "fillmode": "overlay",
              "size": 10,
              "solidity": 0.2
             }
            },
            "type": "bar"
           }
          ],
          "barpolar": [
           {
            "marker": {
             "line": {
              "color": "#E5ECF6",
              "width": 0.5
             },
             "pattern": {
              "fillmode": "overlay",
              "size": 10,
              "solidity": 0.2
             }
            },
            "type": "barpolar"
           }
          ],
          "carpet": [
           {
            "aaxis": {
             "endlinecolor": "#2a3f5f",
             "gridcolor": "white",
             "linecolor": "white",
             "minorgridcolor": "white",
             "startlinecolor": "#2a3f5f"
            },
            "baxis": {
             "endlinecolor": "#2a3f5f",
             "gridcolor": "white",
             "linecolor": "white",
             "minorgridcolor": "white",
             "startlinecolor": "#2a3f5f"
            },
            "type": "carpet"
           }
          ],
          "choropleth": [
           {
            "colorbar": {
             "outlinewidth": 0,
             "ticks": ""
            },
            "type": "choropleth"
           }
          ],
          "contour": [
           {
            "colorbar": {
             "outlinewidth": 0,
             "ticks": ""
            },
            "colorscale": [
             [
              0,
              "#0d0887"
             ],
             [
              0.1111111111111111,
              "#46039f"
             ],
             [
              0.2222222222222222,
              "#7201a8"
             ],
             [
              0.3333333333333333,
              "#9c179e"
             ],
             [
              0.4444444444444444,
              "#bd3786"
             ],
             [
              0.5555555555555556,
              "#d8576b"
             ],
             [
              0.6666666666666666,
              "#ed7953"
             ],
             [
              0.7777777777777778,
              "#fb9f3a"
             ],
             [
              0.8888888888888888,
              "#fdca26"
             ],
             [
              1,
              "#f0f921"
             ]
            ],
            "type": "contour"
           }
          ],
          "contourcarpet": [
           {
            "colorbar": {
             "outlinewidth": 0,
             "ticks": ""
            },
            "type": "contourcarpet"
           }
          ],
          "heatmap": [
           {
            "colorbar": {
             "outlinewidth": 0,
             "ticks": ""
            },
            "colorscale": [
             [
              0,
              "#0d0887"
             ],
             [
              0.1111111111111111,
              "#46039f"
             ],
             [
              0.2222222222222222,
              "#7201a8"
             ],
             [
              0.3333333333333333,
              "#9c179e"
             ],
             [
              0.4444444444444444,
              "#bd3786"
             ],
             [
              0.5555555555555556,
              "#d8576b"
             ],
             [
              0.6666666666666666,
              "#ed7953"
             ],
             [
              0.7777777777777778,
              "#fb9f3a"
             ],
             [
              0.8888888888888888,
              "#fdca26"
             ],
             [
              1,
              "#f0f921"
             ]
            ],
            "type": "heatmap"
           }
          ],
          "heatmapgl": [
           {
            "colorbar": {
             "outlinewidth": 0,
             "ticks": ""
            },
            "colorscale": [
             [
              0,
              "#0d0887"
             ],
             [
              0.1111111111111111,
              "#46039f"
             ],
             [
              0.2222222222222222,
              "#7201a8"
             ],
             [
              0.3333333333333333,
              "#9c179e"
             ],
             [
              0.4444444444444444,
              "#bd3786"
             ],
             [
              0.5555555555555556,
              "#d8576b"
             ],
             [
              0.6666666666666666,
              "#ed7953"
             ],
             [
              0.7777777777777778,
              "#fb9f3a"
             ],
             [
              0.8888888888888888,
              "#fdca26"
             ],
             [
              1,
              "#f0f921"
             ]
            ],
            "type": "heatmapgl"
           }
          ],
          "histogram": [
           {
            "marker": {
             "pattern": {
              "fillmode": "overlay",
              "size": 10,
              "solidity": 0.2
             }
            },
            "type": "histogram"
           }
          ],
          "histogram2d": [
           {
            "colorbar": {
             "outlinewidth": 0,
             "ticks": ""
            },
            "colorscale": [
             [
              0,
              "#0d0887"
             ],
             [
              0.1111111111111111,
              "#46039f"
             ],
             [
              0.2222222222222222,
              "#7201a8"
             ],
             [
              0.3333333333333333,
              "#9c179e"
             ],
             [
              0.4444444444444444,
              "#bd3786"
             ],
             [
              0.5555555555555556,
              "#d8576b"
             ],
             [
              0.6666666666666666,
              "#ed7953"
             ],
             [
              0.7777777777777778,
              "#fb9f3a"
             ],
             [
              0.8888888888888888,
              "#fdca26"
             ],
             [
              1,
              "#f0f921"
             ]
            ],
            "type": "histogram2d"
           }
          ],
          "histogram2dcontour": [
           {
            "colorbar": {
             "outlinewidth": 0,
             "ticks": ""
            },
            "colorscale": [
             [
              0,
              "#0d0887"
             ],
             [
              0.1111111111111111,
              "#46039f"
             ],
             [
              0.2222222222222222,
              "#7201a8"
             ],
             [
              0.3333333333333333,
              "#9c179e"
             ],
             [
              0.4444444444444444,
              "#bd3786"
             ],
             [
              0.5555555555555556,
              "#d8576b"
             ],
             [
              0.6666666666666666,
              "#ed7953"
             ],
             [
              0.7777777777777778,
              "#fb9f3a"
             ],
             [
              0.8888888888888888,
              "#fdca26"
             ],
             [
              1,
              "#f0f921"
             ]
            ],
            "type": "histogram2dcontour"
           }
          ],
          "mesh3d": [
           {
            "colorbar": {
             "outlinewidth": 0,
             "ticks": ""
            },
            "type": "mesh3d"
           }
          ],
          "parcoords": [
           {
            "line": {
             "colorbar": {
              "outlinewidth": 0,
              "ticks": ""
             }
            },
            "type": "parcoords"
           }
          ],
          "pie": [
           {
            "automargin": true,
            "type": "pie"
           }
          ],
          "scatter": [
           {
            "fillpattern": {
             "fillmode": "overlay",
             "size": 10,
             "solidity": 0.2
            },
            "type": "scatter"
           }
          ],
          "scatter3d": [
           {
            "line": {
             "colorbar": {
              "outlinewidth": 0,
              "ticks": ""
             }
            },
            "marker": {
             "colorbar": {
              "outlinewidth": 0,
              "ticks": ""
             }
            },
            "type": "scatter3d"
           }
          ],
          "scattercarpet": [
           {
            "marker": {
             "colorbar": {
              "outlinewidth": 0,
              "ticks": ""
             }
            },
            "type": "scattercarpet"
           }
          ],
          "scattergeo": [
           {
            "marker": {
             "colorbar": {
              "outlinewidth": 0,
              "ticks": ""
             }
            },
            "type": "scattergeo"
           }
          ],
          "scattergl": [
           {
            "marker": {
             "colorbar": {
              "outlinewidth": 0,
              "ticks": ""
             }
            },
            "type": "scattergl"
           }
          ],
          "scattermapbox": [
           {
            "marker": {
             "colorbar": {
              "outlinewidth": 0,
              "ticks": ""
             }
            },
            "type": "scattermapbox"
           }
          ],
          "scatterpolar": [
           {
            "marker": {
             "colorbar": {
              "outlinewidth": 0,
              "ticks": ""
             }
            },
            "type": "scatterpolar"
           }
          ],
          "scatterpolargl": [
           {
            "marker": {
             "colorbar": {
              "outlinewidth": 0,
              "ticks": ""
             }
            },
            "type": "scatterpolargl"
           }
          ],
          "scatterternary": [
           {
            "marker": {
             "colorbar": {
              "outlinewidth": 0,
              "ticks": ""
             }
            },
            "type": "scatterternary"
           }
          ],
          "surface": [
           {
            "colorbar": {
             "outlinewidth": 0,
             "ticks": ""
            },
            "colorscale": [
             [
              0,
              "#0d0887"
             ],
             [
              0.1111111111111111,
              "#46039f"
             ],
             [
              0.2222222222222222,
              "#7201a8"
             ],
             [
              0.3333333333333333,
              "#9c179e"
             ],
             [
              0.4444444444444444,
              "#bd3786"
             ],
             [
              0.5555555555555556,
              "#d8576b"
             ],
             [
              0.6666666666666666,
              "#ed7953"
             ],
             [
              0.7777777777777778,
              "#fb9f3a"
             ],
             [
              0.8888888888888888,
              "#fdca26"
             ],
             [
              1,
              "#f0f921"
             ]
            ],
            "type": "surface"
           }
          ],
          "table": [
           {
            "cells": {
             "fill": {
              "color": "#EBF0F8"
             },
             "line": {
              "color": "white"
             }
            },
            "header": {
             "fill": {
              "color": "#C8D4E3"
             },
             "line": {
              "color": "white"
             }
            },
            "type": "table"
           }
          ]
         },
         "layout": {
          "annotationdefaults": {
           "arrowcolor": "#2a3f5f",
           "arrowhead": 0,
           "arrowwidth": 1
          },
          "autotypenumbers": "strict",
          "coloraxis": {
           "colorbar": {
            "outlinewidth": 0,
            "ticks": ""
           }
          },
          "colorscale": {
           "diverging": [
            [
             0,
             "#8e0152"
            ],
            [
             0.1,
             "#c51b7d"
            ],
            [
             0.2,
             "#de77ae"
            ],
            [
             0.3,
             "#f1b6da"
            ],
            [
             0.4,
             "#fde0ef"
            ],
            [
             0.5,
             "#f7f7f7"
            ],
            [
             0.6,
             "#e6f5d0"
            ],
            [
             0.7,
             "#b8e186"
            ],
            [
             0.8,
             "#7fbc41"
            ],
            [
             0.9,
             "#4d9221"
            ],
            [
             1,
             "#276419"
            ]
           ],
           "sequential": [
            [
             0,
             "#0d0887"
            ],
            [
             0.1111111111111111,
             "#46039f"
            ],
            [
             0.2222222222222222,
             "#7201a8"
            ],
            [
             0.3333333333333333,
             "#9c179e"
            ],
            [
             0.4444444444444444,
             "#bd3786"
            ],
            [
             0.5555555555555556,
             "#d8576b"
            ],
            [
             0.6666666666666666,
             "#ed7953"
            ],
            [
             0.7777777777777778,
             "#fb9f3a"
            ],
            [
             0.8888888888888888,
             "#fdca26"
            ],
            [
             1,
             "#f0f921"
            ]
           ],
           "sequentialminus": [
            [
             0,
             "#0d0887"
            ],
            [
             0.1111111111111111,
             "#46039f"
            ],
            [
             0.2222222222222222,
             "#7201a8"
            ],
            [
             0.3333333333333333,
             "#9c179e"
            ],
            [
             0.4444444444444444,
             "#bd3786"
            ],
            [
             0.5555555555555556,
             "#d8576b"
            ],
            [
             0.6666666666666666,
             "#ed7953"
            ],
            [
             0.7777777777777778,
             "#fb9f3a"
            ],
            [
             0.8888888888888888,
             "#fdca26"
            ],
            [
             1,
             "#f0f921"
            ]
           ]
          },
          "colorway": [
           "#636efa",
           "#EF553B",
           "#00cc96",
           "#ab63fa",
           "#FFA15A",
           "#19d3f3",
           "#FF6692",
           "#B6E880",
           "#FF97FF",
           "#FECB52"
          ],
          "font": {
           "color": "#2a3f5f"
          },
          "geo": {
           "bgcolor": "white",
           "lakecolor": "white",
           "landcolor": "#E5ECF6",
           "showlakes": true,
           "showland": true,
           "subunitcolor": "white"
          },
          "hoverlabel": {
           "align": "left"
          },
          "hovermode": "closest",
          "mapbox": {
           "style": "light"
          },
          "paper_bgcolor": "white",
          "plot_bgcolor": "#E5ECF6",
          "polar": {
           "angularaxis": {
            "gridcolor": "white",
            "linecolor": "white",
            "ticks": ""
           },
           "bgcolor": "#E5ECF6",
           "radialaxis": {
            "gridcolor": "white",
            "linecolor": "white",
            "ticks": ""
           }
          },
          "scene": {
           "xaxis": {
            "backgroundcolor": "#E5ECF6",
            "gridcolor": "white",
            "gridwidth": 2,
            "linecolor": "white",
            "showbackground": true,
            "ticks": "",
            "zerolinecolor": "white"
           },
           "yaxis": {
            "backgroundcolor": "#E5ECF6",
            "gridcolor": "white",
            "gridwidth": 2,
            "linecolor": "white",
            "showbackground": true,
            "ticks": "",
            "zerolinecolor": "white"
           },
           "zaxis": {
            "backgroundcolor": "#E5ECF6",
            "gridcolor": "white",
            "gridwidth": 2,
            "linecolor": "white",
            "showbackground": true,
            "ticks": "",
            "zerolinecolor": "white"
           }
          },
          "shapedefaults": {
           "line": {
            "color": "#2a3f5f"
           }
          },
          "ternary": {
           "aaxis": {
            "gridcolor": "white",
            "linecolor": "white",
            "ticks": ""
           },
           "baxis": {
            "gridcolor": "white",
            "linecolor": "white",
            "ticks": ""
           },
           "bgcolor": "#E5ECF6",
           "caxis": {
            "gridcolor": "white",
            "linecolor": "white",
            "ticks": ""
           }
          },
          "title": {
           "x": 0.05
          },
          "xaxis": {
           "automargin": true,
           "gridcolor": "white",
           "linecolor": "white",
           "ticks": "",
           "title": {
            "standoff": 15
           },
           "zerolinecolor": "white",
           "zerolinewidth": 2
          },
          "yaxis": {
           "automargin": true,
           "gridcolor": "white",
           "linecolor": "white",
           "ticks": "",
           "title": {
            "standoff": 15
           },
           "zerolinecolor": "white",
           "zerolinewidth": 2
          }
         }
        },
        "title": {
         "text": "3D Distance Matrix Visualization"
        }
       }
      }
     },
     "metadata": {},
     "output_type": "display_data"
    }
   ],
   "source": [
    "from hierarchy_functions import graph_distance_matrix_in_3d\n",
    "\n",
    "graph_distance_matrix_in_3d(distance_matrix, [code_to_name[i] for i in terms])"
   ]
  },
  {
   "cell_type": "markdown",
   "metadata": {},
   "source": [
    "### **Approach 2:** Using word embeddings"
   ]
  },
  {
   "cell_type": "markdown",
   "metadata": {},
   "source": [
    "1. **SapBERT** - https://huggingface.co/cambridgeltl/SapBERT-from-PubMedBERT-fulltext\n",
    "2. **SNOMED CT BioBERT** - https://huggingface.co/KimTang/SNOMEDCT_BioBERT"
   ]
  },
  {
   "cell_type": "code",
   "execution_count": 14,
   "metadata": {},
   "outputs": [],
   "source": [
    "snomed_biobert = \"KimTang/SNOMEDCT_BioBERT\"\n",
    "sapbert = \"cambridgeltl/SapBERT-from-PubMedBERT-fulltext\""
   ]
  },
  {
   "cell_type": "code",
   "execution_count": 15,
   "metadata": {},
   "outputs": [
    {
     "name": "stderr",
     "output_type": "stream",
     "text": [
      "Asking to truncate to max_length but no maximum length is provided and the model has no predefined maximum length. Default to no truncation.\n",
      "Asking to truncate to max_length but no maximum length is provided and the model has no predefined maximum length. Default to no truncation.\n"
     ]
    }
   ],
   "source": [
    "from hierarchy_functions import get_embeddings\n",
    "\n",
    "embeddings, embedding_names, embedding_matrix = get_embeddings(my_terms_written, sapbert)\n",
    "embeddings_2, embedding_names_2, embedding_matrix_2 = get_embeddings(my_terms_written, snomed_biobert)"
   ]
  },
  {
   "cell_type": "code",
   "execution_count": 16,
   "metadata": {},
   "outputs": [
    {
     "data": {
      "application/vnd.plotly.v1+json": {
       "config": {
        "plotlyServerURL": "https://plot.ly"
       },
       "data": [
        {
         "marker": {
          "opacity": 0.8,
          "size": 5
         },
         "mode": "markers+text",
         "text": [
          "Urinary tract infectious disease",
          "Healthy diet",
          "Decreased alcohol consumption",
          "Sequelae of neurological disorders",
          "Oxygen saturation measurement",
          "Social isolation",
          "Catecholamine level - finding",
          "Sodium glucose cotransporter subtype 2 inhibitor",
          "Quality of life satisfaction",
          "Endarterectomy",
          "Deep venous thrombosis",
          "Stenosis",
          "Psychotherapy",
          "Thrombosis",
          "Cardiac arrhythmia",
          "Exercise",
          "Socioeconomic status",
          "Primary prevention",
          "Dysfunction of urinary bladder",
          "Clostridium botulinum toxin",
          "Race",
          "Patient position finding",
          "Alcohol intake above recommended sensible limits",
          "Silent micro-hemorrhage of brain",
          "Acute heart failure",
          "Chronic heart failure",
          "Glucagon-like peptide 1 receptor agonist",
          "Procedure involving urinary catheter",
          "Chemotherapy",
          "Body temperature",
          "DNA damage",
          "Obesity",
          "Decreased vascular flow",
          "Depressive disorder",
          "FAST - Fast Alcohol Screening Test",
          "Carotid endarterectomy",
          "Low sodium diet",
          "Spasticity",
          "Atrial fibrillation",
          "Female sex hormones - serum level - finding",
          "Blood glucose management",
          "Mortality rate",
          "Second hand cigarette smoke",
          "Prediabetes",
          "Encephalitis",
          "Heart disease",
          "Therapy",
          "Arteriosclerosis",
          "Interleukin-6",
          "Functionally dependent",
          "Metabolic syndrome X",
          "Surgical occlusion of blood vessel",
          "Administration of prophylactic statin",
          "Dissection procedure",
          "Stenosis of cerebral artery",
          "Percutaneous transluminal procedure on blood vessel",
          "Atherosclerosis",
          "Takotsubo cardiomyopathy",
          "Coping behavior",
          "Pre-eclampsia",
          "Chronic kidney disease",
          "Hemorrhage",
          "COVID-19",
          "Falls",
          "Age factor",
          "Stress",
          "Pain",
          "Inflammation",
          "Infarct",
          "Endocarditis",
          "Physical fitness state",
          "Vascular disorder",
          "Mobility",
          "Hypertensive disorder",
          "Congenital malformation",
          "Education and/or schooling finding",
          "Impaired cognition",
          "Alcohol consumption unknown",
          "Male",
          "High sensitivity cardiac troponin T measurement",
          "Antibiotic therapy",
          "Uses oral contraception",
          "Lesion of brain",
          "Speech therapy",
          "Low blood pressure",
          "Lesion size",
          "Antidepressant therapy",
          "Stroke index",
          "Neurosurgery",
          "Structure of perivascular space",
          "Pregnancy",
          "Immunosuppression",
          "Smoking cessation",
          "Dysphagia",
          "Ischemic stroke",
          "Lacunar infarction",
          "Aspiration",
          "Genetic predisposition",
          "Mediterranean diet",
          "Cardiac syndrome X",
          "Tobacco smoke",
          "Complicated atheromatous plaque",
          "Pulmonary embolism",
          "Blood coagulation disorder",
          "Insulin resistance",
          "Malignant neoplasm",
          "Death",
          "Blood-brain barrier",
          "Glomerular filtration rate",
          "Cachexia",
          "Kidney disease",
          "National Institutes of Health stroke scale",
          "Patent foramen ovale",
          "Pneumonia",
          "Lipoprotein (a) measurement",
          "Blood pressure",
          "High fat diet",
          "Infectious disease",
          "Myocardial infarction due to atherothrombotic coronary artery disease",
          "Disorder of cardiac function",
          "Hypoperfusion",
          "Cognitive skills training",
          "Dissection of cerebral artery",
          "Transient cerebral ischemia",
          "Migraine",
          "Acute infective endocarditis",
          "Epilepsy due to cerebrovascular accident",
          "Body mass index",
          "Myocardial infarction",
          "Migraine with aura",
          "Sympathetic nervous system structure",
          "Risk of cardiovascular disease",
          "Thrombus of cardiac chamber",
          "Postprocedural recovery status",
          "Social worker",
          "Aphasia",
          "Thiazolidinedione",
          "Removal of thrombus",
          "Vasculitis",
          "Diagnosis",
          "Atherosclerosis of artery",
          "Gliosis",
          "Hypercoagulability state",
          "Dissection of artery",
          "Troponin measurement",
          "Care provision regime",
          "Paralysis",
          "Weight loss",
          "Cerebral atrophy",
          "Functional finding",
          "Leuko-araiosis",
          "Continuous positive airway pressure ventilation treatment",
          "Anticoagulant therapy",
          "N terminal pro-brain natriuretic peptide level",
          "Dyslipidemia",
          "Admission to stroke unit",
          "Cerebral venous sinus thrombosis",
          "Nutritional disorder",
          "Urinary incontinence",
          "Finding of renal function",
          "Secondary prevention",
          "Diabetes mellitus",
          "Physical therapy procedure",
          "C-reactive protein measurement",
          "Heart failure",
          "Hyperlipidemia",
          "Pain management",
          "Thrombolysis",
          "Lesion",
          "Hypercholesterolemia",
          "Antihypertensive therapy",
          "Barthel index",
          "Fracture",
          "Seizure",
          "Disability",
          "Embolism",
          "Blood glucose level - finding",
          "Myocardial infarction due to demand ischemia",
          "Sleep apnea",
          "Delirium",
          "Platelet aggregation inhibitor therapy",
          "Family history of stroke"
         ],
         "textposition": "top center",
         "type": "scatter3d",
         "x": [
          35.38753128051758,
          -78.7856674194336,
          -57.84999465942383,
          -22.881324768066406,
          -76.29548645019531,
          54.78606414794922,
          -52.484886169433594,
          -59.1186408996582,
          -23.598060607910156,
          57.33051300048828,
          39.13032913208008,
          53.87881088256836,
          1.5846503973007202,
          41.70121383666992,
          6.203434944152832,
          6.00093412399292,
          -25.828062057495117,
          -48.15888595581055,
          -76.58391571044922,
          -67.76263427734375,
          -22.18737030029297,
          8.803894996643066,
          -70.83020782470703,
          76.77059936523438,
          -21.52403450012207,
          -15.949004173278809,
          -65.052734375,
          -67.10731506347656,
          2.0776591300964355,
          -44.09081268310547,
          18.430387496948242,
          -52.06107711791992,
          69.7929916381836,
          31.416505813598633,
          -28.61553955078125,
          54.712745666503906,
          -19.343372344970703,
          15.038676261901855,
          -4.25850248336792,
          -56.22774124145508,
          -48.63857650756836,
          -12.063915252685547,
          -18.667741775512695,
          -38.46812438964844,
          -11.297040939331055,
          6.378161907196045,
          4.962080478668213,
          62.006141662597656,
          6.39494514465332,
          -6.666079521179199,
          -22.1613712310791,
          69.04467010498047,
          36.01150894165039,
          47.17509078979492,
          70.41014862060547,
          82.70035552978516,
          -13.988582611083984,
          -9.162252426147461,
          5.671611785888672,
          -11.11674690246582,
          -31.674890518188477,
          33.822696685791016,
          23.35222816467285,
          11.571198463439941,
          -42.81918716430664,
          21.043598175048828,
          23.934974670410156,
          27.81365394592285,
          62.423179626464844,
          14.120928764343262,
          -7.647176265716553,
          71.60012817382812,
          9.120462417602539,
          -1.2883728742599487,
          39.11975860595703,
          -18.809799194335938,
          -19.688064575195312,
          -64.8285903930664,
          -27.78898811340332,
          -46.835357666015625,
          19.492006301879883,
          -16.159353256225586,
          1.336326241493225,
          -13.296209335327148,
          -12.790945053100586,
          55.785377502441406,
          23.5181827545166,
          32.651424407958984,
          -7.9969635009765625,
          85.07428741455078,
          -8.685964584350586,
          42.01838302612305,
          -30.529998779296875,
          -29.436328887939453,
          51.449668884277344,
          54.77926254272461,
          -35.150753021240234,
          42.896751403808594,
          -80.3775405883789,
          -6.998297691345215,
          -30.17460823059082,
          -6.659413814544678,
          52.36621856689453,
          49.66215515136719,
          -33.113216400146484,
          -14.896445274353027,
          -2.0312445163726807,
          91.74182891845703,
          -23.269790649414062,
          -37.888710021972656,
          -38.69259262084961,
          15.693090438842773,
          4.836866855621338,
          22.94479751586914,
          -70.5331802368164,
          -16.326631546020508,
          -76.14698791503906,
          32.514461517333984,
          46.398826599121094,
          0.5576858520507812,
          68.86345672607422,
          -16.04997444152832,
          69.14188385009766,
          65.79032897949219,
          16.853031158447266,
          9.826462745666504,
          -7.05012321472168,
          -50.99932861328125,
          46.09188461303711,
          20.239452362060547,
          -43.28813171386719,
          32.55021286010742,
          24.37703514099121,
          24.019678115844727,
          -27.23898696899414,
          -20.89049530029297,
          -34.606746673583984,
          37.779640197753906,
          65.82604217529297,
          1.5862492322921753,
          46.294315338134766,
          38.33654022216797,
          37.25154495239258,
          57.75444412231445,
          -54.40463638305664,
          7.180911540985107,
          -2.1493136882781982,
          -47.46874237060547,
          -19.484766006469727,
          -9.45351505279541,
          48.29861068725586,
          4.104062080383301,
          21.75420570373535,
          -45.61397933959961,
          -63.883079528808594,
          29.84731674194336,
          43.65745162963867,
          -52.619232177734375,
          -63.94538879394531,
          -18.494535446166992,
          -39.031803131103516,
          -41.73915481567383,
          10.9497652053833,
          19.810914993286133,
          -18.75489616394043,
          -65.27157592773438,
          24.097787857055664,
          103.34886932373047,
          43.99848556518555,
          -69.3316421508789,
          5.209604740142822,
          -65.26197814941406,
          15.732325553894043,
          2.865358829498291,
          -8.527685165405273,
          46.41106414794922,
          -44.53799057006836,
          53.70022201538086,
          68.40142059326172,
          -4.779570579528809,
          20.671295166015625,
          2.876894235610962
         ],
         "y": [
          -48.6605339050293,
          -28.91337013244629,
          -36.80339813232422,
          38.46770095825195,
          40.26757049560547,
          17.787172317504883,
          54.87217712402344,
          -59.32518768310547,
          -4.135570526123047,
          47.295597076416016,
          -0.8116999864578247,
          25.46820640563965,
          7.277430057525635,
          9.085759162902832,
          -20.7253475189209,
          -27.1573429107666,
          -6.296191215515137,
          -10.485371589660645,
          15.233492851257324,
          7.823496341705322,
          39.63778305053711,
          -53.44491958618164,
          -30.545215606689453,
          -20.895063400268555,
          -22.332170486450195,
          -33.16438674926758,
          -64.36357116699219,
          18.546859741210938,
          11.059537887573242,
          16.708703994750977,
          6.9797444343566895,
          -15.091442108154297,
          -48.032920837402344,
          -1.2000490427017212,
          7.397714138031006,
          61.229190826416016,
          59.46588134765625,
          -17.178647994995117,
          -11.983847618103027,
          37.151893615722656,
          57.615352630615234,
          16.90152931213379,
          -13.298630714416504,
          -6.974467754364014,
          44.4069709777832,
          -25.92789649963379,
          -0.489847868680954,
          12.846104621887207,
          -67.38601684570312,
          -34.50785446166992,
          -8.613252639770508,
          29.275259017944336,
          52.57260513305664,
          46.80387496948242,
          19.683027267456055,
          21.310468673706055,
          25.84943199157715,
          0.5802951455116272,
          -35.98568344116211,
          69.59408569335938,
          -51.118167877197266,
          23.071786880493164,
          -58.95057678222656,
          31.339168548583984,
          22.660200119018555,
          -11.281135559082031,
          28.817798614501953,
          13.36700439453125,
          -12.303311347961426,
          1.9336456060409546,
          -39.43975830078125,
          0.8706494569778442,
          -30.488306045532227,
          73.93195343017578,
          69.61949920654297,
          -19.123435974121094,
          -44.23714828491211,
          -25.37430191040039,
          33.373924255371094,
          18.596328735351562,
          13.79239273071289,
          -41.20711135864258,
          42.6335563659668,
          -1.544594168663025,
          69.52091979980469,
          46.32051467895508,
          10.13236141204834,
          -40.30291748046875,
          28.48089027404785,
          -24.59095001220703,
          63.4568977355957,
          23.26576042175293,
          -29.44390869140625,
          -59.28373718261719,
          -1.7715390920639038,
          -14.995211601257324,
          26.097997665405273,
          -42.74669647216797,
          -15.28288459777832,
          -6.620926856994629,
          -21.177291870117188,
          36.263912200927734,
          26.221435546875,
          -12.420953750610352,
          -21.850950241088867,
          19.865062713623047,
          12.001541137695312,
          -15.731803894042969,
          -74.48909759521484,
          -41.1783332824707,
          -52.68241500854492,
          39.04422378540039,
          8.005352020263672,
          -60.76070785522461,
          16.31912612915039,
          71.99776458740234,
          -18.387653350830078,
          -41.30973815917969,
          -6.4393792152404785,
          -40.12537384033203,
          -41.9586067199707,
          -27.035472869873047,
          45.21273422241211,
          0.6353266835212708,
          53.566646575927734,
          15.182002067565918,
          27.538236618041992,
          0.002483137184754014,
          -17.852537155151367,
          66.58690643310547,
          64.98854064941406,
          -37.37565994262695,
          21.160385131835938,
          -66.49890899658203,
          7.690434455871582,
          -71.97012329101562,
          0.7308695912361145,
          46.90432357788086,
          -7.210330963134766,
          3.017446517944336,
          14.611562728881836,
          -20.563861846923828,
          -11.741461753845215,
          38.68083572387695,
          24.88372039794922,
          -17.01876449584961,
          -11.07448673248291,
          -29.26878547668457,
          -61.39423751831055,
          -50.604957580566406,
          -21.976526260375977,
          -25.70908546447754,
          36.29539489746094,
          40.211124420166016,
          -1.9603322744369507,
          17.11618423461914,
          -7.926860809326172,
          -43.21405792236328,
          20.117446899414062,
          -62.419857025146484,
          -10.439674377441406,
          -18.838958740234375,
          -13.947155952453613,
          -67.50390625,
          -37.18328857421875,
          -6.753547668457031,
          35.912574768066406,
          74.00972747802734,
          53.39609146118164,
          -18.06325340270996,
          64.20015716552734,
          13.1460599899292,
          42.12166976928711,
          40.353450775146484,
          -20.992982864379883,
          23.123210906982422,
          61.423606872558594,
          -27.19367790222168,
          -40.99199676513672,
          -59.29042434692383,
          52.21110916137695,
          11.930932998657227
         ],
         "z": [
          48.28671646118164,
          10.092342376708984,
          52.937522888183594,
          19.88517951965332,
          9.831116676330566,
          52.274593353271484,
          -23.606653213500977,
          28.2659969329834,
          -0.04708573594689369,
          -37.62401580810547,
          -68.78483581542969,
          7.4049177169799805,
          47.633872985839844,
          -48.90217208862305,
          -73.82183837890625,
          15.11630630493164,
          17.683870315551758,
          40.27744674682617,
          39.97880935668945,
          -64.38582611083984,
          -27.093948364257812,
          -11.664673805236816,
          50.57480239868164,
          29.38735580444336,
          -61.175994873046875,
          -44.47793960571289,
          14.861994743347168,
          58.13375473022461,
          23.492765426635742,
          9.60134220123291,
          -12.673384666442871,
          -1.4176632165908813,
          3.526805877685547,
          44.81196594238281,
          -84.16316223144531,
          -34.47742462158203,
          55.42734909057617,
          -20.654537200927734,
          -83.53929138183594,
          -10.579744338989258,
          24.42170524597168,
          -23.670684814453125,
          75.93975067138672,
          -22.995981216430664,
          7.822068691253662,
          -52.8539924621582,
          33.80369186401367,
          -11.304099082946777,
          -44.84019470214844,
          -17.42722511291504,
          -32.94723892211914,
          -36.22003936767578,
          57.81828689575195,
          -10.124085426330566,
          10.303080558776855,
          -32.97071838378906,
          -49.03659439086914,
          -61.27070999145508,
          38.45436477661133,
          -9.461585998535156,
          -36.67222595214844,
          -37.614524841308594,
          15.863675117492676,
          -26.334674835205078,
          -21.684770584106445,
          -1.9632890224456787,
          2.503751277923584,
          4.030113697052002,
          10.96705436706543,
          -51.512046813964844,
          4.955275058746338,
          -41.45061111450195,
          -5.44138240814209,
          20.201740264892578,
          17.611234664916992,
          20.69577980041504,
          31.066242218017578,
          65.85283660888672,
          -15.319063186645508,
          -63.10498046875,
          27.953201293945312,
          73.68660736083984,
          24.48048973083496,
          45.41093444824219,
          41.508819580078125,
          22.86144256591797,
          51.279273986816406,
          -1.8575834035873413,
          36.51002502441406,
          -17.177122116088867,
          -25.441091537475586,
          44.53034973144531,
          65.43880462646484,
          12.419831275939941,
          17.46708106994629,
          30.467369079589844,
          55.104732513427734,
          -42.57859420776367,
          15.235101699829102,
          -46.979469299316406,
          78.75308227539062,
          -63.670310974121094,
          -71.3095703125,
          -47.53609848022461,
          -15.412158012390137,
          1.7644907236099243,
          -14.109628677368164,
          -6.9526166915893555,
          -28.041589736938477,
          8.259459495544434,
          -24.607685089111328,
          81.98089599609375,
          -79.42851257324219,
          42.653316497802734,
          -30.223188400268555,
          23.61716079711914,
          -3.9510884284973145,
          32.70075607299805,
          -4.8648681640625,
          -59.7217903137207,
          15.888185501098633,
          37.713104248046875,
          -9.94697380065918,
          28.565322875976562,
          -8.479249954223633,
          -50.469329833984375,
          69.50118255615234,
          2.2735354900360107,
          8.39621639251709,
          -10.563583374023438,
          -27.024036407470703,
          -26.28342628479004,
          -68.66557312011719,
          -11.521965026855469,
          30.780183792114258,
          23.184677124023438,
          -45.37816619873047,
          -54.77938461303711,
          -27.196090698242188,
          4.817862033843994,
          -18.20684242248535,
          71.31524658203125,
          -38.650142669677734,
          -18.09105110168457,
          -53.82316207885742,
          48.015480041503906,
          -16.344215393066406,
          12.277734756469727,
          41.80463409423828,
          -8.769282341003418,
          59.10797119140625,
          67.07759094238281,
          46.08238983154297,
          -53.529502868652344,
          -24.146642684936523,
          78.83049011230469,
          -81.01841735839844,
          -7.528870105743408,
          36.424015045166016,
          -17.661590576171875,
          50.382808685302734,
          -31.762008666992188,
          25.91411018371582,
          -38.707733154296875,
          -58.91341018676758,
          -38.6099739074707,
          15.731168746948242,
          -18.526870727539062,
          19.8903865814209,
          -28.75605583190918,
          39.94059371948242,
          1.7588683366775513,
          -35.05622482299805,
          -9.097296714782715,
          -5.765471458435059,
          -58.94343185424805,
          11.518365859985352,
          -6.590813636779785,
          40.27067947387695,
          19.740596771240234,
          48.08865737915039,
          82.25253295898438
         ]
        }
       ],
       "layout": {
        "margin": {
         "b": 0,
         "l": 0,
         "r": 0,
         "t": 40
        },
        "scene": {
         "xaxis": {
          "title": {
           "text": "t-SNE Dimension 1"
          }
         },
         "yaxis": {
          "title": {
           "text": "t-SNE Dimension 2"
          }
         },
         "zaxis": {
          "title": {
           "text": "t-SNE Dimension 3"
          }
         }
        },
        "template": {
         "data": {
          "bar": [
           {
            "error_x": {
             "color": "#2a3f5f"
            },
            "error_y": {
             "color": "#2a3f5f"
            },
            "marker": {
             "line": {
              "color": "#E5ECF6",
              "width": 0.5
             },
             "pattern": {
              "fillmode": "overlay",
              "size": 10,
              "solidity": 0.2
             }
            },
            "type": "bar"
           }
          ],
          "barpolar": [
           {
            "marker": {
             "line": {
              "color": "#E5ECF6",
              "width": 0.5
             },
             "pattern": {
              "fillmode": "overlay",
              "size": 10,
              "solidity": 0.2
             }
            },
            "type": "barpolar"
           }
          ],
          "carpet": [
           {
            "aaxis": {
             "endlinecolor": "#2a3f5f",
             "gridcolor": "white",
             "linecolor": "white",
             "minorgridcolor": "white",
             "startlinecolor": "#2a3f5f"
            },
            "baxis": {
             "endlinecolor": "#2a3f5f",
             "gridcolor": "white",
             "linecolor": "white",
             "minorgridcolor": "white",
             "startlinecolor": "#2a3f5f"
            },
            "type": "carpet"
           }
          ],
          "choropleth": [
           {
            "colorbar": {
             "outlinewidth": 0,
             "ticks": ""
            },
            "type": "choropleth"
           }
          ],
          "contour": [
           {
            "colorbar": {
             "outlinewidth": 0,
             "ticks": ""
            },
            "colorscale": [
             [
              0,
              "#0d0887"
             ],
             [
              0.1111111111111111,
              "#46039f"
             ],
             [
              0.2222222222222222,
              "#7201a8"
             ],
             [
              0.3333333333333333,
              "#9c179e"
             ],
             [
              0.4444444444444444,
              "#bd3786"
             ],
             [
              0.5555555555555556,
              "#d8576b"
             ],
             [
              0.6666666666666666,
              "#ed7953"
             ],
             [
              0.7777777777777778,
              "#fb9f3a"
             ],
             [
              0.8888888888888888,
              "#fdca26"
             ],
             [
              1,
              "#f0f921"
             ]
            ],
            "type": "contour"
           }
          ],
          "contourcarpet": [
           {
            "colorbar": {
             "outlinewidth": 0,
             "ticks": ""
            },
            "type": "contourcarpet"
           }
          ],
          "heatmap": [
           {
            "colorbar": {
             "outlinewidth": 0,
             "ticks": ""
            },
            "colorscale": [
             [
              0,
              "#0d0887"
             ],
             [
              0.1111111111111111,
              "#46039f"
             ],
             [
              0.2222222222222222,
              "#7201a8"
             ],
             [
              0.3333333333333333,
              "#9c179e"
             ],
             [
              0.4444444444444444,
              "#bd3786"
             ],
             [
              0.5555555555555556,
              "#d8576b"
             ],
             [
              0.6666666666666666,
              "#ed7953"
             ],
             [
              0.7777777777777778,
              "#fb9f3a"
             ],
             [
              0.8888888888888888,
              "#fdca26"
             ],
             [
              1,
              "#f0f921"
             ]
            ],
            "type": "heatmap"
           }
          ],
          "heatmapgl": [
           {
            "colorbar": {
             "outlinewidth": 0,
             "ticks": ""
            },
            "colorscale": [
             [
              0,
              "#0d0887"
             ],
             [
              0.1111111111111111,
              "#46039f"
             ],
             [
              0.2222222222222222,
              "#7201a8"
             ],
             [
              0.3333333333333333,
              "#9c179e"
             ],
             [
              0.4444444444444444,
              "#bd3786"
             ],
             [
              0.5555555555555556,
              "#d8576b"
             ],
             [
              0.6666666666666666,
              "#ed7953"
             ],
             [
              0.7777777777777778,
              "#fb9f3a"
             ],
             [
              0.8888888888888888,
              "#fdca26"
             ],
             [
              1,
              "#f0f921"
             ]
            ],
            "type": "heatmapgl"
           }
          ],
          "histogram": [
           {
            "marker": {
             "pattern": {
              "fillmode": "overlay",
              "size": 10,
              "solidity": 0.2
             }
            },
            "type": "histogram"
           }
          ],
          "histogram2d": [
           {
            "colorbar": {
             "outlinewidth": 0,
             "ticks": ""
            },
            "colorscale": [
             [
              0,
              "#0d0887"
             ],
             [
              0.1111111111111111,
              "#46039f"
             ],
             [
              0.2222222222222222,
              "#7201a8"
             ],
             [
              0.3333333333333333,
              "#9c179e"
             ],
             [
              0.4444444444444444,
              "#bd3786"
             ],
             [
              0.5555555555555556,
              "#d8576b"
             ],
             [
              0.6666666666666666,
              "#ed7953"
             ],
             [
              0.7777777777777778,
              "#fb9f3a"
             ],
             [
              0.8888888888888888,
              "#fdca26"
             ],
             [
              1,
              "#f0f921"
             ]
            ],
            "type": "histogram2d"
           }
          ],
          "histogram2dcontour": [
           {
            "colorbar": {
             "outlinewidth": 0,
             "ticks": ""
            },
            "colorscale": [
             [
              0,
              "#0d0887"
             ],
             [
              0.1111111111111111,
              "#46039f"
             ],
             [
              0.2222222222222222,
              "#7201a8"
             ],
             [
              0.3333333333333333,
              "#9c179e"
             ],
             [
              0.4444444444444444,
              "#bd3786"
             ],
             [
              0.5555555555555556,
              "#d8576b"
             ],
             [
              0.6666666666666666,
              "#ed7953"
             ],
             [
              0.7777777777777778,
              "#fb9f3a"
             ],
             [
              0.8888888888888888,
              "#fdca26"
             ],
             [
              1,
              "#f0f921"
             ]
            ],
            "type": "histogram2dcontour"
           }
          ],
          "mesh3d": [
           {
            "colorbar": {
             "outlinewidth": 0,
             "ticks": ""
            },
            "type": "mesh3d"
           }
          ],
          "parcoords": [
           {
            "line": {
             "colorbar": {
              "outlinewidth": 0,
              "ticks": ""
             }
            },
            "type": "parcoords"
           }
          ],
          "pie": [
           {
            "automargin": true,
            "type": "pie"
           }
          ],
          "scatter": [
           {
            "fillpattern": {
             "fillmode": "overlay",
             "size": 10,
             "solidity": 0.2
            },
            "type": "scatter"
           }
          ],
          "scatter3d": [
           {
            "line": {
             "colorbar": {
              "outlinewidth": 0,
              "ticks": ""
             }
            },
            "marker": {
             "colorbar": {
              "outlinewidth": 0,
              "ticks": ""
             }
            },
            "type": "scatter3d"
           }
          ],
          "scattercarpet": [
           {
            "marker": {
             "colorbar": {
              "outlinewidth": 0,
              "ticks": ""
             }
            },
            "type": "scattercarpet"
           }
          ],
          "scattergeo": [
           {
            "marker": {
             "colorbar": {
              "outlinewidth": 0,
              "ticks": ""
             }
            },
            "type": "scattergeo"
           }
          ],
          "scattergl": [
           {
            "marker": {
             "colorbar": {
              "outlinewidth": 0,
              "ticks": ""
             }
            },
            "type": "scattergl"
           }
          ],
          "scattermapbox": [
           {
            "marker": {
             "colorbar": {
              "outlinewidth": 0,
              "ticks": ""
             }
            },
            "type": "scattermapbox"
           }
          ],
          "scatterpolar": [
           {
            "marker": {
             "colorbar": {
              "outlinewidth": 0,
              "ticks": ""
             }
            },
            "type": "scatterpolar"
           }
          ],
          "scatterpolargl": [
           {
            "marker": {
             "colorbar": {
              "outlinewidth": 0,
              "ticks": ""
             }
            },
            "type": "scatterpolargl"
           }
          ],
          "scatterternary": [
           {
            "marker": {
             "colorbar": {
              "outlinewidth": 0,
              "ticks": ""
             }
            },
            "type": "scatterternary"
           }
          ],
          "surface": [
           {
            "colorbar": {
             "outlinewidth": 0,
             "ticks": ""
            },
            "colorscale": [
             [
              0,
              "#0d0887"
             ],
             [
              0.1111111111111111,
              "#46039f"
             ],
             [
              0.2222222222222222,
              "#7201a8"
             ],
             [
              0.3333333333333333,
              "#9c179e"
             ],
             [
              0.4444444444444444,
              "#bd3786"
             ],
             [
              0.5555555555555556,
              "#d8576b"
             ],
             [
              0.6666666666666666,
              "#ed7953"
             ],
             [
              0.7777777777777778,
              "#fb9f3a"
             ],
             [
              0.8888888888888888,
              "#fdca26"
             ],
             [
              1,
              "#f0f921"
             ]
            ],
            "type": "surface"
           }
          ],
          "table": [
           {
            "cells": {
             "fill": {
              "color": "#EBF0F8"
             },
             "line": {
              "color": "white"
             }
            },
            "header": {
             "fill": {
              "color": "#C8D4E3"
             },
             "line": {
              "color": "white"
             }
            },
            "type": "table"
           }
          ]
         },
         "layout": {
          "annotationdefaults": {
           "arrowcolor": "#2a3f5f",
           "arrowhead": 0,
           "arrowwidth": 1
          },
          "autotypenumbers": "strict",
          "coloraxis": {
           "colorbar": {
            "outlinewidth": 0,
            "ticks": ""
           }
          },
          "colorscale": {
           "diverging": [
            [
             0,
             "#8e0152"
            ],
            [
             0.1,
             "#c51b7d"
            ],
            [
             0.2,
             "#de77ae"
            ],
            [
             0.3,
             "#f1b6da"
            ],
            [
             0.4,
             "#fde0ef"
            ],
            [
             0.5,
             "#f7f7f7"
            ],
            [
             0.6,
             "#e6f5d0"
            ],
            [
             0.7,
             "#b8e186"
            ],
            [
             0.8,
             "#7fbc41"
            ],
            [
             0.9,
             "#4d9221"
            ],
            [
             1,
             "#276419"
            ]
           ],
           "sequential": [
            [
             0,
             "#0d0887"
            ],
            [
             0.1111111111111111,
             "#46039f"
            ],
            [
             0.2222222222222222,
             "#7201a8"
            ],
            [
             0.3333333333333333,
             "#9c179e"
            ],
            [
             0.4444444444444444,
             "#bd3786"
            ],
            [
             0.5555555555555556,
             "#d8576b"
            ],
            [
             0.6666666666666666,
             "#ed7953"
            ],
            [
             0.7777777777777778,
             "#fb9f3a"
            ],
            [
             0.8888888888888888,
             "#fdca26"
            ],
            [
             1,
             "#f0f921"
            ]
           ],
           "sequentialminus": [
            [
             0,
             "#0d0887"
            ],
            [
             0.1111111111111111,
             "#46039f"
            ],
            [
             0.2222222222222222,
             "#7201a8"
            ],
            [
             0.3333333333333333,
             "#9c179e"
            ],
            [
             0.4444444444444444,
             "#bd3786"
            ],
            [
             0.5555555555555556,
             "#d8576b"
            ],
            [
             0.6666666666666666,
             "#ed7953"
            ],
            [
             0.7777777777777778,
             "#fb9f3a"
            ],
            [
             0.8888888888888888,
             "#fdca26"
            ],
            [
             1,
             "#f0f921"
            ]
           ]
          },
          "colorway": [
           "#636efa",
           "#EF553B",
           "#00cc96",
           "#ab63fa",
           "#FFA15A",
           "#19d3f3",
           "#FF6692",
           "#B6E880",
           "#FF97FF",
           "#FECB52"
          ],
          "font": {
           "color": "#2a3f5f"
          },
          "geo": {
           "bgcolor": "white",
           "lakecolor": "white",
           "landcolor": "#E5ECF6",
           "showlakes": true,
           "showland": true,
           "subunitcolor": "white"
          },
          "hoverlabel": {
           "align": "left"
          },
          "hovermode": "closest",
          "mapbox": {
           "style": "light"
          },
          "paper_bgcolor": "white",
          "plot_bgcolor": "#E5ECF6",
          "polar": {
           "angularaxis": {
            "gridcolor": "white",
            "linecolor": "white",
            "ticks": ""
           },
           "bgcolor": "#E5ECF6",
           "radialaxis": {
            "gridcolor": "white",
            "linecolor": "white",
            "ticks": ""
           }
          },
          "scene": {
           "xaxis": {
            "backgroundcolor": "#E5ECF6",
            "gridcolor": "white",
            "gridwidth": 2,
            "linecolor": "white",
            "showbackground": true,
            "ticks": "",
            "zerolinecolor": "white"
           },
           "yaxis": {
            "backgroundcolor": "#E5ECF6",
            "gridcolor": "white",
            "gridwidth": 2,
            "linecolor": "white",
            "showbackground": true,
            "ticks": "",
            "zerolinecolor": "white"
           },
           "zaxis": {
            "backgroundcolor": "#E5ECF6",
            "gridcolor": "white",
            "gridwidth": 2,
            "linecolor": "white",
            "showbackground": true,
            "ticks": "",
            "zerolinecolor": "white"
           }
          },
          "shapedefaults": {
           "line": {
            "color": "#2a3f5f"
           }
          },
          "ternary": {
           "aaxis": {
            "gridcolor": "white",
            "linecolor": "white",
            "ticks": ""
           },
           "baxis": {
            "gridcolor": "white",
            "linecolor": "white",
            "ticks": ""
           },
           "bgcolor": "#E5ECF6",
           "caxis": {
            "gridcolor": "white",
            "linecolor": "white",
            "ticks": ""
           }
          },
          "title": {
           "x": 0.05
          },
          "xaxis": {
           "automargin": true,
           "gridcolor": "white",
           "linecolor": "white",
           "ticks": "",
           "title": {
            "standoff": 15
           },
           "zerolinecolor": "white",
           "zerolinewidth": 2
          },
          "yaxis": {
           "automargin": true,
           "gridcolor": "white",
           "linecolor": "white",
           "ticks": "",
           "title": {
            "standoff": 15
           },
           "zerolinecolor": "white",
           "zerolinewidth": 2
          }
         }
        },
        "title": {
         "text": "SapBERT Embeddings in 3D"
        }
       }
      }
     },
     "metadata": {},
     "output_type": "display_data"
    }
   ],
   "source": [
    "from hierarchy_functions import graph_reduced_in_3d\n",
    "\n",
    "graph_reduced_in_3d(embedding_matrix, embedding_names, title='SapBERT Embeddings in 3D')"
   ]
  },
  {
   "cell_type": "code",
   "execution_count": 17,
   "metadata": {},
   "outputs": [
    {
     "data": {
      "application/vnd.plotly.v1+json": {
       "config": {
        "plotlyServerURL": "https://plot.ly"
       },
       "data": [
        {
         "marker": {
          "opacity": 0.8,
          "size": 5
         },
         "mode": "markers+text",
         "text": [
          "Urinary tract infectious disease",
          "Healthy diet",
          "Decreased alcohol consumption",
          "Sequelae of neurological disorders",
          "Oxygen saturation measurement",
          "Social isolation",
          "Catecholamine level - finding",
          "Sodium glucose cotransporter subtype 2 inhibitor",
          "Quality of life satisfaction",
          "Endarterectomy",
          "Deep venous thrombosis",
          "Stenosis",
          "Psychotherapy",
          "Thrombosis",
          "Cardiac arrhythmia",
          "Exercise",
          "Socioeconomic status",
          "Primary prevention",
          "Dysfunction of urinary bladder",
          "Clostridium botulinum toxin",
          "Race",
          "Patient position finding",
          "Alcohol intake above recommended sensible limits",
          "Silent micro-hemorrhage of brain",
          "Acute heart failure",
          "Chronic heart failure",
          "Glucagon-like peptide 1 receptor agonist",
          "Procedure involving urinary catheter",
          "Chemotherapy",
          "Body temperature",
          "DNA damage",
          "Obesity",
          "Decreased vascular flow",
          "Depressive disorder",
          "FAST - Fast Alcohol Screening Test",
          "Carotid endarterectomy",
          "Low sodium diet",
          "Spasticity",
          "Atrial fibrillation",
          "Female sex hormones - serum level - finding",
          "Blood glucose management",
          "Mortality rate",
          "Second hand cigarette smoke",
          "Prediabetes",
          "Encephalitis",
          "Heart disease",
          "Therapy",
          "Arteriosclerosis",
          "Interleukin-6",
          "Functionally dependent",
          "Metabolic syndrome X",
          "Surgical occlusion of blood vessel",
          "Administration of prophylactic statin",
          "Dissection procedure",
          "Stenosis of cerebral artery",
          "Percutaneous transluminal procedure on blood vessel",
          "Atherosclerosis",
          "Takotsubo cardiomyopathy",
          "Coping behavior",
          "Pre-eclampsia",
          "Chronic kidney disease",
          "Hemorrhage",
          "COVID-19",
          "Falls",
          "Age factor",
          "Stress",
          "Pain",
          "Inflammation",
          "Infarct",
          "Endocarditis",
          "Physical fitness state",
          "Vascular disorder",
          "Mobility",
          "Hypertensive disorder",
          "Congenital malformation",
          "Education and/or schooling finding",
          "Impaired cognition",
          "Alcohol consumption unknown",
          "Male",
          "High sensitivity cardiac troponin T measurement",
          "Antibiotic therapy",
          "Uses oral contraception",
          "Lesion of brain",
          "Speech therapy",
          "Low blood pressure",
          "Lesion size",
          "Antidepressant therapy",
          "Stroke index",
          "Neurosurgery",
          "Structure of perivascular space",
          "Pregnancy",
          "Immunosuppression",
          "Smoking cessation",
          "Dysphagia",
          "Ischemic stroke",
          "Lacunar infarction",
          "Aspiration",
          "Genetic predisposition",
          "Mediterranean diet",
          "Cardiac syndrome X",
          "Tobacco smoke",
          "Complicated atheromatous plaque",
          "Pulmonary embolism",
          "Blood coagulation disorder",
          "Insulin resistance",
          "Malignant neoplasm",
          "Death",
          "Blood-brain barrier",
          "Glomerular filtration rate",
          "Cachexia",
          "Kidney disease",
          "National Institutes of Health stroke scale",
          "Patent foramen ovale",
          "Pneumonia",
          "Lipoprotein (a) measurement",
          "Blood pressure",
          "High fat diet",
          "Infectious disease",
          "Myocardial infarction due to atherothrombotic coronary artery disease",
          "Disorder of cardiac function",
          "Hypoperfusion",
          "Cognitive skills training",
          "Dissection of cerebral artery",
          "Transient cerebral ischemia",
          "Migraine",
          "Acute infective endocarditis",
          "Epilepsy due to cerebrovascular accident",
          "Body mass index",
          "Myocardial infarction",
          "Migraine with aura",
          "Sympathetic nervous system structure",
          "Risk of cardiovascular disease",
          "Thrombus of cardiac chamber",
          "Postprocedural recovery status",
          "Social worker",
          "Aphasia",
          "Thiazolidinedione",
          "Removal of thrombus",
          "Vasculitis",
          "Diagnosis",
          "Atherosclerosis of artery",
          "Gliosis",
          "Hypercoagulability state",
          "Dissection of artery",
          "Troponin measurement",
          "Care provision regime",
          "Paralysis",
          "Weight loss",
          "Cerebral atrophy",
          "Functional finding",
          "Leuko-araiosis",
          "Continuous positive airway pressure ventilation treatment",
          "Anticoagulant therapy",
          "N terminal pro-brain natriuretic peptide level",
          "Dyslipidemia",
          "Admission to stroke unit",
          "Cerebral venous sinus thrombosis",
          "Nutritional disorder",
          "Urinary incontinence",
          "Finding of renal function",
          "Secondary prevention",
          "Diabetes mellitus",
          "Physical therapy procedure",
          "C-reactive protein measurement",
          "Heart failure",
          "Hyperlipidemia",
          "Pain management",
          "Thrombolysis",
          "Lesion",
          "Hypercholesterolemia",
          "Antihypertensive therapy",
          "Barthel index",
          "Fracture",
          "Seizure",
          "Disability",
          "Embolism",
          "Blood glucose level - finding",
          "Myocardial infarction due to demand ischemia",
          "Sleep apnea",
          "Delirium",
          "Platelet aggregation inhibitor therapy",
          "Family history of stroke"
         ],
         "textposition": "top center",
         "type": "scatter3d",
         "x": [
          -7.6031365394592285,
          11.228097915649414,
          3.8946545124053955,
          -8.8826265335083,
          -1.5821973085403442,
          10.734953880310059,
          -10.130505561828613,
          -12.371542930603027,
          -1.662671685218811,
          -2.910970687866211,
          -8.752725601196289,
          6.377459526062012,
          5.958994388580322,
          0.6504990458488464,
          -6.8260416984558105,
          13.175793647766113,
          3.1803693771362305,
          11.505410194396973,
          -10.58880615234375,
          -11.587114334106445,
          13.084016799926758,
          3.798788070678711,
          -7.546860694885254,
          -11.495657920837402,
          5.124691486358643,
          5.411999702453613,
          -12.549992561340332,
          -10.826746940612793,
          6.227283477783203,
          10.826981544494629,
          4.553277492523193,
          24.820449829101562,
          4.563930034637451,
          5.948565483093262,
          -7.648481369018555,
          -9.889618873596191,
          4.249375820159912,
          5.770439624786377,
          -6.029664039611816,
          -10.963213920593262,
          4.346591949462891,
          12.385174751281738,
          -1.9992420673370361,
          0.23060466349124908,
          -2.782261610031128,
          11.590445518493652,
          13.95788288116455,
          -2.808750629425049,
          -6.668489933013916,
          5.723052501678467,
          4.549713611602783,
          -9.718207359313965,
          -10.634138107299805,
          -0.8328486084938049,
          -6.832626819610596,
          -11.690028190612793,
          -2.513488531112671,
          -11.106192588806152,
          3.4887003898620605,
          -6.3563456535339355,
          5.304331302642822,
          0.38966840505599976,
          -1.2493871450424194,
          13.41657829284668,
          11.86438274383545,
          13.593038558959961,
          13.635259628295898,
          13.7869873046875,
          6.042840480804443,
          -0.08252254128456116,
          3.6510043144226074,
          12.176691055297852,
          13.74159049987793,
          -0.11518876254558563,
          -8.406478881835938,
          -8.481697082519531,
          5.430561065673828,
          3.8140034675598145,
          14.013776779174805,
          -11.488917350769043,
          5.596698760986328,
          -4.445618629455566,
          -1.0391699075698853,
          11.47558879852295,
          4.417899131774902,
          4.4449076652526855,
          -3.743530035018921,
          11.216727256774902,
          -2.689357280731201,
          -9.807818412780762,
          13.0092134475708,
          -7.388506889343262,
          -1.1575884819030762,
          0.18377946317195892,
          0.015203537419438362,
          -7.296297550201416,
          11.695820808410645,
          0.3153071105480194,
          -6.904419422149658,
          4.735861778259277,
          10.776815414428711,
          -7.913084030151367,
          0.6889832615852356,
          -3.5600056648254395,
          11.856246948242188,
          -8.175667762756348,
          13.376158714294434,
          -1.4058154821395874,
          -9.1484375,
          11.517271995544434,
          11.88260555267334,
          -7.471516132354736,
          -6.980527877807617,
          13.304177284240723,
          -10.964641571044922,
          11.02425479888916,
          4.260907173156738,
          12.472253799438477,
          -12.8820161819458,
          -0.8626874089241028,
          -4.034784317016602,
          5.022744655609131,
          -6.80374002456665,
          -6.703704833984375,
          6.647650241851807,
          -10.181415557861328,
          -11.890519142150879,
          3.809762954711914,
          -9.235472679138184,
          -3.514619827270508,
          -1.3274840116500854,
          -4.627505302429199,
          -7.081489562988281,
          -7.4466047286987305,
          10.618697166442871,
          6.168369293212891,
          -7.9414567947387695,
          -3.3775010108947754,
          -3.081242322921753,
          13.770499229431152,
          -9.103750228881836,
          6.051009178161621,
          -8.222721099853516,
          -4.318605899810791,
          -3.625668525695801,
          5.291024684906006,
          12.031569480895996,
          11.064854621887207,
          -0.0538036972284317,
          11.601237297058105,
          -9.490766525268555,
          -9.530359268188477,
          -3.699867010116577,
          -12.473697662353516,
          -3.5884554386138916,
          -1.4339501857757568,
          -11.04053020477295,
          5.292048454284668,
          -8.282719612121582,
          -4.908381938934326,
          11.864439010620117,
          0.027941156178712845,
          4.577459812164307,
          -4.198933124542236,
          11.30940055847168,
          -3.6031644344329834,
          11.161184310913086,
          -2.9680590629577637,
          11.959569931030273,
          -8.084989547729492,
          -7.582546710968018,
          -1.8948489427566528,
          13.036171913146973,
          13.372293472290039,
          13.964035034179688,
          6.874907493591309,
          -4.983877658843994,
          -12.726360321044922,
          0.13116948306560516,
          6.290215492248535,
          -9.325838088989258,
          -1.2448697090148926
         ],
         "y": [
          1.3317949771881104,
          -2.399900197982788,
          -3.1896378993988037,
          1.0229941606521606,
          -0.7999086380004883,
          -2.059144973754883,
          1.8773417472839355,
          0.9305697083473206,
          -0.30672094225883484,
          1.2604851722717285,
          0.7629347443580627,
          -2.7497260570526123,
          -1.4303053617477417,
          -0.7710807919502258,
          0.7964876890182495,
          1.3026201725006104,
          -2.0668578147888184,
          -2.239727258682251,
          0.7993014454841614,
          0.11746488511562347,
          1.7219702005386353,
          -2.092716932296753,
          2.9826760292053223,
          0.872765064239502,
          -3.1856110095977783,
          -3.2456905841827393,
          0.8329746723175049,
          0.9486688375473022,
          -1.543818473815918,
          -1.5627042055130005,
          -2.2183430194854736,
          42.2670783996582,
          -3.2806944847106934,
          -2.2866811752319336,
          2.556312084197998,
          -0.10495030879974365,
          -3.466858386993408,
          -2.238880157470703,
          0.7444364428520203,
          1.705910325050354,
          -2.5968148708343506,
          -1.9082468748092651,
          0.18919672071933746,
          -0.53988116979599,
          0.5055766105651855,
          -1.9845305681228638,
          1.293771743774414,
          0.8125396370887756,
          2.2135164737701416,
          -3.254678964614868,
          -2.137791872024536,
          1.3711069822311401,
          1.2224048376083374,
          -0.13840124011039734,
          1.4020881652832031,
          0.7512359619140625,
          0.7027539014816284,
          0.04120674356818199,
          -1.2424577474594116,
          1.964576244354248,
          -3.3094794750213623,
          -0.6346889138221741,
          0.29654020071029663,
          1.9687473773956299,
          -2.72684907913208,
          1.498928189277649,
          1.8013262748718262,
          1.376081943511963,
          -2.8270761966705322,
          -0.3400037884712219,
          -1.7935771942138672,
          -1.277468204498291,
          1.7994463443756104,
          -1.0681123733520508,
          0.412918359041214,
          2.708601951599121,
          -2.641969919204712,
          -2.486741542816162,
          1.7858316898345947,
          1.0260785818099976,
          -1.477541446685791,
          1.9264922142028809,
          -0.2061229795217514,
          -1.4817053079605103,
          -3.3221771717071533,
          -2.4114320278167725,
          1.3824316263198853,
          -2.53694486618042,
          1.0835431814193726,
          1.7542979717254639,
          1.2080515623092651,
          0.681349515914917,
          -0.8185075521469116,
          -0.7214115858078003,
          -0.9080308675765991,
          1.6639935970306396,
          -0.8831630349159241,
          0.4070737361907959,
          2.4697179794311523,
          -2.227264881134033,
          -2.1326301097869873,
          1.816285490989685,
          -0.9946278929710388,
          0.6532230973243713,
          -1.6642956733703613,
          0.4245363473892212,
          0.9877852201461792,
          0.10174895077943802,
          0.8422377705574036,
          -1.1845837831497192,
          -1.794663429260254,
          2.3700785636901855,
          1.9088200330734253,
          1.4414477348327637,
          1.5640475749969482,
          -1.2891368865966797,
          -3.44374418258667,
          -1.518075704574585,
          0.6509557962417603,
          -0.45602861046791077,
          0.4192700684070587,
          -2.0900566577911377,
          1.498380422592163,
          1.193665862083435,
          -2.791188955307007,
          0.781959056854248,
          0.30600491166114807,
          -2.670727252960205,
          0.7679750323295593,
          -0.192135751247406,
          -0.40829166769981384,
          1.1000876426696777,
          1.42162024974823,
          2.0447757244110107,
          -2.613821506500244,
          -2.458982229232788,
          2.535710096359253,
          0.7028592228889465,
          0.7187367677688599,
          0.9452193379402161,
          0.9409356713294983,
          -2.5198962688446045,
          0.9364702105522156,
          0.8947351574897766,
          2.1997487545013428,
          -2.0833940505981445,
          -0.692000687122345,
          -1.1421756744384766,
          -0.33673468232154846,
          -2.4029438495635986,
          1.5609763860702515,
          1.940311312675476,
          1.3058500289916992,
          0.9163201451301575,
          0.6048948764801025,
          0.20553337037563324,
          0.4118443429470062,
          -2.474430561065674,
          0.2694791555404663,
          1.1946319341659546,
          -1.7874032258987427,
          -1.3114739656448364,
          -1.4635789394378662,
          1.7147951126098633,
          -1.840819001197815,
          0.481972873210907,
          -1.8593571186065674,
          1.2075161933898926,
          -1.0810569524765015,
          0.5850175023078918,
          1.1897295713424683,
          -0.4575924873352051,
          1.6163612604141235,
          1.1217116117477417,
          1.2235298156738281,
          -2.714048147201538,
          1.4851051568984985,
          0.6704119443893433,
          -1.1841009855270386,
          -2.5442328453063965,
          1.4962053298950195,
          0.3122144043445587
         ],
         "z": [
          0.3954322934150696,
          -0.07385612279176712,
          -2.2529492378234863,
          -0.2608286142349243,
          -0.6477630734443665,
          0.14115706086158752,
          -0.014786048792302608,
          -0.7831569910049438,
          -0.8162592649459839,
          0.959586501121521,
          0.5556235909461975,
          -1.5727314949035645,
          -1.7173768281936646,
          -1.4305495023727417,
          0.5937521457672119,
          0.7525838613510132,
          -1.550528883934021,
          0.6991701126098633,
          0.37254640460014343,
          -0.7730209231376648,
          0.5919947624206543,
          -2.386800527572632,
          -0.2788735330104828,
          -0.04058315232396126,
          -0.9378304481506348,
          -1.0543512105941772,
          -0.46295174956321716,
          0.4671093821525574,
          -1.788568377494812,
          -0.200047105550766,
          -1.4984015226364136,
          8.567306518554688,
          -2.492286443710327,
          -1.0652865171432495,
          -0.283951997756958,
          -0.10674526542425156,
          -1.671061396598816,
          -0.4549061357975006,
          0.6078309416770935,
          -0.07326964288949966,
          -1.7423971891403198,
          0.13748255372047424,
          -1.8789410591125488,
          -0.3345981240272522,
          0.6353155374526978,
          -0.6074221730232239,
          0.6007770895957947,
          0.7929410934448242,
          0.042197827249765396,
          -2.6425387859344482,
          -0.9396388530731201,
          0.2777848243713379,
          -0.6876229643821716,
          -0.7155080437660217,
          0.12253991514444351,
          -0.06048028916120529,
          0.7703824043273926,
          -0.2971612215042114,
          -1.8231537342071533,
          0.9413379430770874,
          -1.2953892946243286,
          -1.4052717685699463,
          -1.9850139617919922,
          0.28289276361465454,
          -0.1460520178079605,
          0.8366163969039917,
          -0.05924272909760475,
          -0.13072068989276886,
          -1.8233731985092163,
          -1.1798144578933716,
          -1.6615543365478516,
          -0.026775049045681953,
          0.6216102242469788,
          -1.0689756870269775,
          -0.01943785697221756,
          -0.7538881897926331,
          -1.7241497039794922,
          -1.7934389114379883,
          0.2690970301628113,
          -0.6791113615036011,
          -1.7938108444213867,
          0.6333970427513123,
          -1.559870958328247,
          0.5372042059898376,
          -1.462037444114685,
          -2.543367862701416,
          0.9231986403465271,
          -0.5772597193717957,
          1.382386565208435,
          -0.3831366300582886,
          0.36469921469688416,
          1.2632514238357544,
          -0.14802640676498413,
          -0.3784194886684418,
          -1.3121315240859985,
          0.39964282512664795,
          0.0037540309131145477,
          -0.847451388835907,
          0.7286795377731323,
          -0.9961507320404053,
          -0.5710914134979248,
          0.4153229296207428,
          -1.2557083368301392,
          -0.14110726118087769,
          -0.7528649568557739,
          -0.0671500489115715,
          0.6628149151802063,
          -1.8249645233154297,
          0.936765730381012,
          -0.6510944366455078,
          -0.3777526021003723,
          -0.8123791813850403,
          0.9945552945137024,
          -0.1646430641412735,
          -0.05615641176700592,
          -0.5718884468078613,
          -1.7084811925888062,
          -0.3390045166015625,
          0.49584150314331055,
          -1.502009391784668,
          0.5060521364212036,
          -2.2557268142700195,
          0.041588641703128815,
          0.5140299201011658,
          -0.44742366671562195,
          -0.2738945782184601,
          -0.21217267215251923,
          -1.041243314743042,
          0.3525954782962799,
          0.48075801134109497,
          -1.2026675939559937,
          -0.19483338296413422,
          0.006785647012293339,
          1.6821173429489136,
          0.03386855870485306,
          -0.6354131698608398,
          1.0202478170394897,
          -0.7337455153465271,
          0.8919885158538818,
          0.37736776471138,
          0.21032056212425232,
          -2.142165422439575,
          1.4412387609481812,
          -0.22875910997390747,
          0.011311148293316364,
          -2.5748915672302246,
          -0.4522698223590851,
          0.12775839865207672,
          -0.9041595458984375,
          0.2953997850418091,
          -0.4022394120693207,
          0.8229670524597168,
          0.7530494332313538,
          -0.6856743097305298,
          0.3166050910949707,
          -1.0945690870285034,
          0.07444977760314941,
          -1.5860188007354736,
          0.7436736226081848,
          -0.32457235455513,
          0.7012216448783875,
          -0.9856283664703369,
          -2.0050604343414307,
          -0.07544701546430588,
          -0.9195089936256409,
          0.23662526905536652,
          0.17537344992160797,
          0.6677778363227844,
          0.37846839427948,
          1.4699536561965942,
          1.2794671058654785,
          -1.45595121383667,
          0.12453774362802505,
          -0.040173303335905075,
          0.12865015864372253,
          -1.3871420621871948,
          -0.2668180465698242,
          0.34837228059768677,
          -0.6733036637306213,
          -0.6613195538520813,
          0.5779959559440613,
          -1.2211112976074219
         ]
        }
       ],
       "layout": {
        "margin": {
         "b": 0,
         "l": 0,
         "r": 0,
         "t": 40
        },
        "scene": {
         "xaxis": {
          "title": {
           "text": "t-SNE Dimension 1"
          }
         },
         "yaxis": {
          "title": {
           "text": "t-SNE Dimension 2"
          }
         },
         "zaxis": {
          "title": {
           "text": "t-SNE Dimension 3"
          }
         }
        },
        "template": {
         "data": {
          "bar": [
           {
            "error_x": {
             "color": "#2a3f5f"
            },
            "error_y": {
             "color": "#2a3f5f"
            },
            "marker": {
             "line": {
              "color": "#E5ECF6",
              "width": 0.5
             },
             "pattern": {
              "fillmode": "overlay",
              "size": 10,
              "solidity": 0.2
             }
            },
            "type": "bar"
           }
          ],
          "barpolar": [
           {
            "marker": {
             "line": {
              "color": "#E5ECF6",
              "width": 0.5
             },
             "pattern": {
              "fillmode": "overlay",
              "size": 10,
              "solidity": 0.2
             }
            },
            "type": "barpolar"
           }
          ],
          "carpet": [
           {
            "aaxis": {
             "endlinecolor": "#2a3f5f",
             "gridcolor": "white",
             "linecolor": "white",
             "minorgridcolor": "white",
             "startlinecolor": "#2a3f5f"
            },
            "baxis": {
             "endlinecolor": "#2a3f5f",
             "gridcolor": "white",
             "linecolor": "white",
             "minorgridcolor": "white",
             "startlinecolor": "#2a3f5f"
            },
            "type": "carpet"
           }
          ],
          "choropleth": [
           {
            "colorbar": {
             "outlinewidth": 0,
             "ticks": ""
            },
            "type": "choropleth"
           }
          ],
          "contour": [
           {
            "colorbar": {
             "outlinewidth": 0,
             "ticks": ""
            },
            "colorscale": [
             [
              0,
              "#0d0887"
             ],
             [
              0.1111111111111111,
              "#46039f"
             ],
             [
              0.2222222222222222,
              "#7201a8"
             ],
             [
              0.3333333333333333,
              "#9c179e"
             ],
             [
              0.4444444444444444,
              "#bd3786"
             ],
             [
              0.5555555555555556,
              "#d8576b"
             ],
             [
              0.6666666666666666,
              "#ed7953"
             ],
             [
              0.7777777777777778,
              "#fb9f3a"
             ],
             [
              0.8888888888888888,
              "#fdca26"
             ],
             [
              1,
              "#f0f921"
             ]
            ],
            "type": "contour"
           }
          ],
          "contourcarpet": [
           {
            "colorbar": {
             "outlinewidth": 0,
             "ticks": ""
            },
            "type": "contourcarpet"
           }
          ],
          "heatmap": [
           {
            "colorbar": {
             "outlinewidth": 0,
             "ticks": ""
            },
            "colorscale": [
             [
              0,
              "#0d0887"
             ],
             [
              0.1111111111111111,
              "#46039f"
             ],
             [
              0.2222222222222222,
              "#7201a8"
             ],
             [
              0.3333333333333333,
              "#9c179e"
             ],
             [
              0.4444444444444444,
              "#bd3786"
             ],
             [
              0.5555555555555556,
              "#d8576b"
             ],
             [
              0.6666666666666666,
              "#ed7953"
             ],
             [
              0.7777777777777778,
              "#fb9f3a"
             ],
             [
              0.8888888888888888,
              "#fdca26"
             ],
             [
              1,
              "#f0f921"
             ]
            ],
            "type": "heatmap"
           }
          ],
          "heatmapgl": [
           {
            "colorbar": {
             "outlinewidth": 0,
             "ticks": ""
            },
            "colorscale": [
             [
              0,
              "#0d0887"
             ],
             [
              0.1111111111111111,
              "#46039f"
             ],
             [
              0.2222222222222222,
              "#7201a8"
             ],
             [
              0.3333333333333333,
              "#9c179e"
             ],
             [
              0.4444444444444444,
              "#bd3786"
             ],
             [
              0.5555555555555556,
              "#d8576b"
             ],
             [
              0.6666666666666666,
              "#ed7953"
             ],
             [
              0.7777777777777778,
              "#fb9f3a"
             ],
             [
              0.8888888888888888,
              "#fdca26"
             ],
             [
              1,
              "#f0f921"
             ]
            ],
            "type": "heatmapgl"
           }
          ],
          "histogram": [
           {
            "marker": {
             "pattern": {
              "fillmode": "overlay",
              "size": 10,
              "solidity": 0.2
             }
            },
            "type": "histogram"
           }
          ],
          "histogram2d": [
           {
            "colorbar": {
             "outlinewidth": 0,
             "ticks": ""
            },
            "colorscale": [
             [
              0,
              "#0d0887"
             ],
             [
              0.1111111111111111,
              "#46039f"
             ],
             [
              0.2222222222222222,
              "#7201a8"
             ],
             [
              0.3333333333333333,
              "#9c179e"
             ],
             [
              0.4444444444444444,
              "#bd3786"
             ],
             [
              0.5555555555555556,
              "#d8576b"
             ],
             [
              0.6666666666666666,
              "#ed7953"
             ],
             [
              0.7777777777777778,
              "#fb9f3a"
             ],
             [
              0.8888888888888888,
              "#fdca26"
             ],
             [
              1,
              "#f0f921"
             ]
            ],
            "type": "histogram2d"
           }
          ],
          "histogram2dcontour": [
           {
            "colorbar": {
             "outlinewidth": 0,
             "ticks": ""
            },
            "colorscale": [
             [
              0,
              "#0d0887"
             ],
             [
              0.1111111111111111,
              "#46039f"
             ],
             [
              0.2222222222222222,
              "#7201a8"
             ],
             [
              0.3333333333333333,
              "#9c179e"
             ],
             [
              0.4444444444444444,
              "#bd3786"
             ],
             [
              0.5555555555555556,
              "#d8576b"
             ],
             [
              0.6666666666666666,
              "#ed7953"
             ],
             [
              0.7777777777777778,
              "#fb9f3a"
             ],
             [
              0.8888888888888888,
              "#fdca26"
             ],
             [
              1,
              "#f0f921"
             ]
            ],
            "type": "histogram2dcontour"
           }
          ],
          "mesh3d": [
           {
            "colorbar": {
             "outlinewidth": 0,
             "ticks": ""
            },
            "type": "mesh3d"
           }
          ],
          "parcoords": [
           {
            "line": {
             "colorbar": {
              "outlinewidth": 0,
              "ticks": ""
             }
            },
            "type": "parcoords"
           }
          ],
          "pie": [
           {
            "automargin": true,
            "type": "pie"
           }
          ],
          "scatter": [
           {
            "fillpattern": {
             "fillmode": "overlay",
             "size": 10,
             "solidity": 0.2
            },
            "type": "scatter"
           }
          ],
          "scatter3d": [
           {
            "line": {
             "colorbar": {
              "outlinewidth": 0,
              "ticks": ""
             }
            },
            "marker": {
             "colorbar": {
              "outlinewidth": 0,
              "ticks": ""
             }
            },
            "type": "scatter3d"
           }
          ],
          "scattercarpet": [
           {
            "marker": {
             "colorbar": {
              "outlinewidth": 0,
              "ticks": ""
             }
            },
            "type": "scattercarpet"
           }
          ],
          "scattergeo": [
           {
            "marker": {
             "colorbar": {
              "outlinewidth": 0,
              "ticks": ""
             }
            },
            "type": "scattergeo"
           }
          ],
          "scattergl": [
           {
            "marker": {
             "colorbar": {
              "outlinewidth": 0,
              "ticks": ""
             }
            },
            "type": "scattergl"
           }
          ],
          "scattermapbox": [
           {
            "marker": {
             "colorbar": {
              "outlinewidth": 0,
              "ticks": ""
             }
            },
            "type": "scattermapbox"
           }
          ],
          "scatterpolar": [
           {
            "marker": {
             "colorbar": {
              "outlinewidth": 0,
              "ticks": ""
             }
            },
            "type": "scatterpolar"
           }
          ],
          "scatterpolargl": [
           {
            "marker": {
             "colorbar": {
              "outlinewidth": 0,
              "ticks": ""
             }
            },
            "type": "scatterpolargl"
           }
          ],
          "scatterternary": [
           {
            "marker": {
             "colorbar": {
              "outlinewidth": 0,
              "ticks": ""
             }
            },
            "type": "scatterternary"
           }
          ],
          "surface": [
           {
            "colorbar": {
             "outlinewidth": 0,
             "ticks": ""
            },
            "colorscale": [
             [
              0,
              "#0d0887"
             ],
             [
              0.1111111111111111,
              "#46039f"
             ],
             [
              0.2222222222222222,
              "#7201a8"
             ],
             [
              0.3333333333333333,
              "#9c179e"
             ],
             [
              0.4444444444444444,
              "#bd3786"
             ],
             [
              0.5555555555555556,
              "#d8576b"
             ],
             [
              0.6666666666666666,
              "#ed7953"
             ],
             [
              0.7777777777777778,
              "#fb9f3a"
             ],
             [
              0.8888888888888888,
              "#fdca26"
             ],
             [
              1,
              "#f0f921"
             ]
            ],
            "type": "surface"
           }
          ],
          "table": [
           {
            "cells": {
             "fill": {
              "color": "#EBF0F8"
             },
             "line": {
              "color": "white"
             }
            },
            "header": {
             "fill": {
              "color": "#C8D4E3"
             },
             "line": {
              "color": "white"
             }
            },
            "type": "table"
           }
          ]
         },
         "layout": {
          "annotationdefaults": {
           "arrowcolor": "#2a3f5f",
           "arrowhead": 0,
           "arrowwidth": 1
          },
          "autotypenumbers": "strict",
          "coloraxis": {
           "colorbar": {
            "outlinewidth": 0,
            "ticks": ""
           }
          },
          "colorscale": {
           "diverging": [
            [
             0,
             "#8e0152"
            ],
            [
             0.1,
             "#c51b7d"
            ],
            [
             0.2,
             "#de77ae"
            ],
            [
             0.3,
             "#f1b6da"
            ],
            [
             0.4,
             "#fde0ef"
            ],
            [
             0.5,
             "#f7f7f7"
            ],
            [
             0.6,
             "#e6f5d0"
            ],
            [
             0.7,
             "#b8e186"
            ],
            [
             0.8,
             "#7fbc41"
            ],
            [
             0.9,
             "#4d9221"
            ],
            [
             1,
             "#276419"
            ]
           ],
           "sequential": [
            [
             0,
             "#0d0887"
            ],
            [
             0.1111111111111111,
             "#46039f"
            ],
            [
             0.2222222222222222,
             "#7201a8"
            ],
            [
             0.3333333333333333,
             "#9c179e"
            ],
            [
             0.4444444444444444,
             "#bd3786"
            ],
            [
             0.5555555555555556,
             "#d8576b"
            ],
            [
             0.6666666666666666,
             "#ed7953"
            ],
            [
             0.7777777777777778,
             "#fb9f3a"
            ],
            [
             0.8888888888888888,
             "#fdca26"
            ],
            [
             1,
             "#f0f921"
            ]
           ],
           "sequentialminus": [
            [
             0,
             "#0d0887"
            ],
            [
             0.1111111111111111,
             "#46039f"
            ],
            [
             0.2222222222222222,
             "#7201a8"
            ],
            [
             0.3333333333333333,
             "#9c179e"
            ],
            [
             0.4444444444444444,
             "#bd3786"
            ],
            [
             0.5555555555555556,
             "#d8576b"
            ],
            [
             0.6666666666666666,
             "#ed7953"
            ],
            [
             0.7777777777777778,
             "#fb9f3a"
            ],
            [
             0.8888888888888888,
             "#fdca26"
            ],
            [
             1,
             "#f0f921"
            ]
           ]
          },
          "colorway": [
           "#636efa",
           "#EF553B",
           "#00cc96",
           "#ab63fa",
           "#FFA15A",
           "#19d3f3",
           "#FF6692",
           "#B6E880",
           "#FF97FF",
           "#FECB52"
          ],
          "font": {
           "color": "#2a3f5f"
          },
          "geo": {
           "bgcolor": "white",
           "lakecolor": "white",
           "landcolor": "#E5ECF6",
           "showlakes": true,
           "showland": true,
           "subunitcolor": "white"
          },
          "hoverlabel": {
           "align": "left"
          },
          "hovermode": "closest",
          "mapbox": {
           "style": "light"
          },
          "paper_bgcolor": "white",
          "plot_bgcolor": "#E5ECF6",
          "polar": {
           "angularaxis": {
            "gridcolor": "white",
            "linecolor": "white",
            "ticks": ""
           },
           "bgcolor": "#E5ECF6",
           "radialaxis": {
            "gridcolor": "white",
            "linecolor": "white",
            "ticks": ""
           }
          },
          "scene": {
           "xaxis": {
            "backgroundcolor": "#E5ECF6",
            "gridcolor": "white",
            "gridwidth": 2,
            "linecolor": "white",
            "showbackground": true,
            "ticks": "",
            "zerolinecolor": "white"
           },
           "yaxis": {
            "backgroundcolor": "#E5ECF6",
            "gridcolor": "white",
            "gridwidth": 2,
            "linecolor": "white",
            "showbackground": true,
            "ticks": "",
            "zerolinecolor": "white"
           },
           "zaxis": {
            "backgroundcolor": "#E5ECF6",
            "gridcolor": "white",
            "gridwidth": 2,
            "linecolor": "white",
            "showbackground": true,
            "ticks": "",
            "zerolinecolor": "white"
           }
          },
          "shapedefaults": {
           "line": {
            "color": "#2a3f5f"
           }
          },
          "ternary": {
           "aaxis": {
            "gridcolor": "white",
            "linecolor": "white",
            "ticks": ""
           },
           "baxis": {
            "gridcolor": "white",
            "linecolor": "white",
            "ticks": ""
           },
           "bgcolor": "#E5ECF6",
           "caxis": {
            "gridcolor": "white",
            "linecolor": "white",
            "ticks": ""
           }
          },
          "title": {
           "x": 0.05
          },
          "xaxis": {
           "automargin": true,
           "gridcolor": "white",
           "linecolor": "white",
           "ticks": "",
           "title": {
            "standoff": 15
           },
           "zerolinecolor": "white",
           "zerolinewidth": 2
          },
          "yaxis": {
           "automargin": true,
           "gridcolor": "white",
           "linecolor": "white",
           "ticks": "",
           "title": {
            "standoff": 15
           },
           "zerolinecolor": "white",
           "zerolinewidth": 2
          }
         }
        },
        "title": {
         "text": "SNOMEDCT_BioBERT Embeddings in 3D"
        }
       }
      }
     },
     "metadata": {},
     "output_type": "display_data"
    }
   ],
   "source": [
    "graph_reduced_in_3d(embedding_matrix_2, embedding_names_2, title='SNOMEDCT_BioBERT Embeddings in 3D')"
   ]
  },
  {
   "cell_type": "markdown",
   "metadata": {},
   "source": [
    "### **Approach 3:**"
   ]
  },
  {
   "cell_type": "markdown",
   "metadata": {},
   "source": [
    "Use SNOMED CT Hierarchy, then use embeddings to map terms that dont link to main tree to closest term within that tree."
   ]
  },
  {
   "cell_type": "markdown",
   "metadata": {},
   "source": [
    "1. Select SNOMED CT subset that carries more semantic meaning (e.g. clinical finding)\n",
    "2. Cluster concepts within this subset\n",
    "    a) Group descendants with their ancestors\n",
    "    b) Cluster root ancestors\n",
    "3. Get embeddings for all SNOMED CT terms in clinical finding tree\n",
    "4. Compute similarity of remaining terms with these, pick closest and add to cluster"
   ]
  },
  {
   "cell_type": "code",
   "execution_count": null,
   "metadata": {},
   "outputs": [],
   "source": [
    "import networkx as nx\n",
    "from hierarchy_functions import find_lca_and_distance, compute_lcas_and_distances\n",
    "from collections import defaultdict"
   ]
  },
  {
   "cell_type": "code",
   "execution_count": 41,
   "metadata": {},
   "outputs": [],
   "source": [
    "my_terms_filtered = set(concept_df[concept_df.concept_id.isin(my_terms)&concept_df.concept_class_id.isin(['Clinical Finding','Disorder'])].concept_id)"
   ]
  },
  {
   "cell_type": "code",
   "execution_count": 22,
   "metadata": {},
   "outputs": [
    {
     "name": "stdout",
     "output_type": "stream",
     "text": [
      "Number of nodes in graph of relevant SNOMED CT terms: 430\n",
      "Number of edges in graph of relevant SNOMED CT terms: 742\n",
      "All terms are present in the graph.\n"
     ]
    }
   ],
   "source": [
    "G_test = create_SNOMED_CT_graph_based_on_terms(my_terms_filtered, concept_df, concept_relationship_df, selected_relationship_ids)"
   ]
  },
  {
   "cell_type": "code",
   "execution_count": null,
   "metadata": {},
   "outputs": [],
   "source": [
    "# precompute least common ancestors and distances between already existing nodes\n",
    "lca_distances = compute_lcas_and_distances(my_terms_filtered, G_test)\n",
    "\n",
    "remaining_terms = my_terms_filtered.copy()\n",
    "hierarchy = defaultdict(list)\n",
    "processed_pairs = set()  # Track processed pairs to avoid infinite loops\n",
    "\n",
    "def has_descendants(term, remaining_terms, graph):\n",
    "    \"\"\"Check if a term has descendants in the remaining terms.\"\"\"\n",
    "    descendants = nx.descendants(graph, term)\n",
    "    return bool(descendants & set(remaining_terms))\n",
    "\n",
    "while len(remaining_terms) > 1:\n",
    "    shortest_distance = float(\"inf\")\n",
    "    best_pair = None\n",
    "    best_lca = None\n",
    "\n",
    "    # Find the best pair of terms based on distance\n",
    "    for node1 in remaining_terms:\n",
    "        for node2 in remaining_terms:\n",
    "            if node1 == node2:\n",
    "                continue\n",
    "            key = frozenset({node1, node2})\n",
    "            if key in processed_pairs:\n",
    "                continue\n",
    "            if key not in lca_distances[1]:\n",
    "                lca, distance = find_lca_and_distance(G_test, node1, node2)\n",
    "                lca_distances[0][key] = lca\n",
    "                lca_distances[1][key] = distance\n",
    "            dist = lca_distances[1][key]\n",
    "\n",
    "            # Update the best pair if this distance is shorter\n",
    "            if dist < shortest_distance:\n",
    "                shortest_distance = dist\n",
    "                best_pair = (node1, node2)\n",
    "                best_lca = lca_distances[0][key]\n",
    "\n",
    "    if best_pair is None:\n",
    "        break\n",
    "    \n",
    "    hierarchy[best_lca].append(best_pair)    \n",
    "    processed_pairs.add(frozenset(best_pair))\n",
    "\n",
    "    # Replace grouped nodes with their LCA if they no longer have descendants\n",
    "    for node in best_pair:\n",
    "        if not has_descendants(node, remaining_terms, G_test):\n",
    "            remaining_terms.remove(node)\n",
    "    remaining_terms.add(best_lca)"
   ]
  },
  {
   "cell_type": "code",
   "execution_count": 98,
   "metadata": {},
   "outputs": [],
   "source": [
    "def hierarchy_to_graph(hierarchy, original_terms):\n",
    "    \"\"\"\n",
    "    Convert a hierarchy dictionary to a directed graph, removing duplicates and self-references.\n",
    "    Adds a 'type' attribute to distinguish between original and LCA nodes.\n",
    "    \"\"\"\n",
    "    graph = nx.DiGraph()\n",
    "\n",
    "    # Iterate over the hierarchy\n",
    "    for lca, pairs in hierarchy.items():\n",
    "        # Add the LCA node and mark it as an 'lca'\n",
    "        if lca not in graph:\n",
    "            graph.add_node(lca, type=\"lca\")\n",
    "\n",
    "        for pair in pairs:\n",
    "            for node in pair:\n",
    "                # Add the original terms or nodes if not already added\n",
    "                if node not in graph:\n",
    "                    node_type = \"original\" if node in original_terms else \"lca\"\n",
    "                    graph.add_node(node, type=node_type)\n",
    "\n",
    "                # Add edges, avoiding self-references\n",
    "                if lca != node:\n",
    "                    if not graph.has_edge(lca, node):\n",
    "                        graph.add_edge(lca, node)\n",
    "\n",
    "    return graph"
   ]
  },
  {
   "cell_type": "code",
   "execution_count": 100,
   "metadata": {},
   "outputs": [],
   "source": [
    "graph = hierarchy_to_graph(hierarchy, my_terms_filtered)"
   ]
  },
  {
   "cell_type": "code",
   "execution_count": 101,
   "metadata": {},
   "outputs": [],
   "source": [
    "def prune_redundant_edges(graph):\n",
    "    \"\"\"Remove redundant edges that create shortcuts in the hierarchy.\"\"\"\n",
    "    edges_to_remove = set()\n",
    "\n",
    "    for node in graph.nodes:\n",
    "        descendants = nx.descendants(graph, node)\n",
    "        for descendant in descendants:\n",
    "            for intermediate in graph.successors(node):\n",
    "                if intermediate in descendants and graph.has_edge(intermediate, descendant):\n",
    "                    edges_to_remove.add((node, descendant))\n",
    "\n",
    "    graph.remove_edges_from(edges_to_remove)\n",
    "    return graph\n",
    "\n",
    "pruned_graph = prune_redundant_edges(graph)"
   ]
  },
  {
   "cell_type": "code",
   "execution_count": 103,
   "metadata": {},
   "outputs": [],
   "source": [
    "def replace_nodes_with_names(graph, mapping):\n",
    "    \"\"\"Replace node codes with names based on a mapping dictionary while preserving attributes.\"\"\"\n",
    "\n",
    "    new_graph = nx.DiGraph()\n",
    "\n",
    "    # Add nodes with attributes, replacing codes with names\n",
    "    for node, attrs in graph.nodes(data=True):\n",
    "        new_node = mapping.get(node, node)  # Replace code with name if mapping exists\n",
    "        new_graph.add_node(new_node, **attrs)  # Preserve attributes\n",
    "\n",
    "    # Add edges, replacing codes with names\n",
    "    for u, v, attrs in graph.edges(data=True):\n",
    "        new_u = mapping.get(u, u)\n",
    "        new_v = mapping.get(v, v)\n",
    "        new_graph.add_edge(new_u, new_v, **attrs)  # Preserve edge attributes\n",
    "\n",
    "    return new_graph\n",
    "\n",
    "graph_with_names = replace_nodes_with_names(graph, code_to_name)"
   ]
  },
  {
   "cell_type": "code",
   "execution_count": 104,
   "metadata": {},
   "outputs": [],
   "source": [
    "nx.write_gexf(graph_with_names, 'snomed_grouping.gexf')"
   ]
  },
  {
   "cell_type": "markdown",
   "metadata": {},
   "source": [
    "for other terms, first check if there is a different relationshiptype that links it, if not then use language model"
   ]
  },
  {
   "cell_type": "markdown",
   "metadata": {},
   "source": []
  }
 ],
 "metadata": {
  "kernelspec": {
   "display_name": "wise-dag-ml",
   "language": "python",
   "name": "python3"
  },
  "language_info": {
   "codemirror_mode": {
    "name": "ipython",
    "version": 3
   },
   "file_extension": ".py",
   "mimetype": "text/x-python",
   "name": "python",
   "nbconvert_exporter": "python",
   "pygments_lexer": "ipython3",
   "version": "3.10.15"
  }
 },
 "nbformat": 4,
 "nbformat_minor": 2
}
