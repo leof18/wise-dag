{
 "cells": [
  {
   "cell_type": "code",
   "execution_count": 21,
   "metadata": {},
   "outputs": [
    {
     "name": "stdout",
     "output_type": "stream",
     "text": [
      "The autoreload extension is already loaded. To reload it, use:\n",
      "  %reload_ext autoreload\n"
     ]
    }
   ],
   "source": [
    "%load_ext autoreload\n",
    "%autoreload 2\n",
    "import pandas as pd\n",
    "import matplotlib.pyplot as plt"
   ]
  },
  {
   "cell_type": "markdown",
   "metadata": {},
   "source": [
    "# Building DAG Hierarchy\n",
    "\n",
    "**Goal: Group terms and find common name to create a hierarchy of DAG nodes from broad down to specific.**"
   ]
  },
  {
   "cell_type": "markdown",
   "metadata": {},
   "source": [
    "Import Data\n",
    "1. `dag_df` - Standardized DAG dataframe from workshop\n",
    "2. `concept_df` - Athena concept dataframe containing all the athena ids, concept codes, and concept names\n",
    "3. `concept_relationship_df` - Athena dataframe containing the relationships between all the concepts\n",
    "4. `concept_ancestor_df` - Athena dataframe containing information on the ancestors of terms (unfortunately seems incomplete)"
   ]
  },
  {
   "cell_type": "code",
   "execution_count": null,
   "metadata": {},
   "outputs": [],
   "source": [
    "dag_df = pd.read_csv('../data/DAGs_standardized.csv', dtype={'Exposure': str, 'Outcome':str})\n",
    "concept_df = pd.read_csv('../Standardization/athena_vocabulary/CONCEPT.csv', sep='\\t', dtype={'concept_code': str, 'concept_id': str}, low_memory=False)\n",
    "concept_relationship_df = pd.read_csv('../Standardization/athena_vocabulary/CONCEPT_RELATIONSHIP.csv', sep='\\t', dtype={'concept_id_1':str, 'concept_id_2': str}, low_memory=False)\n",
    "concept_ancestor_df = pd.read_csv('../Standardization/athena_vocabulary/CONCEPT_ANCESTOR.csv', sep='\\t',dtype={'ancestor_concept_id': str, 'descendant_concept_id': str}, low_memory=False)"
   ]
  },
  {
   "cell_type": "markdown",
   "metadata": {},
   "source": [
    "Get set of terms"
   ]
  },
  {
   "cell_type": "code",
   "execution_count": 3,
   "metadata": {},
   "outputs": [],
   "source": [
    "from hierarchy_functions import get_unique_coded_terms\n",
    "\n",
    "my_terms = get_unique_coded_terms(dag_df)"
   ]
  },
  {
   "cell_type": "markdown",
   "metadata": {},
   "source": [
    "Dictionary to convert codes to names"
   ]
  },
  {
   "cell_type": "code",
   "execution_count": 4,
   "metadata": {},
   "outputs": [],
   "source": [
    "code_to_name = dict(zip(concept_df[\"concept_id\"], concept_df[\"concept_name\"]))"
   ]
  },
  {
   "cell_type": "markdown",
   "metadata": {},
   "source": [
    "### **Approach 1:** Using the parent and child relationships part of the OHDSI CDM / SNOMED CT ontology"
   ]
  },
  {
   "cell_type": "markdown",
   "metadata": {},
   "source": [
    "First, let's explore what happens if we condense all child terms by associating them directly with their respective parent (root) terms within the terms that were part of the DAGs."
   ]
  },
  {
   "cell_type": "code",
   "execution_count": 5,
   "metadata": {},
   "outputs": [
    {
     "data": {
      "text/plain": [
       "{'root_term_count': '129 out of 182 terms are root nodes',\n",
       " 'average_children_per_root': 0.1,\n",
       " 'example_root_with_children': {'root': '4103842', 'children': ['4306703']}}"
      ]
     },
     "execution_count": 5,
     "metadata": {},
     "output_type": "execute_result"
    }
   ],
   "source": [
    "from hierarchy_functions import analyze_snomed_hierarchy\n",
    "\n",
    "analysis_result = analyze_snomed_hierarchy(concept_ancestor_df, my_terms)\n",
    "analysis_result"
   ]
  },
  {
   "cell_type": "code",
   "execution_count": 6,
   "metadata": {},
   "outputs": [
    {
     "name": "stdout",
     "output_type": "stream",
     "text": [
      "Root term: Arteriosclerosis\n",
      "Children: ['Atherosclerosis']\n"
     ]
    }
   ],
   "source": [
    "# Example\n",
    "print('Root term:', code_to_name[analysis_result['example_root_with_children']['root']])\n",
    "print('Children:', [code_to_name[i] for i in analysis_result['example_root_with_children']['children']])"
   ]
  },
  {
   "cell_type": "markdown",
   "metadata": {},
   "source": [
    "It seems that even after doing so there are still a lot of different unique terms and we have to further group these into more broad categories to not overwhelm researchers. For this we will consider calcualting the distances from all the nodes to each other through a common ancestor node. This is important as nodes can have different parent terms and might otherwise link horizontally in a zig zag pattern instead of through a common ancestor higher up in the hierarchy.\n",
    "\n",
    "There are a variety of relationship types available in the OHDSI Athena database. For now, we are using the \"Subsumes\" relationships that are the relationships that connect a parent term to a child term in the SNOMED CT hierarchy. However, more potentially useful relationship types are available like can be seen below."
   ]
  },
  {
   "cell_type": "code",
   "execution_count": 7,
   "metadata": {},
   "outputs": [],
   "source": [
    "useful_relationship_ids = [\n",
    "    \"Is a\",                     # Hierarchical relationship of SNOMED\n",
    "    \"Subsumes\",\n",
    "    \"Finding site of\",          # Links findings to anatomical sites\n",
    "    \"Interprets of\",             # Links specific measurements to conditions\n",
    "    \"Causative agent of\",       # Etiological link\n",
    "    \"Has due to\",               # Etiology relationships\n",
    "    \"Due to of\",\n",
    "    \"Asso finding of\",\n",
    "    \"Pathology of\",             # Links to pathological processes\n",
    "    \"Has dir morph\",            # Direct morphology\n",
    "    \"Has asso morph\",           # Associated morphology\n",
    "    \"Occurs before\",            # Temporal relationship\n",
    "    \"Follows\",                  # Temporal relationship\n",
    "    \"Has manifestation\",        # Links findings to manifestations\n",
    "    \"Has complication\"          # Links to complications\n",
    "]\n",
    "\n",
    "selected_relationship_ids = [\"Subsumes\"]"
   ]
  },
  {
   "cell_type": "markdown",
   "metadata": {},
   "source": [
    "Creating a graph structure of the terms based on SNOMED CT hierachy."
   ]
  },
  {
   "cell_type": "code",
   "execution_count": 9,
   "metadata": {},
   "outputs": [
    {
     "name": "stdout",
     "output_type": "stream",
     "text": [
      "Number of nodes in graph of relevant SNOMED CT terms: 768\n",
      "Number of edges in graph of relevant SNOMED CT terms: 1177\n",
      "All terms are present in the graph.\n"
     ]
    }
   ],
   "source": [
    "from hierarchy_functions import create_SNOMED_CT_graph_based_on_terms\n",
    "\n",
    "G = create_SNOMED_CT_graph_based_on_terms(my_terms, concept_df, concept_relationship_df, selected_relationship_ids)"
   ]
  },
  {
   "cell_type": "markdown",
   "metadata": {},
   "source": [
    "Computing the least common ancestor between any two nodes part of my_terms and then the distance between the two terms going through that LCA."
   ]
  },
  {
   "cell_type": "code",
   "execution_count": 11,
   "metadata": {},
   "outputs": [],
   "source": [
    "from hierarchy_functions import compute_lcas_and_distances\n",
    "\n",
    "lca_results = compute_lcas_and_distances(my_terms, G)"
   ]
  },
  {
   "cell_type": "markdown",
   "metadata": {},
   "source": [
    "What are the most common \"least common ancestors\" between terms?"
   ]
  },
  {
   "cell_type": "code",
   "execution_count": 16,
   "metadata": {},
   "outputs": [
    {
     "data": {
      "text/html": [
       "<div>\n",
       "<style scoped>\n",
       "    .dataframe tbody tr th:only-of-type {\n",
       "        vertical-align: middle;\n",
       "    }\n",
       "\n",
       "    .dataframe tbody tr th {\n",
       "        vertical-align: top;\n",
       "    }\n",
       "\n",
       "    .dataframe thead th {\n",
       "        text-align: right;\n",
       "    }\n",
       "</style>\n",
       "<table border=\"1\" class=\"dataframe\">\n",
       "  <thead>\n",
       "    <tr style=\"text-align: right;\">\n",
       "      <th></th>\n",
       "      <th>athena_code</th>\n",
       "      <th>count</th>\n",
       "      <th>concept_name</th>\n",
       "    </tr>\n",
       "  </thead>\n",
       "  <tbody>\n",
       "    <tr>\n",
       "      <th>0</th>\n",
       "      <td>4008453</td>\n",
       "      <td>10707</td>\n",
       "      <td>SNOMED CT Concept</td>\n",
       "    </tr>\n",
       "    <tr>\n",
       "      <th>5</th>\n",
       "      <td>441840</td>\n",
       "      <td>2789</td>\n",
       "      <td>Clinical finding</td>\n",
       "    </tr>\n",
       "    <tr>\n",
       "      <th>6</th>\n",
       "      <td>4274025</td>\n",
       "      <td>779</td>\n",
       "      <td>Disease</td>\n",
       "    </tr>\n",
       "    <tr>\n",
       "      <th>10</th>\n",
       "      <td>134057</td>\n",
       "      <td>325</td>\n",
       "      <td>Disorder of cardiovascular system</td>\n",
       "    </tr>\n",
       "    <tr>\n",
       "      <th>25</th>\n",
       "      <td>4322976</td>\n",
       "      <td>271</td>\n",
       "      <td>Procedure</td>\n",
       "    </tr>\n",
       "    <tr>\n",
       "      <th>9</th>\n",
       "      <td>4180628</td>\n",
       "      <td>238</td>\n",
       "      <td>Disorder of body system</td>\n",
       "    </tr>\n",
       "    <tr>\n",
       "      <th>71</th>\n",
       "      <td>4029205</td>\n",
       "      <td>186</td>\n",
       "      <td>Procedure by method</td>\n",
       "    </tr>\n",
       "    <tr>\n",
       "      <th>14</th>\n",
       "      <td>4094294</td>\n",
       "      <td>160</td>\n",
       "      <td>Clinical history and observation findings</td>\n",
       "    </tr>\n",
       "    <tr>\n",
       "      <th>64</th>\n",
       "      <td>4181663</td>\n",
       "      <td>122</td>\n",
       "      <td>Observable entity</td>\n",
       "    </tr>\n",
       "    <tr>\n",
       "      <th>8</th>\n",
       "      <td>321588</td>\n",
       "      <td>85</td>\n",
       "      <td>Heart disease</td>\n",
       "    </tr>\n",
       "  </tbody>\n",
       "</table>\n",
       "</div>"
      ],
      "text/plain": [
       "   athena_code  count                               concept_name\n",
       "0      4008453  10707                          SNOMED CT Concept\n",
       "5       441840   2789                           Clinical finding\n",
       "6      4274025    779                                    Disease\n",
       "10      134057    325          Disorder of cardiovascular system\n",
       "25     4322976    271                                  Procedure\n",
       "9      4180628    238                    Disorder of body system\n",
       "71     4029205    186                        Procedure by method\n",
       "14     4094294    160  Clinical history and observation findings\n",
       "64     4181663    122                          Observable entity\n",
       "8       321588     85                              Heart disease"
      ]
     },
     "execution_count": 16,
     "metadata": {},
     "output_type": "execute_result"
    }
   ],
   "source": [
    "from collections import Counter\n",
    "\n",
    "lca_counts = Counter(lca_results[0].values())\n",
    "lca_counts_df = pd.DataFrame.from_dict(lca_counts, orient='index').reset_index()\n",
    "lca_counts_df.columns = ['athena_code', 'count']\n",
    "lca_counts_df = lca_counts_df.sort_values('count', ascending=False)\n",
    "lca_counts_df['concept_name'] = [code_to_name[i] for i in lca_counts_df['athena_code']]\n",
    "lca_counts_df.head(10)"
   ]
  },
  {
   "cell_type": "markdown",
   "metadata": {},
   "source": [
    "Creating a distance matrix for the terms."
   ]
  },
  {
   "cell_type": "code",
   "execution_count": 24,
   "metadata": {},
   "outputs": [
    {
     "data": {
      "image/png": "[encoded data removed]",
      "text/plain": [
       "<Figure size 640x480 with 1 Axes>"
      ]
     },
     "metadata": {},
     "output_type": "display_data"
    }
   ],
   "source": [
    "terms = sorted(my_terms)\n",
    "distance_matrix = pd.DataFrame(index=terms, columns=terms, data=float('inf'))\n",
    "\n",
    "for (term1, term2), distance in lca_results[1].items():\n",
    "    distance_matrix.at[term1, term2] = distance\n",
    "    distance_matrix.at[term2, term1] = distance\n",
    "for term in my_terms:\n",
    "    distance_matrix.at[term, term] = 0\n",
    "\n",
    "distance_matrix.to_csv('snomed_distance_matrix.csv')\n",
    "pd.Series(lca_results[1].values()).hist()\n",
    "plt.title('Distribution of distances between terms through least common ancestor')\n",
    "plt.xlabel('Distance (number of nodes)');"
   ]
  }
 ],
 "metadata": {
  "kernelspec": {
   "display_name": "wise-dag-ml",
   "language": "python",
   "name": "python3"
  },
  "language_info": {
   "codemirror_mode": {
    "name": "ipython",
    "version": 3
   },
   "file_extension": ".py",
   "mimetype": "text/x-python",
   "name": "python",
   "nbconvert_exporter": "python",
   "pygments_lexer": "ipython3",
   "version": "3.10.15"
  }
 },
 "nbformat": 4,
 "nbformat_minor": 2
}
