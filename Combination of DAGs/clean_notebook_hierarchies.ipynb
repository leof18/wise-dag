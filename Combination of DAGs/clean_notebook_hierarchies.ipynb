{
 "cells": [
  {
   "cell_type": "code",
   "execution_count": 1,
   "metadata": {},
   "outputs": [],
   "source": [
    "%load_ext autoreload\n",
    "%autoreload 2\n",
    "import pandas as pd\n",
    "import matplotlib.pyplot as plt"
   ]
  },
  {
   "cell_type": "markdown",
   "metadata": {},
   "source": [
    "# Building DAG Hierarchy\n",
    "\n",
    "**Goal: Group terms and find common name to create a hierarchy of DAG nodes from broad down to specific.**"
   ]
  },
  {
   "cell_type": "markdown",
   "metadata": {},
   "source": [
    "Import Data\n",
    "1. `dag_df` - Standardized DAG dataframe from workshop\n",
    "2. `concept_df` - Athena concept dataframe containing all the athena ids, concept codes, and concept names\n",
    "3. `concept_relationship_df` - Athena dataframe containing the relationships between all the concepts\n",
    "4. `concept_ancestor_df` - Athena dataframe containing information on the ancestors of terms (unfortunately seems incomplete)"
   ]
  },
  {
   "cell_type": "code",
   "execution_count": 2,
   "metadata": {},
   "outputs": [],
   "source": [
    "dag_df = pd.read_csv('../data/DAGs_standardized.csv', dtype={'Exposure': str, 'Outcome':str})\n",
    "concept_df = pd.read_csv('../Standardization/athena_vocabulary/CONCEPT.csv', sep='\\t', dtype={'concept_code': str, 'concept_id': str}, low_memory=False)\n",
    "concept_relationship_df = pd.read_csv('../Standardization/athena_vocabulary/CONCEPT_RELATIONSHIP.csv', sep='\\t', dtype={'concept_id_1':str, 'concept_id_2': str}, low_memory=False)\n",
    "concept_ancestor_df = pd.read_csv('../Standardization/athena_vocabulary/CONCEPT_ANCESTOR.csv', sep='\\t',dtype={'ancestor_concept_id': str, 'descendant_concept_id': str}, low_memory=False)"
   ]
  },
  {
   "cell_type": "markdown",
   "metadata": {},
   "source": [
    "Get set of terms"
   ]
  },
  {
   "cell_type": "code",
   "execution_count": 3,
   "metadata": {},
   "outputs": [
    {
     "name": "stderr",
     "output_type": "stream",
     "text": [
      "c:\\Users\\Leo\\miniconda3\\envs\\wise-dag-ml\\lib\\site-packages\\tqdm\\auto.py:21: TqdmWarning: IProgress not found. Please update jupyter and ipywidgets. See https://ipywidgets.readthedocs.io/en/stable/user_install.html\n",
      "  from .autonotebook import tqdm as notebook_tqdm\n"
     ]
    }
   ],
   "source": [
    "from hierarchy_functions import get_unique_coded_terms\n",
    "\n",
    "my_terms = get_unique_coded_terms(dag_df)"
   ]
  },
  {
   "cell_type": "markdown",
   "metadata": {},
   "source": [
    "Dictionary to convert codes to names"
   ]
  },
  {
   "cell_type": "code",
   "execution_count": 4,
   "metadata": {},
   "outputs": [],
   "source": [
    "code_to_name = dict(zip(concept_df[\"concept_id\"], concept_df[\"concept_name\"]))\n",
    "name_to_code = dict(zip(concept_df[\"concept_name\"], concept_df[\"concept_id\"]))\n",
    "my_terms_written = [code_to_name[code] for code in my_terms]"
   ]
  },
  {
   "cell_type": "markdown",
   "metadata": {},
   "source": [
    "### **Approach 1:** Using the parent and child relationships part of the OHDSI CDM / SNOMED CT ontology"
   ]
  },
  {
   "cell_type": "markdown",
   "metadata": {},
   "source": [
    "First, let's explore what happens if we condense all child terms by associating them directly with their respective parent (root) terms within the terms that were part of the DAGs."
   ]
  },
  {
   "cell_type": "code",
   "execution_count": 5,
   "metadata": {},
   "outputs": [
    {
     "data": {
      "text/plain": [
       "{'root_term_count': '132 out of 188 terms are root nodes',\n",
       " 'average_children_per_root': 0.1,\n",
       " 'example_root_with_children': {'root': '4231363', 'children': ['42538532']}}"
      ]
     },
     "execution_count": 5,
     "metadata": {},
     "output_type": "execute_result"
    }
   ],
   "source": [
    "from hierarchy_functions import analyze_snomed_hierarchy\n",
    "\n",
    "analysis_result = analyze_snomed_hierarchy(concept_ancestor_df, my_terms)\n",
    "analysis_result"
   ]
  },
  {
   "cell_type": "code",
   "execution_count": 6,
   "metadata": {},
   "outputs": [
    {
     "name": "stdout",
     "output_type": "stream",
     "text": [
      "Root term: Thrombosis\n",
      "Children: ['Thrombus of cardiac chamber']\n"
     ]
    }
   ],
   "source": [
    "# Example\n",
    "print('Root term:', code_to_name[analysis_result['example_root_with_children']['root']])\n",
    "print('Children:', [code_to_name[i] for i in analysis_result['example_root_with_children']['children']])"
   ]
  },
  {
   "cell_type": "markdown",
   "metadata": {},
   "source": [
    "It seems that even after doing so there are still a lot of different unique terms and we have to further group these into more broad categories to not overwhelm researchers. For this we will consider calcualting the distances from all the nodes to each other through a common ancestor node. This is important as nodes can have different parent terms and might otherwise link horizontally in a zig zag pattern instead of through a common ancestor higher up in the hierarchy.\n",
    "\n",
    "There are a variety of relationship types available in the OHDSI Athena database. For now, we are using the \"Subsumes\" relationships that are the relationships that connect a parent term to a child term in the SNOMED CT hierarchy. However, more potentially useful relationship types are available like can be seen below."
   ]
  },
  {
   "cell_type": "code",
   "execution_count": 7,
   "metadata": {},
   "outputs": [],
   "source": [
    "useful_relationship_ids = [\n",
    "    \"Is a\",                     # Hierarchical relationship of SNOMED\n",
    "    \"Subsumes\",\n",
    "    \"Finding site of\",          # Links findings to anatomical sites\n",
    "    \"Interprets of\",            # Links specific measurements to conditions\n",
    "    \"Causative agent of\",       # Etiological link\n",
    "    \"Has due to\",               # Etiology relationships\n",
    "    \"Due to of\",\n",
    "    \"Asso finding of\",\n",
    "    \"Pathology of\",             # Links to pathological processes\n",
    "    \"Has dir morph\",            # Direct morphology\n",
    "    \"Has asso morph\",           # Associated morphology\n",
    "    \"Occurs before\",            # Temporal relationship\n",
    "    \"Follows\",                  # Temporal relationship\n",
    "    \"Has manifestation\",        # Links findings to manifestations\n",
    "    \"Has complication\"          # Links to complications\n",
    "]\n",
    "\n",
    "selected_relationship_ids = [\"Subsumes\"]"
   ]
  },
  {
   "cell_type": "markdown",
   "metadata": {},
   "source": [
    "Creating a graph structure of the terms based on SNOMED CT hierachy."
   ]
  },
  {
   "cell_type": "code",
   "execution_count": 8,
   "metadata": {},
   "outputs": [
    {
     "name": "stdout",
     "output_type": "stream",
     "text": [
      "Number of nodes in graph of relevant SNOMED CT terms: 810\n",
      "Number of edges in graph of relevant SNOMED CT terms: 1269\n",
      "All terms are present in the graph.\n"
     ]
    }
   ],
   "source": [
    "from hierarchy_functions import create_SNOMED_CT_graph_based_on_terms\n",
    "\n",
    "G = create_SNOMED_CT_graph_based_on_terms(my_terms, concept_df, concept_relationship_df, selected_relationship_ids)"
   ]
  },
  {
   "cell_type": "markdown",
   "metadata": {},
   "source": [
    "Computing the least common ancestor between any two nodes part of my_terms and then the distance between the two terms going through that LCA."
   ]
  },
  {
   "cell_type": "code",
   "execution_count": 9,
   "metadata": {},
   "outputs": [],
   "source": [
    "from hierarchy_functions import compute_lcas_and_distances\n",
    "\n",
    "lca_results = compute_lcas_and_distances(my_terms, G)"
   ]
  },
  {
   "cell_type": "markdown",
   "metadata": {},
   "source": [
    "What are the most common \"least common ancestors\" between terms?"
   ]
  },
  {
   "cell_type": "code",
   "execution_count": 10,
   "metadata": {},
   "outputs": [
    {
     "data": {
      "text/html": [
       "<div>\n",
       "<style scoped>\n",
       "    .dataframe tbody tr th:only-of-type {\n",
       "        vertical-align: middle;\n",
       "    }\n",
       "\n",
       "    .dataframe tbody tr th {\n",
       "        vertical-align: top;\n",
       "    }\n",
       "\n",
       "    .dataframe thead th {\n",
       "        text-align: right;\n",
       "    }\n",
       "</style>\n",
       "<table border=\"1\" class=\"dataframe\">\n",
       "  <thead>\n",
       "    <tr style=\"text-align: right;\">\n",
       "      <th></th>\n",
       "      <th>athena_code</th>\n",
       "      <th>count</th>\n",
       "      <th>concept_name</th>\n",
       "    </tr>\n",
       "  </thead>\n",
       "  <tbody>\n",
       "    <tr>\n",
       "      <th>1</th>\n",
       "      <td>4008453</td>\n",
       "      <td>11430</td>\n",
       "      <td>SNOMED CT Concept</td>\n",
       "    </tr>\n",
       "    <tr>\n",
       "      <th>2</th>\n",
       "      <td>441840</td>\n",
       "      <td>3089</td>\n",
       "      <td>Clinical finding</td>\n",
       "    </tr>\n",
       "    <tr>\n",
       "      <th>0</th>\n",
       "      <td>4274025</td>\n",
       "      <td>798</td>\n",
       "      <td>Disease</td>\n",
       "    </tr>\n",
       "    <tr>\n",
       "      <th>4</th>\n",
       "      <td>134057</td>\n",
       "      <td>360</td>\n",
       "      <td>Disorder of cardiovascular system</td>\n",
       "    </tr>\n",
       "    <tr>\n",
       "      <th>24</th>\n",
       "      <td>4322976</td>\n",
       "      <td>333</td>\n",
       "      <td>Procedure</td>\n",
       "    </tr>\n",
       "    <tr>\n",
       "      <th>7</th>\n",
       "      <td>4180628</td>\n",
       "      <td>247</td>\n",
       "      <td>Disorder of body system</td>\n",
       "    </tr>\n",
       "    <tr>\n",
       "      <th>46</th>\n",
       "      <td>4029205</td>\n",
       "      <td>167</td>\n",
       "      <td>Procedure by method</td>\n",
       "    </tr>\n",
       "    <tr>\n",
       "      <th>11</th>\n",
       "      <td>4042140</td>\n",
       "      <td>150</td>\n",
       "      <td>Finding by site</td>\n",
       "    </tr>\n",
       "    <tr>\n",
       "      <th>23</th>\n",
       "      <td>4181663</td>\n",
       "      <td>114</td>\n",
       "      <td>Observable entity</td>\n",
       "    </tr>\n",
       "    <tr>\n",
       "      <th>15</th>\n",
       "      <td>321588</td>\n",
       "      <td>81</td>\n",
       "      <td>Heart disease</td>\n",
       "    </tr>\n",
       "  </tbody>\n",
       "</table>\n",
       "</div>"
      ],
      "text/plain": [
       "   athena_code  count                       concept_name\n",
       "1      4008453  11430                  SNOMED CT Concept\n",
       "2       441840   3089                   Clinical finding\n",
       "0      4274025    798                            Disease\n",
       "4       134057    360  Disorder of cardiovascular system\n",
       "24     4322976    333                          Procedure\n",
       "7      4180628    247            Disorder of body system\n",
       "46     4029205    167                Procedure by method\n",
       "11     4042140    150                    Finding by site\n",
       "23     4181663    114                  Observable entity\n",
       "15      321588     81                      Heart disease"
      ]
     },
     "execution_count": 10,
     "metadata": {},
     "output_type": "execute_result"
    }
   ],
   "source": [
    "from collections import Counter\n",
    "\n",
    "lca_counts = Counter(lca_results[0].values())\n",
    "lca_counts_df = pd.DataFrame.from_dict(lca_counts, orient='index').reset_index()\n",
    "lca_counts_df.columns = ['athena_code', 'count']\n",
    "lca_counts_df = lca_counts_df.sort_values('count', ascending=False)\n",
    "lca_counts_df['concept_name'] = [code_to_name[i] for i in lca_counts_df['athena_code']]\n",
    "lca_counts_df.head(10)"
   ]
  },
  {
   "cell_type": "markdown",
   "metadata": {},
   "source": [
    "Creating a distance matrix for the terms."
   ]
  },
  {
   "cell_type": "code",
   "execution_count": 11,
   "metadata": {},
   "outputs": [
    {
     "data": {
      "image/png": "[encoded data removed]",
      "text/plain": [
       "<Figure size 640x480 with 1 Axes>"
      ]
     },
     "metadata": {},
     "output_type": "display_data"
    }
   ],
   "source": [
    "terms = sorted(my_terms)\n",
    "distance_matrix = pd.DataFrame(index=terms, columns=terms, data=float('inf'))\n",
    "\n",
    "for (term1, term2), distance in lca_results[1].items():\n",
    "    distance_matrix.at[term1, term2] = distance\n",
    "    distance_matrix.at[term2, term1] = distance\n",
    "for term in my_terms:\n",
    "    distance_matrix.at[term, term] = 0\n",
    "\n",
    "distance_matrix.to_csv('snomed_distance_matrix.csv')\n",
    "pd.Series(lca_results[1].values()).hist()\n",
    "plt.title('Distribution of distances between terms through least common ancestor')\n",
    "plt.xlabel('Distance (number of nodes)');"
   ]
  },
  {
   "cell_type": "code",
   "execution_count": 12,
   "metadata": {},
   "outputs": [
    {
     "data": {
      "application/vnd.plotly.v1+json": {
       "config": {
        "plotlyServerURL": "https://plot.ly"
       },
       "data": [
        {
         "marker": {
          "opacity": 0.8,
          "size": 5
         },
         "mode": "markers+text",
         "text": [
          "Cachexia",
          "Urinary incontinence",
          "Kidney disease",
          "Diabetes mellitus",
          "Pneumonia",
          "Dysphagia",
          "Atrial fibrillation",
          "Sleep apnea",
          "Heart failure",
          "Hypertensive disorder",
          "Low blood pressure",
          "Migraine",
          "Heart disease",
          "Insulin resistance",
          "Stenosis of cerebral artery",
          "Platelet aggregation inhibitor therapy",
          "Glucagon-like peptide 1 receptor agonist",
          "Functionally dependent",
          "Dissection of cerebral artery",
          "Prediabetes",
          "Gestational diabetes mellitus complicating pregnancy",
          "Silent micro-hemorrhage of brain",
          "Epilepsy due to cerebrovascular accident",
          "Mediterranean diet",
          "Percutaneous transluminal procedure on blood vessel",
          "Malignant neoplasm",
          "Myocardial infarction due to demand ischemia",
          "COVID-19",
          "Risk of cardiovascular disease",
          "Transient cerebral ischemia",
          "Delirium",
          "Seizure",
          "Encephalitis",
          "Migraine with aura",
          "Lipoprotein (a) measurement",
          "Second hand cigarette smoke",
          "Tobacco smoke",
          "Race",
          "Oxygen saturation measurement",
          "Troponin measurement",
          "Healthy diet",
          "Social worker",
          "High fat diet",
          "Disorder of cardiac function",
          "Care provision regime",
          "High carbohydrate diet",
          "Hypercholesterolemia",
          "Aspiration",
          "Functional finding",
          "Clostridium botulinum toxin",
          "Lacunar infarction",
          "Dissection procedure",
          "Takotsubo cardiomyopathy",
          "Atherosclerosis of artery",
          "Insertion of carotid artery stent",
          "Alcohol intake above recommended sensible limits",
          "Disability",
          "Alcohol consumption unknown",
          "Anticoagulant therapy",
          "Falls",
          "Lesion",
          "Blood-brain barrier",
          "Patent foramen ovale",
          "Decreased vascular flow",
          "Therapy",
          "Congenital malformation",
          "Pain management",
          "Lesion size",
          "Antibiotic therapy",
          "Nutritional disorder",
          "Cerebral venous sinus thrombosis",
          "Arteriosclerosis",
          "Cognitive skills training",
          "Exercise",
          "Inflammation",
          "Cardiac syndrome X",
          "Hypoperfusion",
          "Deep venous thrombosis",
          "Vasculitis",
          "Admission to stroke unit",
          "Antihypertensive therapy",
          "Interleukin-6",
          "Cerebral atrophy",
          "Patient position finding",
          "Dyslipidemia",
          "Thiazolidinedione",
          "Continuous positive airway pressure ventilation treatment",
          "Genetic predisposition",
          "Barthel index",
          "Family history of stroke",
          "Stroke index",
          "Mobility",
          "Angioplasty of carotid artery",
          "Complete obstruction",
          "Hemorrhage",
          "Sequelae of neurological disorders",
          "Procedure involving urinary catheter",
          "Removal of thrombus",
          "Embolism",
          "N terminal pro-brain natriuretic peptide level",
          "Complicated atheromatous plaque",
          "Endarterectomy",
          "Secondary prevention",
          "Thrombolysis",
          "Lesion of brain",
          "Administration of prophylactic statin",
          "Speech therapy",
          "Primary prevention",
          "Infarct",
          "C-reactive protein measurement",
          "Glomerular filtration rate",
          "Neurosurgery",
          "Stenosis",
          "Fracture",
          "Gliosis",
          "Dysfunction of urinary bladder",
          "Coping behavior",
          "Weight loss",
          "Thrombosis",
          "Leuko-araiosis",
          "Diagnosis",
          "Quality of life satisfaction",
          "Postprocedural recovery status",
          "Physical therapy procedure",
          "Uses oral contraception",
          "Immunosuppression",
          "Body mass index",
          "Mortality rate",
          "Stress",
          "Sodium glucose cotransporter subtype 2 inhibitor",
          "Thrombus of cardiac chamber",
          "Hypertension complicating pregnancy",
          "Education and/or schooling finding",
          "Chemotherapy",
          "Catecholamine level - finding",
          "Blood glucose level - finding",
          "Female sex hormones - serum level - finding",
          "Surgical occlusion of blood vessel",
          "Carotid endarterectomy",
          "DNA damage",
          "Sympathetic nervous system structure",
          "Structure of perivascular space",
          "National Institutes of Health stroke scale",
          "Hypercoagulability state",
          "Pregnancy",
          "Blood glucose management",
          "Acute infective endocarditis",
          "Body temperature",
          "Low sodium diet",
          "Death",
          "Atherosclerosis",
          "Social isolation",
          "Ischemic stroke",
          "Infectious disease",
          "Age factor",
          "Blood coagulation disorder",
          "Blood pressure",
          "Psychotherapy",
          "Hyperlipidemia",
          "Pain",
          "Spasticity",
          "Myocardial infarction",
          "Obesity",
          "Metabolic syndrome X",
          "Pre-eclampsia",
          "Paralysis",
          "Depressive disorder",
          "Pulmonary embolism",
          "Aphasia",
          "Endocarditis",
          "Acute heart failure",
          "Male",
          "Impaired cognition",
          "Vascular disorder",
          "Chronic heart failure",
          "Cardiac arrhythmia",
          "Antidepressant therapy",
          "FAST - Fast Alcohol Screening Test",
          "Physical fitness state",
          "Socioeconomic status",
          "Smoking cessation",
          "High sensitivity cardiac troponin T measurement",
          "Decreased alcohol consumption",
          "Chronic kidney disease",
          "Dissection of artery",
          "Myocardial infarction due to atherothrombotic coronary artery disease",
          "Finding of renal function",
          "Urinary tract infectious disease"
         ],
         "textposition": "top center",
         "type": "scatter3d",
         "x": [
          41.958770751953125,
          22.838424682617188,
          44.7791862487793,
          52.68558120727539,
          -25.57868766784668,
          5.160214424133301,
          13.532307624816895,
          29.070709228515625,
          -8.821653366088867,
          21.135295867919922,
          8.354458808898926,
          -35.731101989746094,
          -1.4009027481079102,
          54.055667877197266,
          28.946863174438477,
          -48.52384567260742,
          36.223323822021484,
          1.0343859195709229,
          23.250089645385742,
          7.789248943328857,
          46.46404266357422,
          4.640678405761719,
          -0.7594572305679321,
          -39.84645462036133,
          -3.1089978218078613,
          -32.38597869873047,
          -24.854516983032227,
          52.04718017578125,
          -13.049656867980957,
          25.632038116455078,
          -35.46630096435547,
          -16.639799118041992,
          -20.59490966796875,
          -29.639171600341797,
          -14.217350006103516,
          52.97529983520508,
          57.99015808105469,
          -19.785451889038086,
          -5.794875621795654,
          -0.7978127002716064,
          9.678791999816895,
          -47.381961822509766,
          -0.8105992078781128,
          2.3537228107452393,
          -54.1490478515625,
          12.955032348632812,
          76.6518325805664,
          -26.098482131958008,
          -58.403289794921875,
          25.324260711669922,
          -45.23160171508789,
          -22.118026733398438,
          -15.282833099365234,
          9.954730987548828,
          -1.2580225467681885,
          37.92036056518555,
          -20.576383590698242,
          27.719627380371094,
          -54.68241882324219,
          6.020227432250977,
          -11.339485168457031,
          -28.4197940826416,
          -7.689486980438232,
          21.26958465576172,
          -45.39337921142578,
          40.246795654296875,
          -23.207244873046875,
          31.06759262084961,
          -34.41587448120117,
          35.69655227661133,
          -8.487603187561035,
          -4.791427135467529,
          -51.62144088745117,
          -5.090158462524414,
          51.98733901977539,
          -64.418212890625,
          43.44762420654297,
          -4.768245697021484,
          -8.687918663024902,
          -19.02326011657715,
          -64.01472473144531,
          17.472105026245117,
          -51.53432083129883,
          41.1549072265625,
          69.34272003173828,
          31.225187301635742,
          -64.35838317871094,
          -33.00257873535156,
          -65.79756164550781,
          -17.482378005981445,
          -14.702872276306152,
          21.543582916259766,
          -6.737671852111816,
          -6.033413410186768,
          -2.735435962677002,
          42.01680374145508,
          -22.530046463012695,
          -11.664443016052246,
          10.209692001342773,
          6.721498012542725,
          7.768627166748047,
          13.030301094055176,
          -43.34522247314453,
          -19.070207595825195,
          -2.630492925643921,
          -51.37665557861328,
          -37.186153411865234,
          -58.824275970458984,
          -29.311603546142578,
          9.661499977111816,
          47.634464263916016,
          30.225723266601562,
          -6.033413410186768,
          -20.48484992980957,
          -18.51584243774414,
          22.340774536132812,
          27.469009399414062,
          -74.98045349121094,
          5.842106342315674,
          -42.623512268066406,
          -0.27026137709617615,
          16.517316818237305,
          11.358049392700195,
          -46.96622848510742,
          41.1549072265625,
          68.71556091308594,
          31.37970733642578,
          9.669439315795898,
          -22.523954391479492,
          36.36520767211914,
          -11.293089866638184,
          27.340314865112305,
          -37.88275146484375,
          -34.47608184814453,
          -18.819843292236328,
          -15.840471267700195,
          -3.1461617946624756,
          13.947665214538574,
          10.989931106567383,
          -38.076908111572266,
          71.82735443115234,
          74.96829986572266,
          -50.53873062133789,
          -50.45597457885742,
          20.408308029174805,
          -25.517532348632812,
          13.675274848937988,
          10.784234046936035,
          -1.9174333810806274,
          3.0325450897216797,
          -3.084967613220215,
          1.1985833644866943,
          -13.285951614379883,
          25.963960647583008,
          0.5199928283691406,
          19.907512664794922,
          -7.345040321350098,
          -48.613372802734375,
          78.25918579101562,
          -52.381710052490234,
          23.538089752197266,
          -24.375219345092773,
          20.151996612548828,
          55.63776779174805,
          37.4175910949707,
          -16.14788818359375,
          64.84072875976562,
          10.211884498596191,
          -33.44252014160156,
          -4.927896499633789,
          4.440348148345947,
          -26.32314682006836,
          1.0507677793502808,
          11.68241024017334,
          3.0664517879486084,
          0.1634916067123413,
          -47.8052864074707,
          -53.99860763549805,
          -10.349544525146484,
          14.965032577514648,
          19.861583709716797,
          -12.315109252929688,
          43.6710205078125,
          46.53343200683594,
          27.01087188720703,
          -19.718791961669922,
          16.455007553100586,
          34.15532684326172
         ],
         "y": [
          10.797523498535156,
          24.554264068603516,
          34.46533203125,
          -30.93398666381836,
          16.437210083007812,
          44.7185173034668,
          -72.89860534667969,
          -18.36589813232422,
          -49.011566162109375,
          -37.61757278442383,
          -25.197792053222656,
          -8.950048446655273,
          -42.58481216430664,
          -22.21855354309082,
          -6.263078689575195,
          11.403573036193848,
          -26.65629768371582,
          -19.42912483215332,
          -13.378257751464844,
          28.3961181640625,
          -40.66788864135742,
          5.282739162445068,
          -6.288710117340088,
          -2.4420676231384277,
          1.4679548740386963,
          -67.5218505859375,
          -51.95199203491211,
          13.436261177062988,
          46.71611022949219,
          -28.22690773010254,
          -14.816084861755371,
          7.548007011413574,
          9.81509780883789,
          -6.117880344390869,
          13.81234359741211,
          13.210811614990234,
          20.688133239746094,
          52.76832962036133,
          16.490802764892578,
          25.82526969909668,
          52.498600006103516,
          39.974544525146484,
          68.05679321289062,
          -34.69971466064453,
          -19.66231346130371,
          64.10674285888672,
          12.693943977355957,
          -12.42857551574707,
          -56.338809967041016,
          16.564002990722656,
          -33.19358825683594,
          -2.2349047660827637,
          -72.07666015625,
          6.653520584106445,
          -19.685911178588867,
          49.920841217041016,
          29.8527889251709,
          41.18620300292969,
          16.486919403076172,
          7.349867343902588,
          -65.98709106445312,
          64.09320068359375,
          -78.95498657226562,
          -41.604801177978516,
          -16.26680564880371,
          -16.8895206451416,
          -24.574426651000977,
          53.03324508666992,
          23.43882179260254,
          0.14838655292987823,
          -12.182890892028809,
          -57.3337516784668,
          -27.06423568725586,
          33.7651481628418,
          -27.723295211791992,
          -1.7795859575271606,
          -42.745628356933594,
          -17.655502319335938,
          5.374548435211182,
          -15.93801212310791,
          22.164154052734375,
          89.85853576660156,
          -32.51567077636719,
          -17.585298538208008,
          1.1918704509735107,
          77.56087493896484,
          -17.378559112548828,
          41.739646911621094,
          -0.11137153208255768,
          19.22224235534668,
          82.70535278320312,
          57.374385833740234,
          -7.730552673339844,
          -72.08504486083984,
          -83.15245056152344,
          -3.343207597732544,
          -2.341658115386963,
          -11.288091659545898,
          0.6905335783958435,
          6.849958419799805,
          -66.12920379638672,
          -9.21694564819336,
          8.480698585510254,
          63.802146911621094,
          46.17185592651367,
          28.025798797607422,
          -23.91304588317871,
          8.576144218444824,
          -68.27217864990234,
          25.108558654785156,
          58.8907585144043,
          -37.638248443603516,
          -72.08504486083984,
          -80.19660949707031,
          -54.814353942871094,
          37.036033630371094,
          76.9405746459961,
          33.44797134399414,
          -30.098955154418945,
          38.74458312988281,
          45.55471420288086,
          78.29750061035156,
          60.043094635009766,
          -33.47719955444336,
          -17.585298538208008,
          -4.983595371246338,
          37.644832611083984,
          41.752586364746094,
          -23.927173614501953,
          -12.509782791137695,
          -35.37783432006836,
          -50.11076736450195,
          70.34188079833984,
          16.95566177368164,
          41.832122802734375,
          57.47892379760742,
          47.867584228515625,
          9.069533348083496,
          -8.91596794128418,
          58.474422454833984,
          52.5759391784668,
          39.39394760131836,
          -4.955248832702637,
          41.74225997924805,
          50.105125427246094,
          -20.887968063354492,
          -52.8743782043457,
          -281.5242004394531,
          46.81047439575195,
          16.197195053100586,
          -73.04595184326172,
          -0.36807626485824585,
          -20.03391456604004,
          5.078673839569092,
          57.48310470581055,
          -23.42734718322754,
          65.91852569580078,
          -34.13067626953125,
          -2.8692219257354736,
          2.6955173015594482,
          9.017885208129883,
          -38.77921676635742,
          -5.512750625610352,
          -5.577075958251953,
          -47.6201057434082,
          -3.754481792449951,
          -27.312850952148438,
          21.714534759521484,
          11.935301780700684,
          -51.97733688354492,
          -52.470218658447266,
          13.269012451171875,
          -36.85244369506836,
          -10.833032608032227,
          -63.994503021240234,
          -60.007423400878906,
          32.07574462890625,
          10.702751159667969,
          17.649690628051758,
          -27.89101791381836,
          -40.938507080078125,
          34.527610778808594,
          38.88237762451172,
          23.27584457397461,
          8.211204528808594,
          -54.69755554199219,
          -16.61258888244629,
          20.16145133972168
         ],
         "z": [
          4.454714298248291,
          -21.819473266601562,
          -36.85328674316406,
          -39.55940628051758,
          -73.17977905273438,
          -83.99024200439453,
          -48.945762634277344,
          -37.413734436035156,
          -16.76595115661621,
          -50.67176818847656,
          -44.39992904663086,
          -63.357765197753906,
          -47.63483810424805,
          -53.293888092041016,
          -65.1512451171875,
          57.77741622924805,
          41.364803314208984,
          -5.705451011657715,
          -84.37035369873047,
          -5.236762046813965,
          -25.224294662475586,
          -51.961734771728516,
          -31.68495750427246,
          71.30032348632812,
          62.73069381713867,
          12.399328231811523,
          -55.40074157714844,
          -59.975372314453125,
          30.984006881713867,
          -69.92591857910156,
          -26.475847244262695,
          -33.745277404785156,
          -54.36183547973633,
          -46.6887092590332,
          100.31207275390625,
          44.48287582397461,
          34.42734909057617,
          10.930792808532715,
          84.96563720703125,
          100.67742919921875,
          -12.179654121398926,
          13.450811386108398,
          -17.781652450561523,
          -21.239858627319336,
          31.02235221862793,
          -27.17943000793457,
          -34.737056732177734,
          87.49009704589844,
          270.1647033691406,
          29.486682891845703,
          -48.0181770324707,
          64.88653564453125,
          -64.46499633789062,
          -94.259521484375,
          60.07837677001953,
          -7.208916664123535,
          -6.975256443023682,
          2.2207369804382324,
          75.03392028808594,
          -11.476340293884277,
          33.96992874145508,
          32.83576202392578,
          -38.27210235595703,
          -1.8232169151306152,
          51.071895599365234,
          -17.669109344482422,
          48.140953063964844,
          32.17884063720703,
          54.50012969970703,
          -23.642911911010742,
          -59.807533264160156,
          51.100608825683594,
          65.31266784667969,
          44.62025833129883,
          51.186012268066406,
          -34.1135139465332,
          34.62371826171875,
          -80.15435791015625,
          -71.67084503173828,
          26.3452091217041,
          58.96393966674805,
          -1.3605985641479492,
          -19.645483016967773,
          9.575145721435547,
          -17.970592498779297,
          1.772812008857727,
          48.869590759277344,
          -33.17192459106445,
          5.249826431274414,
          26.755203247070312,
          35.84996795654297,
          47.31304931640625,
          45.511085510253906,
          16.091657638549805,
          32.88432693481445,
          -43.59540939331055,
          42.989036560058594,
          78.31373596191406,
          -72.81085968017578,
          97.68235778808594,
          42.98624038696289,
          70.80789947509766,
          34.98603439331055,
          47.39508056640625,
          63.21665954589844,
          44.316925048828125,
          37.444969177246094,
          36.674259185791016,
          37.74748229980469,
          86.22968292236328,
          46.94658279418945,
          55.138206481933594,
          16.091657638549805,
          26.471311569213867,
          23.648880004882812,
          -34.114620208740234,
          40.938838958740234,
          -8.651222229003906,
          -63.63027572631836,
          -49.090824127197266,
          17.255229949951172,
          29.384273529052734,
          22.90861701965332,
          24.014930725097656,
          9.575145721435547,
          15.789260864257812,
          49.39479064941406,
          32.43791198730469,
          1.8646448850631714,
          39.89033889770508,
          -64.10140228271484,
          -37.36799621582031,
          -6.95977783203125,
          73.44258880615234,
          -48.28244400024414,
          -55.1488037109375,
          -51.91403579711914,
          60.78999710083008,
          52.662261962890625,
          -38.57240676879883,
          4.274909496307373,
          8.293679237365723,
          4.1095428466796875,
          -28.474462509155273,
          72.07621765136719,
          66.06937408447266,
          -68.6029052734375,
          58.10444259643555,
          -21.1048526763916,
          27.959489822387695,
          55.6593017578125,
          10.007525444030762,
          -36.9780158996582,
          -38.35698699951172,
          39.21249771118164,
          -15.936697006225586,
          22.395061492919922,
          48.627899169921875,
          -34.07328414916992,
          -44.956241607666016,
          1.8838249444961548,
          -43.552974700927734,
          -25.455066680908203,
          -28.23569107055664,
          -58.328800201416016,
          -10.536356925964355,
          -11.062751770019531,
          -66.5417251586914,
          -22.496307373046875,
          -74.9433364868164,
          -31.596477508544922,
          3.9725072383880615,
          4.844790458679199,
          -58.22465896606445,
          -17.174175262451172,
          -52.377193450927734,
          65.0269775390625,
          4.808844566345215,
          0.009981007315218449,
          31.8960018157959,
          31.5943603515625,
          90.15670013427734,
          3.6814684867858887,
          -23.979116439819336,
          -78.8609848022461,
          -37.31608963012695,
          4.010488510131836,
          -44.951412200927734
         ]
        }
       ],
       "layout": {
        "margin": {
         "b": 0,
         "l": 0,
         "r": 0,
         "t": 40
        },
        "scene": {
         "xaxis": {
          "title": {
           "text": "t-SNE Dimension 1"
          }
         },
         "yaxis": {
          "title": {
           "text": "t-SNE Dimension 2"
          }
         },
         "zaxis": {
          "title": {
           "text": "t-SNE Dimension 3"
          }
         }
        },
        "template": {
         "data": {
          "bar": [
           {
            "error_x": {
             "color": "#2a3f5f"
            },
            "error_y": {
             "color": "#2a3f5f"
            },
            "marker": {
             "line": {
              "color": "#E5ECF6",
              "width": 0.5
             },
             "pattern": {
              "fillmode": "overlay",
              "size": 10,
              "solidity": 0.2
             }
            },
            "type": "bar"
           }
          ],
          "barpolar": [
           {
            "marker": {
             "line": {
              "color": "#E5ECF6",
              "width": 0.5
             },
             "pattern": {
              "fillmode": "overlay",
              "size": 10,
              "solidity": 0.2
             }
            },
            "type": "barpolar"
           }
          ],
          "carpet": [
           {
            "aaxis": {
             "endlinecolor": "#2a3f5f",
             "gridcolor": "white",
             "linecolor": "white",
             "minorgridcolor": "white",
             "startlinecolor": "#2a3f5f"
            },
            "baxis": {
             "endlinecolor": "#2a3f5f",
             "gridcolor": "white",
             "linecolor": "white",
             "minorgridcolor": "white",
             "startlinecolor": "#2a3f5f"
            },
            "type": "carpet"
           }
          ],
          "choropleth": [
           {
            "colorbar": {
             "outlinewidth": 0,
             "ticks": ""
            },
            "type": "choropleth"
           }
          ],
          "contour": [
           {
            "colorbar": {
             "outlinewidth": 0,
             "ticks": ""
            },
            "colorscale": [
             [
              0,
              "#0d0887"
             ],
             [
              0.1111111111111111,
              "#46039f"
             ],
             [
              0.2222222222222222,
              "#7201a8"
             ],
             [
              0.3333333333333333,
              "#9c179e"
             ],
             [
              0.4444444444444444,
              "#bd3786"
             ],
             [
              0.5555555555555556,
              "#d8576b"
             ],
             [
              0.6666666666666666,
              "#ed7953"
             ],
             [
              0.7777777777777778,
              "#fb9f3a"
             ],
             [
              0.8888888888888888,
              "#fdca26"
             ],
             [
              1,
              "#f0f921"
             ]
            ],
            "type": "contour"
           }
          ],
          "contourcarpet": [
           {
            "colorbar": {
             "outlinewidth": 0,
             "ticks": ""
            },
            "type": "contourcarpet"
           }
          ],
          "heatmap": [
           {
            "colorbar": {
             "outlinewidth": 0,
             "ticks": ""
            },
            "colorscale": [
             [
              0,
              "#0d0887"
             ],
             [
              0.1111111111111111,
              "#46039f"
             ],
             [
              0.2222222222222222,
              "#7201a8"
             ],
             [
              0.3333333333333333,
              "#9c179e"
             ],
             [
              0.4444444444444444,
              "#bd3786"
             ],
             [
              0.5555555555555556,
              "#d8576b"
             ],
             [
              0.6666666666666666,
              "#ed7953"
             ],
             [
              0.7777777777777778,
              "#fb9f3a"
             ],
             [
              0.8888888888888888,
              "#fdca26"
             ],
             [
              1,
              "#f0f921"
             ]
            ],
            "type": "heatmap"
           }
          ],
          "heatmapgl": [
           {
            "colorbar": {
             "outlinewidth": 0,
             "ticks": ""
            },
            "colorscale": [
             [
              0,
              "#0d0887"
             ],
             [
              0.1111111111111111,
              "#46039f"
             ],
             [
              0.2222222222222222,
              "#7201a8"
             ],
             [
              0.3333333333333333,
              "#9c179e"
             ],
             [
              0.4444444444444444,
              "#bd3786"
             ],
             [
              0.5555555555555556,
              "#d8576b"
             ],
             [
              0.6666666666666666,
              "#ed7953"
             ],
             [
              0.7777777777777778,
              "#fb9f3a"
             ],
             [
              0.8888888888888888,
              "#fdca26"
             ],
             [
              1,
              "#f0f921"
             ]
            ],
            "type": "heatmapgl"
           }
          ],
          "histogram": [
           {
            "marker": {
             "pattern": {
              "fillmode": "overlay",
              "size": 10,
              "solidity": 0.2
             }
            },
            "type": "histogram"
           }
          ],
          "histogram2d": [
           {
            "colorbar": {
             "outlinewidth": 0,
             "ticks": ""
            },
            "colorscale": [
             [
              0,
              "#0d0887"
             ],
             [
              0.1111111111111111,
              "#46039f"
             ],
             [
              0.2222222222222222,
              "#7201a8"
             ],
             [
              0.3333333333333333,
              "#9c179e"
             ],
             [
              0.4444444444444444,
              "#bd3786"
             ],
             [
              0.5555555555555556,
              "#d8576b"
             ],
             [
              0.6666666666666666,
              "#ed7953"
             ],
             [
              0.7777777777777778,
              "#fb9f3a"
             ],
             [
              0.8888888888888888,
              "#fdca26"
             ],
             [
              1,
              "#f0f921"
             ]
            ],
            "type": "histogram2d"
           }
          ],
          "histogram2dcontour": [
           {
            "colorbar": {
             "outlinewidth": 0,
             "ticks": ""
            },
            "colorscale": [
             [
              0,
              "#0d0887"
             ],
             [
              0.1111111111111111,
              "#46039f"
             ],
             [
              0.2222222222222222,
              "#7201a8"
             ],
             [
              0.3333333333333333,
              "#9c179e"
             ],
             [
              0.4444444444444444,
              "#bd3786"
             ],
             [
              0.5555555555555556,
              "#d8576b"
             ],
             [
              0.6666666666666666,
              "#ed7953"
             ],
             [
              0.7777777777777778,
              "#fb9f3a"
             ],
             [
              0.8888888888888888,
              "#fdca26"
             ],
             [
              1,
              "#f0f921"
             ]
            ],
            "type": "histogram2dcontour"
           }
          ],
          "mesh3d": [
           {
            "colorbar": {
             "outlinewidth": 0,
             "ticks": ""
            },
            "type": "mesh3d"
           }
          ],
          "parcoords": [
           {
            "line": {
             "colorbar": {
              "outlinewidth": 0,
              "ticks": ""
             }
            },
            "type": "parcoords"
           }
          ],
          "pie": [
           {
            "automargin": true,
            "type": "pie"
           }
          ],
          "scatter": [
           {
            "fillpattern": {
             "fillmode": "overlay",
             "size": 10,
             "solidity": 0.2
            },
            "type": "scatter"
           }
          ],
          "scatter3d": [
           {
            "line": {
             "colorbar": {
              "outlinewidth": 0,
              "ticks": ""
             }
            },
            "marker": {
             "colorbar": {
              "outlinewidth": 0,
              "ticks": ""
             }
            },
            "type": "scatter3d"
           }
          ],
          "scattercarpet": [
           {
            "marker": {
             "colorbar": {
              "outlinewidth": 0,
              "ticks": ""
             }
            },
            "type": "scattercarpet"
           }
          ],
          "scattergeo": [
           {
            "marker": {
             "colorbar": {
              "outlinewidth": 0,
              "ticks": ""
             }
            },
            "type": "scattergeo"
           }
          ],
          "scattergl": [
           {
            "marker": {
             "colorbar": {
              "outlinewidth": 0,
              "ticks": ""
             }
            },
            "type": "scattergl"
           }
          ],
          "scattermapbox": [
           {
            "marker": {
             "colorbar": {
              "outlinewidth": 0,
              "ticks": ""
             }
            },
            "type": "scattermapbox"
           }
          ],
          "scatterpolar": [
           {
            "marker": {
             "colorbar": {
              "outlinewidth": 0,
              "ticks": ""
             }
            },
            "type": "scatterpolar"
           }
          ],
          "scatterpolargl": [
           {
            "marker": {
             "colorbar": {
              "outlinewidth": 0,
              "ticks": ""
             }
            },
            "type": "scatterpolargl"
           }
          ],
          "scatterternary": [
           {
            "marker": {
             "colorbar": {
              "outlinewidth": 0,
              "ticks": ""
             }
            },
            "type": "scatterternary"
           }
          ],
          "surface": [
           {
            "colorbar": {
             "outlinewidth": 0,
             "ticks": ""
            },
            "colorscale": [
             [
              0,
              "#0d0887"
             ],
             [
              0.1111111111111111,
              "#46039f"
             ],
             [
              0.2222222222222222,
              "#7201a8"
             ],
             [
              0.3333333333333333,
              "#9c179e"
             ],
             [
              0.4444444444444444,
              "#bd3786"
             ],
             [
              0.5555555555555556,
              "#d8576b"
             ],
             [
              0.6666666666666666,
              "#ed7953"
             ],
             [
              0.7777777777777778,
              "#fb9f3a"
             ],
             [
              0.8888888888888888,
              "#fdca26"
             ],
             [
              1,
              "#f0f921"
             ]
            ],
            "type": "surface"
           }
          ],
          "table": [
           {
            "cells": {
             "fill": {
              "color": "#EBF0F8"
             },
             "line": {
              "color": "white"
             }
            },
            "header": {
             "fill": {
              "color": "#C8D4E3"
             },
             "line": {
              "color": "white"
             }
            },
            "type": "table"
           }
          ]
         },
         "layout": {
          "annotationdefaults": {
           "arrowcolor": "#2a3f5f",
           "arrowhead": 0,
           "arrowwidth": 1
          },
          "autotypenumbers": "strict",
          "coloraxis": {
           "colorbar": {
            "outlinewidth": 0,
            "ticks": ""
           }
          },
          "colorscale": {
           "diverging": [
            [
             0,
             "#8e0152"
            ],
            [
             0.1,
             "#c51b7d"
            ],
            [
             0.2,
             "#de77ae"
            ],
            [
             0.3,
             "#f1b6da"
            ],
            [
             0.4,
             "#fde0ef"
            ],
            [
             0.5,
             "#f7f7f7"
            ],
            [
             0.6,
             "#e6f5d0"
            ],
            [
             0.7,
             "#b8e186"
            ],
            [
             0.8,
             "#7fbc41"
            ],
            [
             0.9,
             "#4d9221"
            ],
            [
             1,
             "#276419"
            ]
           ],
           "sequential": [
            [
             0,
             "#0d0887"
            ],
            [
             0.1111111111111111,
             "#46039f"
            ],
            [
             0.2222222222222222,
             "#7201a8"
            ],
            [
             0.3333333333333333,
             "#9c179e"
            ],
            [
             0.4444444444444444,
             "#bd3786"
            ],
            [
             0.5555555555555556,
             "#d8576b"
            ],
            [
             0.6666666666666666,
             "#ed7953"
            ],
            [
             0.7777777777777778,
             "#fb9f3a"
            ],
            [
             0.8888888888888888,
             "#fdca26"
            ],
            [
             1,
             "#f0f921"
            ]
           ],
           "sequentialminus": [
            [
             0,
             "#0d0887"
            ],
            [
             0.1111111111111111,
             "#46039f"
            ],
            [
             0.2222222222222222,
             "#7201a8"
            ],
            [
             0.3333333333333333,
             "#9c179e"
            ],
            [
             0.4444444444444444,
             "#bd3786"
            ],
            [
             0.5555555555555556,
             "#d8576b"
            ],
            [
             0.6666666666666666,
             "#ed7953"
            ],
            [
             0.7777777777777778,
             "#fb9f3a"
            ],
            [
             0.8888888888888888,
             "#fdca26"
            ],
            [
             1,
             "#f0f921"
            ]
           ]
          },
          "colorway": [
           "#636efa",
           "#EF553B",
           "#00cc96",
           "#ab63fa",
           "#FFA15A",
           "#19d3f3",
           "#FF6692",
           "#B6E880",
           "#FF97FF",
           "#FECB52"
          ],
          "font": {
           "color": "#2a3f5f"
          },
          "geo": {
           "bgcolor": "white",
           "lakecolor": "white",
           "landcolor": "#E5ECF6",
           "showlakes": true,
           "showland": true,
           "subunitcolor": "white"
          },
          "hoverlabel": {
           "align": "left"
          },
          "hovermode": "closest",
          "mapbox": {
           "style": "light"
          },
          "paper_bgcolor": "white",
          "plot_bgcolor": "#E5ECF6",
          "polar": {
           "angularaxis": {
            "gridcolor": "white",
            "linecolor": "white",
            "ticks": ""
           },
           "bgcolor": "#E5ECF6",
           "radialaxis": {
            "gridcolor": "white",
            "linecolor": "white",
            "ticks": ""
           }
          },
          "scene": {
           "xaxis": {
            "backgroundcolor": "#E5ECF6",
            "gridcolor": "white",
            "gridwidth": 2,
            "linecolor": "white",
            "showbackground": true,
            "ticks": "",
            "zerolinecolor": "white"
           },
           "yaxis": {
            "backgroundcolor": "#E5ECF6",
            "gridcolor": "white",
            "gridwidth": 2,
            "linecolor": "white",
            "showbackground": true,
            "ticks": "",
            "zerolinecolor": "white"
           },
           "zaxis": {
            "backgroundcolor": "#E5ECF6",
            "gridcolor": "white",
            "gridwidth": 2,
            "linecolor": "white",
            "showbackground": true,
            "ticks": "",
            "zerolinecolor": "white"
           }
          },
          "shapedefaults": {
           "line": {
            "color": "#2a3f5f"
           }
          },
          "ternary": {
           "aaxis": {
            "gridcolor": "white",
            "linecolor": "white",
            "ticks": ""
           },
           "baxis": {
            "gridcolor": "white",
            "linecolor": "white",
            "ticks": ""
           },
           "bgcolor": "#E5ECF6",
           "caxis": {
            "gridcolor": "white",
            "linecolor": "white",
            "ticks": ""
           }
          },
          "title": {
           "x": 0.05
          },
          "xaxis": {
           "automargin": true,
           "gridcolor": "white",
           "linecolor": "white",
           "ticks": "",
           "title": {
            "standoff": 15
           },
           "zerolinecolor": "white",
           "zerolinewidth": 2
          },
          "yaxis": {
           "automargin": true,
           "gridcolor": "white",
           "linecolor": "white",
           "ticks": "",
           "title": {
            "standoff": 15
           },
           "zerolinecolor": "white",
           "zerolinewidth": 2
          }
         }
        },
        "title": {
         "text": "3D Distance Matrix Visualization"
        }
       }
      }
     },
     "metadata": {},
     "output_type": "display_data"
    }
   ],
   "source": [
    "from hierarchy_functions import graph_distance_matrix_in_3d\n",
    "\n",
    "graph_distance_matrix_in_3d(distance_matrix, [code_to_name[i] for i in terms])"
   ]
  },
  {
   "cell_type": "markdown",
   "metadata": {},
   "source": [
    "### **Approach 2:** Using word embeddings"
   ]
  },
  {
   "cell_type": "markdown",
   "metadata": {},
   "source": [
    "1. **SapBERT** - https://huggingface.co/cambridgeltl/SapBERT-from-PubMedBERT-fulltext\n",
    "2. **SNOMED CT BioBERT** - https://huggingface.co/KimTang/SNOMEDCT_BioBERT"
   ]
  },
  {
   "cell_type": "code",
   "execution_count": 13,
   "metadata": {},
   "outputs": [],
   "source": [
    "snomed_biobert = \"KimTang/SNOMEDCT_BioBERT\"\n",
    "sapbert = \"cambridgeltl/SapBERT-from-PubMedBERT-fulltext\""
   ]
  },
  {
   "cell_type": "code",
   "execution_count": 14,
   "metadata": {},
   "outputs": [
    {
     "name": "stderr",
     "output_type": "stream",
     "text": [
      "Asking to truncate to max_length but no maximum length is provided and the model has no predefined maximum length. Default to no truncation.\n",
      "Asking to truncate to max_length but no maximum length is provided and the model has no predefined maximum length. Default to no truncation.\n"
     ]
    }
   ],
   "source": [
    "from hierarchy_functions import get_embeddings\n",
    "\n",
    "embeddings, embedding_names, embedding_matrix = get_embeddings(my_terms_written, sapbert)\n",
    "embeddings_2, embedding_names_2, embedding_matrix_2 = get_embeddings(my_terms_written, snomed_biobert)"
   ]
  },
  {
   "cell_type": "code",
   "execution_count": 15,
   "metadata": {},
   "outputs": [
    {
     "data": {
      "application/vnd.plotly.v1+json": {
       "config": {
        "plotlyServerURL": "https://plot.ly"
       },
       "data": [
        {
         "marker": {
          "opacity": 0.8,
          "size": 5
         },
         "mode": "markers+text",
         "text": [
          "Metabolic syndrome X",
          "Migraine",
          "Patent foramen ovale",
          "Age factor",
          "Care provision regime",
          "Paralysis",
          "Smoking cessation",
          "Heart failure",
          "Fracture",
          "Stenosis of cerebral artery",
          "Uses oral contraception",
          "Antibiotic therapy",
          "Physical therapy procedure",
          "Lesion size",
          "Barthel index",
          "Pain",
          "Coping behavior",
          "Epilepsy due to cerebrovascular accident",
          "Acute infective endocarditis",
          "Education and/or schooling finding",
          "Hyperlipidemia",
          "Family history of stroke",
          "Urinary tract infectious disease",
          "Antidepressant therapy",
          "High sensitivity cardiac troponin T measurement",
          "Obesity",
          "Aspiration",
          "Sleep apnea",
          "Disorder of cardiac function",
          "Female sex hormones - serum level - finding",
          "Surgical occlusion of blood vessel",
          "Second hand cigarette smoke",
          "Healthy diet",
          "Impaired cognition",
          "FAST - Fast Alcohol Screening Test",
          "Removal of thrombus",
          "Hypertensive disorder",
          "DNA damage",
          "Clostridium botulinum toxin",
          "Therapy",
          "Lesion of brain",
          "Male",
          "Thrombolysis",
          "Pain management",
          "Blood pressure",
          "Cardiac syndrome X",
          "Race",
          "Myocardial infarction due to demand ischemia",
          "Psychotherapy",
          "Endocarditis",
          "Silent micro-hemorrhage of brain",
          "Vascular disorder",
          "Heart disease",
          "Finding of renal function",
          "Tobacco smoke",
          "Takotsubo cardiomyopathy",
          "Troponin measurement",
          "Social isolation",
          "Sympathetic nervous system structure",
          "Migraine with aura",
          "Carotid endarterectomy",
          "Stress",
          "Risk of cardiovascular disease",
          "Pulmonary embolism",
          "Dysphagia",
          "Primary prevention",
          "Atherosclerosis of artery",
          "Vasculitis",
          "Falls",
          "Socioeconomic status",
          "Glucagon-like peptide 1 receptor agonist",
          "Oxygen saturation measurement",
          "Diabetes mellitus",
          "Blood coagulation disorder",
          "Glomerular filtration rate",
          "Infarct",
          "Leuko-araiosis",
          "Functionally dependent",
          "Interleukin-6",
          "Diagnosis",
          "Dysfunction of urinary bladder",
          "Atherosclerosis",
          "Platelet aggregation inhibitor therapy",
          "Dissection procedure",
          "Weight loss",
          "Mobility",
          "Stenosis",
          "Transient cerebral ischemia",
          "Ischemic stroke",
          "Complete obstruction",
          "Aphasia",
          "COVID-19",
          "Body temperature",
          "Administration of prophylactic statin",
          "Quality of life satisfaction",
          "Acute heart failure",
          "Immunosuppression",
          "Arteriosclerosis",
          "Endarterectomy",
          "Insertion of carotid artery stent",
          "Thrombosis",
          "Pre-eclampsia",
          "Postprocedural recovery status",
          "Dyslipidemia",
          "Neurosurgery",
          "Speech therapy",
          "Decreased alcohol consumption",
          "Myocardial infarction due to atherothrombotic coronary artery disease",
          "Insulin resistance",
          "Admission to stroke unit",
          "Blood glucose level - finding",
          "Cachexia",
          "Depressive disorder",
          "Hemorrhage",
          "Low sodium diet",
          "Myocardial infarction",
          "Patient position finding",
          "Prediabetes",
          "Infectious disease",
          "Mortality rate",
          "Cognitive skills training",
          "Structure of perivascular space",
          "Disability",
          "Antihypertensive therapy",
          "High carbohydrate diet",
          "Anticoagulant therapy",
          "Percutaneous transluminal procedure on blood vessel",
          "Physical fitness state",
          "Social worker",
          "Pregnancy",
          "Hypercholesterolemia",
          "Delirium",
          "Seizure",
          "Thiazolidinedione",
          "Body mass index",
          "Chronic heart failure",
          "Secondary prevention",
          "Dissection of cerebral artery",
          "Inflammation",
          "Procedure involving urinary catheter",
          "Hypercoagulability state",
          "C-reactive protein measurement",
          "Low blood pressure",
          "Urinary incontinence",
          "Complicated atheromatous plaque",
          "Cerebral atrophy",
          "Alcohol intake above recommended sensible limits",
          "Nutritional disorder",
          "N terminal pro-brain natriuretic peptide level",
          "Decreased vascular flow",
          "Functional finding",
          "Chemotherapy",
          "Gestational diabetes mellitus complicating pregnancy",
          "Gliosis",
          "Lacunar infarction",
          "Atrial fibrillation",
          "Kidney disease",
          "Mediterranean diet",
          "Deep venous thrombosis",
          "Embolism",
          "Malignant neoplasm",
          "Thrombus of cardiac chamber",
          "Continuous positive airway pressure ventilation treatment",
          "Hypoperfusion",
          "Genetic predisposition",
          "Angioplasty of carotid artery",
          "Death",
          "Spasticity",
          "Lesion",
          "Alcohol consumption unknown",
          "Exercise",
          "Dissection of artery",
          "Encephalitis",
          "Chronic kidney disease",
          "Blood glucose management",
          "Lipoprotein (a) measurement",
          "Cardiac arrhythmia",
          "Catecholamine level - finding",
          "Sequelae of neurological disorders",
          "National Institutes of Health stroke scale",
          "High fat diet",
          "Pneumonia",
          "Hypertension complicating pregnancy",
          "Congenital malformation",
          "Blood-brain barrier",
          "Cerebral venous sinus thrombosis",
          "Sodium glucose cotransporter subtype 2 inhibitor",
          "Stroke index"
         ],
         "textposition": "top center",
         "type": "scatter3d",
         "x": [
          -16.017499923706055,
          -22.377349853515625,
          25.863372802734375,
          -63.16362380981445,
          54.628501892089844,
          16.295780181884766,
          18.68135643005371,
          26.4669132232666,
          -2.2821173667907715,
          -28.97943115234375,
          35.847801208496094,
          83.10059356689453,
          66.84220123291016,
          -66.72897338867188,
          -0.6755936741828918,
          -25.571529388427734,
          60.41762161254883,
          -16.215978622436523,
          42.019256591796875,
          69.65845489501953,
          -34.36666488647461,
          -32.24797439575195,
          -37.666603088378906,
          41.2955207824707,
          6.417100429534912,
          -10.422408103942871,
          -19.36802864074707,
          -45.173492431640625,
          32.280860900878906,
          -48.837738037109375,
          2.4070727825164795,
          19.198026657104492,
          17.009185791015625,
          53.9696044921875,
          51.397422790527344,
          20.755977630615234,
          -27.35439682006836,
          -2.4008541107177734,
          12.468147277832031,
          63.776710510253906,
          62.203277587890625,
          -63.14236831665039,
          4.92209529876709,
          -36.33574676513672,
          -23.5584774017334,
          -3.5453922748565674,
          -72.18225860595703,
          2.142625093460083,
          60.01705551147461,
          33.09406661987305,
          -23.149757385253906,
          -0.8746863603591919,
          18.817672729492188,
          36.7786750793457,
          13.742870330810547,
          -7.021124362945557,
          3.9934322834014893,
          34.9708137512207,
          -40.43742752075195,
          -31.5659236907959,
          -21.289655685424805,
          16.06673812866211,
          -35.82691192626953,
          3.4280343055725098,
          -3.6957125663757324,
          43.39463424682617,
          -51.51841735839844,
          -10.025496482849121,
          0.5303840637207031,
          65.44894409179688,
          -25.30371856689453,
          48.29000473022461,
          -35.59612274169922,
          15.868925094604492,
          27.860536575317383,
          -0.2608676552772522,
          -21.242013931274414,
          33.370941162109375,
          -0.19891466200351715,
          0.2516515851020813,
          -59.6786994934082,
          -39.630760192871094,
          33.99167251586914,
          17.93948745727539,
          0.19586125016212463,
          40.93085479736328,
          -43.84364700317383,
          -10.81193733215332,
          -15.039545059204102,
          -44.47126388549805,
          2.5354392528533936,
          11.571670532226562,
          30.841100692749023,
          25.16031837463379,
          69.58293151855469,
          18.158437728881836,
          30.670913696289062,
          -44.696468353271484,
          -12.803242683410645,
          -24.112106323242188,
          5.371224880218506,
          -43.88606262207031,
          54.18305587768555,
          -36.026668548583984,
          69.34489440917969,
          71.70830535888672,
          -26.04974937438965,
          -18.482898712158203,
          -24.760974884033203,
          -23.78601837158203,
          -22.93019676208496,
          8.026403427124023,
          30.563404083251953,
          -11.917643547058105,
          -2.9575388431549072,
          -4.437462329864502,
          46.37913131713867,
          -33.7822380065918,
          -23.859437942504883,
          10.053783416748047,
          65.26183319091797,
          -40.35762023925781,
          30.700244903564453,
          -6.904858589172363,
          -2.162170886993408,
          31.3668212890625,
          14.260677337646484,
          53.21223068237305,
          52.46785354614258,
          -56.42575454711914,
          -27.283655166625977,
          12.783638000488281,
          -6.519561767578125,
          -7.913662910461426,
          -2.4902284145355225,
          34.71451187133789,
          34.90386962890625,
          0.618427574634552,
          -18.04105567932129,
          -53.6668815612793,
          8.549695014953613,
          -10.288627624511719,
          -7.979501724243164,
          -54.86549377441406,
          -32.908775329589844,
          -15.350749015808105,
          -27.101953506469727,
          16.31375503540039,
          -11.583524703979492,
          -20.286964416503906,
          41.2567138671875,
          67.99504852294922,
          -53.72450637817383,
          -33.60151290893555,
          -10.232095718383789,
          20.29598045349121,
          24.641281127929688,
          15.802425384521484,
          3.5292305946350098,
          3.4450933933258057,
          -54.801361083984375,
          21.05898666381836,
          -55.53097915649414,
          -24.023775100708008,
          -80.33158874511719,
          -33.4044189453125,
          2.226621389389038,
          21.863370895385742,
          -67.4063720703125,
          -41.383583068847656,
          60.0281982421875,
          5.53434419631958,
          47.08249282836914,
          36.779075622558594,
          -11.705361366271973,
          -48.95500183105469,
          17.961196899414062,
          -34.93864059448242,
          60.04435348510742,
          20.26825714111328,
          4.077413558959961,
          -25.055130004882812,
          -38.857479095458984,
          -70.7457046508789,
          -49.87401580810547,
          -3.3086133003234863,
          -14.960824966430664,
          11.430500030517578
         ],
         "y": [
          5.3632025718688965,
          14.363264083862305,
          -8.426376342773438,
          -9.326274871826172,
          36.33278274536133,
          23.576601028442383,
          19.47185707092285,
          -30.471576690673828,
          27.858861923217773,
          -8.040740966796875,
          24.832744598388672,
          27.859569549560547,
          19.918916702270508,
          -14.466326713562012,
          -37.77960205078125,
          28.308286666870117,
          -29.80510902404785,
          -9.466367721557617,
          -34.75977325439453,
          -4.509832859039307,
          -13.743741989135742,
          -32.4478874206543,
          49.3980827331543,
          1.936670184135437,
          -21.047386169433594,
          27.343040466308594,
          23.958385467529297,
          -28.19451141357422,
          -28.954923629760742,
          -35.652305603027344,
          -64.86277770996094,
          19.49078941345215,
          56.477149963378906,
          -20.648468017578125,
          -54.21512985229492,
          -49.86742401123047,
          69.73906707763672,
          45.33092498779297,
          -47.3701057434082,
          20.493982315063477,
          -26.7529296875,
          6.23821496963501,
          -49.05133056640625,
          22.467166900634766,
          75.47512817382812,
          -5.926056385040283,
          2.6965415477752686,
          -25.43309211730957,
          6.604811668395996,
          -27.878658294677734,
          -31.874101638793945,
          -77.72868347167969,
          -22.425918579101562,
          34.614646911621094,
          27.046323776245117,
          -19.863874435424805,
          -31.4931583404541,
          24.36241912841797,
          -15.866693496704102,
          14.041769981384277,
          -67.0014877319336,
          51.63448715209961,
          -45.57404327392578,
          -19.021671295166016,
          19.855501174926758,
          -1.8153603076934814,
          -29.242616653442383,
          -70.91132354736328,
          15.032647132873535,
          6.770878791809082,
          20.301210403442383,
          44.552799224853516,
          24.90749740600586,
          -65.41422271728516,
          30.483699798583984,
          -33.17003631591797,
          -2.629049062728882,
          23.588642120361328,
          -8.055779457092285,
          40.828182220458984,
          50.87894058227539,
          -24.687419891357422,
          -15.742630004882812,
          -72.09452819824219,
          34.00944519042969,
          37.625144958496094,
          -8.493644714355469,
          -20.00990867614746,
          -31.15463638305664,
          -11.029812812805176,
          8.186338424682617,
          10.436341285705566,
          -26.78961753845215,
          -6.354625701904297,
          22.865774154663086,
          -41.80851745605469,
          13.37374210357666,
          -17.11288070678711,
          -65.8780288696289,
          -63.566673278808594,
          -47.16380310058594,
          49.98445510864258,
          10.996304512023926,
          -11.167522430419922,
          -10.964763641357422,
          2.8453316688537598,
          57.00274658203125,
          -33.625335693359375,
          15.383014678955078,
          -16.506851196289062,
          85.4306869506836,
          27.966611862182617,
          0.9420720934867859,
          -47.00820541381836,
          62.0024528503418,
          -37.860435485839844,
          47.33174514770508,
          11.588573455810547,
          45.78502655029297,
          23.955078125,
          -14.916145324707031,
          -69.95765686035156,
          23.808752059936523,
          73.82270050048828,
          56.40028381347656,
          -7.938925266265869,
          -71.29777526855469,
          23.845539093017578,
          11.656636238098145,
          38.549190521240234,
          -23.38433837890625,
          10.99440860748291,
          6.884321212768555,
          -1.2072622776031494,
          21.622543334960938,
          -41.8292350769043,
          2.2185146808624268,
          -64.64010620117188,
          38.44011688232422,
          59.71017837524414,
          -64.98502349853516,
          -15.702448844909668,
          71.08483123779297,
          40.98311233520508,
          -38.650856018066406,
          4.990417003631592,
          53.72694778442383,
          45.14265060424805,
          -30.126651763916016,
          -61.60895919799805,
          31.527162551879883,
          25.96377944946289,
          30.691617965698242,
          4.067460060119629,
          -17.0301513671875,
          -3.5074424743652344,
          64.84898376464844,
          63.587799072265625,
          -38.46589660644531,
          -30.30809783935547,
          10.13068675994873,
          -33.3685417175293,
          13.571556091308594,
          -51.20811080932617,
          18.987001419067383,
          -68.04219818115234,
          25.91883659362793,
          42.752349853515625,
          -3.401308059692383,
          55.73530960083008,
          31.978269577026367,
          -69.25513458251953,
          -11.337989807128906,
          64.75284576416016,
          86.89338684082031,
          -24.252614974975586,
          -12.13026237487793,
          -25.592700958251953,
          -6.590343952178955,
          -41.198158264160156,
          47.33109664916992,
          45.399295806884766,
          60.325931549072266,
          8.552213668823242,
          -63.971004486083984,
          -27.76922035217285,
          10.827723503112793,
          -30.27756690979004
         ],
         "z": [
          -28.768701553344727,
          48.43982696533203,
          60.33305740356445,
          -23.27720069885254,
          -3.723574161529541,
          14.289772033691406,
          -53.81965637207031,
          -2.0621895790100098,
          62.00916290283203,
          20.781200408935547,
          -58.396549224853516,
          -7.130997657775879,
          13.548147201538086,
          20.16640281677246,
          -34.600406646728516,
          31.854385375976562,
          -35.17639923095703,
          43.474735260009766,
          45.84062957763672,
          -32.51218032836914,
          -27.889423370361328,
          18.45306968688965,
          1.2153030633926392,
          -2.4706130027770996,
          -53.6924934387207,
          -30.781578063964844,
          -1.3064470291137695,
          47.291481018066406,
          15.208773612976074,
          -53.84014892578125,
          13.864654541015625,
          -73.95621490478516,
          -31.777849197387695,
          -6.3887176513671875,
          -17.306554794311523,
          33.72818374633789,
          26.153676986694336,
          35.35757827758789,
          -63.071632385253906,
          -1.5935184955596924,
          22.969858169555664,
          -13.326200485229492,
          34.60108184814453,
          25.7479305267334,
          12.629140853881836,
          -20.269607543945312,
          -4.2860426902771,
          -4.022495269775391,
          2.6634464263916016,
          39.81208801269531,
          39.301998138427734,
          34.284202575683594,
          13.92430591583252,
          56.34191131591797,
          -64.90699768066406,
          -19.590450286865234,
          -59.74513244628906,
          -24.939979553222656,
          -73.5042953491211,
          56.73893737792969,
          -11.694332122802734,
          33.77936553955078,
          3.904667615890503,
          53.43235778808594,
          2.5089383125305176,
          -61.90184020996094,
          -4.5412797927856445,
          45.66157531738281,
          59.72456741333008,
          -39.23251724243164,
          -63.60194778442383,
          -42.86915969848633,
          -28.982820510864258,
          53.91483688354492,
          67.8794937133789,
          18.983871459960938,
          -1.9397882223129272,
          27.920032501220703,
          -81.54218292236328,
          11.38089656829834,
          8.082021713256836,
          -8.393660545349121,
          -31.131258010864258,
          -12.842296600341797,
          -19.100528717041016,
          17.567378997802734,
          28.01268768310547,
          27.705142974853516,
          17.339641571044922,
          43.503849029541016,
          13.907322883605957,
          -26.023574829101562,
          -68.75336456298828,
          -41.0990104675293,
          -45.491371154785156,
          -3.0269205570220947,
          -17.005300521850586,
          3.786445379257202,
          -0.7246894836425781,
          -31.938434600830078,
          50.61947250366211,
          42.27912902832031,
          49.539302825927734,
          -41.51734161376953,
          14.249006271362305,
          -7.491235733032227,
          -35.86794662475586,
          -1.5431233644485474,
          -41.05814743041992,
          61.63740158081055,
          -10.317110061645508,
          -8.67775821685791,
          6.009714126586914,
          55.022064208984375,
          -22.58725929260254,
          4.890201091766357,
          35.46320724487305,
          -28.418670654296875,
          9.250890731811523,
          40.01560974121094,
          -18.05194091796875,
          43.0710334777832,
          12.050689697265625,
          24.32513999938965,
          -47.48973846435547,
          -19.175411224365234,
          19.520185470581055,
          35.31080627441406,
          -27.965932846069336,
          37.139068603515625,
          -35.435115814208984,
          -0.5012392997741699,
          43.07891082763672,
          -44.30800247192383,
          -40.506282806396484,
          -0.13542407751083374,
          -53.85183334350586,
          -18.947216033935547,
          24.72108268737793,
          -6.881062984466553,
          65.8099136352539,
          -76.68061828613281,
          7.334634780883789,
          1.5673096179962158,
          -15.684844970703125,
          16.057540893554688,
          -48.695865631103516,
          -8.642650604248047,
          -61.75014877319336,
          26.7816219329834,
          41.74627685546875,
          -13.929346084594727,
          -25.1635799407959,
          -4.066193103790283,
          10.830236434936523,
          41.001468658447266,
          -0.5077157020568848,
          -43.31547546386719,
          72.02175903320312,
          47.382652282714844,
          10.231328964233398,
          56.77342987060547,
          -57.24128723144531,
          32.665435791015625,
          13.487677574157715,
          -22.4695987701416,
          29.090662002563477,
          18.91159439086914,
          26.49629783630371,
          -42.683528900146484,
          21.386295318603516,
          -6.56534481048584,
          27.212505340576172,
          -4.632181644439697,
          -16.336755752563477,
          -32.7688102722168,
          29.05266571044922,
          -67.17027282714844,
          34.88943862915039,
          -31.90677261352539,
          -39.996009826660156,
          -9.453237533569336,
          34.86727523803711,
          35.79006576538086,
          35.182559967041016,
          77.012451171875,
          -61.712799072265625,
          -28.353239059448242
         ]
        }
       ],
       "layout": {
        "margin": {
         "b": 0,
         "l": 0,
         "r": 0,
         "t": 40
        },
        "scene": {
         "xaxis": {
          "title": {
           "text": "t-SNE Dimension 1"
          }
         },
         "yaxis": {
          "title": {
           "text": "t-SNE Dimension 2"
          }
         },
         "zaxis": {
          "title": {
           "text": "t-SNE Dimension 3"
          }
         }
        },
        "template": {
         "data": {
          "bar": [
           {
            "error_x": {
             "color": "#2a3f5f"
            },
            "error_y": {
             "color": "#2a3f5f"
            },
            "marker": {
             "line": {
              "color": "#E5ECF6",
              "width": 0.5
             },
             "pattern": {
              "fillmode": "overlay",
              "size": 10,
              "solidity": 0.2
             }
            },
            "type": "bar"
           }
          ],
          "barpolar": [
           {
            "marker": {
             "line": {
              "color": "#E5ECF6",
              "width": 0.5
             },
             "pattern": {
              "fillmode": "overlay",
              "size": 10,
              "solidity": 0.2
             }
            },
            "type": "barpolar"
           }
          ],
          "carpet": [
           {
            "aaxis": {
             "endlinecolor": "#2a3f5f",
             "gridcolor": "white",
             "linecolor": "white",
             "minorgridcolor": "white",
             "startlinecolor": "#2a3f5f"
            },
            "baxis": {
             "endlinecolor": "#2a3f5f",
             "gridcolor": "white",
             "linecolor": "white",
             "minorgridcolor": "white",
             "startlinecolor": "#2a3f5f"
            },
            "type": "carpet"
           }
          ],
          "choropleth": [
           {
            "colorbar": {
             "outlinewidth": 0,
             "ticks": ""
            },
            "type": "choropleth"
           }
          ],
          "contour": [
           {
            "colorbar": {
             "outlinewidth": 0,
             "ticks": ""
            },
            "colorscale": [
             [
              0,
              "#0d0887"
             ],
             [
              0.1111111111111111,
              "#46039f"
             ],
             [
              0.2222222222222222,
              "#7201a8"
             ],
             [
              0.3333333333333333,
              "#9c179e"
             ],
             [
              0.4444444444444444,
              "#bd3786"
             ],
             [
              0.5555555555555556,
              "#d8576b"
             ],
             [
              0.6666666666666666,
              "#ed7953"
             ],
             [
              0.7777777777777778,
              "#fb9f3a"
             ],
             [
              0.8888888888888888,
              "#fdca26"
             ],
             [
              1,
              "#f0f921"
             ]
            ],
            "type": "contour"
           }
          ],
          "contourcarpet": [
           {
            "colorbar": {
             "outlinewidth": 0,
             "ticks": ""
            },
            "type": "contourcarpet"
           }
          ],
          "heatmap": [
           {
            "colorbar": {
             "outlinewidth": 0,
             "ticks": ""
            },
            "colorscale": [
             [
              0,
              "#0d0887"
             ],
             [
              0.1111111111111111,
              "#46039f"
             ],
             [
              0.2222222222222222,
              "#7201a8"
             ],
             [
              0.3333333333333333,
              "#9c179e"
             ],
             [
              0.4444444444444444,
              "#bd3786"
             ],
             [
              0.5555555555555556,
              "#d8576b"
             ],
             [
              0.6666666666666666,
              "#ed7953"
             ],
             [
              0.7777777777777778,
              "#fb9f3a"
             ],
             [
              0.8888888888888888,
              "#fdca26"
             ],
             [
              1,
              "#f0f921"
             ]
            ],
            "type": "heatmap"
           }
          ],
          "heatmapgl": [
           {
            "colorbar": {
             "outlinewidth": 0,
             "ticks": ""
            },
            "colorscale": [
             [
              0,
              "#0d0887"
             ],
             [
              0.1111111111111111,
              "#46039f"
             ],
             [
              0.2222222222222222,
              "#7201a8"
             ],
             [
              0.3333333333333333,
              "#9c179e"
             ],
             [
              0.4444444444444444,
              "#bd3786"
             ],
             [
              0.5555555555555556,
              "#d8576b"
             ],
             [
              0.6666666666666666,
              "#ed7953"
             ],
             [
              0.7777777777777778,
              "#fb9f3a"
             ],
             [
              0.8888888888888888,
              "#fdca26"
             ],
             [
              1,
              "#f0f921"
             ]
            ],
            "type": "heatmapgl"
           }
          ],
          "histogram": [
           {
            "marker": {
             "pattern": {
              "fillmode": "overlay",
              "size": 10,
              "solidity": 0.2
             }
            },
            "type": "histogram"
           }
          ],
          "histogram2d": [
           {
            "colorbar": {
             "outlinewidth": 0,
             "ticks": ""
            },
            "colorscale": [
             [
              0,
              "#0d0887"
             ],
             [
              0.1111111111111111,
              "#46039f"
             ],
             [
              0.2222222222222222,
              "#7201a8"
             ],
             [
              0.3333333333333333,
              "#9c179e"
             ],
             [
              0.4444444444444444,
              "#bd3786"
             ],
             [
              0.5555555555555556,
              "#d8576b"
             ],
             [
              0.6666666666666666,
              "#ed7953"
             ],
             [
              0.7777777777777778,
              "#fb9f3a"
             ],
             [
              0.8888888888888888,
              "#fdca26"
             ],
             [
              1,
              "#f0f921"
             ]
            ],
            "type": "histogram2d"
           }
          ],
          "histogram2dcontour": [
           {
            "colorbar": {
             "outlinewidth": 0,
             "ticks": ""
            },
            "colorscale": [
             [
              0,
              "#0d0887"
             ],
             [
              0.1111111111111111,
              "#46039f"
             ],
             [
              0.2222222222222222,
              "#7201a8"
             ],
             [
              0.3333333333333333,
              "#9c179e"
             ],
             [
              0.4444444444444444,
              "#bd3786"
             ],
             [
              0.5555555555555556,
              "#d8576b"
             ],
             [
              0.6666666666666666,
              "#ed7953"
             ],
             [
              0.7777777777777778,
              "#fb9f3a"
             ],
             [
              0.8888888888888888,
              "#fdca26"
             ],
             [
              1,
              "#f0f921"
             ]
            ],
            "type": "histogram2dcontour"
           }
          ],
          "mesh3d": [
           {
            "colorbar": {
             "outlinewidth": 0,
             "ticks": ""
            },
            "type": "mesh3d"
           }
          ],
          "parcoords": [
           {
            "line": {
             "colorbar": {
              "outlinewidth": 0,
              "ticks": ""
             }
            },
            "type": "parcoords"
           }
          ],
          "pie": [
           {
            "automargin": true,
            "type": "pie"
           }
          ],
          "scatter": [
           {
            "fillpattern": {
             "fillmode": "overlay",
             "size": 10,
             "solidity": 0.2
            },
            "type": "scatter"
           }
          ],
          "scatter3d": [
           {
            "line": {
             "colorbar": {
              "outlinewidth": 0,
              "ticks": ""
             }
            },
            "marker": {
             "colorbar": {
              "outlinewidth": 0,
              "ticks": ""
             }
            },
            "type": "scatter3d"
           }
          ],
          "scattercarpet": [
           {
            "marker": {
             "colorbar": {
              "outlinewidth": 0,
              "ticks": ""
             }
            },
            "type": "scattercarpet"
           }
          ],
          "scattergeo": [
           {
            "marker": {
             "colorbar": {
              "outlinewidth": 0,
              "ticks": ""
             }
            },
            "type": "scattergeo"
           }
          ],
          "scattergl": [
           {
            "marker": {
             "colorbar": {
              "outlinewidth": 0,
              "ticks": ""
             }
            },
            "type": "scattergl"
           }
          ],
          "scattermapbox": [
           {
            "marker": {
             "colorbar": {
              "outlinewidth": 0,
              "ticks": ""
             }
            },
            "type": "scattermapbox"
           }
          ],
          "scatterpolar": [
           {
            "marker": {
             "colorbar": {
              "outlinewidth": 0,
              "ticks": ""
             }
            },
            "type": "scatterpolar"
           }
          ],
          "scatterpolargl": [
           {
            "marker": {
             "colorbar": {
              "outlinewidth": 0,
              "ticks": ""
             }
            },
            "type": "scatterpolargl"
           }
          ],
          "scatterternary": [
           {
            "marker": {
             "colorbar": {
              "outlinewidth": 0,
              "ticks": ""
             }
            },
            "type": "scatterternary"
           }
          ],
          "surface": [
           {
            "colorbar": {
             "outlinewidth": 0,
             "ticks": ""
            },
            "colorscale": [
             [
              0,
              "#0d0887"
             ],
             [
              0.1111111111111111,
              "#46039f"
             ],
             [
              0.2222222222222222,
              "#7201a8"
             ],
             [
              0.3333333333333333,
              "#9c179e"
             ],
             [
              0.4444444444444444,
              "#bd3786"
             ],
             [
              0.5555555555555556,
              "#d8576b"
             ],
             [
              0.6666666666666666,
              "#ed7953"
             ],
             [
              0.7777777777777778,
              "#fb9f3a"
             ],
             [
              0.8888888888888888,
              "#fdca26"
             ],
             [
              1,
              "#f0f921"
             ]
            ],
            "type": "surface"
           }
          ],
          "table": [
           {
            "cells": {
             "fill": {
              "color": "#EBF0F8"
             },
             "line": {
              "color": "white"
             }
            },
            "header": {
             "fill": {
              "color": "#C8D4E3"
             },
             "line": {
              "color": "white"
             }
            },
            "type": "table"
           }
          ]
         },
         "layout": {
          "annotationdefaults": {
           "arrowcolor": "#2a3f5f",
           "arrowhead": 0,
           "arrowwidth": 1
          },
          "autotypenumbers": "strict",
          "coloraxis": {
           "colorbar": {
            "outlinewidth": 0,
            "ticks": ""
           }
          },
          "colorscale": {
           "diverging": [
            [
             0,
             "#8e0152"
            ],
            [
             0.1,
             "#c51b7d"
            ],
            [
             0.2,
             "#de77ae"
            ],
            [
             0.3,
             "#f1b6da"
            ],
            [
             0.4,
             "#fde0ef"
            ],
            [
             0.5,
             "#f7f7f7"
            ],
            [
             0.6,
             "#e6f5d0"
            ],
            [
             0.7,
             "#b8e186"
            ],
            [
             0.8,
             "#7fbc41"
            ],
            [
             0.9,
             "#4d9221"
            ],
            [
             1,
             "#276419"
            ]
           ],
           "sequential": [
            [
             0,
             "#0d0887"
            ],
            [
             0.1111111111111111,
             "#46039f"
            ],
            [
             0.2222222222222222,
             "#7201a8"
            ],
            [
             0.3333333333333333,
             "#9c179e"
            ],
            [
             0.4444444444444444,
             "#bd3786"
            ],
            [
             0.5555555555555556,
             "#d8576b"
            ],
            [
             0.6666666666666666,
             "#ed7953"
            ],
            [
             0.7777777777777778,
             "#fb9f3a"
            ],
            [
             0.8888888888888888,
             "#fdca26"
            ],
            [
             1,
             "#f0f921"
            ]
           ],
           "sequentialminus": [
            [
             0,
             "#0d0887"
            ],
            [
             0.1111111111111111,
             "#46039f"
            ],
            [
             0.2222222222222222,
             "#7201a8"
            ],
            [
             0.3333333333333333,
             "#9c179e"
            ],
            [
             0.4444444444444444,
             "#bd3786"
            ],
            [
             0.5555555555555556,
             "#d8576b"
            ],
            [
             0.6666666666666666,
             "#ed7953"
            ],
            [
             0.7777777777777778,
             "#fb9f3a"
            ],
            [
             0.8888888888888888,
             "#fdca26"
            ],
            [
             1,
             "#f0f921"
            ]
           ]
          },
          "colorway": [
           "#636efa",
           "#EF553B",
           "#00cc96",
           "#ab63fa",
           "#FFA15A",
           "#19d3f3",
           "#FF6692",
           "#B6E880",
           "#FF97FF",
           "#FECB52"
          ],
          "font": {
           "color": "#2a3f5f"
          },
          "geo": {
           "bgcolor": "white",
           "lakecolor": "white",
           "landcolor": "#E5ECF6",
           "showlakes": true,
           "showland": true,
           "subunitcolor": "white"
          },
          "hoverlabel": {
           "align": "left"
          },
          "hovermode": "closest",
          "mapbox": {
           "style": "light"
          },
          "paper_bgcolor": "white",
          "plot_bgcolor": "#E5ECF6",
          "polar": {
           "angularaxis": {
            "gridcolor": "white",
            "linecolor": "white",
            "ticks": ""
           },
           "bgcolor": "#E5ECF6",
           "radialaxis": {
            "gridcolor": "white",
            "linecolor": "white",
            "ticks": ""
           }
          },
          "scene": {
           "xaxis": {
            "backgroundcolor": "#E5ECF6",
            "gridcolor": "white",
            "gridwidth": 2,
            "linecolor": "white",
            "showbackground": true,
            "ticks": "",
            "zerolinecolor": "white"
           },
           "yaxis": {
            "backgroundcolor": "#E5ECF6",
            "gridcolor": "white",
            "gridwidth": 2,
            "linecolor": "white",
            "showbackground": true,
            "ticks": "",
            "zerolinecolor": "white"
           },
           "zaxis": {
            "backgroundcolor": "#E5ECF6",
            "gridcolor": "white",
            "gridwidth": 2,
            "linecolor": "white",
            "showbackground": true,
            "ticks": "",
            "zerolinecolor": "white"
           }
          },
          "shapedefaults": {
           "line": {
            "color": "#2a3f5f"
           }
          },
          "ternary": {
           "aaxis": {
            "gridcolor": "white",
            "linecolor": "white",
            "ticks": ""
           },
           "baxis": {
            "gridcolor": "white",
            "linecolor": "white",
            "ticks": ""
           },
           "bgcolor": "#E5ECF6",
           "caxis": {
            "gridcolor": "white",
            "linecolor": "white",
            "ticks": ""
           }
          },
          "title": {
           "x": 0.05
          },
          "xaxis": {
           "automargin": true,
           "gridcolor": "white",
           "linecolor": "white",
           "ticks": "",
           "title": {
            "standoff": 15
           },
           "zerolinecolor": "white",
           "zerolinewidth": 2
          },
          "yaxis": {
           "automargin": true,
           "gridcolor": "white",
           "linecolor": "white",
           "ticks": "",
           "title": {
            "standoff": 15
           },
           "zerolinecolor": "white",
           "zerolinewidth": 2
          }
         }
        },
        "title": {
         "text": "SapBERT Embeddings in 3D"
        }
       }
      }
     },
     "metadata": {},
     "output_type": "display_data"
    }
   ],
   "source": [
    "from hierarchy_functions import graph_reduced_in_3d\n",
    "\n",
    "graph_reduced_in_3d(embedding_matrix, embedding_names, title='SapBERT Embeddings in 3D')"
   ]
  },
  {
   "cell_type": "code",
   "execution_count": 18,
   "metadata": {},
   "outputs": [
    {
     "data": {
      "application/vnd.plotly.v1+json": {
       "config": {
        "plotlyServerURL": "https://plot.ly"
       },
       "data": [
        {
         "marker": {
          "opacity": 0.8,
          "size": 5
         },
         "mode": "markers+text",
         "text": [
          "Metabolic syndrome X",
          "Migraine",
          "Patent foramen ovale",
          "Age factor",
          "Care provision regime",
          "Paralysis",
          "Smoking cessation",
          "Heart failure",
          "Fracture",
          "Stenosis of cerebral artery",
          "Uses oral contraception",
          "Antibiotic therapy",
          "Physical therapy procedure",
          "Lesion size",
          "Barthel index",
          "Pain",
          "Coping behavior",
          "Epilepsy due to cerebrovascular accident",
          "Acute infective endocarditis",
          "Education and/or schooling finding",
          "Hyperlipidemia",
          "Family history of stroke",
          "Urinary tract infectious disease",
          "Antidepressant therapy",
          "High sensitivity cardiac troponin T measurement",
          "Obesity",
          "Aspiration",
          "Sleep apnea",
          "Disorder of cardiac function",
          "Female sex hormones - serum level - finding",
          "Surgical occlusion of blood vessel",
          "Second hand cigarette smoke",
          "Healthy diet",
          "Impaired cognition",
          "FAST - Fast Alcohol Screening Test",
          "Removal of thrombus",
          "Hypertensive disorder",
          "DNA damage",
          "Clostridium botulinum toxin",
          "Therapy",
          "Lesion of brain",
          "Male",
          "Thrombolysis",
          "Pain management",
          "Blood pressure",
          "Cardiac syndrome X",
          "Race",
          "Myocardial infarction due to demand ischemia",
          "Psychotherapy",
          "Endocarditis",
          "Silent micro-hemorrhage of brain",
          "Vascular disorder",
          "Heart disease",
          "Finding of renal function",
          "Tobacco smoke",
          "Takotsubo cardiomyopathy",
          "Troponin measurement",
          "Social isolation",
          "Sympathetic nervous system structure",
          "Migraine with aura",
          "Carotid endarterectomy",
          "Stress",
          "Risk of cardiovascular disease",
          "Pulmonary embolism",
          "Dysphagia",
          "Primary prevention",
          "Atherosclerosis of artery",
          "Vasculitis",
          "Falls",
          "Socioeconomic status",
          "Glucagon-like peptide 1 receptor agonist",
          "Oxygen saturation measurement",
          "Diabetes mellitus",
          "Blood coagulation disorder",
          "Glomerular filtration rate",
          "Infarct",
          "Leuko-araiosis",
          "Functionally dependent",
          "Interleukin-6",
          "Diagnosis",
          "Dysfunction of urinary bladder",
          "Atherosclerosis",
          "Platelet aggregation inhibitor therapy",
          "Dissection procedure",
          "Weight loss",
          "Mobility",
          "Stenosis",
          "Transient cerebral ischemia",
          "Ischemic stroke",
          "Complete obstruction",
          "Aphasia",
          "COVID-19",
          "Body temperature",
          "Administration of prophylactic statin",
          "Quality of life satisfaction",
          "Acute heart failure",
          "Immunosuppression",
          "Arteriosclerosis",
          "Endarterectomy",
          "Insertion of carotid artery stent",
          "Thrombosis",
          "Pre-eclampsia",
          "Postprocedural recovery status",
          "Dyslipidemia",
          "Neurosurgery",
          "Speech therapy",
          "Decreased alcohol consumption",
          "Myocardial infarction due to atherothrombotic coronary artery disease",
          "Insulin resistance",
          "Admission to stroke unit",
          "Blood glucose level - finding",
          "Cachexia",
          "Depressive disorder",
          "Hemorrhage",
          "Low sodium diet",
          "Myocardial infarction",
          "Patient position finding",
          "Prediabetes",
          "Infectious disease",
          "Mortality rate",
          "Cognitive skills training",
          "Structure of perivascular space",
          "Disability",
          "Antihypertensive therapy",
          "High carbohydrate diet",
          "Anticoagulant therapy",
          "Percutaneous transluminal procedure on blood vessel",
          "Physical fitness state",
          "Social worker",
          "Pregnancy",
          "Hypercholesterolemia",
          "Delirium",
          "Seizure",
          "Thiazolidinedione",
          "Body mass index",
          "Chronic heart failure",
          "Secondary prevention",
          "Dissection of cerebral artery",
          "Inflammation",
          "Procedure involving urinary catheter",
          "Hypercoagulability state",
          "C-reactive protein measurement",
          "Low blood pressure",
          "Urinary incontinence",
          "Complicated atheromatous plaque",
          "Cerebral atrophy",
          "Alcohol intake above recommended sensible limits",
          "Nutritional disorder",
          "N terminal pro-brain natriuretic peptide level",
          "Decreased vascular flow",
          "Functional finding",
          "Chemotherapy",
          "Gestational diabetes mellitus complicating pregnancy",
          "Gliosis",
          "Lacunar infarction",
          "Atrial fibrillation",
          "Kidney disease",
          "Mediterranean diet",
          "Deep venous thrombosis",
          "Embolism",
          "Malignant neoplasm",
          "Thrombus of cardiac chamber",
          "Continuous positive airway pressure ventilation treatment",
          "Hypoperfusion",
          "Genetic predisposition",
          "Angioplasty of carotid artery",
          "Death",
          "Spasticity",
          "Lesion",
          "Alcohol consumption unknown",
          "Exercise",
          "Dissection of artery",
          "Encephalitis",
          "Chronic kidney disease",
          "Blood glucose management",
          "Lipoprotein (a) measurement",
          "Cardiac arrhythmia",
          "Catecholamine level - finding",
          "Sequelae of neurological disorders",
          "National Institutes of Health stroke scale",
          "High fat diet",
          "Pneumonia",
          "Hypertension complicating pregnancy",
          "Congenital malformation",
          "Blood-brain barrier",
          "Cerebral venous sinus thrombosis",
          "Sodium glucose cotransporter subtype 2 inhibitor",
          "Stroke index"
         ],
         "textposition": "top center",
         "type": "scatter3d",
         "x": [
          -2.8766043186187744,
          -4.812363147735596,
          6.912339687347412,
          -9.446714401245117,
          -3.057412624359131,
          -9.580405235290527,
          1.9768422842025757,
          -8.646648406982422,
          -11.571681022644043,
          7.040221214294434,
          4.689208984375,
          -3.6579086780548096,
          -2.67059063911438,
          -2.2739486694335938,
          3.1698546409606934,
          -11.37055778503418,
          -1.7576755285263062,
          11.947604179382324,
          10.295488357543945,
          8.821859359741211,
          4.116066932678223,
          2.6577415466308594,
          7.576927185058594,
          3.9722344875335693,
          11.706439971923828,
          -9.23420238494873,
          -9.233972549438477,
          1.0200624465942383,
          2.323791265487671,
          10.941576957702637,
          9.619808197021484,
          3.518935203552246,
          -8.776759147644043,
          -3.368011713027954,
          7.930551052093506,
          4.316024303436279,
          1.3976116180419922,
          -2.7037594318389893,
          11.747349739074707,
          -11.709903717041016,
          2.5270354747772217,
          -11.765905380249023,
          3.4016733169555664,
          -8.762210845947266,
          -9.39785099029541,
          -3.015316963195801,
          -11.878543853759766,
          12.60488510131836,
          -4.0002288818359375,
          1.5408252477645874,
          11.4983549118042,
          -9.763097763061523,
          -8.75953483581543,
          5.481709957122803,
          -8.45966911315918,
          11.128320693969727,
          4.24760103225708,
          -8.833527565002441,
          2.596677303314209,
          3.9444222450256348,
          9.906964302062988,
          -11.153080940246582,
          5.188226222991943,
          0.8474613428115845,
          0.9094811677932739,
          -8.697728157043457,
          9.022544860839844,
          3.4100699424743652,
          -11.781335830688477,
          -1.484918236732483,
          12.692207336425781,
          2.526287794113159,
          1.2043325901031494,
          4.240927696228027,
          8.76894474029541,
          -3.841498374938965,
          9.630864143371582,
          -3.2546441555023193,
          6.8760151863098145,
          -11.417421340942383,
          10.431546211242676,
          2.987830638885498,
          9.122313499450684,
          2.023287057876587,
          -9.821881294250488,
          -11.907613754272461,
          -4.223632335662842,
          6.79327917098999,
          1.4190232753753662,
          1.4553451538085938,
          -4.3829474449157715,
          3.0079691410064697,
          -9.410954475402832,
          10.880953788757324,
          2.7305498123168945,
          -3.244929075241089,
          7.034712791442871,
          3.2321107387542725,
          3.246793031692505,
          11.201451301574707,
          0.9704620838165283,
          6.282456874847412,
          7.482175350189209,
          4.073760032653809,
          2.9026355743408203,
          -9.536260604858398,
          -1.7726914882659912,
          12.708868026733398,
          -9.407249450683594,
          2.7413275241851807,
          5.523976802825928,
          -9.014448165893555,
          -4.072773456573486,
          1.2040883302688599,
          -2.2068119049072266,
          9.066314697265625,
          -1.7802218198776245,
          0.8822813630104065,
          -9.839499473571777,
          -10.024351119995117,
          -2.9140217304229736,
          9.940483093261719,
          -11.376588821411133,
          7.3077802658081055,
          9.368687629699707,
          4.002894878387451,
          11.651984214782715,
          -1.8965873718261719,
          -8.239642143249512,
          -11.333311080932617,
          7.548790454864502,
          -4.460197925567627,
          -11.312067985534668,
          7.004875183105469,
          -2.12213397026062,
          -3.4539356231689453,
          -8.998695373535156,
          7.037214279174805,
          -11.134897232055664,
          10.600313186645508,
          7.710587024688721,
          4.776747226715088,
          -2.434560537338257,
          8.039435386657715,
          7.875023365020752,
          1.394562840461731,
          7.897627353668213,
          -3.3026344776153564,
          12.70499324798584,
          -2.2590928077697754,
          -9.140491485595703,
          -4.196545600891113,
          12.427848815917969,
          -3.7939255237579346,
          7.287874221801758,
          6.145103931427002,
          -9.303081512451172,
          6.790074348449707,
          8.573994636535645,
          -4.712513446807861,
          8.272664070129395,
          7.28518533706665,
          9.24633502960205,
          4.390552520751953,
          1.1261283159255981,
          11.493993759155273,
          -11.51159954071045,
          -4.130822658538818,
          -9.345948219299316,
          -1.9270682334899902,
          -11.708381652832031,
          4.929647922515869,
          3.2574238777160645,
          -3.2787373065948486,
          -2.3927173614501953,
          10.925250053405762,
          6.819467544555664,
          10.069219589233398,
          9.026737213134766,
          7.9288506507873535,
          -2.205944299697876,
          -11.109169006347656,
          11.007878303527832,
          8.464524269104004,
          3.0127434730529785,
          10.967955589294434,
          12.631484031677246,
          -8.78372573852539
         ],
         "y": [
          -0.5710822343826294,
          -0.8591297268867493,
          -0.29356738924980164,
          0.8309950828552246,
          0.851965069770813,
          0.6032744646072388,
          -1.1575546264648438,
          0.2683720588684082,
          0.6838418245315552,
          -0.5842804312705994,
          -0.03195932134985924,
          0.6107709407806396,
          0.5885912775993347,
          0.5038648247718811,
          -0.6097259521484375,
          1.0282975435256958,
          0.35140541195869446,
          -2.470366954803467,
          -1.631399393081665,
          0.5950599312782288,
          -0.8189485669136047,
          0.1004803478717804,
          -0.857276201248169,
          -0.4494572877883911,
          -1.6686650514602661,
          0.34147098660469055,
          0.941940188407898,
          -0.8658267259597778,
          -0.26938825845718384,
          -0.9621523022651672,
          -1.1878727674484253,
          0.035127658396959305,
          0.8599730730056763,
          -0.05572690814733505,
          0.45194554328918457,
          -0.21687166392803192,
          -0.7832865715026855,
          -0.18565033376216888,
          -2.7991795539855957,
          1.5605210065841675,
          -0.11522256582975388,
          1.208272099494934,
          -0.4060293734073639,
          0.9440253973007202,
          -0.0015699370997026563,
          -0.5346721410751343,
          0.9363171458244324,
          -2.1551694869995117,
          0.6446775794029236,
          -0.13359323143959045,
          -1.7762110233306885,
          0.8789939284324646,
          0.5566656589508057,
          -0.29282012581825256,
          0.33604270219802856,
          -2.58039927482605,
          0.6236720085144043,
          0.6435591578483582,
          -0.47551509737968445,
          -1.4612382650375366,
          -2.689073324203491,
          1.373742938041687,
          -0.3645467758178711,
          -0.41144710779190063,
          -0.5753202438354492,
          1.4550323486328125,
          -1.401879906654358,
          -0.7403642535209656,
          0.8632070422172546,
          -0.29336753487586975,
          -2.012413501739502,
          -1.0674717426300049,
          -0.9724643230438232,
          -0.5363283753395081,
          -1.5616828203201294,
          0.06563106924295425,
          -0.7088139057159424,
          0.44808006286621094,
          0.13311174511909485,
          1.5993727445602417,
          -1.7880020141601562,
          -0.6716033816337585,
          -1.1075925827026367,
          -0.32740652561187744,
          0.4376688301563263,
          1.3079006671905518,
          -0.03387608379125595,
          -0.8883476853370667,
          -0.5833123922348022,
          0.01415251474827528,
          -0.6577381491661072,
          0.3158317804336548,
          0.3145275413990021,
          -1.161895513534546,
          -0.6278022527694702,
          -0.9677926898002625,
          -1.5894602537155151,
          -0.6499131917953491,
          -0.4216194152832031,
          -2.435284376144409,
          -0.20603737235069275,
          -0.3665670156478882,
          0.039317138493061066,
          -0.7508382201194763,
          -0.7126976251602173,
          1.2769747972488403,
          -0.20261625945568085,
          -2.1566362380981445,
          0.1732514649629593,
          -0.08524176478385925,
          -0.11402639746665955,
          0.39706951379776,
          -0.31866446137428284,
          -0.17447195947170258,
          -0.7081235647201538,
          -1.595971941947937,
          0.41469067335128784,
          -0.48675337433815,
          1.1995792388916016,
          0.7997755408287048,
          0.5587443709373474,
          -0.6766243577003479,
          1.479108214378357,
          -1.168487548828125,
          -0.7636249661445618,
          -0.4552048444747925,
          -2.0601701736450195,
          -0.000792663311585784,
          0.802318274974823,
          0.916539192199707,
          -1.8581557273864746,
          -0.6560043096542358,
          0.7380630970001221,
          -0.6066272258758545,
          -0.8547242879867554,
          -0.8550521731376648,
          1.4967658519744873,
          -0.47822248935699463,
          1.2668153047561646,
          -1.7500585317611694,
          -1.6574381589889526,
          0.14113523066043854,
          -0.7598864436149597,
          -1.9869459867477417,
          -0.4969082474708557,
          -0.18535448610782623,
          0.7919275164604187,
          -0.10165722668170929,
          -1.9025055170059204,
          0.06402478367090225,
          1.2298322916030884,
          0.6926586031913757,
          -2.2187139987945557,
          0.43594858050346375,
          -0.5479699969291687,
          -1.1664408445358276,
          0.6825371384620667,
          0.11383737623691559,
          -1.558369755744934,
          -0.06560719758272171,
          -1.688712239265442,
          -0.5682506561279297,
          -0.6385160088539124,
          -1.0601437091827393,
          0.5320289134979248,
          -2.347195863723755,
          1.280869483947754,
          -0.7647109031677246,
          1.2431421279907227,
          -0.21218763291835785,
          1.1320075988769531,
          -0.4507739245891571,
          -0.7586488723754883,
          -0.7285235524177551,
          -0.21117790043354034,
          -1.1142029762268066,
          -1.250359058380127,
          -0.6835286617279053,
          -1.2658475637435913,
          0.5065109729766846,
          -0.666951596736908,
          0.9224497079849243,
          -1.7210214138031006,
          -1.7429871559143066,
          0.0981770008802414,
          -2.2207231521606445,
          -1.9003945589065552,
          0.2229650467634201
         ],
         "z": [
          2.2982139587402344,
          3.166008234024048,
          -5.286070346832275,
          4.36894416809082,
          3.1283509731292725,
          6.345907211303711,
          -1.0860775709152222,
          5.558452129364014,
          8.01012897491455,
          -4.466383457183838,
          -4.136087417602539,
          2.435750722885132,
          2.2225921154022217,
          3.141949415206909,
          -0.5179677605628967,
          8.534396171569824,
          1.6709046363830566,
          -5.9061431884765625,
          -5.135474681854248,
          -4.814169883728027,
          -2.8432610034942627,
          -0.7643585205078125,
          -4.97498083114624,
          -3.8290915489196777,
          -5.429374694824219,
          5.381674766540527,
          6.099413871765137,
          -0.06060377508401871,
          -0.11781612038612366,
          -5.861734390258789,
          -5.517829895019531,
          -0.47968876361846924,
          4.803637981414795,
          3.257437229156494,
          -4.892205715179443,
          -2.1650266647338867,
          0.05719133839011192,
          2.5967190265655518,
          -5.406946659088135,
          8.111708641052246,
          -0.2280489206314087,
          8.553589820861816,
          -3.3472065925598145,
          5.20259952545166,
          5.200934886932373,
          2.445939540863037,
          7.83799409866333,
          -6.764382362365723,
          2.4581077098846436,
          -0.10719026625156403,
          -5.886142253875732,
          5.760568141937256,
          5.491891384124756,
          -3.2833986282348633,
          5.052547454833984,
          -5.25665807723999,
          -3.5509605407714844,
          4.583275318145752,
          -0.5189393758773804,
          -2.71625018119812,
          -5.6468586921691895,
          7.961061477661133,
          -3.2321081161499023,
          0.5011441707611084,
          -0.46739065647125244,
          5.15358829498291,
          -5.317689418792725,
          -3.2446038722991943,
          8.334553718566895,
          2.1091525554656982,
          -5.904126167297363,
          -0.877917468547821,
          0.13862033188343048,
          -2.6633460521698,
          -5.896717071533203,
          3.6072590351104736,
          -5.115449905395508,
          4.220949649810791,
          -4.614160060882568,
          7.953873634338379,
          -5.739439487457275,
          -2.9959716796875,
          -5.7312517166137695,
          -0.7969649434089661,
          5.11276912689209,
          8.20473861694336,
          3.542041778564453,
          -4.6220784187316895,
          0.22494670748710632,
          0.4478391408920288,
          2.8872458934783936,
          -0.1858961582183838,
          4.770656585693359,
          -5.26020622253418,
          -0.962882936000824,
          3.2861404418945312,
          -5.441555023193359,
          -3.158235788345337,
          -3.5206992626190186,
          -6.052649021148682,
          0.5396801829338074,
          -5.147897243499756,
          -5.963176727294922,
          -2.959066390991211,
          -3.647876501083374,
          5.115172386169434,
          3.510058641433716,
          -6.98254919052124,
          5.556004047393799,
          -0.8749133348464966,
          -3.4702370166778564,
          5.914994716644287,
          2.8757009506225586,
          0.37083137035369873,
          3.56024169921875,
          -5.40592622756958,
          2.6606876850128174,
          -0.5858097672462463,
          5.661233425140381,
          5.1200151443481445,
          2.9313573837280273,
          -5.231447696685791,
          8.390090942382812,
          -5.595936298370361,
          -6.156024932861328,
          -3.6688804626464844,
          -6.008662223815918,
          2.082097291946411,
          4.611931800842285,
          7.7046380043029785,
          -5.80467414855957,
          2.9826014041900635,
          8.139185905456543,
          -6.1957173347473145,
          2.5406317710876465,
          3.4481210708618164,
          5.50777006149292,
          -4.423595428466797,
          8.36263656616211,
          -6.046604156494141,
          -5.829563617706299,
          -3.444967746734619,
          3.4204061031341553,
          -5.197731018066406,
          -5.096896648406982,
          -0.29691082239151,
          -5.040937423706055,
          3.0449204444885254,
          -5.659316539764404,
          3.8557257652282715,
          4.739246368408203,
          2.6474452018737793,
          -6.236432075500488,
          3.511948585510254,
          -4.960227966308594,
          -4.272294044494629,
          5.50495719909668,
          -5.324362277984619,
          -5.404854774475098,
          3.5980489253997803,
          -4.575052738189697,
          -4.483626842498779,
          -6.230714797973633,
          -3.1032357215881348,
          -0.5653610229492188,
          -6.10173225402832,
          7.605924606323242,
          2.5345962047576904,
          5.964106559753418,
          2.724411725997925,
          7.653634548187256,
          -3.001617908477783,
          -2.878823757171631,
          3.5586202144622803,
          2.9383580684661865,
          -5.924524307250977,
          -4.657325267791748,
          -5.764336109161377,
          -4.789863109588623,
          -4.316485404968262,
          3.559483766555786,
          8.205089569091797,
          -4.794435501098633,
          -4.686132431030273,
          -0.30276843905448914,
          -5.667714595794678,
          -5.5401387214660645,
          4.6854777336120605
         ]
        }
       ],
       "layout": {
        "margin": {
         "b": 0,
         "l": 0,
         "r": 0,
         "t": 40
        },
        "scene": {
         "xaxis": {
          "title": {
           "text": "t-SNE Dimension 1"
          }
         },
         "yaxis": {
          "title": {
           "text": "t-SNE Dimension 2"
          }
         },
         "zaxis": {
          "title": {
           "text": "t-SNE Dimension 3"
          }
         }
        },
        "template": {
         "data": {
          "bar": [
           {
            "error_x": {
             "color": "#2a3f5f"
            },
            "error_y": {
             "color": "#2a3f5f"
            },
            "marker": {
             "line": {
              "color": "#E5ECF6",
              "width": 0.5
             },
             "pattern": {
              "fillmode": "overlay",
              "size": 10,
              "solidity": 0.2
             }
            },
            "type": "bar"
           }
          ],
          "barpolar": [
           {
            "marker": {
             "line": {
              "color": "#E5ECF6",
              "width": 0.5
             },
             "pattern": {
              "fillmode": "overlay",
              "size": 10,
              "solidity": 0.2
             }
            },
            "type": "barpolar"
           }
          ],
          "carpet": [
           {
            "aaxis": {
             "endlinecolor": "#2a3f5f",
             "gridcolor": "white",
             "linecolor": "white",
             "minorgridcolor": "white",
             "startlinecolor": "#2a3f5f"
            },
            "baxis": {
             "endlinecolor": "#2a3f5f",
             "gridcolor": "white",
             "linecolor": "white",
             "minorgridcolor": "white",
             "startlinecolor": "#2a3f5f"
            },
            "type": "carpet"
           }
          ],
          "choropleth": [
           {
            "colorbar": {
             "outlinewidth": 0,
             "ticks": ""
            },
            "type": "choropleth"
           }
          ],
          "contour": [
           {
            "colorbar": {
             "outlinewidth": 0,
             "ticks": ""
            },
            "colorscale": [
             [
              0,
              "#0d0887"
             ],
             [
              0.1111111111111111,
              "#46039f"
             ],
             [
              0.2222222222222222,
              "#7201a8"
             ],
             [
              0.3333333333333333,
              "#9c179e"
             ],
             [
              0.4444444444444444,
              "#bd3786"
             ],
             [
              0.5555555555555556,
              "#d8576b"
             ],
             [
              0.6666666666666666,
              "#ed7953"
             ],
             [
              0.7777777777777778,
              "#fb9f3a"
             ],
             [
              0.8888888888888888,
              "#fdca26"
             ],
             [
              1,
              "#f0f921"
             ]
            ],
            "type": "contour"
           }
          ],
          "contourcarpet": [
           {
            "colorbar": {
             "outlinewidth": 0,
             "ticks": ""
            },
            "type": "contourcarpet"
           }
          ],
          "heatmap": [
           {
            "colorbar": {
             "outlinewidth": 0,
             "ticks": ""
            },
            "colorscale": [
             [
              0,
              "#0d0887"
             ],
             [
              0.1111111111111111,
              "#46039f"
             ],
             [
              0.2222222222222222,
              "#7201a8"
             ],
             [
              0.3333333333333333,
              "#9c179e"
             ],
             [
              0.4444444444444444,
              "#bd3786"
             ],
             [
              0.5555555555555556,
              "#d8576b"
             ],
             [
              0.6666666666666666,
              "#ed7953"
             ],
             [
              0.7777777777777778,
              "#fb9f3a"
             ],
             [
              0.8888888888888888,
              "#fdca26"
             ],
             [
              1,
              "#f0f921"
             ]
            ],
            "type": "heatmap"
           }
          ],
          "heatmapgl": [
           {
            "colorbar": {
             "outlinewidth": 0,
             "ticks": ""
            },
            "colorscale": [
             [
              0,
              "#0d0887"
             ],
             [
              0.1111111111111111,
              "#46039f"
             ],
             [
              0.2222222222222222,
              "#7201a8"
             ],
             [
              0.3333333333333333,
              "#9c179e"
             ],
             [
              0.4444444444444444,
              "#bd3786"
             ],
             [
              0.5555555555555556,
              "#d8576b"
             ],
             [
              0.6666666666666666,
              "#ed7953"
             ],
             [
              0.7777777777777778,
              "#fb9f3a"
             ],
             [
              0.8888888888888888,
              "#fdca26"
             ],
             [
              1,
              "#f0f921"
             ]
            ],
            "type": "heatmapgl"
           }
          ],
          "histogram": [
           {
            "marker": {
             "pattern": {
              "fillmode": "overlay",
              "size": 10,
              "solidity": 0.2
             }
            },
            "type": "histogram"
           }
          ],
          "histogram2d": [
           {
            "colorbar": {
             "outlinewidth": 0,
             "ticks": ""
            },
            "colorscale": [
             [
              0,
              "#0d0887"
             ],
             [
              0.1111111111111111,
              "#46039f"
             ],
             [
              0.2222222222222222,
              "#7201a8"
             ],
             [
              0.3333333333333333,
              "#9c179e"
             ],
             [
              0.4444444444444444,
              "#bd3786"
             ],
             [
              0.5555555555555556,
              "#d8576b"
             ],
             [
              0.6666666666666666,
              "#ed7953"
             ],
             [
              0.7777777777777778,
              "#fb9f3a"
             ],
             [
              0.8888888888888888,
              "#fdca26"
             ],
             [
              1,
              "#f0f921"
             ]
            ],
            "type": "histogram2d"
           }
          ],
          "histogram2dcontour": [
           {
            "colorbar": {
             "outlinewidth": 0,
             "ticks": ""
            },
            "colorscale": [
             [
              0,
              "#0d0887"
             ],
             [
              0.1111111111111111,
              "#46039f"
             ],
             [
              0.2222222222222222,
              "#7201a8"
             ],
             [
              0.3333333333333333,
              "#9c179e"
             ],
             [
              0.4444444444444444,
              "#bd3786"
             ],
             [
              0.5555555555555556,
              "#d8576b"
             ],
             [
              0.6666666666666666,
              "#ed7953"
             ],
             [
              0.7777777777777778,
              "#fb9f3a"
             ],
             [
              0.8888888888888888,
              "#fdca26"
             ],
             [
              1,
              "#f0f921"
             ]
            ],
            "type": "histogram2dcontour"
           }
          ],
          "mesh3d": [
           {
            "colorbar": {
             "outlinewidth": 0,
             "ticks": ""
            },
            "type": "mesh3d"
           }
          ],
          "parcoords": [
           {
            "line": {
             "colorbar": {
              "outlinewidth": 0,
              "ticks": ""
             }
            },
            "type": "parcoords"
           }
          ],
          "pie": [
           {
            "automargin": true,
            "type": "pie"
           }
          ],
          "scatter": [
           {
            "fillpattern": {
             "fillmode": "overlay",
             "size": 10,
             "solidity": 0.2
            },
            "type": "scatter"
           }
          ],
          "scatter3d": [
           {
            "line": {
             "colorbar": {
              "outlinewidth": 0,
              "ticks": ""
             }
            },
            "marker": {
             "colorbar": {
              "outlinewidth": 0,
              "ticks": ""
             }
            },
            "type": "scatter3d"
           }
          ],
          "scattercarpet": [
           {
            "marker": {
             "colorbar": {
              "outlinewidth": 0,
              "ticks": ""
             }
            },
            "type": "scattercarpet"
           }
          ],
          "scattergeo": [
           {
            "marker": {
             "colorbar": {
              "outlinewidth": 0,
              "ticks": ""
             }
            },
            "type": "scattergeo"
           }
          ],
          "scattergl": [
           {
            "marker": {
             "colorbar": {
              "outlinewidth": 0,
              "ticks": ""
             }
            },
            "type": "scattergl"
           }
          ],
          "scattermapbox": [
           {
            "marker": {
             "colorbar": {
              "outlinewidth": 0,
              "ticks": ""
             }
            },
            "type": "scattermapbox"
           }
          ],
          "scatterpolar": [
           {
            "marker": {
             "colorbar": {
              "outlinewidth": 0,
              "ticks": ""
             }
            },
            "type": "scatterpolar"
           }
          ],
          "scatterpolargl": [
           {
            "marker": {
             "colorbar": {
              "outlinewidth": 0,
              "ticks": ""
             }
            },
            "type": "scatterpolargl"
           }
          ],
          "scatterternary": [
           {
            "marker": {
             "colorbar": {
              "outlinewidth": 0,
              "ticks": ""
             }
            },
            "type": "scatterternary"
           }
          ],
          "surface": [
           {
            "colorbar": {
             "outlinewidth": 0,
             "ticks": ""
            },
            "colorscale": [
             [
              0,
              "#0d0887"
             ],
             [
              0.1111111111111111,
              "#46039f"
             ],
             [
              0.2222222222222222,
              "#7201a8"
             ],
             [
              0.3333333333333333,
              "#9c179e"
             ],
             [
              0.4444444444444444,
              "#bd3786"
             ],
             [
              0.5555555555555556,
              "#d8576b"
             ],
             [
              0.6666666666666666,
              "#ed7953"
             ],
             [
              0.7777777777777778,
              "#fb9f3a"
             ],
             [
              0.8888888888888888,
              "#fdca26"
             ],
             [
              1,
              "#f0f921"
             ]
            ],
            "type": "surface"
           }
          ],
          "table": [
           {
            "cells": {
             "fill": {
              "color": "#EBF0F8"
             },
             "line": {
              "color": "white"
             }
            },
            "header": {
             "fill": {
              "color": "#C8D4E3"
             },
             "line": {
              "color": "white"
             }
            },
            "type": "table"
           }
          ]
         },
         "layout": {
          "annotationdefaults": {
           "arrowcolor": "#2a3f5f",
           "arrowhead": 0,
           "arrowwidth": 1
          },
          "autotypenumbers": "strict",
          "coloraxis": {
           "colorbar": {
            "outlinewidth": 0,
            "ticks": ""
           }
          },
          "colorscale": {
           "diverging": [
            [
             0,
             "#8e0152"
            ],
            [
             0.1,
             "#c51b7d"
            ],
            [
             0.2,
             "#de77ae"
            ],
            [
             0.3,
             "#f1b6da"
            ],
            [
             0.4,
             "#fde0ef"
            ],
            [
             0.5,
             "#f7f7f7"
            ],
            [
             0.6,
             "#e6f5d0"
            ],
            [
             0.7,
             "#b8e186"
            ],
            [
             0.8,
             "#7fbc41"
            ],
            [
             0.9,
             "#4d9221"
            ],
            [
             1,
             "#276419"
            ]
           ],
           "sequential": [
            [
             0,
             "#0d0887"
            ],
            [
             0.1111111111111111,
             "#46039f"
            ],
            [
             0.2222222222222222,
             "#7201a8"
            ],
            [
             0.3333333333333333,
             "#9c179e"
            ],
            [
             0.4444444444444444,
             "#bd3786"
            ],
            [
             0.5555555555555556,
             "#d8576b"
            ],
            [
             0.6666666666666666,
             "#ed7953"
            ],
            [
             0.7777777777777778,
             "#fb9f3a"
            ],
            [
             0.8888888888888888,
             "#fdca26"
            ],
            [
             1,
             "#f0f921"
            ]
           ],
           "sequentialminus": [
            [
             0,
             "#0d0887"
            ],
            [
             0.1111111111111111,
             "#46039f"
            ],
            [
             0.2222222222222222,
             "#7201a8"
            ],
            [
             0.3333333333333333,
             "#9c179e"
            ],
            [
             0.4444444444444444,
             "#bd3786"
            ],
            [
             0.5555555555555556,
             "#d8576b"
            ],
            [
             0.6666666666666666,
             "#ed7953"
            ],
            [
             0.7777777777777778,
             "#fb9f3a"
            ],
            [
             0.8888888888888888,
             "#fdca26"
            ],
            [
             1,
             "#f0f921"
            ]
           ]
          },
          "colorway": [
           "#636efa",
           "#EF553B",
           "#00cc96",
           "#ab63fa",
           "#FFA15A",
           "#19d3f3",
           "#FF6692",
           "#B6E880",
           "#FF97FF",
           "#FECB52"
          ],
          "font": {
           "color": "#2a3f5f"
          },
          "geo": {
           "bgcolor": "white",
           "lakecolor": "white",
           "landcolor": "#E5ECF6",
           "showlakes": true,
           "showland": true,
           "subunitcolor": "white"
          },
          "hoverlabel": {
           "align": "left"
          },
          "hovermode": "closest",
          "mapbox": {
           "style": "light"
          },
          "paper_bgcolor": "white",
          "plot_bgcolor": "#E5ECF6",
          "polar": {
           "angularaxis": {
            "gridcolor": "white",
            "linecolor": "white",
            "ticks": ""
           },
           "bgcolor": "#E5ECF6",
           "radialaxis": {
            "gridcolor": "white",
            "linecolor": "white",
            "ticks": ""
           }
          },
          "scene": {
           "xaxis": {
            "backgroundcolor": "#E5ECF6",
            "gridcolor": "white",
            "gridwidth": 2,
            "linecolor": "white",
            "showbackground": true,
            "ticks": "",
            "zerolinecolor": "white"
           },
           "yaxis": {
            "backgroundcolor": "#E5ECF6",
            "gridcolor": "white",
            "gridwidth": 2,
            "linecolor": "white",
            "showbackground": true,
            "ticks": "",
            "zerolinecolor": "white"
           },
           "zaxis": {
            "backgroundcolor": "#E5ECF6",
            "gridcolor": "white",
            "gridwidth": 2,
            "linecolor": "white",
            "showbackground": true,
            "ticks": "",
            "zerolinecolor": "white"
           }
          },
          "shapedefaults": {
           "line": {
            "color": "#2a3f5f"
           }
          },
          "ternary": {
           "aaxis": {
            "gridcolor": "white",
            "linecolor": "white",
            "ticks": ""
           },
           "baxis": {
            "gridcolor": "white",
            "linecolor": "white",
            "ticks": ""
           },
           "bgcolor": "#E5ECF6",
           "caxis": {
            "gridcolor": "white",
            "linecolor": "white",
            "ticks": ""
           }
          },
          "title": {
           "x": 0.05
          },
          "xaxis": {
           "automargin": true,
           "gridcolor": "white",
           "linecolor": "white",
           "ticks": "",
           "title": {
            "standoff": 15
           },
           "zerolinecolor": "white",
           "zerolinewidth": 2
          },
          "yaxis": {
           "automargin": true,
           "gridcolor": "white",
           "linecolor": "white",
           "ticks": "",
           "title": {
            "standoff": 15
           },
           "zerolinecolor": "white",
           "zerolinewidth": 2
          }
         }
        },
        "title": {
         "text": "SNOMEDCT_BioBERT Embeddings in 3D"
        }
       }
      }
     },
     "metadata": {},
     "output_type": "display_data"
    }
   ],
   "source": [
    "graph_reduced_in_3d(embedding_matrix_2, embedding_names_2, title='SNOMEDCT_BioBERT Embeddings in 3D')"
   ]
  },
  {
   "cell_type": "markdown",
   "metadata": {},
   "source": [
    "### **Approach 3:**"
   ]
  },
  {
   "cell_type": "markdown",
   "metadata": {},
   "source": [
    "Use SNOMED CT Hierarchy, then use embeddings to map terms that dont link to main tree to closest term within that tree."
   ]
  },
  {
   "cell_type": "markdown",
   "metadata": {},
   "source": [
    "1. Select SNOMED CT subset that carries more semantic meaning (e.g. clinical finding)\n",
    "2. Cluster concepts within this subset\n",
    "    a) Group descendants with their ancestors\n",
    "    b) Cluster root ancestors\n",
    "3. Get embeddings for all SNOMED CT terms in clinical finding tree\n",
    "4. Compute similarity of remaining terms with these, pick closest and add to cluster"
   ]
  },
  {
   "cell_type": "code",
   "execution_count": 19,
   "metadata": {},
   "outputs": [],
   "source": [
    "import networkx as nx\n",
    "from hierarchy_functions import find_lca_and_distance, compute_lcas_and_distances\n",
    "from collections import defaultdict"
   ]
  },
  {
   "cell_type": "code",
   "execution_count": 20,
   "metadata": {},
   "outputs": [],
   "source": [
    "my_terms_filtered = set(concept_df[concept_df.concept_id.isin(my_terms)&concept_df.concept_class_id.isin(['Clinical Finding','Disorder'])].concept_id)"
   ]
  },
  {
   "cell_type": "code",
   "execution_count": null,
   "metadata": {},
   "outputs": [
    {
     "name": "stdout",
     "output_type": "stream",
     "text": [
      "Number of nodes in graph of relevant SNOMED CT terms: 443\n",
      "Number of edges in graph of relevant SNOMED CT terms: 765\n",
      "All terms are present in the graph.\n"
     ]
    }
   ],
   "source": [
    "G_clinical = create_SNOMED_CT_graph_based_on_terms(my_terms_filtered, concept_df, concept_relationship_df, selected_relationship_ids)"
   ]
  },
  {
   "cell_type": "code",
   "execution_count": null,
   "metadata": {},
   "outputs": [],
   "source": [
    "# precompute least common ancestors and distances between already existing nodes\n",
    "lca_distances = compute_lcas_and_distances(my_terms_filtered, G_clinical)\n",
    "\n",
    "remaining_terms = my_terms_filtered.copy()\n",
    "hierarchy = defaultdict(list)\n",
    "processed_pairs = set()  # Track processed pairs to avoid infinite loops\n",
    "\n",
    "def has_descendants(term, remaining_terms, graph):\n",
    "    \"\"\"Check if a term has descendants in the remaining terms.\"\"\"\n",
    "    descendants = nx.descendants(graph, term)\n",
    "    return bool(descendants & set(remaining_terms))\n",
    "\n",
    "while len(remaining_terms) > 1:\n",
    "    shortest_distance = float(\"inf\")\n",
    "    best_pair = None\n",
    "    best_lca = None\n",
    "\n",
    "    # Find the best pair of terms based on distance\n",
    "    for node1 in remaining_terms:\n",
    "        for node2 in remaining_terms:\n",
    "            if node1 == node2:\n",
    "                continue\n",
    "            key = frozenset({node1, node2})\n",
    "            if key in processed_pairs:\n",
    "                continue\n",
    "            if key not in lca_distances[1]:\n",
    "                lca, distance = find_lca_and_distance(G_clinical, node1, node2)\n",
    "                lca_distances[0][key] = lca\n",
    "                lca_distances[1][key] = distance\n",
    "            dist = lca_distances[1][key]\n",
    "\n",
    "            # Update the best pair if this distance is shorter\n",
    "            if dist < shortest_distance:\n",
    "                shortest_distance = dist\n",
    "                best_pair = (node1, node2)\n",
    "                best_lca = lca_distances[0][key]\n",
    "\n",
    "    if best_pair is None:\n",
    "        break\n",
    "    \n",
    "    hierarchy[best_lca].append(best_pair)    \n",
    "    processed_pairs.add(frozenset(best_pair))\n",
    "\n",
    "    # Replace grouped nodes with their LCA if they no longer have descendants\n",
    "    for node in best_pair:\n",
    "        if not has_descendants(node, remaining_terms, G_clinical):\n",
    "            remaining_terms.remove(node)\n",
    "    remaining_terms.add(best_lca)"
   ]
  },
  {
   "cell_type": "code",
   "execution_count": 23,
   "metadata": {},
   "outputs": [],
   "source": [
    "def hierarchy_to_graph(hierarchy, original_terms):\n",
    "    \"\"\"\n",
    "    Convert a hierarchy dictionary to a directed graph, removing duplicates and self-references.\n",
    "    Adds a 'type' attribute to distinguish between original and LCA nodes.\n",
    "    \"\"\"\n",
    "    graph = nx.DiGraph()\n",
    "\n",
    "    # Iterate over the hierarchy\n",
    "    for lca, pairs in hierarchy.items():\n",
    "        # Add the LCA node and mark it as an 'lca'\n",
    "        if lca not in graph:\n",
    "            graph.add_node(lca, type=\"lca\")\n",
    "\n",
    "        for pair in pairs:\n",
    "            for node in pair:\n",
    "                # Add the original terms or nodes if not already added\n",
    "                if node not in graph:\n",
    "                    node_type = \"original\" if node in original_terms else \"lca\"\n",
    "                    graph.add_node(node, type=node_type)\n",
    "\n",
    "                # Add edges, avoiding self-references\n",
    "                if lca != node:\n",
    "                    if not graph.has_edge(lca, node):\n",
    "                        graph.add_edge(lca, node)\n",
    "\n",
    "    return graph"
   ]
  },
  {
   "cell_type": "code",
   "execution_count": 24,
   "metadata": {},
   "outputs": [],
   "source": [
    "graph = hierarchy_to_graph(hierarchy, my_terms_filtered)"
   ]
  },
  {
   "cell_type": "code",
   "execution_count": 25,
   "metadata": {},
   "outputs": [],
   "source": [
    "def prune_redundant_edges(graph):\n",
    "    \"\"\"Remove redundant edges that create shortcuts in the hierarchy.\"\"\"\n",
    "    edges_to_remove = set()\n",
    "\n",
    "    for node in graph.nodes:\n",
    "        descendants = nx.descendants(graph, node)\n",
    "        for descendant in descendants:\n",
    "            for intermediate in graph.successors(node):\n",
    "                if intermediate in descendants and graph.has_edge(intermediate, descendant):\n",
    "                    edges_to_remove.add((node, descendant))\n",
    "\n",
    "    graph.remove_edges_from(edges_to_remove)\n",
    "    return graph\n",
    "\n",
    "pruned_graph = prune_redundant_edges(graph)"
   ]
  },
  {
   "cell_type": "code",
   "execution_count": 26,
   "metadata": {},
   "outputs": [],
   "source": [
    "def replace_nodes_with_names(graph, mapping):\n",
    "    \"\"\"Replace node codes with names based on a mapping dictionary while preserving attributes.\"\"\"\n",
    "\n",
    "    new_graph = nx.DiGraph()\n",
    "\n",
    "    # Add nodes with attributes, replacing codes with names\n",
    "    for node, attrs in graph.nodes(data=True):\n",
    "        new_node = mapping.get(node, node)  # Replace code with name if mapping exists\n",
    "        new_graph.add_node(new_node, **attrs)  # Preserve attributes\n",
    "\n",
    "    # Add edges, replacing codes with names\n",
    "    for u, v, attrs in graph.edges(data=True):\n",
    "        new_u = mapping.get(u, u)\n",
    "        new_v = mapping.get(v, v)\n",
    "        new_graph.add_edge(new_u, new_v, **attrs)  # Preserve edge attributes\n",
    "\n",
    "    return new_graph\n",
    "\n",
    "graph_with_names = replace_nodes_with_names(graph, code_to_name)"
   ]
  },
  {
   "cell_type": "code",
   "execution_count": 27,
   "metadata": {},
   "outputs": [],
   "source": [
    "nx.write_gexf(graph_with_names, 'snomed_grouping.gexf')"
   ]
  },
  {
   "cell_type": "markdown",
   "metadata": {},
   "source": [
    "### For other terms, first check if there is a different relationshiptype that links it, if not then use language model"
   ]
  },
  {
   "cell_type": "code",
   "execution_count": 37,
   "metadata": {},
   "outputs": [],
   "source": [
    "missing_terms = set(concept_df[concept_df.concept_id.isin(my_terms)&~concept_df.concept_class_id.isin(['Clinical Finding','Disorder'])].concept_id)"
   ]
  },
  {
   "cell_type": "code",
   "execution_count": 38,
   "metadata": {},
   "outputs": [
    {
     "data": {
      "text/plain": [
       "concept_class_id\n",
       "Procedure            36\n",
       "Observable Entity    18\n",
       "Morph Abnormality    11\n",
       "Substance             5\n",
       "Qualifier Value       5\n",
       "Staging / Scales      3\n",
       "Body Structure        2\n",
       "Disposition           2\n",
       "Social Context        1\n",
       "Context-dependent     1\n",
       "Event                 1\n",
       "Name: count, dtype: int64"
      ]
     },
     "execution_count": 38,
     "metadata": {},
     "output_type": "execute_result"
    }
   ],
   "source": [
    "concept_df[concept_df.concept_id.isin(my_terms)&~concept_df.concept_class_id.isin(['Clinical Finding','Disorder'])].concept_class_id.value_counts()"
   ]
  },
  {
   "cell_type": "code",
   "execution_count": 40,
   "metadata": {},
   "outputs": [
    {
     "data": {
      "text/html": [
       "<div>\n",
       "<style scoped>\n",
       "    .dataframe tbody tr th:only-of-type {\n",
       "        vertical-align: middle;\n",
       "    }\n",
       "\n",
       "    .dataframe tbody tr th {\n",
       "        vertical-align: top;\n",
       "    }\n",
       "\n",
       "    .dataframe thead th {\n",
       "        text-align: right;\n",
       "    }\n",
       "</style>\n",
       "<table border=\"1\" class=\"dataframe\">\n",
       "  <thead>\n",
       "    <tr style=\"text-align: right;\">\n",
       "      <th></th>\n",
       "      <th>concept_id</th>\n",
       "      <th>concept_name</th>\n",
       "      <th>domain_id</th>\n",
       "      <th>vocabulary_id</th>\n",
       "      <th>concept_class_id</th>\n",
       "      <th>standard_concept</th>\n",
       "      <th>concept_code</th>\n",
       "      <th>valid_start_date</th>\n",
       "      <th>valid_end_date</th>\n",
       "      <th>invalid_reason</th>\n",
       "    </tr>\n",
       "  </thead>\n",
       "  <tbody>\n",
       "    <tr>\n",
       "      <th>21142</th>\n",
       "      <td>37150978</td>\n",
       "      <td>Mediterranean diet</td>\n",
       "      <td>Procedure</td>\n",
       "      <td>SNOMED</td>\n",
       "      <td>Procedure</td>\n",
       "      <td>S</td>\n",
       "      <td>1255163004</td>\n",
       "      <td>20221031</td>\n",
       "      <td>20991231</td>\n",
       "      <td>NaN</td>\n",
       "    </tr>\n",
       "    <tr>\n",
       "      <th>23742</th>\n",
       "      <td>37153627</td>\n",
       "      <td>Percutaneous transluminal procedure on blood v...</td>\n",
       "      <td>Procedure</td>\n",
       "      <td>SNOMED</td>\n",
       "      <td>Procedure</td>\n",
       "      <td>S</td>\n",
       "      <td>1230010003</td>\n",
       "      <td>20220630</td>\n",
       "      <td>20991231</td>\n",
       "      <td>NaN</td>\n",
       "    </tr>\n",
       "    <tr>\n",
       "      <th>23931</th>\n",
       "      <td>37153816</td>\n",
       "      <td>Malignant neoplasm</td>\n",
       "      <td>Observation</td>\n",
       "      <td>SNOMED</td>\n",
       "      <td>Morph Abnormality</td>\n",
       "      <td>S</td>\n",
       "      <td>1240414004</td>\n",
       "      <td>20221130</td>\n",
       "      <td>20991231</td>\n",
       "      <td>NaN</td>\n",
       "    </tr>\n",
       "    <tr>\n",
       "      <th>257330</th>\n",
       "      <td>4010813</td>\n",
       "      <td>Tobacco smoke</td>\n",
       "      <td>Observation</td>\n",
       "      <td>SNOMED</td>\n",
       "      <td>Substance</td>\n",
       "      <td>S</td>\n",
       "      <td>102407002</td>\n",
       "      <td>20020131</td>\n",
       "      <td>20991231</td>\n",
       "      <td>NaN</td>\n",
       "    </tr>\n",
       "    <tr>\n",
       "      <th>257347</th>\n",
       "      <td>4009853</td>\n",
       "      <td>Second hand cigarette smoke</td>\n",
       "      <td>Observation</td>\n",
       "      <td>SNOMED</td>\n",
       "      <td>Substance</td>\n",
       "      <td>S</td>\n",
       "      <td>102409004</td>\n",
       "      <td>20020131</td>\n",
       "      <td>20991231</td>\n",
       "      <td>NaN</td>\n",
       "    </tr>\n",
       "    <tr>\n",
       "      <th>260021</th>\n",
       "      <td>4013886</td>\n",
       "      <td>Race</td>\n",
       "      <td>Observation</td>\n",
       "      <td>SNOMED</td>\n",
       "      <td>Observable Entity</td>\n",
       "      <td>S</td>\n",
       "      <td>103579009</td>\n",
       "      <td>20020131</td>\n",
       "      <td>20991231</td>\n",
       "      <td>NaN</td>\n",
       "    </tr>\n",
       "    <tr>\n",
       "      <th>263115</th>\n",
       "      <td>4020553</td>\n",
       "      <td>Oxygen saturation measurement</td>\n",
       "      <td>Measurement</td>\n",
       "      <td>SNOMED</td>\n",
       "      <td>Procedure</td>\n",
       "      <td>S</td>\n",
       "      <td>104847001</td>\n",
       "      <td>20020131</td>\n",
       "      <td>20991231</td>\n",
       "      <td>NaN</td>\n",
       "    </tr>\n",
       "    <tr>\n",
       "      <th>263435</th>\n",
       "      <td>4021291</td>\n",
       "      <td>Troponin measurement</td>\n",
       "      <td>Measurement</td>\n",
       "      <td>SNOMED</td>\n",
       "      <td>Procedure</td>\n",
       "      <td>S</td>\n",
       "      <td>105000003</td>\n",
       "      <td>20020131</td>\n",
       "      <td>20991231</td>\n",
       "      <td>NaN</td>\n",
       "    </tr>\n",
       "    <tr>\n",
       "      <th>266507</th>\n",
       "      <td>4024166</td>\n",
       "      <td>Social worker</td>\n",
       "      <td>Observation</td>\n",
       "      <td>SNOMED</td>\n",
       "      <td>Social Context</td>\n",
       "      <td>S</td>\n",
       "      <td>106328005</td>\n",
       "      <td>20020131</td>\n",
       "      <td>20991231</td>\n",
       "      <td>NaN</td>\n",
       "    </tr>\n",
       "    <tr>\n",
       "      <th>297266</th>\n",
       "      <td>4007663</td>\n",
       "      <td>Lipoprotein (a) measurement</td>\n",
       "      <td>Measurement</td>\n",
       "      <td>SNOMED</td>\n",
       "      <td>Procedure</td>\n",
       "      <td>S</td>\n",
       "      <td>121806006</td>\n",
       "      <td>20020131</td>\n",
       "      <td>20991231</td>\n",
       "      <td>NaN</td>\n",
       "    </tr>\n",
       "    <tr>\n",
       "      <th>298425</th>\n",
       "      <td>4046731</td>\n",
       "      <td>Dissection procedure</td>\n",
       "      <td>Procedure</td>\n",
       "      <td>SNOMED</td>\n",
       "      <td>Procedure</td>\n",
       "      <td>S</td>\n",
       "      <td>122459003</td>\n",
       "      <td>20020131</td>\n",
       "      <td>20991231</td>\n",
       "      <td>NaN</td>\n",
       "    </tr>\n",
       "    <tr>\n",
       "      <th>314561</th>\n",
       "      <td>4033232</td>\n",
       "      <td>Aspiration</td>\n",
       "      <td>Procedure</td>\n",
       "      <td>SNOMED</td>\n",
       "      <td>Procedure</td>\n",
       "      <td>S</td>\n",
       "      <td>14766002</td>\n",
       "      <td>20020131</td>\n",
       "      <td>20991231</td>\n",
       "      <td>NaN</td>\n",
       "    </tr>\n",
       "    <tr>\n",
       "      <th>337195</th>\n",
       "      <td>4056822</td>\n",
       "      <td>Anticoagulant therapy</td>\n",
       "      <td>Procedure</td>\n",
       "      <td>SNOMED</td>\n",
       "      <td>Procedure</td>\n",
       "      <td>S</td>\n",
       "      <td>182764009</td>\n",
       "      <td>20020131</td>\n",
       "      <td>20991231</td>\n",
       "      <td>NaN</td>\n",
       "    </tr>\n",
       "    <tr>\n",
       "      <th>345089</th>\n",
       "      <td>4068351</td>\n",
       "      <td>Blood-brain barrier</td>\n",
       "      <td>Observation</td>\n",
       "      <td>SNOMED</td>\n",
       "      <td>Observable Entity</td>\n",
       "      <td>S</td>\n",
       "      <td>20245001</td>\n",
       "      <td>20020131</td>\n",
       "      <td>20991231</td>\n",
       "      <td>NaN</td>\n",
       "    </tr>\n",
       "    <tr>\n",
       "      <th>359009</th>\n",
       "      <td>4024618</td>\n",
       "      <td>Care provision regime</td>\n",
       "      <td>Observation</td>\n",
       "      <td>SNOMED</td>\n",
       "      <td>Procedure</td>\n",
       "      <td>S</td>\n",
       "      <td>225351009</td>\n",
       "      <td>20020131</td>\n",
       "      <td>20991231</td>\n",
       "      <td>NaN</td>\n",
       "    </tr>\n",
       "    <tr>\n",
       "      <th>367058</th>\n",
       "      <td>4050288</td>\n",
       "      <td>Insertion of carotid artery stent</td>\n",
       "      <td>Procedure</td>\n",
       "      <td>SNOMED</td>\n",
       "      <td>Procedure</td>\n",
       "      <td>S</td>\n",
       "      <td>233405004</td>\n",
       "      <td>20020131</td>\n",
       "      <td>20991231</td>\n",
       "      <td>NaN</td>\n",
       "    </tr>\n",
       "    <tr>\n",
       "      <th>377694</th>\n",
       "      <td>4084390</td>\n",
       "      <td>Lesion size</td>\n",
       "      <td>Measurement</td>\n",
       "      <td>SNOMED</td>\n",
       "      <td>Observable Entity</td>\n",
       "      <td>S</td>\n",
       "      <td>246116008</td>\n",
       "      <td>20020131</td>\n",
       "      <td>20991231</td>\n",
       "      <td>NaN</td>\n",
       "    </tr>\n",
       "    <tr>\n",
       "      <th>385714</th>\n",
       "      <td>4116678</td>\n",
       "      <td>Exercise</td>\n",
       "      <td>Observation</td>\n",
       "      <td>SNOMED</td>\n",
       "      <td>Observable Entity</td>\n",
       "      <td>S</td>\n",
       "      <td>256235009</td>\n",
       "      <td>20020131</td>\n",
       "      <td>20991231</td>\n",
       "      <td>NaN</td>\n",
       "    </tr>\n",
       "    <tr>\n",
       "      <th>387214</th>\n",
       "      <td>4119715</td>\n",
       "      <td>Inflammation</td>\n",
       "      <td>Observation</td>\n",
       "      <td>SNOMED</td>\n",
       "      <td>Qualifier Value</td>\n",
       "      <td>S</td>\n",
       "      <td>257552002</td>\n",
       "      <td>20020131</td>\n",
       "      <td>20991231</td>\n",
       "      <td>NaN</td>\n",
       "    </tr>\n",
       "    <tr>\n",
       "      <th>393901</th>\n",
       "      <td>4131044</td>\n",
       "      <td>Hypoperfusion</td>\n",
       "      <td>Meas Value</td>\n",
       "      <td>SNOMED</td>\n",
       "      <td>Qualifier Value</td>\n",
       "      <td>S</td>\n",
       "      <td>264533003</td>\n",
       "      <td>20020131</td>\n",
       "      <td>20991231</td>\n",
       "      <td>NaN</td>\n",
       "    </tr>\n",
       "  </tbody>\n",
       "</table>\n",
       "</div>"
      ],
      "text/plain": [
       "       concept_id                                       concept_name  \\\n",
       "21142    37150978                                 Mediterranean diet   \n",
       "23742    37153627  Percutaneous transluminal procedure on blood v...   \n",
       "23931    37153816                                 Malignant neoplasm   \n",
       "257330    4010813                                      Tobacco smoke   \n",
       "257347    4009853                        Second hand cigarette smoke   \n",
       "260021    4013886                                               Race   \n",
       "263115    4020553                      Oxygen saturation measurement   \n",
       "263435    4021291                               Troponin measurement   \n",
       "266507    4024166                                      Social worker   \n",
       "297266    4007663                        Lipoprotein (a) measurement   \n",
       "298425    4046731                               Dissection procedure   \n",
       "314561    4033232                                         Aspiration   \n",
       "337195    4056822                              Anticoagulant therapy   \n",
       "345089    4068351                                Blood-brain barrier   \n",
       "359009    4024618                              Care provision regime   \n",
       "367058    4050288                  Insertion of carotid artery stent   \n",
       "377694    4084390                                        Lesion size   \n",
       "385714    4116678                                           Exercise   \n",
       "387214    4119715                                       Inflammation   \n",
       "393901    4131044                                      Hypoperfusion   \n",
       "\n",
       "          domain_id vocabulary_id   concept_class_id standard_concept  \\\n",
       "21142     Procedure        SNOMED          Procedure                S   \n",
       "23742     Procedure        SNOMED          Procedure                S   \n",
       "23931   Observation        SNOMED  Morph Abnormality                S   \n",
       "257330  Observation        SNOMED          Substance                S   \n",
       "257347  Observation        SNOMED          Substance                S   \n",
       "260021  Observation        SNOMED  Observable Entity                S   \n",
       "263115  Measurement        SNOMED          Procedure                S   \n",
       "263435  Measurement        SNOMED          Procedure                S   \n",
       "266507  Observation        SNOMED     Social Context                S   \n",
       "297266  Measurement        SNOMED          Procedure                S   \n",
       "298425    Procedure        SNOMED          Procedure                S   \n",
       "314561    Procedure        SNOMED          Procedure                S   \n",
       "337195    Procedure        SNOMED          Procedure                S   \n",
       "345089  Observation        SNOMED  Observable Entity                S   \n",
       "359009  Observation        SNOMED          Procedure                S   \n",
       "367058    Procedure        SNOMED          Procedure                S   \n",
       "377694  Measurement        SNOMED  Observable Entity                S   \n",
       "385714  Observation        SNOMED  Observable Entity                S   \n",
       "387214  Observation        SNOMED    Qualifier Value                S   \n",
       "393901   Meas Value        SNOMED    Qualifier Value                S   \n",
       "\n",
       "       concept_code  valid_start_date  valid_end_date invalid_reason  \n",
       "21142    1255163004          20221031        20991231            NaN  \n",
       "23742    1230010003          20220630        20991231            NaN  \n",
       "23931    1240414004          20221130        20991231            NaN  \n",
       "257330    102407002          20020131        20991231            NaN  \n",
       "257347    102409004          20020131        20991231            NaN  \n",
       "260021    103579009          20020131        20991231            NaN  \n",
       "263115    104847001          20020131        20991231            NaN  \n",
       "263435    105000003          20020131        20991231            NaN  \n",
       "266507    106328005          20020131        20991231            NaN  \n",
       "297266    121806006          20020131        20991231            NaN  \n",
       "298425    122459003          20020131        20991231            NaN  \n",
       "314561     14766002          20020131        20991231            NaN  \n",
       "337195    182764009          20020131        20991231            NaN  \n",
       "345089     20245001          20020131        20991231            NaN  \n",
       "359009    225351009          20020131        20991231            NaN  \n",
       "367058    233405004          20020131        20991231            NaN  \n",
       "377694    246116008          20020131        20991231            NaN  \n",
       "385714    256235009          20020131        20991231            NaN  \n",
       "387214    257552002          20020131        20991231            NaN  \n",
       "393901    264533003          20020131        20991231            NaN  "
      ]
     },
     "execution_count": 40,
     "metadata": {},
     "output_type": "execute_result"
    }
   ],
   "source": [
    "concept_df[concept_df.concept_id.isin(my_terms)&~concept_df.concept_class_id.isin(['Clinical Finding','Disorder'])].head(20)"
   ]
  },
  {
   "cell_type": "code",
   "execution_count": null,
   "metadata": {},
   "outputs": [],
   "source": [
    "link through procedure site?"
   ]
  }
 ],
 "metadata": {
  "kernelspec": {
   "display_name": "wise-dag-ml",
   "language": "python",
   "name": "python3"
  },
  "language_info": {
   "codemirror_mode": {
    "name": "ipython",
    "version": 3
   },
   "file_extension": ".py",
   "mimetype": "text/x-python",
   "name": "python",
   "nbconvert_exporter": "python",
   "pygments_lexer": "ipython3",
   "version": "3.10.15"
  }
 },
 "nbformat": 4,
 "nbformat_minor": 2
}
